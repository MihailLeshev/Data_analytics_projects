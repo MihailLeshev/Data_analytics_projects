{
 "cells": [
  {
   "cell_type": "markdown",
   "id": "b1a4e910",
   "metadata": {},
   "source": [
    "\n",
    "Отобразите все записи из таблицы company по компаниям, которые закрылись."
   ]
  },
  {
   "cell_type": "code",
   "execution_count": 1,
   "id": "ae26ddcf",
   "metadata": {},
   "outputs": [],
   "source": [
    "query = '''\n",
    "SELECT *\n",
    "FROM company\n",
    "\n",
    "WHERE status = 'closed'\n",
    "'''"
   ]
  },
  {
   "cell_type": "markdown",
   "id": "b47fe6d1",
   "metadata": {},
   "source": [
    "Отобразите количество привлечённых средств для новостных компаний США. Используйте данные из таблицы company. Отсортируйте таблицу по убыванию значений в поле funding_total."
   ]
  },
  {
   "cell_type": "code",
   "execution_count": 2,
   "id": "ba6b2c66",
   "metadata": {},
   "outputs": [],
   "source": [
    "query = '''\n",
    "SELECT funding_total\n",
    "FROM company\n",
    "WHERE category_code = 'news' AND country_code = 'USA'\n",
    "ORDER BY funding_total DESC\n",
    "'''"
   ]
  },
  {
   "cell_type": "markdown",
   "id": "64e54830",
   "metadata": {},
   "source": [
    "Найдите общую сумму сделок по покупке одних компаний другими в долларах. Отберите сделки, которые осуществлялись только за наличные с 2011 по 2013 год включительно."
   ]
  },
  {
   "cell_type": "code",
   "execution_count": 3,
   "id": "98ade2c3",
   "metadata": {},
   "outputs": [],
   "source": [
    "query = '''\n",
    "SELECT SUM(price_amount)\n",
    "\n",
    "FROM acquisition \n",
    "\n",
    "WHERE EXTRACT(YEAR FROM CAST(acquired_at AS date)) BETWEEN 2011 AND 2013 AND term_code = 'cash'\n",
    "'''"
   ]
  },
  {
   "cell_type": "markdown",
   "id": "41ce4649",
   "metadata": {},
   "source": [
    "Отобразите имя, фамилию и названия аккаунтов людей в поле network_username, у которых названия аккаунтов начинаются на 'Silver'."
   ]
  },
  {
   "cell_type": "code",
   "execution_count": 4,
   "id": "be4f4acf",
   "metadata": {},
   "outputs": [],
   "source": [
    "query = '''\n",
    "SELECT first_name,last_name,network_username\n",
    "FROM people\n",
    "\n",
    "WHERE network_username LIKE 'Silver%'\n",
    "'''"
   ]
  },
  {
   "cell_type": "markdown",
   "id": "7df82c5a",
   "metadata": {},
   "source": [
    "\n",
    "Выведите на экран всю информацию о людях, у которых названия аккаунтов в поле network_username содержат подстроку 'money', а фамилия начинается на 'K'."
   ]
  },
  {
   "cell_type": "code",
   "execution_count": 5,
   "id": "5c6faa73",
   "metadata": {},
   "outputs": [],
   "source": [
    "query = '''\n",
    "SELECT *\n",
    "FROM people\n",
    "WHERE network_username LIKE '%money%' AND last_name LIKE 'K%'\n",
    "'''"
   ]
  },
  {
   "cell_type": "markdown",
   "id": "83fc8181",
   "metadata": {},
   "source": [
    "Для каждой страны отобразите общую сумму привлечённых инвестиций, которые получили компании, зарегистрированные в этой стране. Страну, в которой зарегистрирована компания, можно определить по коду страны. Отсортируйте данные по убыванию суммы."
   ]
  },
  {
   "cell_type": "code",
   "execution_count": 6,
   "id": "2efd54e0",
   "metadata": {},
   "outputs": [],
   "source": [
    "query = '''\n",
    "SELECT country_code,SUM(funding_total)\n",
    "FROM company \n",
    "\n",
    "GROUP BY country_code \n",
    "ORDER BY SUM(funding_total) DESC\n",
    "'''"
   ]
  },
  {
   "cell_type": "markdown",
   "id": "7b58f92b",
   "metadata": {},
   "source": [
    "Составьте таблицу, в которую войдёт дата проведения раунда, а также минимальное и максимальное значения суммы инвестиций, привлечённых в эту дату.\n",
    "Оставьте в итоговой таблице только те записи, в которых минимальное значение суммы инвестиций не равно нулю и не равно максимальному значению."
   ]
  },
  {
   "cell_type": "code",
   "execution_count": 14,
   "id": "252c5f28",
   "metadata": {},
   "outputs": [],
   "source": [
    "query = '''\n",
    "WITH InvestmentStats AS (\n",
    "    SELECT\n",
    "        funded_at,\n",
    "        MIN(raised_amount) AS min_raised_amount,\n",
    "        MAX(raised_amount) AS max_raised_amount\n",
    "    FROM funding_round\n",
    "    GROUP BY funded_at\n",
    ")\n",
    "\n",
    "SELECT\n",
    "    funded_at,\n",
    "    min_raised_amount,\n",
    "    max_raised_amount\n",
    "FROM InvestmentStats\n",
    "WHERE min_raised_amount != 0\n",
    "  AND min_raised_amount != max_raised_amount;\n",
    "\n",
    "'''"
   ]
  },
  {
   "cell_type": "markdown",
   "id": "ddb4bbda",
   "metadata": {},
   "source": [
    "Создайте поле с категориями:\n",
    "Для фондов, которые инвестируют в 100 и более компаний, назначьте категорию high_activity.\n",
    "Для фондов, которые инвестируют в 20 и более компаний до 100, назначьте категорию middle_activity.\n",
    "Если количество инвестируемых компаний фонда не достигает 20, назначьте категорию low_activity.\n",
    "Отобразите все поля таблицы fund и новое поле с категориями."
   ]
  },
  {
   "cell_type": "code",
   "execution_count": 15,
   "id": "60172345",
   "metadata": {},
   "outputs": [],
   "source": [
    "query = '''\n",
    "SELECT *,\n",
    "      CASE\n",
    "      WHEN invested_companies >= 100 THEN 'high_activity'\n",
    "      WHEN invested_companies >= 20 AND invested_companies < 100 THEN 'middle_activity'\n",
    "      WHEN invested_companies  < 20 THEN 'low_activity'\n",
    "      END \n",
    "FROM fund\n",
    "'''"
   ]
  },
  {
   "cell_type": "markdown",
   "id": "2d5aec4e",
   "metadata": {},
   "source": [
    "Для каждой из категорий, назначенных в предыдущем задании, посчитайте округлённое до ближайшего целого числа среднее количество инвестиционных раундов, в которых фонд принимал участие. Выведите на экран категории и среднее число инвестиционных раундов. Отсортируйте таблицу по возрастанию среднего."
   ]
  },
  {
   "cell_type": "code",
   "execution_count": 16,
   "id": "c0ee199f",
   "metadata": {},
   "outputs": [],
   "source": [
    "query = '''\n",
    "SELECT \n",
    "       CASE\n",
    "           WHEN invested_companies>=100 THEN 'high_activity'\n",
    "           WHEN invested_companies>=20 THEN 'middle_activity'\n",
    "           ELSE 'low_activity'\n",
    "       END AS activity,\n",
    "       ROUND(AVG(investment_rounds))\n",
    "FROM fund\n",
    "\n",
    "GROUP BY activity\n",
    "\n",
    "ORDER BY ROUND(AVG(investment_rounds)) ASC\n",
    "'''"
   ]
  },
  {
   "cell_type": "markdown",
   "id": "23ff90dd",
   "metadata": {},
   "source": [
    "Проанализируйте, в каких странах находятся фонды, которые чаще всего инвестируют в стартапы. \n",
    "Для каждой страны посчитайте минимальное, максимальное и среднее число компаний, в которые инвестировали фонды этой страны, основанные с 2010 по 2012 год включительно. Исключите страны с фондами, у которых минимальное число компаний, получивших инвестиции, равно нулю. \n",
    "Выгрузите десять самых активных стран-инвесторов: отсортируйте таблицу по среднему количеству компаний от большего к меньшему. Затем добавьте сортировку по коду страны в лексикографическом порядке."
   ]
  },
  {
   "cell_type": "code",
   "execution_count": 19,
   "id": "aacfc097",
   "metadata": {},
   "outputs": [],
   "source": [
    "query = '''\n",
    "WITH FilteredFunds AS (\n",
    "    SELECT \n",
    "        country_code,\n",
    "        invested_companies\n",
    "    FROM \n",
    "        fund\n",
    "    WHERE \n",
    "        DATE_PART('year', founded_at) BETWEEN 2010 AND 2012\n",
    ")\n",
    "\n",
    "SELECT \n",
    "    country_code,\n",
    "    MIN(invested_companies) AS min_in,\n",
    "    MAX(invested_companies) AS max_in,\n",
    "    AVG(invested_companies) AS avg_in\n",
    "FROM \n",
    "    FilteredFunds\n",
    "GROUP BY \n",
    "    country_code\n",
    "HAVING \n",
    "    MIN(invested_companies) != 0\n",
    "ORDER BY \n",
    "    avg_in DESC, \n",
    "    country_code ASC\n",
    "LIMIT \n",
    "    10;\n",
    "\n",
    "'''"
   ]
  },
  {
   "cell_type": "markdown",
   "id": "b5067063",
   "metadata": {},
   "source": [
    "Отобразите имя и фамилию всех сотрудников стартапов. Добавьте поле с названием учебного заведения, которое окончил сотрудник, если эта информация известна."
   ]
  },
  {
   "cell_type": "code",
   "execution_count": 20,
   "id": "9c12925e",
   "metadata": {},
   "outputs": [],
   "source": [
    "query = '''\n",
    "SELECT first_name,\n",
    "       last_name,\n",
    "       e.instituition\n",
    "FROM people AS p\n",
    "\n",
    "LEFT JOIN education AS e ON p.id=e.person_id\n",
    "'''"
   ]
  },
  {
   "cell_type": "markdown",
   "id": "122a9b0c",
   "metadata": {},
   "source": [
    "\n",
    "Для каждой компании найдите количество учебных заведений, которые окончили её сотрудники. Выведите название компании и число уникальных названий учебных заведений. Составьте топ-5 компаний по количеству университетов."
   ]
  },
  {
   "cell_type": "code",
   "execution_count": 21,
   "id": "0cdb32b7",
   "metadata": {},
   "outputs": [],
   "source": [
    "query = '''\n",
    "SELECT \n",
    "    c.name, \n",
    "    COUNT(DISTINCT e.instituition) AS unique_institutions\n",
    "FROM \n",
    "    company AS c\n",
    "INNER JOIN \n",
    "    people AS p ON c.id = p.company_id\n",
    "LEFT JOIN \n",
    "    education AS e ON p.id = e.person_id\n",
    "GROUP BY \n",
    "    c.name\n",
    "ORDER BY \n",
    "    unique_institutions DESC\n",
    "LIMIT \n",
    "    5;\n",
    "\n",
    "'''"
   ]
  },
  {
   "cell_type": "markdown",
   "id": "dfaf6a32",
   "metadata": {},
   "source": [
    "\n",
    "Составьте список с уникальными названиями закрытых компаний, для которых первый раунд финансирования оказался последним."
   ]
  },
  {
   "cell_type": "code",
   "execution_count": 12,
   "id": "929d6057",
   "metadata": {},
   "outputs": [],
   "source": [
    "query = '''\n",
    "SELECT DISTINCT c.name \n",
    "\n",
    "FROM ( \n",
    "SELECT *\n",
    "FROM funding_round\n",
    "WHERE is_first_round = 1 AND is_last_round = 1 ) AS qw\n",
    " \n",
    "INNER JOIN company AS c ON qw.company_id=c.id\n",
    "\n",
    "WHERE status = 'closed'\n",
    "'''"
   ]
  },
  {
   "cell_type": "markdown",
   "id": "a7eabbdf",
   "metadata": {},
   "source": [
    "Составьте список уникальных номеров сотрудников, которые работают в компаниях, отобранных в предыдущем задании."
   ]
  },
  {
   "cell_type": "code",
   "execution_count": 29,
   "id": "b401cbe4",
   "metadata": {},
   "outputs": [],
   "source": [
    "query = '''\n",
    "WITH SelectedCompanies AS \n",
    "(SELECT DISTINCT c.id\n",
    "\n",
    "FROM ( \n",
    "SELECT *\n",
    "FROM funding_round\n",
    "WHERE is_first_round = 1 AND is_last_round = 1 ) AS qw\n",
    " \n",
    "INNER JOIN company AS c ON qw.company_id=c.id\n",
    "\n",
    "WHERE status = 'closed'\n",
    ")\n",
    "\n",
    "SELECT DISTINCT p.id\n",
    "FROM people AS p\n",
    "\n",
    "INNER JOIN SelectedCompanies AS Sc ON p.company_id=Sc.id\n",
    "'''"
   ]
  },
  {
   "cell_type": "markdown",
   "id": "90401289",
   "metadata": {},
   "source": [
    "Составьте таблицу, куда войдут уникальные пары с номерами сотрудников из предыдущей задачи и учебным заведением, которое окончил сотрудник"
   ]
  },
  {
   "cell_type": "code",
   "execution_count": 30,
   "id": "41818dcd",
   "metadata": {},
   "outputs": [],
   "source": [
    "query = '''\n",
    "WITH SelectedCompanies AS \n",
    "(SELECT DISTINCT c.id\n",
    "\n",
    "FROM ( \n",
    "SELECT *\n",
    "FROM funding_round\n",
    "WHERE is_first_round = 1 AND is_last_round = 1 ) AS qw\n",
    " \n",
    "INNER JOIN company AS c ON qw.company_id=c.id\n",
    "\n",
    "WHERE status = 'closed'\n",
    ")\n",
    "\n",
    "SELECT DISTINCT p.id,e.instituition\n",
    "FROM people AS p\n",
    "\n",
    "INNER JOIN SelectedCompanies AS Sc ON p.company_id=Sc.id\n",
    "INNER JOIN education AS e ON p.id = e.person_id\n",
    "\n",
    "'''"
   ]
  },
  {
   "cell_type": "markdown",
   "id": "866e6fef",
   "metadata": {},
   "source": [
    "Посчитайте количество учебных заведений для каждого сотрудника из предыдущего задания. При подсчёте учитывайте, что некоторые сотрудники могли окончить одно и то же заведение дважды."
   ]
  },
  {
   "cell_type": "code",
   "execution_count": 31,
   "id": "e13601f3",
   "metadata": {},
   "outputs": [],
   "source": [
    "query = '''\n",
    "WITH SelectedCompanies AS \n",
    "(SELECT DISTINCT c.id\n",
    "\n",
    "FROM ( \n",
    "SELECT *\n",
    "FROM funding_round\n",
    "WHERE is_first_round = 1 AND is_last_round = 1 ) AS qw\n",
    " \n",
    "INNER JOIN company AS c ON qw.company_id=c.id\n",
    "\n",
    "WHERE status = 'closed'\n",
    ")\n",
    "\n",
    "SELECT DISTINCT p.id,COUNT(e.instituition)\n",
    "FROM people AS p\n",
    "\n",
    "INNER JOIN SelectedCompanies AS Sc ON p.company_id=Sc.id\n",
    "INNER JOIN education AS e ON p.id = e.person_id\n",
    "\n",
    "group BY p.id\n",
    "'''"
   ]
  },
  {
   "cell_type": "markdown",
   "id": "2fbf4d24",
   "metadata": {},
   "source": [
    "Дополните предыдущий запрос и выведите среднее число учебных заведений (всех, не только уникальных), которые окончили сотрудники разных компаний. Нужно вывести только одну запись, группировка здесь не понадобится."
   ]
  },
  {
   "cell_type": "code",
   "execution_count": 24,
   "id": "e8b12125",
   "metadata": {},
   "outputs": [],
   "source": [
    "query = '''\n",
    "WITH SelectedCompanies AS \n",
    "(SELECT DISTINCT c.id\n",
    "\n",
    "FROM ( \n",
    "SELECT *\n",
    "FROM funding_round\n",
    "WHERE is_first_round = 1 AND is_last_round = 1 ) AS qw\n",
    " \n",
    "INNER JOIN company AS c ON qw.company_id=c.id\n",
    "\n",
    "WHERE status = 'closed'\n",
    ")\n",
    "\n",
    "SELECT AVG(education_count)\n",
    "FROM (\n",
    "SELECT DISTINCT p.id,COUNT(e.instituition) AS education_count\n",
    "FROM people AS p\n",
    "\n",
    "INNER JOIN SelectedCompanies AS Sc ON p.company_id=Sc.id\n",
    "INNER JOIN education AS e ON p.id = e.person_id\n",
    "\n",
    "group BY p.id) AS qwe\n",
    "\n",
    "'''"
   ]
  },
  {
   "cell_type": "code",
   "execution_count": null,
   "id": "7c6e2fb0",
   "metadata": {},
   "outputs": [],
   "source": [
    "Напишите похожий запрос: выведите среднее число учебных заведений (всех, не только уникальных), которые окончили сотрудники Socialnet."
   ]
  },
  {
   "cell_type": "code",
   "execution_count": 25,
   "id": "a6a25275",
   "metadata": {},
   "outputs": [],
   "source": [
    "query = '''\n",
    "WITH SelectedCompanies AS \n",
    "(SELECT DISTINCT c.id\n",
    "\n",
    "FROM ( \n",
    "SELECT *\n",
    "FROM funding_round\n",
    ") AS qw\n",
    " \n",
    "INNER JOIN company AS c ON qw.company_id=c.id\n",
    "\n",
    "WHERE c.name = 'Socialnet'\n",
    ")\n",
    "\n",
    "SELECT AVG(education_count)\n",
    "FROM (\n",
    "SELECT DISTINCT p.id,COUNT(e.instituition) AS education_count\n",
    "FROM people AS p\n",
    "\n",
    "INNER JOIN SelectedCompanies AS Sc ON p.company_id=Sc.id\n",
    "INNER JOIN education AS e ON p.id = e.person_id\n",
    "\n",
    "group BY p.id) AS qwe\n",
    "\n",
    "'''"
   ]
  },
  {
   "cell_type": "markdown",
   "id": "891bd6bb",
   "metadata": {},
   "source": [
    "Составьте таблицу из полей:\n",
    "name_of_fund — название фонда;\n",
    "name_of_company — название компании;\n",
    "amount — сумма инвестиций, которую привлекла компания в раунде.\n",
    "В таблицу войдут данные о компаниях, в истории которых было больше шести важных этапов, а раунды финансирования проходили с 2012 по 2013 год включительно."
   ]
  },
  {
   "cell_type": "code",
   "execution_count": 26,
   "id": "17d8c94c",
   "metadata": {},
   "outputs": [],
   "source": [
    "query = '''\n",
    "\n",
    "SELECT f.name AS name_of_fund,\n",
    "       c.name AS name_of_company,\n",
    "       fr.raised_amount AS amount\n",
    "FROM fund AS f\n",
    "\n",
    "\n",
    "INNER JOIN investment AS i ON f.id=i.fund_id\n",
    "INNER JOIN funding_round AS fr ON i.funding_round_id=fr.id\n",
    "INNER JOIN company AS c ON fr.company_id = c.id\n",
    "\n",
    "WHERE c.milestones > 6 AND EXTRACT(YEAR FROM CAST(fr.funded_at AS date)) BETWEEN 2012 AND 2013\n",
    "\n",
    "GROUP BY name_of_fund,name_of_company,amount\n",
    "'''"
   ]
  },
  {
   "cell_type": "markdown",
   "id": "5cbe4021",
   "metadata": {},
   "source": [
    "\n",
    "Выгрузите таблицу, в которой будут такие поля:\n",
    "название компании-покупателя;\n",
    "сумма сделки;\n",
    "название компании, которую купили;\n",
    "сумма инвестиций, вложенных в купленную компанию;\n",
    "доля, которая отображает, во сколько раз сумма покупки превысила сумму вложенных в компанию инвестиций, округлённая до ближайшего целого числа.\n",
    "Не учитывайте те сделки, в которых сумма покупки равна нулю. Если сумма инвестиций в компанию равна нулю, исключите такую компанию из таблицы. \n",
    "Отсортируйте таблицу по сумме сделки от большей к меньшей, а затем по названию купленной компании в лексикографическом порядке. Ограничьте таблицу первыми десятью записями."
   ]
  },
  {
   "cell_type": "code",
   "execution_count": 27,
   "id": "1cd4b91f",
   "metadata": {},
   "outputs": [],
   "source": [
    "query = '''\n",
    "SELECT c.name AS buyers_company,\n",
    "       a.price_amount AS sum_transactions,\n",
    "       cc.name AS bought_company,\n",
    "       cc.funding_total AS sum_invest,\n",
    "       ROUND(a.price_amount/cc.funding_total) AS dolia\n",
    "\n",
    "FROM acquisition AS a\n",
    "\n",
    "INNER JOIN company AS c ON a.acquiring_company_id = c.id\n",
    "\n",
    "INNER JOIN company AS cc ON a.acquired_company_id = cc.id\n",
    "\n",
    "\n",
    "WHERE a.price_amount != 0 AND cc.funding_total != 0\n",
    "\n",
    "ORDER BY sum_transactions DESC, bought_company ASC\n",
    "LIMIT 10\n",
    "'''"
   ]
  },
  {
   "cell_type": "markdown",
   "id": "d41ed1b9",
   "metadata": {},
   "source": [
    "Выгрузите таблицу, в которую войдут названия компаний из категории social, получившие финансирование с 2010 по 2013 год включительно. Проверьте, что сумма инвестиций не равна нулю. Выведите также номер месяца, в котором проходил раунд финансирования."
   ]
  },
  {
   "cell_type": "code",
   "execution_count": 32,
   "id": "064f29d7",
   "metadata": {},
   "outputs": [],
   "source": [
    "query = '''\n",
    "SELECT c.name,\n",
    "       EXTRACT(MONTH FROM CAST(funded_at AS date))\n",
    "FROM company AS c\n",
    "\n",
    "INNER JOIN funding_round AS fr ON c.id=fr.company_id\n",
    "\n",
    "WHERE category_code = 'social' AND fr.raised_amount != 0 AND EXTRACT(YEAR FROM CAST(funded_at AS date)) BETWEEN 2010 AND 2013\n",
    "\n",
    "\n",
    "'''"
   ]
  },
  {
   "cell_type": "markdown",
   "id": "51ef9d28",
   "metadata": {},
   "source": [
    "Отберите данные по месяцам с 2010 по 2013 год, когда проходили инвестиционные раунды. Сгруппируйте данные по номеру месяца и получите таблицу, в которой будут поля:\n",
    "номер месяца, в котором проходили раунды;\n",
    "количество уникальных названий фондов из США, которые инвестировали в этом месяце;\n",
    "количество компаний, купленных за этот месяц;\n",
    "общая сумма сделок по покупкам в этом месяце."
   ]
  },
  {
   "cell_type": "code",
   "execution_count": 33,
   "id": "a07081af",
   "metadata": {},
   "outputs": [],
   "source": [
    "query = '''\n",
    "WITH\n",
    " \n",
    "acq_c AS (SELECT EXTRACT(MONTH FROM CAST(acquired_at AS DATE)) AS MONTH,\n",
    "                 COUNT(acquired_company_id) AS count_comp,\n",
    "                 SUM(price_amount) AS sum_amount\n",
    "          FROM acquisition\n",
    "          WHERE EXTRACT(YEAR FROM acquired_at) BETWEEN 2010 AND 2013\n",
    "          GROUP BY MONTH),\n",
    " \n",
    "fr_uniq AS (SELECT EXTRACT(MONTH FROM CAST(funded_at AS DATE)) AS MONTH,\n",
    "                   COUNT(DISTINCT f.name) AS name_fund\n",
    "            FROM funding_round AS fr\n",
    "            LEFT JOIN investment AS i ON i.funding_round_id = fr.id\n",
    "            LEFT JOIN fund AS f ON f.id = i.fund_id\n",
    "            WHERE EXTRACT(YEAR FROM funded_at) BETWEEN 2010 AND 2013\n",
    "                  AND f.country_code = 'USA'\n",
    "            GROUP BY MONTH)\n",
    "            \n",
    "SELECT fr_uniq.MONTH,\n",
    "       fr_uniq.name_fund,\n",
    "       acq_c.count_comp,\n",
    "       acq_c.sum_amount\n",
    "FROM fr_uniq\n",
    "JOIN acq_c ON acq_c.MONTH = fr_uniq.MONTH;\n",
    "'''"
   ]
  },
  {
   "cell_type": "markdown",
   "id": "3f1adc4f",
   "metadata": {},
   "source": [
    "Составьте сводную таблицу и выведите среднюю сумму инвестиций для стран, в которых есть стартапы, зарегистрированные в 2011, 2012 и 2013 годах. Данные за каждый год должны быть в отдельном поле. Отсортируйте таблицу по среднему значению инвестиций за 2011 год от большего к меньшему."
   ]
  },
  {
   "cell_type": "code",
   "execution_count": 36,
   "id": "7d3adbbe",
   "metadata": {},
   "outputs": [],
   "source": [
    "query = '''\n",
    "WITH\n",
    " \n",
    "avg2011 AS (SELECT country_code,\n",
    "                   AVG(funding_total) AS avg_total_2011\n",
    "            FROM company\n",
    "            WHERE EXTRACT(YEAR FROM CAST(founded_at AS TIMESTAMP)) = 2011\n",
    "            GROUP BY country_code),\n",
    "            \n",
    "avg2012 AS (SELECT country_code,\n",
    "                   AVG(funding_total) AS avg_total_2012\n",
    "            FROM company\n",
    "            WHERE EXTRACT(YEAR FROM CAST(founded_at AS TIMESTAMP)) = 2012\n",
    "            GROUP BY country_code),\n",
    " \n",
    "avg2013 AS (SELECT country_code,\n",
    "                   AVG(funding_total) AS avg_total_2013\n",
    "            FROM company\n",
    "            WHERE EXTRACT(YEAR FROM CAST(founded_at AS TIMESTAMP)) = 2013\n",
    "            GROUP BY country_code)\n",
    "                \n",
    "SELECT avg2011.country_code AS country_code,\n",
    "       avg2011.avg_total_2011,\n",
    "       avg2012.avg_total_2012,\n",
    "       avg2013.avg_total_2013\n",
    "FROM avg2011\n",
    "INNER JOIN avg2012 ON avg2011.country_code=avg2012.country_code\n",
    "INNER JOIN avg2013 ON avg2012.country_code=avg2013.country_code\n",
    "ORDER BY avg2011.avg_total_2011 DESC;\n",
    "'''"
   ]
  }
 ],
 "metadata": {
  "kernelspec": {
   "display_name": "Python 3 (ipykernel)",
   "language": "python",
   "name": "python3"
  },
  "language_info": {
   "codemirror_mode": {
    "name": "ipython",
    "version": 3
   },
   "file_extension": ".py",
   "mimetype": "text/x-python",
   "name": "python",
   "nbconvert_exporter": "python",
   "pygments_lexer": "ipython3",
   "version": "3.11.5"
  }
 },
 "nbformat": 4,
 "nbformat_minor": 5
}
