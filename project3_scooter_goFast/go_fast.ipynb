{
 "cells": [
  {
   "cell_type": "markdown",
   "id": "40060d84",
   "metadata": {},
   "source": [
    "# Исследование популярного сервиса аренды самокатов GoFast\n",
    "\n",
    "Нам передали данные о некоторых пользователях из нескольких городов, а также об их поездках. Проанализируйте данные и проверьте некоторые гипотезы, которые могут помочь бизнесу вырасти.\n",
    "Чтобы совершать поездки по городу, пользователи сервиса GoFast пользуются мобильным приложением. Сервисом можно пользоваться:\n",
    "без подписки\n",
    "- абонентская плата отсутствует;\n",
    "стоимость одной минуты поездки — 8 рублей;\n",
    "стоимость старта (начала поездки) — 50 рублей;\n",
    "- с подпиской Ultra\n",
    "абонентская плата — 199 рублей в месяц;\n",
    "стоимость одной минуты поездки — 6 рублей;\n",
    "стоимость старта — бесплатно.\n",
    "\n",
    "**Цель исследования:** \n",
    "\n",
    "- понять, тратят ли пользователи с подпиской больше времени на поездки? \n",
    "- Расстояние одной поездки в 3130 метров — оптимальное с точки зрения износа самоката. Можно ли сказать, что среднее расстояние, которое проезжают пользователи с подпиской за одну поездку, не превышает 3130 метров?\n",
    "- понять будет ли помесячная выручка от пользователей с подпиской по месяцам выше, чем выручка от пользователей без подписки. \n",
    "\n",
    "**Ход исследования:**  \n",
    "\n",
    "- Загрузить данные\n",
    "- Провести предобработку данных\n",
    "- Провести исследовательский анализ данных\n",
    "- Объединение данных\n",
    "- Подсчёт выручки\n",
    "- Проверка гипотез"
   ]
  },
  {
   "cell_type": "markdown",
   "id": "51806e2e",
   "metadata": {},
   "source": [
    "### Откроем файл с данными и изучим общую информацию"
   ]
  },
  {
   "cell_type": "code",
   "execution_count": 1,
   "id": "72576667",
   "metadata": {},
   "outputs": [],
   "source": [
    "import pandas as pd\n",
    "import matplotlib.pyplot as plt\n",
    "import numpy as np\n",
    "from scipy import stats as st"
   ]
  },
  {
   "cell_type": "markdown",
   "id": "c42cbe00",
   "metadata": {},
   "source": [
    "### Шаг 1. Загрузка данных"
   ]
  },
  {
   "cell_type": "markdown",
   "id": "cc11b5e5",
   "metadata": {},
   "source": [
    "#### 1.1 Считаем CSV-файлы с данными с помощью библиотеки pandas и сохраним их в датафреймы. "
   ]
  },
  {
   "cell_type": "code",
   "execution_count": 2,
   "id": "54f5f766",
   "metadata": {},
   "outputs": [],
   "source": [
    "try:\n",
    "    users_go_df = pd.read_csv('/datasets/users_go.csv',sep=',')\n",
    "    rides_go_df = pd.read_csv('/datasets/rides_go.csv',sep=',')\n",
    "    subscriptions_go_df = pd.read_csv('/datasets/subscriptions_go.csv',sep=',')\n",
    "except:\n",
    "    users_go_df = pd.read_csv('/Users/a0000/Documents/Analitic/All_projects/project3_scooter_goFast/datasets/users_go.csv',sep=',')\n",
    "    rides_go_df = pd.read_csv('/Users/a0000/Documents/Analitic/All_projects/project3_scooter_goFast/datasets/rides_go.csv',sep=',')\n",
    "    subscriptions_go_df = pd.read_csv('/Users/a0000/Documents/Analitic/All_projects/project3_scooter_goFast/datasets/subscriptions_go.csv',sep=',')\n",
    "    "
   ]
  },
  {
   "cell_type": "markdown",
   "id": "93c0e3a7",
   "metadata": {},
   "source": [
    "#### 1.2 Выведем первые строки каждого набора данных. Изучим общую информацию о каждом датафрейме."
   ]
  },
  {
   "cell_type": "markdown",
   "id": "9b740fa6",
   "metadata": {},
   "source": [
    "**Столбец Пользователи**"
   ]
  },
  {
   "cell_type": "code",
   "execution_count": 3,
   "id": "25f4d10f",
   "metadata": {},
   "outputs": [
    {
     "data": {
      "text/html": [
       "<div>\n",
       "<style scoped>\n",
       "    .dataframe tbody tr th:only-of-type {\n",
       "        vertical-align: middle;\n",
       "    }\n",
       "\n",
       "    .dataframe tbody tr th {\n",
       "        vertical-align: top;\n",
       "    }\n",
       "\n",
       "    .dataframe thead th {\n",
       "        text-align: right;\n",
       "    }\n",
       "</style>\n",
       "<table border=\"1\" class=\"dataframe\">\n",
       "  <thead>\n",
       "    <tr style=\"text-align: right;\">\n",
       "      <th></th>\n",
       "      <th>user_id</th>\n",
       "      <th>name</th>\n",
       "      <th>age</th>\n",
       "      <th>city</th>\n",
       "      <th>subscription_type</th>\n",
       "    </tr>\n",
       "  </thead>\n",
       "  <tbody>\n",
       "    <tr>\n",
       "      <th>0</th>\n",
       "      <td>1</td>\n",
       "      <td>Кира</td>\n",
       "      <td>22</td>\n",
       "      <td>Тюмень</td>\n",
       "      <td>ultra</td>\n",
       "    </tr>\n",
       "    <tr>\n",
       "      <th>1</th>\n",
       "      <td>2</td>\n",
       "      <td>Станислав</td>\n",
       "      <td>31</td>\n",
       "      <td>Омск</td>\n",
       "      <td>ultra</td>\n",
       "    </tr>\n",
       "    <tr>\n",
       "      <th>2</th>\n",
       "      <td>3</td>\n",
       "      <td>Алексей</td>\n",
       "      <td>20</td>\n",
       "      <td>Москва</td>\n",
       "      <td>ultra</td>\n",
       "    </tr>\n",
       "    <tr>\n",
       "      <th>3</th>\n",
       "      <td>4</td>\n",
       "      <td>Константин</td>\n",
       "      <td>26</td>\n",
       "      <td>Ростов-на-Дону</td>\n",
       "      <td>ultra</td>\n",
       "    </tr>\n",
       "    <tr>\n",
       "      <th>4</th>\n",
       "      <td>5</td>\n",
       "      <td>Адель</td>\n",
       "      <td>28</td>\n",
       "      <td>Омск</td>\n",
       "      <td>ultra</td>\n",
       "    </tr>\n",
       "  </tbody>\n",
       "</table>\n",
       "</div>"
      ],
      "text/plain": [
       "   user_id        name  age            city subscription_type\n",
       "0        1        Кира   22          Тюмень             ultra\n",
       "1        2   Станислав   31            Омск             ultra\n",
       "2        3     Алексей   20          Москва             ultra\n",
       "3        4  Константин   26  Ростов-на-Дону             ultra\n",
       "4        5       Адель   28            Омск             ultra"
      ]
     },
     "execution_count": 3,
     "metadata": {},
     "output_type": "execute_result"
    }
   ],
   "source": [
    "users_go_df.head(5)"
   ]
  },
  {
   "cell_type": "code",
   "execution_count": 4,
   "id": "ab01f3ad",
   "metadata": {},
   "outputs": [
    {
     "name": "stdout",
     "output_type": "stream",
     "text": [
      "<class 'pandas.core.frame.DataFrame'>\n",
      "RangeIndex: 1565 entries, 0 to 1564\n",
      "Data columns (total 5 columns):\n",
      " #   Column             Non-Null Count  Dtype \n",
      "---  ------             --------------  ----- \n",
      " 0   user_id            1565 non-null   int64 \n",
      " 1   name               1565 non-null   object\n",
      " 2   age                1565 non-null   int64 \n",
      " 3   city               1565 non-null   object\n",
      " 4   subscription_type  1565 non-null   object\n",
      "dtypes: int64(2), object(3)\n",
      "memory usage: 61.3+ KB\n"
     ]
    }
   ],
   "source": [
    "users_go_df.info()"
   ]
  },
  {
   "cell_type": "markdown",
   "id": "13064a0c",
   "metadata": {},
   "source": [
    "**Столбец Поездки**"
   ]
  },
  {
   "cell_type": "code",
   "execution_count": 5,
   "id": "86dbbe94",
   "metadata": {},
   "outputs": [
    {
     "data": {
      "text/html": [
       "<div>\n",
       "<style scoped>\n",
       "    .dataframe tbody tr th:only-of-type {\n",
       "        vertical-align: middle;\n",
       "    }\n",
       "\n",
       "    .dataframe tbody tr th {\n",
       "        vertical-align: top;\n",
       "    }\n",
       "\n",
       "    .dataframe thead th {\n",
       "        text-align: right;\n",
       "    }\n",
       "</style>\n",
       "<table border=\"1\" class=\"dataframe\">\n",
       "  <thead>\n",
       "    <tr style=\"text-align: right;\">\n",
       "      <th></th>\n",
       "      <th>user_id</th>\n",
       "      <th>distance</th>\n",
       "      <th>duration</th>\n",
       "      <th>date</th>\n",
       "    </tr>\n",
       "  </thead>\n",
       "  <tbody>\n",
       "    <tr>\n",
       "      <th>0</th>\n",
       "      <td>1</td>\n",
       "      <td>4409.919140</td>\n",
       "      <td>25.599769</td>\n",
       "      <td>2021-01-01</td>\n",
       "    </tr>\n",
       "    <tr>\n",
       "      <th>1</th>\n",
       "      <td>1</td>\n",
       "      <td>2617.592153</td>\n",
       "      <td>15.816871</td>\n",
       "      <td>2021-01-18</td>\n",
       "    </tr>\n",
       "    <tr>\n",
       "      <th>2</th>\n",
       "      <td>1</td>\n",
       "      <td>754.159807</td>\n",
       "      <td>6.232113</td>\n",
       "      <td>2021-04-20</td>\n",
       "    </tr>\n",
       "    <tr>\n",
       "      <th>3</th>\n",
       "      <td>1</td>\n",
       "      <td>2694.783254</td>\n",
       "      <td>18.511000</td>\n",
       "      <td>2021-08-11</td>\n",
       "    </tr>\n",
       "    <tr>\n",
       "      <th>4</th>\n",
       "      <td>1</td>\n",
       "      <td>4028.687306</td>\n",
       "      <td>26.265803</td>\n",
       "      <td>2021-08-28</td>\n",
       "    </tr>\n",
       "  </tbody>\n",
       "</table>\n",
       "</div>"
      ],
      "text/plain": [
       "   user_id     distance   duration        date\n",
       "0        1  4409.919140  25.599769  2021-01-01\n",
       "1        1  2617.592153  15.816871  2021-01-18\n",
       "2        1   754.159807   6.232113  2021-04-20\n",
       "3        1  2694.783254  18.511000  2021-08-11\n",
       "4        1  4028.687306  26.265803  2021-08-28"
      ]
     },
     "execution_count": 5,
     "metadata": {},
     "output_type": "execute_result"
    }
   ],
   "source": [
    "rides_go_df.head(5)"
   ]
  },
  {
   "cell_type": "code",
   "execution_count": 6,
   "id": "6a94d071",
   "metadata": {},
   "outputs": [
    {
     "name": "stdout",
     "output_type": "stream",
     "text": [
      "<class 'pandas.core.frame.DataFrame'>\n",
      "RangeIndex: 18068 entries, 0 to 18067\n",
      "Data columns (total 4 columns):\n",
      " #   Column    Non-Null Count  Dtype  \n",
      "---  ------    --------------  -----  \n",
      " 0   user_id   18068 non-null  int64  \n",
      " 1   distance  18068 non-null  float64\n",
      " 2   duration  18068 non-null  float64\n",
      " 3   date      18068 non-null  object \n",
      "dtypes: float64(2), int64(1), object(1)\n",
      "memory usage: 564.8+ KB\n"
     ]
    }
   ],
   "source": [
    "rides_go_df.info()"
   ]
  },
  {
   "cell_type": "markdown",
   "id": "68deed9d",
   "metadata": {},
   "source": [
    "**Столбец Подписки**"
   ]
  },
  {
   "cell_type": "code",
   "execution_count": 7,
   "id": "f759e5f5",
   "metadata": {},
   "outputs": [
    {
     "data": {
      "text/html": [
       "<div>\n",
       "<style scoped>\n",
       "    .dataframe tbody tr th:only-of-type {\n",
       "        vertical-align: middle;\n",
       "    }\n",
       "\n",
       "    .dataframe tbody tr th {\n",
       "        vertical-align: top;\n",
       "    }\n",
       "\n",
       "    .dataframe thead th {\n",
       "        text-align: right;\n",
       "    }\n",
       "</style>\n",
       "<table border=\"1\" class=\"dataframe\">\n",
       "  <thead>\n",
       "    <tr style=\"text-align: right;\">\n",
       "      <th></th>\n",
       "      <th>subscription_type</th>\n",
       "      <th>minute_price</th>\n",
       "      <th>start_ride_price</th>\n",
       "      <th>subscription_fee</th>\n",
       "    </tr>\n",
       "  </thead>\n",
       "  <tbody>\n",
       "    <tr>\n",
       "      <th>0</th>\n",
       "      <td>free</td>\n",
       "      <td>8</td>\n",
       "      <td>50</td>\n",
       "      <td>0</td>\n",
       "    </tr>\n",
       "    <tr>\n",
       "      <th>1</th>\n",
       "      <td>ultra</td>\n",
       "      <td>6</td>\n",
       "      <td>0</td>\n",
       "      <td>199</td>\n",
       "    </tr>\n",
       "  </tbody>\n",
       "</table>\n",
       "</div>"
      ],
      "text/plain": [
       "  subscription_type  minute_price  start_ride_price  subscription_fee\n",
       "0              free             8                50                 0\n",
       "1             ultra             6                 0               199"
      ]
     },
     "execution_count": 7,
     "metadata": {},
     "output_type": "execute_result"
    }
   ],
   "source": [
    "subscriptions_go_df"
   ]
  },
  {
   "cell_type": "code",
   "execution_count": 8,
   "id": "94df4bb7",
   "metadata": {},
   "outputs": [
    {
     "name": "stdout",
     "output_type": "stream",
     "text": [
      "<class 'pandas.core.frame.DataFrame'>\n",
      "RangeIndex: 2 entries, 0 to 1\n",
      "Data columns (total 4 columns):\n",
      " #   Column             Non-Null Count  Dtype \n",
      "---  ------             --------------  ----- \n",
      " 0   subscription_type  2 non-null      object\n",
      " 1   minute_price       2 non-null      int64 \n",
      " 2   start_ride_price   2 non-null      int64 \n",
      " 3   subscription_fee   2 non-null      int64 \n",
      "dtypes: int64(3), object(1)\n",
      "memory usage: 196.0+ bytes\n"
     ]
    }
   ],
   "source": [
    "subscriptions_go_df.info()"
   ]
  },
  {
   "cell_type": "markdown",
   "id": "40e0dfdc",
   "metadata": {},
   "source": [
    "**Промежуточный вывод** : Пропусков в стобцах не обнаружено, в таблице \"Поездки\" значения столбцов `distance`\tи `duration` стоит округлить."
   ]
  },
  {
   "cell_type": "markdown",
   "id": "e95ebca7",
   "metadata": {},
   "source": [
    "### Шаг 2. Предобработка данных"
   ]
  },
  {
   "cell_type": "markdown",
   "id": "09f1d5b5",
   "metadata": {},
   "source": [
    "#### 2.1 Приведем столбец date к типу даты pandas."
   ]
  },
  {
   "cell_type": "code",
   "execution_count": 9,
   "id": "26c17870",
   "metadata": {},
   "outputs": [],
   "source": [
    "rides_go_df['date'] = pd.to_datetime(rides_go_df['date'])"
   ]
  },
  {
   "cell_type": "markdown",
   "id": "da1b7d7c",
   "metadata": {},
   "source": [
    "#### 2.2 Создаим новый столбец с номером месяца на основе столбца date."
   ]
  },
  {
   "cell_type": "code",
   "execution_count": 10,
   "id": "1782dc6c",
   "metadata": {},
   "outputs": [
    {
     "data": {
      "text/plain": [
       "Timestamp('2021-01-01 00:00:00')"
      ]
     },
     "execution_count": 10,
     "metadata": {},
     "output_type": "execute_result"
    }
   ],
   "source": [
    "rides_go_df['date'].min()"
   ]
  },
  {
   "cell_type": "code",
   "execution_count": 11,
   "id": "79cde034",
   "metadata": {},
   "outputs": [
    {
     "data": {
      "text/plain": [
       "Timestamp('2021-12-30 00:00:00')"
      ]
     },
     "execution_count": 11,
     "metadata": {},
     "output_type": "execute_result"
    }
   ],
   "source": [
    "rides_go_df['date'].max()"
   ]
  },
  {
   "cell_type": "markdown",
   "id": "e2a5f72b",
   "metadata": {},
   "source": [
    "Так как у нас данные только за 2021 год, тогда дополнительные проверки для получения месяца, можно исключить"
   ]
  },
  {
   "cell_type": "code",
   "execution_count": 12,
   "id": "ccfc878a",
   "metadata": {},
   "outputs": [],
   "source": [
    "rides_go_df['month'] = rides_go_df['date'].dt.month"
   ]
  },
  {
   "cell_type": "markdown",
   "id": "0c4e6faa",
   "metadata": {},
   "source": [
    "#### 2.3 Проверим наличие пропущенных значений и дубликатов в датафреймах. Обработаем их, если такие значения присутствуют."
   ]
  },
  {
   "cell_type": "code",
   "execution_count": 13,
   "id": "ade3f4e0",
   "metadata": {
    "scrolled": true
   },
   "outputs": [
    {
     "data": {
      "text/plain": [
       "user_id              0\n",
       "name                 0\n",
       "age                  0\n",
       "city                 0\n",
       "subscription_type    0\n",
       "dtype: int64"
      ]
     },
     "execution_count": 13,
     "metadata": {},
     "output_type": "execute_result"
    }
   ],
   "source": [
    "users_go_df.isna().sum()"
   ]
  },
  {
   "cell_type": "code",
   "execution_count": 14,
   "id": "e167aaa1",
   "metadata": {},
   "outputs": [
    {
     "data": {
      "text/plain": [
       "user_id     0\n",
       "distance    0\n",
       "duration    0\n",
       "date        0\n",
       "month       0\n",
       "dtype: int64"
      ]
     },
     "execution_count": 14,
     "metadata": {},
     "output_type": "execute_result"
    }
   ],
   "source": [
    "rides_go_df.isna().sum()"
   ]
  },
  {
   "cell_type": "code",
   "execution_count": 15,
   "id": "b01b1f39",
   "metadata": {},
   "outputs": [
    {
     "data": {
      "text/plain": [
       "subscription_type    0\n",
       "minute_price         0\n",
       "start_ride_price     0\n",
       "subscription_fee     0\n",
       "dtype: int64"
      ]
     },
     "execution_count": 15,
     "metadata": {},
     "output_type": "execute_result"
    }
   ],
   "source": [
    "subscriptions_go_df.isna().sum()"
   ]
  },
  {
   "cell_type": "markdown",
   "id": "4cc9cc31",
   "metadata": {},
   "source": [
    "Мы проверили наличие пропущенных значений и убедились что в наших таблицах отсутствуют пропуски."
   ]
  },
  {
   "cell_type": "code",
   "execution_count": 16,
   "id": "7201f061",
   "metadata": {},
   "outputs": [
    {
     "name": "stdout",
     "output_type": "stream",
     "text": [
      "Количество дубликатов в таблице users_go_df: 31\n",
      "Количество дубликатов в таблице rides_go_df: 0\n"
     ]
    }
   ],
   "source": [
    "print(f'Количество дубликатов в таблице users_go_df: {users_go_df.duplicated().sum()}')\n",
    "print(f'Количество дубликатов в таблице rides_go_df: {rides_go_df.duplicated().sum()}')\n"
   ]
  },
  {
   "cell_type": "code",
   "execution_count": 17,
   "id": "0653fc5e",
   "metadata": {},
   "outputs": [],
   "source": [
    "users_go_df = users_go_df.drop_duplicates().reset_index(drop=True)"
   ]
  },
  {
   "cell_type": "markdown",
   "id": "38f83ec9",
   "metadata": {},
   "source": [
    "Мы проверили наличие дубликатов в таблицах, после исключили дубликаты из таблицы `users_go_df`."
   ]
  },
  {
   "cell_type": "markdown",
   "id": "61fb6b57",
   "metadata": {},
   "source": [
    "#### 2.4 Добавим столбец дистанции в км"
   ]
  },
  {
   "cell_type": "code",
   "execution_count": 18,
   "id": "c14eee5d",
   "metadata": {},
   "outputs": [],
   "source": [
    "rides_go_df['distance_km'] = (rides_go_df['distance'] / 1000).round(3)"
   ]
  },
  {
   "cell_type": "code",
   "execution_count": 19,
   "id": "619d7921",
   "metadata": {},
   "outputs": [
    {
     "data": {
      "text/html": [
       "<div>\n",
       "<style scoped>\n",
       "    .dataframe tbody tr th:only-of-type {\n",
       "        vertical-align: middle;\n",
       "    }\n",
       "\n",
       "    .dataframe tbody tr th {\n",
       "        vertical-align: top;\n",
       "    }\n",
       "\n",
       "    .dataframe thead th {\n",
       "        text-align: right;\n",
       "    }\n",
       "</style>\n",
       "<table border=\"1\" class=\"dataframe\">\n",
       "  <thead>\n",
       "    <tr style=\"text-align: right;\">\n",
       "      <th></th>\n",
       "      <th>user_id</th>\n",
       "      <th>distance</th>\n",
       "      <th>duration</th>\n",
       "      <th>date</th>\n",
       "      <th>month</th>\n",
       "      <th>distance_km</th>\n",
       "    </tr>\n",
       "  </thead>\n",
       "  <tbody>\n",
       "    <tr>\n",
       "      <th>0</th>\n",
       "      <td>1</td>\n",
       "      <td>4409.919140</td>\n",
       "      <td>25.599769</td>\n",
       "      <td>2021-01-01</td>\n",
       "      <td>1</td>\n",
       "      <td>4.410</td>\n",
       "    </tr>\n",
       "    <tr>\n",
       "      <th>1</th>\n",
       "      <td>1</td>\n",
       "      <td>2617.592153</td>\n",
       "      <td>15.816871</td>\n",
       "      <td>2021-01-18</td>\n",
       "      <td>1</td>\n",
       "      <td>2.618</td>\n",
       "    </tr>\n",
       "    <tr>\n",
       "      <th>2</th>\n",
       "      <td>1</td>\n",
       "      <td>754.159807</td>\n",
       "      <td>6.232113</td>\n",
       "      <td>2021-04-20</td>\n",
       "      <td>4</td>\n",
       "      <td>0.754</td>\n",
       "    </tr>\n",
       "    <tr>\n",
       "      <th>3</th>\n",
       "      <td>1</td>\n",
       "      <td>2694.783254</td>\n",
       "      <td>18.511000</td>\n",
       "      <td>2021-08-11</td>\n",
       "      <td>8</td>\n",
       "      <td>2.695</td>\n",
       "    </tr>\n",
       "    <tr>\n",
       "      <th>4</th>\n",
       "      <td>1</td>\n",
       "      <td>4028.687306</td>\n",
       "      <td>26.265803</td>\n",
       "      <td>2021-08-28</td>\n",
       "      <td>8</td>\n",
       "      <td>4.029</td>\n",
       "    </tr>\n",
       "  </tbody>\n",
       "</table>\n",
       "</div>"
      ],
      "text/plain": [
       "   user_id     distance   duration       date  month  distance_km\n",
       "0        1  4409.919140  25.599769 2021-01-01      1        4.410\n",
       "1        1  2617.592153  15.816871 2021-01-18      1        2.618\n",
       "2        1   754.159807   6.232113 2021-04-20      4        0.754\n",
       "3        1  2694.783254  18.511000 2021-08-11      8        2.695\n",
       "4        1  4028.687306  26.265803 2021-08-28      8        4.029"
      ]
     },
     "execution_count": 19,
     "metadata": {},
     "output_type": "execute_result"
    }
   ],
   "source": [
    "rides_go_df.head(5)"
   ]
  },
  {
   "cell_type": "markdown",
   "id": "4804ad78",
   "metadata": {},
   "source": [
    "**Промежуточный вывод:** Изначально нам дано расстояние в метрах, чтобы было удобнее рабоать с данными и исключить на графике большие значения для большей наглядности, я добавлю столбец с расстоянием в км, с тремя знаками после запятой."
   ]
  },
  {
   "cell_type": "markdown",
   "id": "212593c7",
   "metadata": {},
   "source": [
    "### Шаг 3. Исследовательский анализ данных"
   ]
  },
  {
   "cell_type": "markdown",
   "id": "057c3d2a",
   "metadata": {},
   "source": [
    "#### 3.1 Частота встречаемости городов;"
   ]
  },
  {
   "cell_type": "code",
   "execution_count": 20,
   "id": "50e5290f",
   "metadata": {},
   "outputs": [
    {
     "data": {
      "image/png": "[encoded data removed]",
      "text/plain": [
       "<Figure size 900x500 with 1 Axes>"
      ]
     },
     "metadata": {},
     "output_type": "display_data"
    }
   ],
   "source": [
    "city_counts = users_go_df['city'].value_counts().sort_values(ascending=False)\n",
    "city_counts.plot(kind='bar', figsize=(9, 5))\n",
    "plt.xticks(rotation=25)\n",
    "plt.xlabel('Город')\n",
    "plt.ylabel('Количество пользователей')\n",
    "plt.title('Частота встречаемости городов')\n",
    "plt.show()"
   ]
  },
  {
   "cell_type": "markdown",
   "id": "b75b5f79",
   "metadata": {},
   "source": [
    "**Промежуточный вывод:** Самый Часто встречаемый город - это Пятигорск, самый менее встречаемый Москва, есть предположение, что это связано с тем, что Москва крупный город и в нем больше конкуренции, чем в Пятигорске и остальных городах"
   ]
  },
  {
   "cell_type": "markdown",
   "id": "54144f16",
   "metadata": {},
   "source": [
    "#### 3.2 Соотношение пользователей с подпиской и без подписки;"
   ]
  },
  {
   "cell_type": "code",
   "execution_count": 21,
   "id": "30b2cb44",
   "metadata": {},
   "outputs": [
    {
     "data": {
      "image/png": "[encoded data removed]",
      "text/plain": [
       "<Figure size 700x700 with 1 Axes>"
      ]
     },
     "metadata": {},
     "output_type": "display_data"
    }
   ],
   "source": [
    "subscription_counts = users_go_df['subscription_type'].value_counts()\n",
    "\n",
    "plt.figure(figsize=(7, 7))\n",
    "subscription_counts.plot(kind='pie', autopct='%1.1f%%', startangle=90, colors=['#66b3ff', '#ff9999'])\n",
    "plt.title('Распределение типов подписок')\n",
    "plt.ylabel('') \n",
    "plt.show()"
   ]
  },
  {
   "cell_type": "markdown",
   "id": "80ddbedf",
   "metadata": {},
   "source": [
    "**Промежуточный вывод:** Пользователей без подписки 54,4% , а с подпиской 45,6% "
   ]
  },
  {
   "cell_type": "markdown",
   "id": "1ee2c219",
   "metadata": {},
   "source": [
    "#### 3.3 Возраст пользователей;"
   ]
  },
  {
   "cell_type": "code",
   "execution_count": 22,
   "id": "0d01ecc6",
   "metadata": {},
   "outputs": [
    {
     "data": {
      "image/png": "[encoded data removed]",
      "text/plain": [
       "<Figure size 1000x500 with 1 Axes>"
      ]
     },
     "metadata": {},
     "output_type": "display_data"
    }
   ],
   "source": [
    "age_counts = users_go_df['age'].value_counts()\n",
    "\n",
    "age_counts_sorted = age_counts.sort_index()\n",
    "\n",
    "age_counts_sorted.plot(kind='bar', figsize=(10, 5))\n",
    "plt.xticks(rotation=0)\n",
    "plt.xlabel('Возраст')\n",
    "plt.ylabel('Количество пользователей')\n",
    "plt.title('Возраст пользователей')\n",
    "plt.show()"
   ]
  },
  {
   "cell_type": "markdown",
   "id": "38af963e",
   "metadata": {},
   "source": [
    "**Промежуточный вывод:** По графику мы можем заметить, что основной пик пользователей расположен при возрасте в 25 лет, подгрупа с преимущетсвенным количеством пользоватлей при возрасте от 22 до 28 лет, это молодые платежеспособные клиенты, пользователи младше 22 лет меньше пользуются сервисом аренды самоката возможно из-за недостатка свободных средств, так как эти люди менее платежеспособны из-за учебы в школах/университетах, пользователи страше 28 лет так же меньше пользуются сервисом аренды самоката возможно из-за того, что с возрастом им это менее интересно или уже финансово состоялись и передвигаются на личных автомобилях или такси."
   ]
  },
  {
   "cell_type": "markdown",
   "id": "e525f7a7",
   "metadata": {},
   "source": [
    "#### 3.4  Расстояние, которое пользователь преодолел за одну поездку;"
   ]
  },
  {
   "cell_type": "code",
   "execution_count": 23,
   "id": "6d161cd6",
   "metadata": {},
   "outputs": [
    {
     "data": {
      "image/png": "[encoded data removed]",
      "text/plain": [
       "<Figure size 800x500 with 1 Axes>"
      ]
     },
     "metadata": {},
     "output_type": "display_data"
    }
   ],
   "source": [
    "city_counts = rides_go_df['distance_km']\n",
    "city_counts.plot(kind='hist', figsize=(8, 5),bins = 20)\n",
    "plt.xticks(rotation=0)\n",
    "plt.xlabel('Расстояние (км)')\n",
    "plt.ylabel('Количество поездок')\n",
    "plt.title('Расстояние за поездку')\n",
    "plt.show()"
   ]
  },
  {
   "cell_type": "markdown",
   "id": "52e2c656",
   "metadata": {},
   "source": [
    "**Промежуточный вывод:** Основной пик распределения расстояния пользователей за одну поездку, находится в диапозоне от 3 до 3,5 км. , далее с увеличением расстояния количество поездок уменьшается."
   ]
  },
  {
   "cell_type": "markdown",
   "id": "96ee1ff0",
   "metadata": {},
   "source": [
    "#### 3.5 Продолжительность поездок."
   ]
  },
  {
   "cell_type": "code",
   "execution_count": 24,
   "id": "6912a57c",
   "metadata": {},
   "outputs": [
    {
     "data": {
      "image/png": "[encoded data removed]",
      "text/plain": [
       "<Figure size 800x500 with 1 Axes>"
      ]
     },
     "metadata": {},
     "output_type": "display_data"
    }
   ],
   "source": [
    "time_counts = rides_go_df['duration']\n",
    "time_counts.plot(kind='hist', figsize=(8, 5),bins = 20)\n",
    "plt.xticks(rotation=0)\n",
    "plt.xlabel('Время (мин)')\n",
    "plt.ylabel('Количество поездок')\n",
    "plt.title('Продолжительность поездки')\n",
    "plt.show()"
   ]
  },
  {
   "cell_type": "code",
   "execution_count": 25,
   "id": "93cd13a4",
   "metadata": {},
   "outputs": [
    {
     "data": {
      "image/png": "[encoded data removed]",
      "text/plain": [
       "<Figure size 1000x500 with 1 Axes>"
      ]
     },
     "metadata": {},
     "output_type": "display_data"
    }
   ],
   "source": [
    "plt.figure(figsize=(10, 5))\n",
    "plt.boxplot(time_counts, vert=False, patch_artist=True)  # vert=False для горизонтального боксплота\n",
    "plt.title('Распределение продолжительности поездок (Boxplot)')\n",
    "plt.xlabel('Время (мин)')\n",
    "plt.grid(True)\n",
    "plt.show()"
   ]
  },
  {
   "cell_type": "markdown",
   "id": "30226d84",
   "metadata": {},
   "source": [
    "**Промежуточный вывод:** Основной пик распределения расстояния продолжительности поездок, находится в диапозоне от 15 до 23 минут, далее с увеличением времени количество поездок уменьшается."
   ]
  },
  {
   "cell_type": "markdown",
   "id": "4ef51331",
   "metadata": {},
   "source": [
    "### Шаг 4. Объединение данных"
   ]
  },
  {
   "cell_type": "markdown",
   "id": "6f5a449d",
   "metadata": {},
   "source": [
    "#### 4.1 Объединим данные о пользователях, поездках и подписках в один датафрейм. Для этого воспользуйтесь методом merge()."
   ]
  },
  {
   "cell_type": "code",
   "execution_count": 26,
   "id": "c4234a55",
   "metadata": {},
   "outputs": [],
   "source": [
    "data_one_two = pd.merge(users_go_df,rides_go_df, on = 'user_id', how = 'inner')\n",
    "data = pd.merge(data_one_two,subscriptions_go_df, on = 'subscription_type', how = 'inner')"
   ]
  },
  {
   "cell_type": "code",
   "execution_count": 27,
   "id": "d2a410eb",
   "metadata": {},
   "outputs": [
    {
     "data": {
      "text/html": [
       "<div>\n",
       "<style scoped>\n",
       "    .dataframe tbody tr th:only-of-type {\n",
       "        vertical-align: middle;\n",
       "    }\n",
       "\n",
       "    .dataframe tbody tr th {\n",
       "        vertical-align: top;\n",
       "    }\n",
       "\n",
       "    .dataframe thead th {\n",
       "        text-align: right;\n",
       "    }\n",
       "</style>\n",
       "<table border=\"1\" class=\"dataframe\">\n",
       "  <thead>\n",
       "    <tr style=\"text-align: right;\">\n",
       "      <th></th>\n",
       "      <th>user_id</th>\n",
       "      <th>name</th>\n",
       "      <th>age</th>\n",
       "      <th>city</th>\n",
       "      <th>subscription_type</th>\n",
       "      <th>distance</th>\n",
       "      <th>duration</th>\n",
       "      <th>date</th>\n",
       "      <th>month</th>\n",
       "      <th>distance_km</th>\n",
       "      <th>minute_price</th>\n",
       "      <th>start_ride_price</th>\n",
       "      <th>subscription_fee</th>\n",
       "    </tr>\n",
       "  </thead>\n",
       "  <tbody>\n",
       "    <tr>\n",
       "      <th>0</th>\n",
       "      <td>1</td>\n",
       "      <td>Кира</td>\n",
       "      <td>22</td>\n",
       "      <td>Тюмень</td>\n",
       "      <td>ultra</td>\n",
       "      <td>4409.919140</td>\n",
       "      <td>25.599769</td>\n",
       "      <td>2021-01-01</td>\n",
       "      <td>1</td>\n",
       "      <td>4.410</td>\n",
       "      <td>6</td>\n",
       "      <td>0</td>\n",
       "      <td>199</td>\n",
       "    </tr>\n",
       "    <tr>\n",
       "      <th>1</th>\n",
       "      <td>1</td>\n",
       "      <td>Кира</td>\n",
       "      <td>22</td>\n",
       "      <td>Тюмень</td>\n",
       "      <td>ultra</td>\n",
       "      <td>2617.592153</td>\n",
       "      <td>15.816871</td>\n",
       "      <td>2021-01-18</td>\n",
       "      <td>1</td>\n",
       "      <td>2.618</td>\n",
       "      <td>6</td>\n",
       "      <td>0</td>\n",
       "      <td>199</td>\n",
       "    </tr>\n",
       "    <tr>\n",
       "      <th>2</th>\n",
       "      <td>1</td>\n",
       "      <td>Кира</td>\n",
       "      <td>22</td>\n",
       "      <td>Тюмень</td>\n",
       "      <td>ultra</td>\n",
       "      <td>754.159807</td>\n",
       "      <td>6.232113</td>\n",
       "      <td>2021-04-20</td>\n",
       "      <td>4</td>\n",
       "      <td>0.754</td>\n",
       "      <td>6</td>\n",
       "      <td>0</td>\n",
       "      <td>199</td>\n",
       "    </tr>\n",
       "  </tbody>\n",
       "</table>\n",
       "</div>"
      ],
      "text/plain": [
       "   user_id  name  age    city subscription_type     distance   duration  \\\n",
       "0        1  Кира   22  Тюмень             ultra  4409.919140  25.599769   \n",
       "1        1  Кира   22  Тюмень             ultra  2617.592153  15.816871   \n",
       "2        1  Кира   22  Тюмень             ultra   754.159807   6.232113   \n",
       "\n",
       "        date  month  distance_km  minute_price  start_ride_price  \\\n",
       "0 2021-01-01      1        4.410             6                 0   \n",
       "1 2021-01-18      1        2.618             6                 0   \n",
       "2 2021-04-20      4        0.754             6                 0   \n",
       "\n",
       "   subscription_fee  \n",
       "0               199  \n",
       "1               199  \n",
       "2               199  "
      ]
     },
     "execution_count": 27,
     "metadata": {},
     "output_type": "execute_result"
    }
   ],
   "source": [
    "data.head(3)"
   ]
  },
  {
   "cell_type": "code",
   "execution_count": 28,
   "id": "cb037209",
   "metadata": {},
   "outputs": [
    {
     "name": "stdout",
     "output_type": "stream",
     "text": [
      "<class 'pandas.core.frame.DataFrame'>\n",
      "RangeIndex: 1534 entries, 0 to 1533\n",
      "Data columns (total 5 columns):\n",
      " #   Column             Non-Null Count  Dtype \n",
      "---  ------             --------------  ----- \n",
      " 0   user_id            1534 non-null   int64 \n",
      " 1   name               1534 non-null   object\n",
      " 2   age                1534 non-null   int64 \n",
      " 3   city               1534 non-null   object\n",
      " 4   subscription_type  1534 non-null   object\n",
      "dtypes: int64(2), object(3)\n",
      "memory usage: 60.1+ KB\n"
     ]
    }
   ],
   "source": [
    "users_go_df.info()"
   ]
  },
  {
   "cell_type": "code",
   "execution_count": 29,
   "id": "c0de3658",
   "metadata": {},
   "outputs": [
    {
     "name": "stdout",
     "output_type": "stream",
     "text": [
      "<class 'pandas.core.frame.DataFrame'>\n",
      "RangeIndex: 18068 entries, 0 to 18067\n",
      "Data columns (total 6 columns):\n",
      " #   Column       Non-Null Count  Dtype         \n",
      "---  ------       --------------  -----         \n",
      " 0   user_id      18068 non-null  int64         \n",
      " 1   distance     18068 non-null  float64       \n",
      " 2   duration     18068 non-null  float64       \n",
      " 3   date         18068 non-null  datetime64[ns]\n",
      " 4   month        18068 non-null  int32         \n",
      " 5   distance_km  18068 non-null  float64       \n",
      "dtypes: datetime64[ns](1), float64(3), int32(1), int64(1)\n",
      "memory usage: 776.5 KB\n"
     ]
    }
   ],
   "source": [
    "rides_go_df.info()"
   ]
  },
  {
   "cell_type": "code",
   "execution_count": 30,
   "id": "63032329",
   "metadata": {},
   "outputs": [
    {
     "name": "stdout",
     "output_type": "stream",
     "text": [
      "<class 'pandas.core.frame.DataFrame'>\n",
      "RangeIndex: 18068 entries, 0 to 18067\n",
      "Data columns (total 13 columns):\n",
      " #   Column             Non-Null Count  Dtype         \n",
      "---  ------             --------------  -----         \n",
      " 0   user_id            18068 non-null  int64         \n",
      " 1   name               18068 non-null  object        \n",
      " 2   age                18068 non-null  int64         \n",
      " 3   city               18068 non-null  object        \n",
      " 4   subscription_type  18068 non-null  object        \n",
      " 5   distance           18068 non-null  float64       \n",
      " 6   duration           18068 non-null  float64       \n",
      " 7   date               18068 non-null  datetime64[ns]\n",
      " 8   month              18068 non-null  int32         \n",
      " 9   distance_km        18068 non-null  float64       \n",
      " 10  minute_price       18068 non-null  int64         \n",
      " 11  start_ride_price   18068 non-null  int64         \n",
      " 12  subscription_fee   18068 non-null  int64         \n",
      "dtypes: datetime64[ns](1), float64(3), int32(1), int64(5), object(3)\n",
      "memory usage: 1.7+ MB\n"
     ]
    }
   ],
   "source": [
    "data.info()"
   ]
  },
  {
   "cell_type": "markdown",
   "id": "1c9b21f6",
   "metadata": {},
   "source": [
    "До обьединения размер `users_go_df` = 1534 и `rides_go_df` = 18068 , `data` = 18068 , размеры сходятся, значит все было сделано верно"
   ]
  },
  {
   "cell_type": "markdown",
   "id": "6134a183",
   "metadata": {},
   "source": [
    "#### 4.2 Создим ещё два датафрейма из датафрейма, созданного на этапе 4.1:\n",
    "- с данными о пользователях без подписки; \n",
    "- с данными о пользователях с подпиской."
   ]
  },
  {
   "cell_type": "code",
   "execution_count": 31,
   "id": "68aa4e35",
   "metadata": {},
   "outputs": [],
   "source": [
    "data_free = data.query(\"subscription_type == 'free' \").reset_index(drop=True)"
   ]
  },
  {
   "cell_type": "code",
   "execution_count": 32,
   "id": "cd57ea20",
   "metadata": {},
   "outputs": [
    {
     "data": {
      "text/html": [
       "<div>\n",
       "<style scoped>\n",
       "    .dataframe tbody tr th:only-of-type {\n",
       "        vertical-align: middle;\n",
       "    }\n",
       "\n",
       "    .dataframe tbody tr th {\n",
       "        vertical-align: top;\n",
       "    }\n",
       "\n",
       "    .dataframe thead th {\n",
       "        text-align: right;\n",
       "    }\n",
       "</style>\n",
       "<table border=\"1\" class=\"dataframe\">\n",
       "  <thead>\n",
       "    <tr style=\"text-align: right;\">\n",
       "      <th></th>\n",
       "      <th>user_id</th>\n",
       "      <th>name</th>\n",
       "      <th>age</th>\n",
       "      <th>city</th>\n",
       "      <th>subscription_type</th>\n",
       "      <th>distance</th>\n",
       "      <th>duration</th>\n",
       "      <th>date</th>\n",
       "      <th>month</th>\n",
       "      <th>distance_km</th>\n",
       "      <th>minute_price</th>\n",
       "      <th>start_ride_price</th>\n",
       "      <th>subscription_fee</th>\n",
       "    </tr>\n",
       "  </thead>\n",
       "  <tbody>\n",
       "    <tr>\n",
       "      <th>0</th>\n",
       "      <td>700</td>\n",
       "      <td>Айдар</td>\n",
       "      <td>22</td>\n",
       "      <td>Омск</td>\n",
       "      <td>free</td>\n",
       "      <td>2515.690719</td>\n",
       "      <td>14.944286</td>\n",
       "      <td>2021-01-02</td>\n",
       "      <td>1</td>\n",
       "      <td>2.516</td>\n",
       "      <td>8</td>\n",
       "      <td>50</td>\n",
       "      <td>0</td>\n",
       "    </tr>\n",
       "    <tr>\n",
       "      <th>1</th>\n",
       "      <td>700</td>\n",
       "      <td>Айдар</td>\n",
       "      <td>22</td>\n",
       "      <td>Омск</td>\n",
       "      <td>free</td>\n",
       "      <td>846.932642</td>\n",
       "      <td>16.234663</td>\n",
       "      <td>2021-02-01</td>\n",
       "      <td>2</td>\n",
       "      <td>0.847</td>\n",
       "      <td>8</td>\n",
       "      <td>50</td>\n",
       "      <td>0</td>\n",
       "    </tr>\n",
       "    <tr>\n",
       "      <th>2</th>\n",
       "      <td>700</td>\n",
       "      <td>Айдар</td>\n",
       "      <td>22</td>\n",
       "      <td>Омск</td>\n",
       "      <td>free</td>\n",
       "      <td>4004.434142</td>\n",
       "      <td>20.016628</td>\n",
       "      <td>2021-02-04</td>\n",
       "      <td>2</td>\n",
       "      <td>4.004</td>\n",
       "      <td>8</td>\n",
       "      <td>50</td>\n",
       "      <td>0</td>\n",
       "    </tr>\n",
       "  </tbody>\n",
       "</table>\n",
       "</div>"
      ],
      "text/plain": [
       "   user_id   name  age  city subscription_type     distance   duration  \\\n",
       "0      700  Айдар   22  Омск              free  2515.690719  14.944286   \n",
       "1      700  Айдар   22  Омск              free   846.932642  16.234663   \n",
       "2      700  Айдар   22  Омск              free  4004.434142  20.016628   \n",
       "\n",
       "        date  month  distance_km  minute_price  start_ride_price  \\\n",
       "0 2021-01-02      1        2.516             8                50   \n",
       "1 2021-02-01      2        0.847             8                50   \n",
       "2 2021-02-04      2        4.004             8                50   \n",
       "\n",
       "   subscription_fee  \n",
       "0                 0  \n",
       "1                 0  \n",
       "2                 0  "
      ]
     },
     "execution_count": 32,
     "metadata": {},
     "output_type": "execute_result"
    }
   ],
   "source": [
    "data_free.head(3)"
   ]
  },
  {
   "cell_type": "code",
   "execution_count": 33,
   "id": "114d7424",
   "metadata": {},
   "outputs": [],
   "source": [
    "data_ultra = data.query(\"subscription_type == 'ultra' \").reset_index(drop=True)"
   ]
  },
  {
   "cell_type": "code",
   "execution_count": 34,
   "id": "627ff267",
   "metadata": {},
   "outputs": [
    {
     "data": {
      "text/html": [
       "<div>\n",
       "<style scoped>\n",
       "    .dataframe tbody tr th:only-of-type {\n",
       "        vertical-align: middle;\n",
       "    }\n",
       "\n",
       "    .dataframe tbody tr th {\n",
       "        vertical-align: top;\n",
       "    }\n",
       "\n",
       "    .dataframe thead th {\n",
       "        text-align: right;\n",
       "    }\n",
       "</style>\n",
       "<table border=\"1\" class=\"dataframe\">\n",
       "  <thead>\n",
       "    <tr style=\"text-align: right;\">\n",
       "      <th></th>\n",
       "      <th>user_id</th>\n",
       "      <th>name</th>\n",
       "      <th>age</th>\n",
       "      <th>city</th>\n",
       "      <th>subscription_type</th>\n",
       "      <th>distance</th>\n",
       "      <th>duration</th>\n",
       "      <th>date</th>\n",
       "      <th>month</th>\n",
       "      <th>distance_km</th>\n",
       "      <th>minute_price</th>\n",
       "      <th>start_ride_price</th>\n",
       "      <th>subscription_fee</th>\n",
       "    </tr>\n",
       "  </thead>\n",
       "  <tbody>\n",
       "    <tr>\n",
       "      <th>0</th>\n",
       "      <td>1</td>\n",
       "      <td>Кира</td>\n",
       "      <td>22</td>\n",
       "      <td>Тюмень</td>\n",
       "      <td>ultra</td>\n",
       "      <td>4409.919140</td>\n",
       "      <td>25.599769</td>\n",
       "      <td>2021-01-01</td>\n",
       "      <td>1</td>\n",
       "      <td>4.410</td>\n",
       "      <td>6</td>\n",
       "      <td>0</td>\n",
       "      <td>199</td>\n",
       "    </tr>\n",
       "    <tr>\n",
       "      <th>1</th>\n",
       "      <td>1</td>\n",
       "      <td>Кира</td>\n",
       "      <td>22</td>\n",
       "      <td>Тюмень</td>\n",
       "      <td>ultra</td>\n",
       "      <td>2617.592153</td>\n",
       "      <td>15.816871</td>\n",
       "      <td>2021-01-18</td>\n",
       "      <td>1</td>\n",
       "      <td>2.618</td>\n",
       "      <td>6</td>\n",
       "      <td>0</td>\n",
       "      <td>199</td>\n",
       "    </tr>\n",
       "    <tr>\n",
       "      <th>2</th>\n",
       "      <td>1</td>\n",
       "      <td>Кира</td>\n",
       "      <td>22</td>\n",
       "      <td>Тюмень</td>\n",
       "      <td>ultra</td>\n",
       "      <td>754.159807</td>\n",
       "      <td>6.232113</td>\n",
       "      <td>2021-04-20</td>\n",
       "      <td>4</td>\n",
       "      <td>0.754</td>\n",
       "      <td>6</td>\n",
       "      <td>0</td>\n",
       "      <td>199</td>\n",
       "    </tr>\n",
       "  </tbody>\n",
       "</table>\n",
       "</div>"
      ],
      "text/plain": [
       "   user_id  name  age    city subscription_type     distance   duration  \\\n",
       "0        1  Кира   22  Тюмень             ultra  4409.919140  25.599769   \n",
       "1        1  Кира   22  Тюмень             ultra  2617.592153  15.816871   \n",
       "2        1  Кира   22  Тюмень             ultra   754.159807   6.232113   \n",
       "\n",
       "        date  month  distance_km  minute_price  start_ride_price  \\\n",
       "0 2021-01-01      1        4.410             6                 0   \n",
       "1 2021-01-18      1        2.618             6                 0   \n",
       "2 2021-04-20      4        0.754             6                 0   \n",
       "\n",
       "   subscription_fee  \n",
       "0               199  \n",
       "1               199  \n",
       "2               199  "
      ]
     },
     "execution_count": 34,
     "metadata": {},
     "output_type": "execute_result"
    }
   ],
   "source": [
    "data_ultra.head(3)"
   ]
  },
  {
   "cell_type": "markdown",
   "id": "d38dd569",
   "metadata": {},
   "source": [
    "#### 4.3 Визуализируем информацию о расстоянии и времени поездок для пользователей обеих категорий."
   ]
  },
  {
   "cell_type": "code",
   "execution_count": 35,
   "id": "b7eb1529",
   "metadata": {},
   "outputs": [
    {
     "data": {
      "image/png": "[encoded data removed]",
      "text/plain": [
       "<Figure size 800x500 with 1 Axes>"
      ]
     },
     "metadata": {},
     "output_type": "display_data"
    }
   ],
   "source": [
    "city_counts = data_free['distance_km']\n",
    "city_counts.plot(kind='hist', figsize=(8, 5),bins = 20)\n",
    "plt.xticks(rotation=0)\n",
    "plt.xlabel('Расстояние (км)')\n",
    "plt.ylabel('Количество поездок')\n",
    "plt.title('Расстояние за поездку free')\n",
    "plt.show()"
   ]
  },
  {
   "cell_type": "markdown",
   "id": "a33e9d36",
   "metadata": {},
   "source": [
    "**Промежуточный вывод:** Большинство значений расстояния за одну поездку расположено от 2,4 до 3,8 км "
   ]
  },
  {
   "cell_type": "code",
   "execution_count": 36,
   "id": "699729ea",
   "metadata": {},
   "outputs": [
    {
     "data": {
      "image/png": "[encoded data removed]",
      "text/plain": [
       "<Figure size 800x500 with 1 Axes>"
      ]
     },
     "metadata": {},
     "output_type": "display_data"
    }
   ],
   "source": [
    "city_counts = data_free['duration']\n",
    "city_counts.plot(kind='hist', figsize=(8, 5),bins = 20)\n",
    "plt.xticks(rotation=0)\n",
    "plt.xlabel('Время (мин)')\n",
    "plt.ylabel('Количество поездок')\n",
    "plt.title('Продолжительность поездки free')\n",
    "plt.show()"
   ]
  },
  {
   "cell_type": "markdown",
   "id": "6685591e",
   "metadata": {},
   "source": [
    "**Промежуточный вывод:** Большинство значений продолжительности времени за одну поездку расположено от 15 до 23 мин. "
   ]
  },
  {
   "cell_type": "code",
   "execution_count": 37,
   "id": "e315e3ff",
   "metadata": {},
   "outputs": [
    {
     "data": {
      "image/png": "[encoded data removed]",
      "text/plain": [
       "<Figure size 800x500 with 1 Axes>"
      ]
     },
     "metadata": {},
     "output_type": "display_data"
    }
   ],
   "source": [
    "city_counts = data_ultra['distance_km']\n",
    "city_counts.plot(kind='hist', figsize=(8, 5),bins = 20)\n",
    "plt.xticks(rotation=0)\n",
    "plt.xlabel('Расстояние (км)')\n",
    "plt.ylabel('Количество поездок')\n",
    "plt.title('Расстояние за поездку ultra')\n",
    "plt.show()"
   ]
  },
  {
   "cell_type": "markdown",
   "id": "03b80939",
   "metadata": {},
   "source": [
    "**Промежуточный вывод:** Большинство значений расстояния за одну поездку расположено от 2,7 до 3,5 км, основной пик при 3 км. "
   ]
  },
  {
   "cell_type": "code",
   "execution_count": 38,
   "id": "7ccb6db0",
   "metadata": {},
   "outputs": [
    {
     "data": {
      "image/png": "[encoded data removed]",
      "text/plain": [
       "<Figure size 800x500 with 1 Axes>"
      ]
     },
     "metadata": {},
     "output_type": "display_data"
    }
   ],
   "source": [
    "city_counts = data_ultra['duration']\n",
    "city_counts.plot(kind='hist', figsize=(8, 5),bins = 20)\n",
    "plt.xticks(rotation=0)\n",
    "plt.xlabel('Время (мин)')\n",
    "plt.ylabel('Количество поездок')\n",
    "plt.title('Продолжительность поездки ultra')\n",
    "plt.show()"
   ]
  },
  {
   "cell_type": "markdown",
   "id": "a117889a",
   "metadata": {},
   "source": [
    "**Промежуточный вывод:** Большинство значений продолжительности времени за одну поездку расположено от 15 до 22 мин. Основной пик при 17 мин. "
   ]
  },
  {
   "cell_type": "markdown",
   "id": "402d620f",
   "metadata": {},
   "source": [
    "### Шаг 5. Подсчёт выручки"
   ]
  },
  {
   "cell_type": "markdown",
   "id": "088dc4e1",
   "metadata": {},
   "source": [
    "Проверим пропуски в сводных таблицах"
   ]
  },
  {
   "cell_type": "code",
   "execution_count": 39,
   "id": "1857994b",
   "metadata": {},
   "outputs": [
    {
     "data": {
      "text/plain": [
       "user_id              0\n",
       "name                 0\n",
       "age                  0\n",
       "city                 0\n",
       "subscription_type    0\n",
       "distance             0\n",
       "duration             0\n",
       "date                 0\n",
       "month                0\n",
       "distance_km          0\n",
       "minute_price         0\n",
       "start_ride_price     0\n",
       "subscription_fee     0\n",
       "dtype: int64"
      ]
     },
     "execution_count": 39,
     "metadata": {},
     "output_type": "execute_result"
    }
   ],
   "source": [
    "data.isna().sum()"
   ]
  },
  {
   "cell_type": "markdown",
   "id": "d9d5c0b8",
   "metadata": {},
   "source": [
    "**Промежуточный вывод:** Пропуски в данных отсутсвуют."
   ]
  },
  {
   "cell_type": "markdown",
   "id": "0179d98b",
   "metadata": {},
   "source": [
    "#### 5.1 Создайте датафрейм с агрегированными данными о поездках на основе датафрейма с объединёнными данными из шага 4: \n",
    "- найдите суммарное расстояние, \n",
    "- количество поездок и суммарное время для каждого пользователя за каждый месяц.\n"
   ]
  },
  {
   "cell_type": "markdown",
   "id": "e4fa8c3c",
   "metadata": {},
   "source": [
    "**Без подписки**"
   ]
  },
  {
   "cell_type": "code",
   "execution_count": 40,
   "id": "804b68bf",
   "metadata": {},
   "outputs": [
    {
     "data": {
      "text/html": [
       "<div>\n",
       "<style scoped>\n",
       "    .dataframe tbody tr th:only-of-type {\n",
       "        vertical-align: middle;\n",
       "    }\n",
       "\n",
       "    .dataframe tbody tr th {\n",
       "        vertical-align: top;\n",
       "    }\n",
       "\n",
       "    .dataframe thead th {\n",
       "        text-align: right;\n",
       "    }\n",
       "</style>\n",
       "<table border=\"1\" class=\"dataframe\">\n",
       "  <thead>\n",
       "    <tr style=\"text-align: right;\">\n",
       "      <th></th>\n",
       "      <th>user_id</th>\n",
       "      <th>month</th>\n",
       "      <th>total_distance</th>\n",
       "      <th>number_of_rides</th>\n",
       "      <th>total_duration</th>\n",
       "    </tr>\n",
       "  </thead>\n",
       "  <tbody>\n",
       "    <tr>\n",
       "      <th>0</th>\n",
       "      <td>700</td>\n",
       "      <td>1</td>\n",
       "      <td>2.516</td>\n",
       "      <td>1</td>\n",
       "      <td>15</td>\n",
       "    </tr>\n",
       "    <tr>\n",
       "      <th>1</th>\n",
       "      <td>700</td>\n",
       "      <td>2</td>\n",
       "      <td>13.446</td>\n",
       "      <td>5</td>\n",
       "      <td>86</td>\n",
       "    </tr>\n",
       "    <tr>\n",
       "      <th>2</th>\n",
       "      <td>700</td>\n",
       "      <td>3</td>\n",
       "      <td>3.798</td>\n",
       "      <td>1</td>\n",
       "      <td>19</td>\n",
       "    </tr>\n",
       "    <tr>\n",
       "      <th>3</th>\n",
       "      <td>700</td>\n",
       "      <td>4</td>\n",
       "      <td>2.985</td>\n",
       "      <td>1</td>\n",
       "      <td>16</td>\n",
       "    </tr>\n",
       "    <tr>\n",
       "      <th>4</th>\n",
       "      <td>700</td>\n",
       "      <td>6</td>\n",
       "      <td>5.928</td>\n",
       "      <td>2</td>\n",
       "      <td>29</td>\n",
       "    </tr>\n",
       "    <tr>\n",
       "      <th>5</th>\n",
       "      <td>700</td>\n",
       "      <td>7</td>\n",
       "      <td>4.399</td>\n",
       "      <td>2</td>\n",
       "      <td>21</td>\n",
       "    </tr>\n",
       "    <tr>\n",
       "      <th>6</th>\n",
       "      <td>700</td>\n",
       "      <td>8</td>\n",
       "      <td>4.072</td>\n",
       "      <td>1</td>\n",
       "      <td>17</td>\n",
       "    </tr>\n",
       "    <tr>\n",
       "      <th>7</th>\n",
       "      <td>700</td>\n",
       "      <td>10</td>\n",
       "      <td>6.322</td>\n",
       "      <td>2</td>\n",
       "      <td>43</td>\n",
       "    </tr>\n",
       "    <tr>\n",
       "      <th>8</th>\n",
       "      <td>700</td>\n",
       "      <td>11</td>\n",
       "      <td>8.736</td>\n",
       "      <td>3</td>\n",
       "      <td>32</td>\n",
       "    </tr>\n",
       "    <tr>\n",
       "      <th>9</th>\n",
       "      <td>701</td>\n",
       "      <td>1</td>\n",
       "      <td>2.676</td>\n",
       "      <td>1</td>\n",
       "      <td>18</td>\n",
       "    </tr>\n",
       "  </tbody>\n",
       "</table>\n",
       "</div>"
      ],
      "text/plain": [
       "   user_id  month  total_distance  number_of_rides  total_duration\n",
       "0      700      1           2.516                1              15\n",
       "1      700      2          13.446                5              86\n",
       "2      700      3           3.798                1              19\n",
       "3      700      4           2.985                1              16\n",
       "4      700      6           5.928                2              29\n",
       "5      700      7           4.399                2              21\n",
       "6      700      8           4.072                1              17\n",
       "7      700     10           6.322                2              43\n",
       "8      700     11           8.736                3              32\n",
       "9      701      1           2.676                1              18"
      ]
     },
     "execution_count": 40,
     "metadata": {},
     "output_type": "execute_result"
    }
   ],
   "source": [
    "aggregate_data_free = data_free.groupby(['user_id', 'month']).agg(\n",
    "    total_distance=('distance_km', 'sum'),  # Суммарное расстояние в километрах\n",
    "    number_of_rides=('distance_km', 'count'),  # Количество поездок\n",
    "    total_duration=('duration', 'sum')  # Суммарное время в минутах\n",
    ").reset_index()\n",
    "aggregate_data_free['total_duration'] = np.ceil(aggregate_data_free['total_duration']).astype(int)\n",
    "aggregate_data_free.head(10)"
   ]
  },
  {
   "cell_type": "code",
   "execution_count": 41,
   "id": "472d4eee",
   "metadata": {
    "scrolled": true
   },
   "outputs": [
    {
     "data": {
      "text/plain": [
       "user_id            0\n",
       "month              0\n",
       "total_distance     0\n",
       "number_of_rides    0\n",
       "total_duration     0\n",
       "dtype: int64"
      ]
     },
     "execution_count": 41,
     "metadata": {},
     "output_type": "execute_result"
    }
   ],
   "source": [
    "aggregate_data_free.isna().sum()"
   ]
  },
  {
   "cell_type": "markdown",
   "id": "f0658d55",
   "metadata": {},
   "source": [
    "**С подпиской**"
   ]
  },
  {
   "cell_type": "code",
   "execution_count": 42,
   "id": "8dffd58e",
   "metadata": {},
   "outputs": [
    {
     "data": {
      "text/html": [
       "<div>\n",
       "<style scoped>\n",
       "    .dataframe tbody tr th:only-of-type {\n",
       "        vertical-align: middle;\n",
       "    }\n",
       "\n",
       "    .dataframe tbody tr th {\n",
       "        vertical-align: top;\n",
       "    }\n",
       "\n",
       "    .dataframe thead th {\n",
       "        text-align: right;\n",
       "    }\n",
       "</style>\n",
       "<table border=\"1\" class=\"dataframe\">\n",
       "  <thead>\n",
       "    <tr style=\"text-align: right;\">\n",
       "      <th></th>\n",
       "      <th>user_id</th>\n",
       "      <th>month</th>\n",
       "      <th>total_distance</th>\n",
       "      <th>number_of_rides</th>\n",
       "      <th>total_duration</th>\n",
       "    </tr>\n",
       "  </thead>\n",
       "  <tbody>\n",
       "    <tr>\n",
       "      <th>0</th>\n",
       "      <td>1</td>\n",
       "      <td>1</td>\n",
       "      <td>7.028</td>\n",
       "      <td>2</td>\n",
       "      <td>42</td>\n",
       "    </tr>\n",
       "    <tr>\n",
       "      <th>1</th>\n",
       "      <td>1</td>\n",
       "      <td>4</td>\n",
       "      <td>0.754</td>\n",
       "      <td>1</td>\n",
       "      <td>7</td>\n",
       "    </tr>\n",
       "    <tr>\n",
       "      <th>2</th>\n",
       "      <td>1</td>\n",
       "      <td>8</td>\n",
       "      <td>6.724</td>\n",
       "      <td>2</td>\n",
       "      <td>45</td>\n",
       "    </tr>\n",
       "    <tr>\n",
       "      <th>3</th>\n",
       "      <td>1</td>\n",
       "      <td>10</td>\n",
       "      <td>5.810</td>\n",
       "      <td>2</td>\n",
       "      <td>32</td>\n",
       "    </tr>\n",
       "    <tr>\n",
       "      <th>4</th>\n",
       "      <td>1</td>\n",
       "      <td>11</td>\n",
       "      <td>7.004</td>\n",
       "      <td>3</td>\n",
       "      <td>54</td>\n",
       "    </tr>\n",
       "    <tr>\n",
       "      <th>5</th>\n",
       "      <td>1</td>\n",
       "      <td>12</td>\n",
       "      <td>6.752</td>\n",
       "      <td>2</td>\n",
       "      <td>28</td>\n",
       "    </tr>\n",
       "    <tr>\n",
       "      <th>6</th>\n",
       "      <td>2</td>\n",
       "      <td>3</td>\n",
       "      <td>10.188</td>\n",
       "      <td>3</td>\n",
       "      <td>61</td>\n",
       "    </tr>\n",
       "    <tr>\n",
       "      <th>7</th>\n",
       "      <td>2</td>\n",
       "      <td>4</td>\n",
       "      <td>6.165</td>\n",
       "      <td>2</td>\n",
       "      <td>40</td>\n",
       "    </tr>\n",
       "    <tr>\n",
       "      <th>8</th>\n",
       "      <td>2</td>\n",
       "      <td>6</td>\n",
       "      <td>3.255</td>\n",
       "      <td>1</td>\n",
       "      <td>14</td>\n",
       "    </tr>\n",
       "    <tr>\n",
       "      <th>9</th>\n",
       "      <td>2</td>\n",
       "      <td>7</td>\n",
       "      <td>6.781</td>\n",
       "      <td>2</td>\n",
       "      <td>47</td>\n",
       "    </tr>\n",
       "  </tbody>\n",
       "</table>\n",
       "</div>"
      ],
      "text/plain": [
       "   user_id  month  total_distance  number_of_rides  total_duration\n",
       "0        1      1           7.028                2              42\n",
       "1        1      4           0.754                1               7\n",
       "2        1      8           6.724                2              45\n",
       "3        1     10           5.810                2              32\n",
       "4        1     11           7.004                3              54\n",
       "5        1     12           6.752                2              28\n",
       "6        2      3          10.188                3              61\n",
       "7        2      4           6.165                2              40\n",
       "8        2      6           3.255                1              14\n",
       "9        2      7           6.781                2              47"
      ]
     },
     "execution_count": 42,
     "metadata": {},
     "output_type": "execute_result"
    }
   ],
   "source": [
    "aggregate_data_ultra = data_ultra.groupby(['user_id', 'month']).agg(\n",
    "    total_distance=('distance_km', 'sum'),  # Суммарное расстояние в километрах\n",
    "    number_of_rides=('distance_km', 'count'),  # Количество поездок\n",
    "    total_duration=('duration', 'sum')  # Суммарное время в минутах\n",
    ").reset_index()\n",
    "aggregate_data_ultra['total_duration'] = np.ceil(aggregate_data_ultra['total_duration']).astype(int)\n",
    "aggregate_data_ultra.head(10)"
   ]
  },
  {
   "cell_type": "code",
   "execution_count": 43,
   "id": "f8689bb7",
   "metadata": {},
   "outputs": [
    {
     "data": {
      "text/plain": [
       "user_id            0\n",
       "month              0\n",
       "total_distance     0\n",
       "number_of_rides    0\n",
       "total_duration     0\n",
       "dtype: int64"
      ]
     },
     "execution_count": 43,
     "metadata": {},
     "output_type": "execute_result"
    }
   ],
   "source": [
    "aggregate_data_ultra.isna().sum()"
   ]
  },
  {
   "cell_type": "markdown",
   "id": "112ae0ea",
   "metadata": {},
   "source": [
    "#### 5.2 В этот же датафрейм добавим столбец с помесячной выручкой, которую принёс каждый пользователь. Для этого обратимся к информации об условиях оплаты для подписчиков и тех, у кого нет подписки. Продолжительность каждой поездки в каждой строке исходного датафрейма для подсчёта стоимости округляется до следующего целого числа: например, значения 25.3, 25.5 25.5 и 26.0"
   ]
  },
  {
   "cell_type": "code",
   "execution_count": 44,
   "id": "c525b6fe",
   "metadata": {},
   "outputs": [],
   "source": [
    "aggregate_data_free['profit'] =(8 * aggregate_data_free['total_duration']) + (aggregate_data_free['number_of_rides'] * 50)"
   ]
  },
  {
   "cell_type": "code",
   "execution_count": 45,
   "id": "bbd493aa",
   "metadata": {},
   "outputs": [],
   "source": [
    "aggregate_data_ultra['profit'] = (6 * aggregate_data_ultra['total_duration']) + data['subscription_fee']"
   ]
  },
  {
   "cell_type": "code",
   "execution_count": 46,
   "id": "0c918f9e",
   "metadata": {},
   "outputs": [
    {
     "data": {
      "text/html": [
       "<div>\n",
       "<style scoped>\n",
       "    .dataframe tbody tr th:only-of-type {\n",
       "        vertical-align: middle;\n",
       "    }\n",
       "\n",
       "    .dataframe tbody tr th {\n",
       "        vertical-align: top;\n",
       "    }\n",
       "\n",
       "    .dataframe thead th {\n",
       "        text-align: right;\n",
       "    }\n",
       "</style>\n",
       "<table border=\"1\" class=\"dataframe\">\n",
       "  <thead>\n",
       "    <tr style=\"text-align: right;\">\n",
       "      <th></th>\n",
       "      <th>user_id</th>\n",
       "      <th>month</th>\n",
       "      <th>total_distance</th>\n",
       "      <th>number_of_rides</th>\n",
       "      <th>total_duration</th>\n",
       "      <th>profit</th>\n",
       "    </tr>\n",
       "  </thead>\n",
       "  <tbody>\n",
       "    <tr>\n",
       "      <th>0</th>\n",
       "      <td>700</td>\n",
       "      <td>1</td>\n",
       "      <td>2.516</td>\n",
       "      <td>1</td>\n",
       "      <td>15</td>\n",
       "      <td>170</td>\n",
       "    </tr>\n",
       "    <tr>\n",
       "      <th>1</th>\n",
       "      <td>700</td>\n",
       "      <td>2</td>\n",
       "      <td>13.446</td>\n",
       "      <td>5</td>\n",
       "      <td>86</td>\n",
       "      <td>938</td>\n",
       "    </tr>\n",
       "    <tr>\n",
       "      <th>2</th>\n",
       "      <td>700</td>\n",
       "      <td>3</td>\n",
       "      <td>3.798</td>\n",
       "      <td>1</td>\n",
       "      <td>19</td>\n",
       "      <td>202</td>\n",
       "    </tr>\n",
       "  </tbody>\n",
       "</table>\n",
       "</div>"
      ],
      "text/plain": [
       "   user_id  month  total_distance  number_of_rides  total_duration  profit\n",
       "0      700      1           2.516                1              15     170\n",
       "1      700      2          13.446                5              86     938\n",
       "2      700      3           3.798                1              19     202"
      ]
     },
     "execution_count": 46,
     "metadata": {},
     "output_type": "execute_result"
    }
   ],
   "source": [
    "aggregate_data_free.head(3)"
   ]
  },
  {
   "cell_type": "code",
   "execution_count": 47,
   "id": "da4c28ab",
   "metadata": {},
   "outputs": [
    {
     "data": {
      "text/html": [
       "<div>\n",
       "<style scoped>\n",
       "    .dataframe tbody tr th:only-of-type {\n",
       "        vertical-align: middle;\n",
       "    }\n",
       "\n",
       "    .dataframe tbody tr th {\n",
       "        vertical-align: top;\n",
       "    }\n",
       "\n",
       "    .dataframe thead th {\n",
       "        text-align: right;\n",
       "    }\n",
       "</style>\n",
       "<table border=\"1\" class=\"dataframe\">\n",
       "  <thead>\n",
       "    <tr style=\"text-align: right;\">\n",
       "      <th></th>\n",
       "      <th>user_id</th>\n",
       "      <th>month</th>\n",
       "      <th>total_distance</th>\n",
       "      <th>number_of_rides</th>\n",
       "      <th>total_duration</th>\n",
       "      <th>profit</th>\n",
       "    </tr>\n",
       "  </thead>\n",
       "  <tbody>\n",
       "    <tr>\n",
       "      <th>0</th>\n",
       "      <td>1</td>\n",
       "      <td>1</td>\n",
       "      <td>7.028</td>\n",
       "      <td>2</td>\n",
       "      <td>42</td>\n",
       "      <td>451.0</td>\n",
       "    </tr>\n",
       "    <tr>\n",
       "      <th>1</th>\n",
       "      <td>1</td>\n",
       "      <td>4</td>\n",
       "      <td>0.754</td>\n",
       "      <td>1</td>\n",
       "      <td>7</td>\n",
       "      <td>241.0</td>\n",
       "    </tr>\n",
       "    <tr>\n",
       "      <th>2</th>\n",
       "      <td>1</td>\n",
       "      <td>8</td>\n",
       "      <td>6.724</td>\n",
       "      <td>2</td>\n",
       "      <td>45</td>\n",
       "      <td>469.0</td>\n",
       "    </tr>\n",
       "  </tbody>\n",
       "</table>\n",
       "</div>"
      ],
      "text/plain": [
       "   user_id  month  total_distance  number_of_rides  total_duration  profit\n",
       "0        1      1           7.028                2              42   451.0\n",
       "1        1      4           0.754                1               7   241.0\n",
       "2        1      8           6.724                2              45   469.0"
      ]
     },
     "execution_count": 47,
     "metadata": {},
     "output_type": "execute_result"
    }
   ],
   "source": [
    "aggregate_data_ultra.head(3)"
   ]
  },
  {
   "cell_type": "code",
   "execution_count": 48,
   "id": "07dc90c2",
   "metadata": {},
   "outputs": [
    {
     "data": {
      "text/html": [
       "<div>\n",
       "<style scoped>\n",
       "    .dataframe tbody tr th:only-of-type {\n",
       "        vertical-align: middle;\n",
       "    }\n",
       "\n",
       "    .dataframe tbody tr th {\n",
       "        vertical-align: top;\n",
       "    }\n",
       "\n",
       "    .dataframe thead th {\n",
       "        text-align: right;\n",
       "    }\n",
       "</style>\n",
       "<table border=\"1\" class=\"dataframe\">\n",
       "  <thead>\n",
       "    <tr style=\"text-align: right;\">\n",
       "      <th></th>\n",
       "      <th>user_id</th>\n",
       "      <th>month</th>\n",
       "      <th>total_distance</th>\n",
       "      <th>number_of_rides</th>\n",
       "      <th>total_duration</th>\n",
       "      <th>profit</th>\n",
       "    </tr>\n",
       "  </thead>\n",
       "  <tbody>\n",
       "    <tr>\n",
       "      <th>0</th>\n",
       "      <td>700</td>\n",
       "      <td>1</td>\n",
       "      <td>2.516</td>\n",
       "      <td>1</td>\n",
       "      <td>15</td>\n",
       "      <td>170</td>\n",
       "    </tr>\n",
       "    <tr>\n",
       "      <th>1</th>\n",
       "      <td>700</td>\n",
       "      <td>2</td>\n",
       "      <td>13.446</td>\n",
       "      <td>5</td>\n",
       "      <td>86</td>\n",
       "      <td>938</td>\n",
       "    </tr>\n",
       "    <tr>\n",
       "      <th>2</th>\n",
       "      <td>700</td>\n",
       "      <td>3</td>\n",
       "      <td>3.798</td>\n",
       "      <td>1</td>\n",
       "      <td>19</td>\n",
       "      <td>202</td>\n",
       "    </tr>\n",
       "    <tr>\n",
       "      <th>3</th>\n",
       "      <td>700</td>\n",
       "      <td>4</td>\n",
       "      <td>2.985</td>\n",
       "      <td>1</td>\n",
       "      <td>16</td>\n",
       "      <td>178</td>\n",
       "    </tr>\n",
       "    <tr>\n",
       "      <th>4</th>\n",
       "      <td>700</td>\n",
       "      <td>6</td>\n",
       "      <td>5.928</td>\n",
       "      <td>2</td>\n",
       "      <td>29</td>\n",
       "      <td>332</td>\n",
       "    </tr>\n",
       "    <tr>\n",
       "      <th>...</th>\n",
       "      <td>...</td>\n",
       "      <td>...</td>\n",
       "      <td>...</td>\n",
       "      <td>...</td>\n",
       "      <td>...</td>\n",
       "      <td>...</td>\n",
       "    </tr>\n",
       "    <tr>\n",
       "      <th>6793</th>\n",
       "      <td>1534</td>\n",
       "      <td>6</td>\n",
       "      <td>3.409</td>\n",
       "      <td>2</td>\n",
       "      <td>25</td>\n",
       "      <td>300</td>\n",
       "    </tr>\n",
       "    <tr>\n",
       "      <th>6794</th>\n",
       "      <td>1534</td>\n",
       "      <td>8</td>\n",
       "      <td>7.623</td>\n",
       "      <td>2</td>\n",
       "      <td>48</td>\n",
       "      <td>484</td>\n",
       "    </tr>\n",
       "    <tr>\n",
       "      <th>6795</th>\n",
       "      <td>1534</td>\n",
       "      <td>9</td>\n",
       "      <td>4.928</td>\n",
       "      <td>1</td>\n",
       "      <td>23</td>\n",
       "      <td>234</td>\n",
       "    </tr>\n",
       "    <tr>\n",
       "      <th>6796</th>\n",
       "      <td>1534</td>\n",
       "      <td>11</td>\n",
       "      <td>13.349</td>\n",
       "      <td>4</td>\n",
       "      <td>77</td>\n",
       "      <td>816</td>\n",
       "    </tr>\n",
       "    <tr>\n",
       "      <th>6797</th>\n",
       "      <td>1534</td>\n",
       "      <td>12</td>\n",
       "      <td>2.372</td>\n",
       "      <td>1</td>\n",
       "      <td>16</td>\n",
       "      <td>178</td>\n",
       "    </tr>\n",
       "  </tbody>\n",
       "</table>\n",
       "<p>6798 rows × 6 columns</p>\n",
       "</div>"
      ],
      "text/plain": [
       "      user_id  month  total_distance  number_of_rides  total_duration  profit\n",
       "0         700      1           2.516                1              15     170\n",
       "1         700      2          13.446                5              86     938\n",
       "2         700      3           3.798                1              19     202\n",
       "3         700      4           2.985                1              16     178\n",
       "4         700      6           5.928                2              29     332\n",
       "...       ...    ...             ...              ...             ...     ...\n",
       "6793     1534      6           3.409                2              25     300\n",
       "6794     1534      8           7.623                2              48     484\n",
       "6795     1534      9           4.928                1              23     234\n",
       "6796     1534     11          13.349                4              77     816\n",
       "6797     1534     12           2.372                1              16     178\n",
       "\n",
       "[6798 rows x 6 columns]"
      ]
     },
     "execution_count": 48,
     "metadata": {},
     "output_type": "execute_result"
    }
   ],
   "source": [
    "aggregate_data_free"
   ]
  },
  {
   "cell_type": "markdown",
   "id": "41545ac0",
   "metadata": {},
   "source": [
    "### Шаг 6. Проверка гипотез"
   ]
  },
  {
   "cell_type": "markdown",
   "id": "4d42fe9b",
   "metadata": {},
   "source": [
    "#### 6.1 Важно понять, тратят ли пользователи с подпиской больше времени на поездки? Если да, то пользователи с подпиской могут быть «выгоднее» для компании. Проверим гипотезу. Используя исходные данные о продолжительности каждой сессии — отдельно для подписчиков и тех, у кого нет подписки."
   ]
  },
  {
   "cell_type": "markdown",
   "id": "b132ecf3",
   "metadata": {},
   "source": [
    "**Нулевая гипотеза:** Средняя продолжительность поездок пользователей с подпиской равна средней продолжительности поездок пользователей без подписки. Это означает, что подписка не влияет на продолжительность поездок."
   ]
  },
  {
   "cell_type": "markdown",
   "id": "ffac2a8c",
   "metadata": {},
   "source": [
    "**Алтернативная гипотеза**: Средняя продолжительность поездок пользователей с подпиской больше, чем средняя продолжительность поездок пользователей без подписки. Это означает, что подписка положительно влияет на продолжительность поездок."
   ]
  },
  {
   "cell_type": "markdown",
   "id": "7ca777b5",
   "metadata": {},
   "source": [
    "Извлечение данных о продолжительности поездок для каждой группы"
   ]
  },
  {
   "cell_type": "code",
   "execution_count": 49,
   "id": "04d09ee3",
   "metadata": {},
   "outputs": [],
   "source": [
    "ultra_durations = data_ultra['duration']\n",
    "free_durations = data_free['duration']"
   ]
  },
  {
   "cell_type": "code",
   "execution_count": 50,
   "id": "0cdebe7a",
   "metadata": {},
   "outputs": [
    {
     "name": "stdout",
     "output_type": "stream",
     "text": [
      "p-value: 1.2804098316645618e-34\n",
      "Отвергаем нулевую гипотезу\n"
     ]
    }
   ],
   "source": [
    "alpha = 0.05\n",
    "results = st.ttest_ind(ultra_durations, free_durations, alternative='greater')\n",
    "\n",
    "print(f'p-value: {results.pvalue}')\n",
    "\n",
    "# проверяем p-value\n",
    "if results.pvalue < alpha:\n",
    "    print('Отвергаем нулевую гипотезу')\n",
    "else:\n",
    "    print('Нет оснований отвергнуть нулевую гипотезу')"
   ]
  },
  {
   "cell_type": "markdown",
   "id": "b5838a29",
   "metadata": {},
   "source": [
    "**Промежуточный вывод:** Есть основания говорить, что пользователи с подпиской тратят больше времени на поездки. Возможно это связно с тем, что люди понимают, что с подпиской использование самокатов будет дешевле для них."
   ]
  },
  {
   "cell_type": "markdown",
   "id": "a4385674",
   "metadata": {},
   "source": [
    "#### 6.2 Расстояние одной поездки в 3130 метров — оптимальное с точки зрения износа самоката. Можно ли сказать, что среднее расстояние, которое проезжают пользователи с подпиской за одну поездку, не превышает 3130 метров? Проверьте гипотезу и сделайте выводы."
   ]
  },
  {
   "cell_type": "markdown",
   "id": "9000921e",
   "metadata": {},
   "source": [
    "**Нулевая гипотеза:** Среднее расстояние, которое проезжают пользователи с подпиской за одну поездку, равно 3130 метрам или меньше. Это предполагает, что износ самокатов находится в приемлемых пределах."
   ]
  },
  {
   "cell_type": "markdown",
   "id": "64c7adbc",
   "metadata": {},
   "source": [
    "**Альтернативная гипотеза:** Среднее расстояние, которое проезжают пользователи с подпиской за одну поездку, больше 3130 метров. Это означает, что расстояния, которые проезжают пользователи, могут привести к повышенному износу самокатов."
   ]
  },
  {
   "cell_type": "code",
   "execution_count": 51,
   "id": "01b71a9b",
   "metadata": {},
   "outputs": [],
   "source": [
    "ultra_durations = data_ultra['distance']"
   ]
  },
  {
   "cell_type": "code",
   "execution_count": 52,
   "id": "0f9c2dcf",
   "metadata": {},
   "outputs": [
    {
     "name": "stdout",
     "output_type": "stream",
     "text": [
      "p-value: 0.9195368847849785\n",
      "Нет оснований отвергнуть нулевую гипотезу\n"
     ]
    }
   ],
   "source": [
    "alpha = 0.05\n",
    "#results = st.ttest_1samp(ultra_durations, 3130)\n",
    "results = st.ttest_1samp(ultra_durations, 3130, alternative='greater')\n",
    "\n",
    "print(f'p-value: {results.pvalue}')\n",
    "\n",
    "# проверяем p-value\n",
    "if results.pvalue < alpha:\n",
    "    print('Отвергаем нулевую гипотезу')\n",
    "else:\n",
    "    print('Нет оснований отвергнуть нулевую гипотезу')"
   ]
  },
  {
   "cell_type": "markdown",
   "id": "a809dc85",
   "metadata": {},
   "source": [
    "**Промежуточный вывод:** Данные дают достаточное основание не отвергать нулевую гипотезу для выбранного уровня значимости. Значит, можно сделать вывод, что среднее расстояние, которое проезжают пользователи с подпиской за одну поездку, не превышает 3130 метров."
   ]
  },
  {
   "cell_type": "markdown",
   "id": "5d28c6e3",
   "metadata": {},
   "source": [
    "#### 6.3 Проверьте гипотезу о том, будет ли помесячная выручка от пользователей с подпиской по месяцам выше, чем выручка от пользователей без подписки. Сделайте вывод."
   ]
  },
  {
   "cell_type": "markdown",
   "id": "c12e466d",
   "metadata": {},
   "source": [
    "**Нулевая гипотеза**: Средняя помесячная выручка от пользователей с подпиской равна или меньше выручки от пользователей без подписки.\n"
   ]
  },
  {
   "cell_type": "markdown",
   "id": "7705ed69",
   "metadata": {},
   "source": [
    "**Альтернативная гипотеза:** Средняя помесячная выручка от пользователей с подпиской выше, чем выручка от пользователей без подписки."
   ]
  },
  {
   "cell_type": "code",
   "execution_count": 53,
   "id": "63ed4cdc",
   "metadata": {},
   "outputs": [],
   "source": [
    "monthly_revenue_ultra = aggregate_data_ultra['profit']\n",
    "monthly_revenue_free = aggregate_data_free['profit']"
   ]
  },
  {
   "cell_type": "code",
   "execution_count": 54,
   "id": "39086024",
   "metadata": {},
   "outputs": [
    {
     "name": "stdout",
     "output_type": "stream",
     "text": [
      "t-статистика: 14.04341703675686\n",
      "p-value: 1.0718729651261336e-44\n",
      "Отвергаем нулевую гипотезу\n"
     ]
    }
   ],
   "source": [
    "alpha = 0.05\n",
    "t_statistic, p_value = st.ttest_ind(monthly_revenue_ultra, monthly_revenue_free, equal_var=False, alternative='greater')\n",
    "\n",
    "# Выводим результаты\n",
    "print(f't-статистика: {t_statistic}')\n",
    "print(f'p-value: {p_value}')\n",
    "\n",
    "# Проверяем p-value\n",
    "if p_value < alpha:\n",
    "    print('Отвергаем нулевую гипотезу')\n",
    "else:\n",
    "    print('Нет оснований отвергнуть нулевую гипотезу')"
   ]
  },
  {
   "cell_type": "markdown",
   "id": "a660c891",
   "metadata": {},
   "source": [
    "**Промежуточный вывод:** Отвергнуть нулевую гипотезу означает, что существуют статистически значимые доказательства того, что средняя помесячная выручка от пользователей с подпиской выше, чем выручка от пользователей без подписки. Это указывает на то, что пользователи с подпиской приносит компании больше дохода по сравнению с моделью без подписки."
   ]
  },
  {
   "cell_type": "markdown",
   "id": "5970be97",
   "metadata": {},
   "source": [
    "#### 6.4 Представьте такую ситуацию: техническая команда сервиса обновила сервера, с которыми взаимодействует мобильное приложение. Она надеется, что из-за этого количество обращений в техподдержку значимо снизилось. Некоторый файл содержит для каждого пользователя данные о количестве обращений до обновления и после него. Какой тест вам понадобился бы для проверки этой гипотезы?"
   ]
  },
  {
   "cell_type": "markdown",
   "id": "e697f5b1",
   "metadata": {},
   "source": [
    "Чтобы проверить гипотезу о равенстве среднего генеральной совокупности для зависимых (парных) выборок в Python, можно применить метод scipy.stats.ttest_rel().\n",
    "Ему достаточно передать всего два параметра: наборы данных до и после. Оба набора должны быть одинаковыми по размеру: каждое измерение должно быть проведено до и после изменения.\n",
    "\n",
    "Пример формулировки гипотез:\n",
    "\n",
    "- **Нулевая гипотеза:** Среднее количество обращений в техподдержку до обновления равно среднему количеству обращений после обновления. То есть, обновление не оказало статистически значимого влияния на количество обращений в техподдержку.\n",
    "- **Альтернативная гипотеза:** Среднее количество обращений в техподдержку после обновления меньше, чем до обновления. Это указывало бы на то, что обновление серверов положительно сказалось на работе приложения."
   ]
  },
  {
   "cell_type": "markdown",
   "id": "4a520d2c",
   "metadata": {},
   "source": [
    "### Общий вывод"
   ]
  },
  {
   "cell_type": "markdown",
   "id": "46a567b4",
   "metadata": {},
   "source": [
    "**Анализ данных**\n",
    "\n",
    "- Исследование распределения городов показало, что Пятигорск является самым часто встречающимся городом среди пользователей, в то время как Москва встречается реже. Это может быть связано с большей конкуренцией в крупных городах.\n",
    "- Распределение типов подписок показало, что 54.4% пользователей используют сервис без подписки, а 45.6% имеют подписку.\n",
    "- Возрастные предпочтения указывают на то, что основная аудитория сервиса — молодые люди в возрасте от 22 до 28 лет, что делает их основной целевой группой для маркетинговых кампаний.\n",
    "- Анализ поездок показал, что большинство поездок приходится на расстояние от 2.4 до 3.8 км и продолжительность от 15 до 23 минут. Это указывает на типичные короткие поездки, которые могут быть связаны с ежедневными поездками на работу или учёбу.\n",
    "\n",
    "**Объединение данных и дополнительные расчёты**\n",
    "\n",
    "- Объединение данных о пользователях, поездках и подписках позволило провести комплексный анализ и сгенерировать дополнительные метрики, такие как суммарное расстояние, количество поездок и общее время поездок за месяц для каждого пользователя.\n",
    "- Расчёт выручки показал, как финансовые показатели различаются между пользователями с подпиской и без. Выручка от пользователей с подпиской оказалась значимо выше, что подтверждает эффективность подписочной модели для увеличения доходов компании.\n",
    "\n",
    "**Проверка гипотез**\n",
    "\n",
    "- Гипотеза о времени поездок нашла подтверждения в том, что пользователи с подпиской тратят больше времени на поездки, что было ожидаемым результатом.\n",
    "- Гипотеза о расстоянии поездок показала, что среднее расстояние, которое проезжают пользователи с подпиской, не превышает оптимальное с точки зрения износа самоката (3130 метров).\n",
    "- Гипотеза о том, что средняя помесячная выручка от пользователей с подпиской выше, чем выручка от пользователей без подписки. Показывает что пользователи с подпиской приносит компании больше дохода по сравнению с моделью без подписки.\n",
    "\n",
    "**Рекомендации:**\n",
    "\n",
    "- Маркетинговые кампании: Сосредоточить маркетинговые усилия на привлечении молодёжи, используя социальные сети, студенческие сообщества и мероприятия. Предложение специальных условий для студентов может увеличить популярность сервиса.\n",
    "- Расширение в больших городах: Разработать стратегии для привлечения пользователей в больших городах, где конкуренция выше. Это может включать уникальные предложения, сотрудничество с местными бизнесами или организациями.\n",
    "- Оптимизация продолжительности и расстояний поездок: Продвигать идею коротких поездок как экономичного и экологичного способа передвижения по городу. Разработать тарифы, которые делают короткие поездки более привлекательными.\n",
    "- Улучшение условий подписки: Анализируя данные, стоит рассмотреть возможность пересмотра условий подписки для увеличения её привлекательности, возможно, введение разных уровней подписки в зависимости от потребностей пользователей.\n",
    "- Изучение причин недостаточной выгоды от подписок в некоторых месяцах: Провести дополнительный анализ для выявления причин, по которым в некоторые месяцы выручка от подписчиков не превышает выручку от не подписчиков, и разработать стратегии для оптимизации.\n",
    "\n",
    "Эти шаги помогут не только увеличить популярность и использование сервиса среди целевых аудиторий, но и максимизировать прибыльность компании, поддерживая устойчивое развитие и конкурентоспособность на рынке аренды самокатов.\n",
    "\n",
    "**Общий вывод**: Анализ показал важность клиентов с подпиской для увеличения доходности компании и выявил ключевые аспекты поведения пользователей, которые могут быть использованы для улучшения сервиса и маркетинговых стратегий.  Результаты анализа показывают эффективность текущей модели подписки и предоставляют основу для дальнейшего развития и оптимизации сервиса."
   ]
  }
 ],
 "metadata": {
  "ExecuteTimeLog": [
   {
    "duration": 1050,
    "start_time": "2024-06-26T17:02:46.684Z"
   },
   {
    "duration": 67,
    "start_time": "2024-06-26T17:02:47.736Z"
   },
   {
    "duration": 12,
    "start_time": "2024-06-26T17:02:47.804Z"
   },
   {
    "duration": 9,
    "start_time": "2024-06-26T17:02:47.818Z"
   },
   {
    "duration": 16,
    "start_time": "2024-06-26T17:02:47.830Z"
   },
   {
    "duration": 15,
    "start_time": "2024-06-26T17:02:47.847Z"
   },
   {
    "duration": 8,
    "start_time": "2024-06-26T17:02:47.863Z"
   },
   {
    "duration": 9,
    "start_time": "2024-06-26T17:02:47.873Z"
   },
   {
    "duration": 6,
    "start_time": "2024-06-26T17:02:47.912Z"
   },
   {
    "duration": 9,
    "start_time": "2024-06-26T17:02:47.920Z"
   },
   {
    "duration": 13,
    "start_time": "2024-06-26T17:02:47.931Z"
   },
   {
    "duration": 10,
    "start_time": "2024-06-26T17:02:47.945Z"
   },
   {
    "duration": 7,
    "start_time": "2024-06-26T17:02:47.956Z"
   },
   {
    "duration": 17,
    "start_time": "2024-06-26T17:02:47.965Z"
   },
   {
    "duration": 6,
    "start_time": "2024-06-26T17:02:47.984Z"
   },
   {
    "duration": 24,
    "start_time": "2024-06-26T17:02:47.992Z"
   },
   {
    "duration": 11,
    "start_time": "2024-06-26T17:02:48.018Z"
   },
   {
    "duration": 166,
    "start_time": "2024-06-26T17:02:48.031Z"
   },
   {
    "duration": 88,
    "start_time": "2024-06-26T17:02:48.199Z"
   },
   {
    "duration": 232,
    "start_time": "2024-06-26T17:02:48.289Z"
   },
   {
    "duration": 154,
    "start_time": "2024-06-26T17:02:48.523Z"
   },
   {
    "duration": 152,
    "start_time": "2024-06-26T17:02:48.679Z"
   },
   {
    "duration": 16,
    "start_time": "2024-06-26T17:02:48.832Z"
   },
   {
    "duration": 10,
    "start_time": "2024-06-26T17:02:48.850Z"
   },
   {
    "duration": 21,
    "start_time": "2024-06-26T17:02:48.862Z"
   },
   {
    "duration": 11,
    "start_time": "2024-06-26T17:02:48.884Z"
   },
   {
    "duration": 18,
    "start_time": "2024-06-26T17:02:48.898Z"
   },
   {
    "duration": 27,
    "start_time": "2024-06-26T17:02:48.917Z"
   },
   {
    "duration": 167,
    "start_time": "2024-06-26T17:02:48.945Z"
   },
   {
    "duration": 171,
    "start_time": "2024-06-26T17:02:49.114Z"
   },
   {
    "duration": 148,
    "start_time": "2024-06-26T17:02:49.287Z"
   },
   {
    "duration": 203,
    "start_time": "2024-06-26T17:02:49.436Z"
   },
   {
    "duration": 20,
    "start_time": "2024-06-26T17:02:49.641Z"
   },
   {
    "duration": 17,
    "start_time": "2024-06-26T17:02:49.662Z"
   },
   {
    "duration": 5,
    "start_time": "2024-06-26T17:02:49.681Z"
   },
   {
    "duration": 30,
    "start_time": "2024-06-26T17:02:49.687Z"
   },
   {
    "duration": 37,
    "start_time": "2024-06-26T17:02:49.719Z"
   },
   {
    "duration": 19,
    "start_time": "2024-06-26T17:02:49.757Z"
   },
   {
    "duration": 13,
    "start_time": "2024-06-26T17:02:49.777Z"
   },
   {
    "duration": 22,
    "start_time": "2024-06-26T17:02:49.791Z"
   },
   {
    "duration": 30,
    "start_time": "2024-06-26T17:02:49.814Z"
   },
   {
    "duration": 15,
    "start_time": "2024-06-26T17:02:49.845Z"
   },
   {
    "duration": 6,
    "start_time": "2024-06-26T17:02:49.862Z"
   },
   {
    "duration": 5,
    "start_time": "2024-06-26T17:02:49.870Z"
   },
   {
    "duration": 52,
    "start_time": "2024-06-28T12:46:15.815Z"
   },
   {
    "duration": 1431,
    "start_time": "2024-06-28T12:46:21.369Z"
   },
   {
    "duration": 202,
    "start_time": "2024-06-28T12:46:22.802Z"
   },
   {
    "duration": 13,
    "start_time": "2024-06-28T12:46:23.006Z"
   },
   {
    "duration": 11,
    "start_time": "2024-06-28T12:46:23.021Z"
   },
   {
    "duration": 21,
    "start_time": "2024-06-28T12:46:23.034Z"
   },
   {
    "duration": 38,
    "start_time": "2024-06-28T12:46:23.057Z"
   },
   {
    "duration": 49,
    "start_time": "2024-06-28T12:46:23.097Z"
   },
   {
    "duration": 33,
    "start_time": "2024-06-28T12:46:23.147Z"
   },
   {
    "duration": 23,
    "start_time": "2024-06-28T12:46:23.182Z"
   },
   {
    "duration": 119,
    "start_time": "2024-06-28T12:46:23.208Z"
   },
   {
    "duration": 0,
    "start_time": "2024-06-28T12:46:23.329Z"
   },
   {
    "duration": 0,
    "start_time": "2024-06-28T12:46:23.331Z"
   },
   {
    "duration": 0,
    "start_time": "2024-06-28T12:46:23.332Z"
   },
   {
    "duration": 0,
    "start_time": "2024-06-28T12:46:23.333Z"
   },
   {
    "duration": 0,
    "start_time": "2024-06-28T12:46:23.334Z"
   },
   {
    "duration": 0,
    "start_time": "2024-06-28T12:46:23.336Z"
   },
   {
    "duration": 0,
    "start_time": "2024-06-28T12:46:23.337Z"
   },
   {
    "duration": 0,
    "start_time": "2024-06-28T12:46:23.338Z"
   },
   {
    "duration": 0,
    "start_time": "2024-06-28T12:46:23.339Z"
   },
   {
    "duration": 0,
    "start_time": "2024-06-28T12:46:23.341Z"
   },
   {
    "duration": 0,
    "start_time": "2024-06-28T12:46:23.361Z"
   },
   {
    "duration": 0,
    "start_time": "2024-06-28T12:46:23.363Z"
   },
   {
    "duration": 0,
    "start_time": "2024-06-28T12:46:23.364Z"
   },
   {
    "duration": 0,
    "start_time": "2024-06-28T12:46:23.365Z"
   },
   {
    "duration": 0,
    "start_time": "2024-06-28T12:46:23.366Z"
   },
   {
    "duration": 0,
    "start_time": "2024-06-28T12:46:23.367Z"
   },
   {
    "duration": 0,
    "start_time": "2024-06-28T12:46:23.369Z"
   },
   {
    "duration": 0,
    "start_time": "2024-06-28T12:46:23.370Z"
   },
   {
    "duration": 0,
    "start_time": "2024-06-28T12:46:23.371Z"
   },
   {
    "duration": 0,
    "start_time": "2024-06-28T12:46:23.372Z"
   },
   {
    "duration": 0,
    "start_time": "2024-06-28T12:46:23.373Z"
   },
   {
    "duration": 0,
    "start_time": "2024-06-28T12:46:23.374Z"
   },
   {
    "duration": 0,
    "start_time": "2024-06-28T12:46:23.375Z"
   },
   {
    "duration": 0,
    "start_time": "2024-06-28T12:46:23.376Z"
   },
   {
    "duration": 0,
    "start_time": "2024-06-28T12:46:23.377Z"
   },
   {
    "duration": 0,
    "start_time": "2024-06-28T12:46:23.379Z"
   },
   {
    "duration": 0,
    "start_time": "2024-06-28T12:46:23.380Z"
   },
   {
    "duration": 0,
    "start_time": "2024-06-28T12:46:23.381Z"
   },
   {
    "duration": 0,
    "start_time": "2024-06-28T12:46:23.382Z"
   },
   {
    "duration": 0,
    "start_time": "2024-06-28T12:46:23.383Z"
   },
   {
    "duration": 0,
    "start_time": "2024-06-28T12:46:23.384Z"
   },
   {
    "duration": 0,
    "start_time": "2024-06-28T12:46:23.385Z"
   },
   {
    "duration": 0,
    "start_time": "2024-06-28T12:46:23.387Z"
   },
   {
    "duration": 0,
    "start_time": "2024-06-28T12:46:23.388Z"
   },
   {
    "duration": 0,
    "start_time": "2024-06-28T12:46:23.389Z"
   },
   {
    "duration": 1194,
    "start_time": "2024-06-28T12:46:36.457Z"
   },
   {
    "duration": 71,
    "start_time": "2024-06-28T12:46:37.653Z"
   },
   {
    "duration": 12,
    "start_time": "2024-06-28T12:46:37.726Z"
   },
   {
    "duration": 22,
    "start_time": "2024-06-28T12:46:37.740Z"
   },
   {
    "duration": 17,
    "start_time": "2024-06-28T12:46:37.764Z"
   },
   {
    "duration": 23,
    "start_time": "2024-06-28T12:46:37.783Z"
   },
   {
    "duration": 7,
    "start_time": "2024-06-28T12:46:37.808Z"
   },
   {
    "duration": 12,
    "start_time": "2024-06-28T12:46:37.817Z"
   },
   {
    "duration": 8,
    "start_time": "2024-06-28T12:46:37.830Z"
   },
   {
    "duration": 6,
    "start_time": "2024-06-28T12:46:37.841Z"
   },
   {
    "duration": 21,
    "start_time": "2024-06-28T12:46:37.848Z"
   },
   {
    "duration": 17,
    "start_time": "2024-06-28T12:46:37.870Z"
   },
   {
    "duration": 7,
    "start_time": "2024-06-28T12:46:37.889Z"
   },
   {
    "duration": 8,
    "start_time": "2024-06-28T12:46:37.897Z"
   },
   {
    "duration": 14,
    "start_time": "2024-06-28T12:46:37.907Z"
   },
   {
    "duration": 5,
    "start_time": "2024-06-28T12:46:37.923Z"
   },
   {
    "duration": 9,
    "start_time": "2024-06-28T12:46:37.930Z"
   },
   {
    "duration": 24,
    "start_time": "2024-06-28T12:46:37.941Z"
   },
   {
    "duration": 182,
    "start_time": "2024-06-28T12:46:37.967Z"
   },
   {
    "duration": 92,
    "start_time": "2024-06-28T12:46:38.151Z"
   },
   {
    "duration": 272,
    "start_time": "2024-06-28T12:46:38.246Z"
   },
   {
    "duration": 179,
    "start_time": "2024-06-28T12:46:38.520Z"
   },
   {
    "duration": 171,
    "start_time": "2024-06-28T12:46:38.701Z"
   },
   {
    "duration": 18,
    "start_time": "2024-06-28T12:46:38.874Z"
   },
   {
    "duration": 14,
    "start_time": "2024-06-28T12:46:38.893Z"
   },
   {
    "duration": 28,
    "start_time": "2024-06-28T12:46:38.909Z"
   },
   {
    "duration": 46,
    "start_time": "2024-06-28T12:46:38.939Z"
   },
   {
    "duration": 11,
    "start_time": "2024-06-28T12:46:38.988Z"
   },
   {
    "duration": 15,
    "start_time": "2024-06-28T12:46:39.001Z"
   },
   {
    "duration": 204,
    "start_time": "2024-06-28T12:46:39.017Z"
   },
   {
    "duration": 187,
    "start_time": "2024-06-28T12:46:39.222Z"
   },
   {
    "duration": 168,
    "start_time": "2024-06-28T12:46:39.411Z"
   },
   {
    "duration": 237,
    "start_time": "2024-06-28T12:46:39.581Z"
   },
   {
    "duration": 25,
    "start_time": "2024-06-28T12:46:39.820Z"
   },
   {
    "duration": 26,
    "start_time": "2024-06-28T12:46:39.861Z"
   },
   {
    "duration": 7,
    "start_time": "2024-06-28T12:46:39.889Z"
   },
   {
    "duration": 6,
    "start_time": "2024-06-28T12:46:39.898Z"
   },
   {
    "duration": 20,
    "start_time": "2024-06-28T12:46:39.905Z"
   },
   {
    "duration": 11,
    "start_time": "2024-06-28T12:46:39.927Z"
   },
   {
    "duration": 3,
    "start_time": "2024-06-28T12:46:39.960Z"
   },
   {
    "duration": 11,
    "start_time": "2024-06-28T12:46:39.965Z"
   },
   {
    "duration": 6,
    "start_time": "2024-06-28T12:46:39.977Z"
   },
   {
    "duration": 15,
    "start_time": "2024-06-28T12:46:39.984Z"
   },
   {
    "duration": 46,
    "start_time": "2024-06-28T12:46:40.001Z"
   },
   {
    "duration": 25,
    "start_time": "2024-06-28T12:46:40.048Z"
   },
   {
    "duration": 1162,
    "start_time": "2024-06-28T13:09:36.270Z"
   },
   {
    "duration": 70,
    "start_time": "2024-06-28T13:09:37.434Z"
   },
   {
    "duration": 12,
    "start_time": "2024-06-28T13:09:37.506Z"
   },
   {
    "duration": 11,
    "start_time": "2024-06-28T13:09:37.520Z"
   },
   {
    "duration": 13,
    "start_time": "2024-06-28T13:09:37.533Z"
   },
   {
    "duration": 136,
    "start_time": "2024-06-28T13:09:37.548Z"
   },
   {
    "duration": 8,
    "start_time": "2024-06-28T13:09:37.685Z"
   },
   {
    "duration": 11,
    "start_time": "2024-06-28T13:09:37.695Z"
   },
   {
    "duration": 21,
    "start_time": "2024-06-28T13:09:37.707Z"
   },
   {
    "duration": 12,
    "start_time": "2024-06-28T13:09:37.732Z"
   },
   {
    "duration": 7,
    "start_time": "2024-06-28T13:09:37.746Z"
   },
   {
    "duration": 23,
    "start_time": "2024-06-28T13:09:37.755Z"
   },
   {
    "duration": 10,
    "start_time": "2024-06-28T13:09:37.780Z"
   },
   {
    "duration": 11,
    "start_time": "2024-06-28T13:09:37.791Z"
   },
   {
    "duration": 11,
    "start_time": "2024-06-28T13:09:37.803Z"
   },
   {
    "duration": 18,
    "start_time": "2024-06-28T13:09:37.816Z"
   },
   {
    "duration": 24,
    "start_time": "2024-06-28T13:09:37.837Z"
   },
   {
    "duration": 200,
    "start_time": "2024-06-28T13:09:37.863Z"
   },
   {
    "duration": 97,
    "start_time": "2024-06-28T13:09:38.064Z"
   },
   {
    "duration": 269,
    "start_time": "2024-06-28T13:09:38.162Z"
   },
   {
    "duration": 171,
    "start_time": "2024-06-28T13:09:38.432Z"
   },
   {
    "duration": 167,
    "start_time": "2024-06-28T13:09:38.605Z"
   },
   {
    "duration": 18,
    "start_time": "2024-06-28T13:09:38.774Z"
   },
   {
    "duration": 13,
    "start_time": "2024-06-28T13:09:38.794Z"
   },
   {
    "duration": 17,
    "start_time": "2024-06-28T13:09:38.809Z"
   },
   {
    "duration": 29,
    "start_time": "2024-06-28T13:09:38.827Z"
   },
   {
    "duration": 9,
    "start_time": "2024-06-28T13:09:38.861Z"
   },
   {
    "duration": 13,
    "start_time": "2024-06-28T13:09:38.873Z"
   },
   {
    "duration": 196,
    "start_time": "2024-06-28T13:09:38.888Z"
   },
   {
    "duration": 178,
    "start_time": "2024-06-28T13:09:39.085Z"
   },
   {
    "duration": 188,
    "start_time": "2024-06-28T13:09:39.265Z"
   },
   {
    "duration": 260,
    "start_time": "2024-06-28T13:09:39.460Z"
   },
   {
    "duration": 23,
    "start_time": "2024-06-28T13:09:39.721Z"
   },
   {
    "duration": 33,
    "start_time": "2024-06-28T13:09:39.746Z"
   },
   {
    "duration": 7,
    "start_time": "2024-06-28T13:09:39.781Z"
   },
   {
    "duration": 20,
    "start_time": "2024-06-28T13:09:39.790Z"
   },
   {
    "duration": 10,
    "start_time": "2024-06-28T13:09:39.812Z"
   },
   {
    "duration": 13,
    "start_time": "2024-06-28T13:09:39.824Z"
   },
   {
    "duration": 21,
    "start_time": "2024-06-28T13:09:39.840Z"
   },
   {
    "duration": 6,
    "start_time": "2024-06-28T13:09:39.863Z"
   },
   {
    "duration": 3,
    "start_time": "2024-06-28T13:09:39.871Z"
   },
   {
    "duration": 5,
    "start_time": "2024-06-28T13:09:39.876Z"
   },
   {
    "duration": 14,
    "start_time": "2024-06-28T13:09:39.882Z"
   },
   {
    "duration": 7,
    "start_time": "2024-06-28T13:09:39.898Z"
   },
   {
    "duration": 9,
    "start_time": "2024-06-28T13:09:39.906Z"
   },
   {
    "duration": 26,
    "start_time": "2024-06-28T13:09:44.716Z"
   },
   {
    "duration": 16,
    "start_time": "2024-06-28T13:10:16.661Z"
   },
   {
    "duration": 105,
    "start_time": "2024-06-28T13:10:25.860Z"
   },
   {
    "duration": 6,
    "start_time": "2024-06-28T13:10:30.400Z"
   },
   {
    "duration": 5,
    "start_time": "2024-06-28T13:11:30.623Z"
   },
   {
    "duration": 5,
    "start_time": "2024-06-28T13:11:39.845Z"
   },
   {
    "duration": 1216,
    "start_time": "2024-06-28T13:40:01.937Z"
   },
   {
    "duration": 73,
    "start_time": "2024-06-28T13:40:03.155Z"
   },
   {
    "duration": 12,
    "start_time": "2024-06-28T13:40:03.230Z"
   },
   {
    "duration": 37,
    "start_time": "2024-06-28T13:40:03.244Z"
   },
   {
    "duration": 87,
    "start_time": "2024-06-28T13:40:03.284Z"
   },
   {
    "duration": 32,
    "start_time": "2024-06-28T13:40:03.373Z"
   },
   {
    "duration": 27,
    "start_time": "2024-06-28T13:40:03.407Z"
   },
   {
    "duration": 25,
    "start_time": "2024-06-28T13:40:03.436Z"
   },
   {
    "duration": 22,
    "start_time": "2024-06-28T13:40:03.463Z"
   },
   {
    "duration": 32,
    "start_time": "2024-06-28T13:40:03.487Z"
   },
   {
    "duration": 29,
    "start_time": "2024-06-28T13:40:03.522Z"
   },
   {
    "duration": 43,
    "start_time": "2024-06-28T13:40:03.553Z"
   },
   {
    "duration": 21,
    "start_time": "2024-06-28T13:40:03.598Z"
   },
   {
    "duration": 15,
    "start_time": "2024-06-28T13:40:03.622Z"
   },
   {
    "duration": 22,
    "start_time": "2024-06-28T13:40:03.638Z"
   },
   {
    "duration": 18,
    "start_time": "2024-06-28T13:40:03.662Z"
   },
   {
    "duration": 78,
    "start_time": "2024-06-28T13:40:03.682Z"
   },
   {
    "duration": 31,
    "start_time": "2024-06-28T13:40:03.763Z"
   },
   {
    "duration": 231,
    "start_time": "2024-06-28T13:40:03.796Z"
   },
   {
    "duration": 132,
    "start_time": "2024-06-28T13:40:04.029Z"
   },
   {
    "duration": 289,
    "start_time": "2024-06-28T13:40:04.163Z"
   },
   {
    "duration": 176,
    "start_time": "2024-06-28T13:40:04.454Z"
   },
   {
    "duration": 176,
    "start_time": "2024-06-28T13:40:04.632Z"
   },
   {
    "duration": 18,
    "start_time": "2024-06-28T13:40:04.810Z"
   },
   {
    "duration": 13,
    "start_time": "2024-06-28T13:40:04.829Z"
   },
   {
    "duration": 28,
    "start_time": "2024-06-28T13:40:04.843Z"
   },
   {
    "duration": 13,
    "start_time": "2024-06-28T13:40:04.873Z"
   },
   {
    "duration": 15,
    "start_time": "2024-06-28T13:40:04.887Z"
   },
   {
    "duration": 14,
    "start_time": "2024-06-28T13:40:04.904Z"
   },
   {
    "duration": 215,
    "start_time": "2024-06-28T13:40:04.920Z"
   },
   {
    "duration": 180,
    "start_time": "2024-06-28T13:40:05.137Z"
   },
   {
    "duration": 178,
    "start_time": "2024-06-28T13:40:05.319Z"
   },
   {
    "duration": 243,
    "start_time": "2024-06-28T13:40:05.499Z"
   },
   {
    "duration": 38,
    "start_time": "2024-06-28T13:40:05.744Z"
   },
   {
    "duration": 23,
    "start_time": "2024-06-28T13:40:05.784Z"
   },
   {
    "duration": 6,
    "start_time": "2024-06-28T13:40:05.808Z"
   },
   {
    "duration": 10,
    "start_time": "2024-06-28T13:40:05.816Z"
   },
   {
    "duration": 34,
    "start_time": "2024-06-28T13:40:05.828Z"
   },
   {
    "duration": 11,
    "start_time": "2024-06-28T13:40:05.864Z"
   },
   {
    "duration": 3,
    "start_time": "2024-06-28T13:40:05.877Z"
   },
   {
    "duration": 7,
    "start_time": "2024-06-28T13:40:05.884Z"
   },
   {
    "duration": 19,
    "start_time": "2024-06-28T13:40:05.893Z"
   },
   {
    "duration": 8,
    "start_time": "2024-06-28T13:40:05.914Z"
   },
   {
    "duration": 19,
    "start_time": "2024-06-28T13:40:05.923Z"
   },
   {
    "duration": 24,
    "start_time": "2024-06-28T13:40:05.944Z"
   },
   {
    "duration": 5,
    "start_time": "2024-06-28T13:40:21.751Z"
   },
   {
    "duration": 188,
    "start_time": "2024-06-28T13:43:26.397Z"
   },
   {
    "duration": 166,
    "start_time": "2024-06-28T13:43:33.990Z"
   },
   {
    "duration": 271,
    "start_time": "2024-06-28T14:03:40.470Z"
   },
   {
    "duration": 282,
    "start_time": "2024-06-28T14:04:03.263Z"
   },
   {
    "duration": 303,
    "start_time": "2024-06-28T14:13:58.114Z"
   },
   {
    "duration": 141,
    "start_time": "2024-06-28T14:14:13.884Z"
   },
   {
    "duration": 12,
    "start_time": "2024-06-28T14:19:24.837Z"
   },
   {
    "duration": 12,
    "start_time": "2024-06-28T14:19:37.715Z"
   },
   {
    "duration": 14,
    "start_time": "2024-06-28T14:19:49.224Z"
   },
   {
    "duration": 10,
    "start_time": "2024-06-28T14:24:49.685Z"
   },
   {
    "duration": 10,
    "start_time": "2024-06-28T14:37:00.680Z"
   },
   {
    "duration": 7,
    "start_time": "2024-06-28T14:37:14.078Z"
   },
   {
    "duration": 7,
    "start_time": "2024-06-28T14:37:27.439Z"
   },
   {
    "duration": 7,
    "start_time": "2024-06-28T14:38:40.203Z"
   },
   {
    "duration": 9,
    "start_time": "2024-06-28T14:38:40.948Z"
   },
   {
    "duration": 8,
    "start_time": "2024-06-28T14:38:41.264Z"
   },
   {
    "duration": 25,
    "start_time": "2024-06-28T14:39:12.920Z"
   },
   {
    "duration": 26,
    "start_time": "2024-06-28T14:39:26.956Z"
   },
   {
    "duration": 24,
    "start_time": "2024-06-28T14:39:44.268Z"
   },
   {
    "duration": 31,
    "start_time": "2024-06-28T14:39:52.935Z"
   },
   {
    "duration": 6,
    "start_time": "2024-06-28T14:41:09.680Z"
   },
   {
    "duration": 8,
    "start_time": "2024-06-28T14:41:09.996Z"
   },
   {
    "duration": 12,
    "start_time": "2024-06-28T14:41:10.333Z"
   },
   {
    "duration": 10,
    "start_time": "2024-06-28T14:41:10.731Z"
   },
   {
    "duration": 1149,
    "start_time": "2024-06-28T15:21:47.119Z"
   },
   {
    "duration": 71,
    "start_time": "2024-06-28T15:21:48.270Z"
   },
   {
    "duration": 13,
    "start_time": "2024-06-28T15:21:48.343Z"
   },
   {
    "duration": 26,
    "start_time": "2024-06-28T15:21:48.358Z"
   },
   {
    "duration": 24,
    "start_time": "2024-06-28T15:21:48.386Z"
   },
   {
    "duration": 33,
    "start_time": "2024-06-28T15:21:48.412Z"
   },
   {
    "duration": 8,
    "start_time": "2024-06-28T15:21:48.447Z"
   },
   {
    "duration": 15,
    "start_time": "2024-06-28T15:21:48.456Z"
   },
   {
    "duration": 9,
    "start_time": "2024-06-28T15:21:48.473Z"
   },
   {
    "duration": 5,
    "start_time": "2024-06-28T15:21:48.485Z"
   },
   {
    "duration": 6,
    "start_time": "2024-06-28T15:21:48.491Z"
   },
   {
    "duration": 7,
    "start_time": "2024-06-28T15:21:48.499Z"
   },
   {
    "duration": 7,
    "start_time": "2024-06-28T15:21:48.508Z"
   },
   {
    "duration": 15,
    "start_time": "2024-06-28T15:21:48.517Z"
   },
   {
    "duration": 37,
    "start_time": "2024-06-28T15:21:48.534Z"
   },
   {
    "duration": 24,
    "start_time": "2024-06-28T15:21:48.573Z"
   },
   {
    "duration": 17,
    "start_time": "2024-06-28T15:21:48.599Z"
   },
   {
    "duration": 22,
    "start_time": "2024-06-28T15:21:48.618Z"
   },
   {
    "duration": 17,
    "start_time": "2024-06-28T15:21:48.642Z"
   },
   {
    "duration": 200,
    "start_time": "2024-06-28T15:21:48.661Z"
   },
   {
    "duration": 101,
    "start_time": "2024-06-28T15:21:48.862Z"
   },
   {
    "duration": 278,
    "start_time": "2024-06-28T15:21:48.964Z"
   },
   {
    "duration": 181,
    "start_time": "2024-06-28T15:21:49.243Z"
   },
   {
    "duration": 181,
    "start_time": "2024-06-28T15:21:49.425Z"
   },
   {
    "duration": 141,
    "start_time": "2024-06-28T15:21:49.608Z"
   },
   {
    "duration": 20,
    "start_time": "2024-06-28T15:21:49.751Z"
   },
   {
    "duration": 42,
    "start_time": "2024-06-28T15:21:49.773Z"
   },
   {
    "duration": 14,
    "start_time": "2024-06-28T15:21:49.821Z"
   },
   {
    "duration": 12,
    "start_time": "2024-06-28T15:21:49.837Z"
   },
   {
    "duration": 18,
    "start_time": "2024-06-28T15:21:49.851Z"
   },
   {
    "duration": 11,
    "start_time": "2024-06-28T15:21:49.871Z"
   },
   {
    "duration": 13,
    "start_time": "2024-06-28T15:21:49.884Z"
   },
   {
    "duration": 25,
    "start_time": "2024-06-28T15:21:49.899Z"
   },
   {
    "duration": 14,
    "start_time": "2024-06-28T15:21:49.926Z"
   },
   {
    "duration": 197,
    "start_time": "2024-06-28T15:21:49.941Z"
   },
   {
    "duration": 181,
    "start_time": "2024-06-28T15:21:50.140Z"
   },
   {
    "duration": 238,
    "start_time": "2024-06-28T15:21:50.323Z"
   },
   {
    "duration": 159,
    "start_time": "2024-06-28T15:21:50.562Z"
   },
   {
    "duration": 10,
    "start_time": "2024-06-28T15:21:50.722Z"
   },
   {
    "duration": 107,
    "start_time": "2024-06-28T15:21:50.734Z"
   },
   {
    "duration": 0,
    "start_time": "2024-06-28T15:21:50.842Z"
   },
   {
    "duration": 0,
    "start_time": "2024-06-28T15:21:50.844Z"
   },
   {
    "duration": 0,
    "start_time": "2024-06-28T15:21:50.845Z"
   },
   {
    "duration": 0,
    "start_time": "2024-06-28T15:21:50.846Z"
   },
   {
    "duration": 0,
    "start_time": "2024-06-28T15:21:50.847Z"
   },
   {
    "duration": 0,
    "start_time": "2024-06-28T15:21:50.848Z"
   },
   {
    "duration": 0,
    "start_time": "2024-06-28T15:21:50.861Z"
   },
   {
    "duration": 0,
    "start_time": "2024-06-28T15:21:50.862Z"
   },
   {
    "duration": 0,
    "start_time": "2024-06-28T15:21:50.863Z"
   },
   {
    "duration": 0,
    "start_time": "2024-06-28T15:21:50.864Z"
   },
   {
    "duration": 0,
    "start_time": "2024-06-28T15:21:50.865Z"
   },
   {
    "duration": 0,
    "start_time": "2024-06-28T15:21:50.866Z"
   },
   {
    "duration": 0,
    "start_time": "2024-06-28T15:21:50.867Z"
   },
   {
    "duration": 3,
    "start_time": "2024-06-28T15:38:53.001Z"
   },
   {
    "duration": 5,
    "start_time": "2024-06-28T15:38:53.344Z"
   },
   {
    "duration": 12,
    "start_time": "2024-06-28T15:57:19.407Z"
   },
   {
    "duration": 7,
    "start_time": "2024-06-28T15:57:26.096Z"
   },
   {
    "duration": 3,
    "start_time": "2024-06-28T15:57:27.382Z"
   },
   {
    "duration": 9,
    "start_time": "2024-06-28T15:57:27.790Z"
   },
   {
    "duration": 4,
    "start_time": "2024-06-28T15:57:48.054Z"
   },
   {
    "duration": 5,
    "start_time": "2024-06-28T15:59:49.212Z"
   },
   {
    "duration": 6,
    "start_time": "2024-06-28T15:59:51.446Z"
   },
   {
    "duration": 6,
    "start_time": "2024-06-28T16:08:04.301Z"
   },
   {
    "duration": 16,
    "start_time": "2024-06-28T16:10:51.875Z"
   },
   {
    "duration": 10,
    "start_time": "2024-06-28T16:11:17.316Z"
   },
   {
    "duration": 11,
    "start_time": "2024-06-28T16:11:19.486Z"
   },
   {
    "duration": 10,
    "start_time": "2024-06-28T16:11:23.167Z"
   },
   {
    "duration": 10,
    "start_time": "2024-06-28T16:11:23.563Z"
   },
   {
    "duration": 1189,
    "start_time": "2024-06-28T16:11:27.762Z"
   },
   {
    "duration": 71,
    "start_time": "2024-06-28T16:11:28.953Z"
   },
   {
    "duration": 13,
    "start_time": "2024-06-28T16:11:29.026Z"
   },
   {
    "duration": 12,
    "start_time": "2024-06-28T16:11:29.042Z"
   },
   {
    "duration": 19,
    "start_time": "2024-06-28T16:11:29.055Z"
   },
   {
    "duration": 16,
    "start_time": "2024-06-28T16:11:29.076Z"
   },
   {
    "duration": 11,
    "start_time": "2024-06-28T16:11:29.094Z"
   },
   {
    "duration": 12,
    "start_time": "2024-06-28T16:11:29.107Z"
   },
   {
    "duration": 18,
    "start_time": "2024-06-28T16:11:29.121Z"
   },
   {
    "duration": 26,
    "start_time": "2024-06-28T16:11:29.142Z"
   },
   {
    "duration": 7,
    "start_time": "2024-06-28T16:11:29.170Z"
   },
   {
    "duration": 7,
    "start_time": "2024-06-28T16:11:29.178Z"
   },
   {
    "duration": 9,
    "start_time": "2024-06-28T16:11:29.186Z"
   },
   {
    "duration": 6,
    "start_time": "2024-06-28T16:11:29.196Z"
   },
   {
    "duration": 5,
    "start_time": "2024-06-28T16:11:29.204Z"
   },
   {
    "duration": 11,
    "start_time": "2024-06-28T16:11:29.211Z"
   },
   {
    "duration": 5,
    "start_time": "2024-06-28T16:11:29.223Z"
   },
   {
    "duration": 34,
    "start_time": "2024-06-28T16:11:29.230Z"
   },
   {
    "duration": 18,
    "start_time": "2024-06-28T16:11:29.266Z"
   },
   {
    "duration": 180,
    "start_time": "2024-06-28T16:11:29.286Z"
   },
   {
    "duration": 96,
    "start_time": "2024-06-28T16:11:29.467Z"
   },
   {
    "duration": 284,
    "start_time": "2024-06-28T16:11:29.564Z"
   },
   {
    "duration": 200,
    "start_time": "2024-06-28T16:11:29.850Z"
   },
   {
    "duration": 187,
    "start_time": "2024-06-28T16:11:30.052Z"
   },
   {
    "duration": 147,
    "start_time": "2024-06-28T16:11:30.241Z"
   },
   {
    "duration": 18,
    "start_time": "2024-06-28T16:11:30.390Z"
   },
   {
    "duration": 82,
    "start_time": "2024-06-28T16:11:30.410Z"
   },
   {
    "duration": 158,
    "start_time": "2024-06-28T16:11:30.496Z"
   },
   {
    "duration": 122,
    "start_time": "2024-06-28T16:11:30.656Z"
   },
   {
    "duration": 87,
    "start_time": "2024-06-28T16:11:30.780Z"
   },
   {
    "duration": 65,
    "start_time": "2024-06-28T16:11:30.869Z"
   },
   {
    "duration": 78,
    "start_time": "2024-06-28T16:11:30.935Z"
   },
   {
    "duration": 63,
    "start_time": "2024-06-28T16:11:31.015Z"
   },
   {
    "duration": 82,
    "start_time": "2024-06-28T16:11:31.080Z"
   },
   {
    "duration": 224,
    "start_time": "2024-06-28T16:11:31.164Z"
   },
   {
    "duration": 252,
    "start_time": "2024-06-28T16:11:31.390Z"
   },
   {
    "duration": 257,
    "start_time": "2024-06-28T16:11:31.644Z"
   },
   {
    "duration": 201,
    "start_time": "2024-06-28T16:11:31.903Z"
   },
   {
    "duration": 10,
    "start_time": "2024-06-28T16:11:32.106Z"
   },
   {
    "duration": 133,
    "start_time": "2024-06-28T16:11:32.118Z"
   },
   {
    "duration": 0,
    "start_time": "2024-06-28T16:11:32.253Z"
   },
   {
    "duration": 0,
    "start_time": "2024-06-28T16:11:32.254Z"
   },
   {
    "duration": 0,
    "start_time": "2024-06-28T16:11:32.260Z"
   },
   {
    "duration": 0,
    "start_time": "2024-06-28T16:11:32.262Z"
   },
   {
    "duration": 0,
    "start_time": "2024-06-28T16:11:32.263Z"
   },
   {
    "duration": 0,
    "start_time": "2024-06-28T16:11:32.264Z"
   },
   {
    "duration": 0,
    "start_time": "2024-06-28T16:11:32.265Z"
   },
   {
    "duration": 0,
    "start_time": "2024-06-28T16:11:32.266Z"
   },
   {
    "duration": 0,
    "start_time": "2024-06-28T16:11:32.267Z"
   },
   {
    "duration": 0,
    "start_time": "2024-06-28T16:11:32.268Z"
   },
   {
    "duration": 0,
    "start_time": "2024-06-28T16:11:32.269Z"
   },
   {
    "duration": 0,
    "start_time": "2024-06-28T16:11:32.270Z"
   },
   {
    "duration": 0,
    "start_time": "2024-06-28T16:11:32.271Z"
   },
   {
    "duration": 1137,
    "start_time": "2024-06-28T16:12:23.017Z"
   },
   {
    "duration": 77,
    "start_time": "2024-06-28T16:12:24.157Z"
   },
   {
    "duration": 15,
    "start_time": "2024-06-28T16:12:24.236Z"
   },
   {
    "duration": 12,
    "start_time": "2024-06-28T16:12:24.253Z"
   },
   {
    "duration": 9,
    "start_time": "2024-06-28T16:12:24.267Z"
   },
   {
    "duration": 12,
    "start_time": "2024-06-28T16:12:24.278Z"
   },
   {
    "duration": 10,
    "start_time": "2024-06-28T16:12:24.291Z"
   },
   {
    "duration": 13,
    "start_time": "2024-06-28T16:12:24.302Z"
   },
   {
    "duration": 85,
    "start_time": "2024-06-28T16:12:24.317Z"
   },
   {
    "duration": 14,
    "start_time": "2024-06-28T16:12:24.404Z"
   },
   {
    "duration": 25,
    "start_time": "2024-06-28T16:12:24.420Z"
   },
   {
    "duration": 11,
    "start_time": "2024-06-28T16:12:24.447Z"
   },
   {
    "duration": 7,
    "start_time": "2024-06-28T16:12:24.459Z"
   },
   {
    "duration": 9,
    "start_time": "2024-06-28T16:12:24.469Z"
   },
   {
    "duration": 12,
    "start_time": "2024-06-28T16:12:24.480Z"
   },
   {
    "duration": 21,
    "start_time": "2024-06-28T16:12:24.494Z"
   },
   {
    "duration": 5,
    "start_time": "2024-06-28T16:12:24.517Z"
   },
   {
    "duration": 15,
    "start_time": "2024-06-28T16:12:24.524Z"
   },
   {
    "duration": 29,
    "start_time": "2024-06-28T16:12:24.541Z"
   },
   {
    "duration": 174,
    "start_time": "2024-06-28T16:12:24.572Z"
   },
   {
    "duration": 94,
    "start_time": "2024-06-28T16:12:24.748Z"
   },
   {
    "duration": 271,
    "start_time": "2024-06-28T16:12:24.843Z"
   },
   {
    "duration": 172,
    "start_time": "2024-06-28T16:12:25.115Z"
   },
   {
    "duration": 182,
    "start_time": "2024-06-28T16:12:25.288Z"
   },
   {
    "duration": 125,
    "start_time": "2024-06-28T16:12:25.472Z"
   },
   {
    "duration": 16,
    "start_time": "2024-06-28T16:12:25.599Z"
   },
   {
    "duration": 12,
    "start_time": "2024-06-28T16:12:25.617Z"
   },
   {
    "duration": 30,
    "start_time": "2024-06-28T16:12:25.631Z"
   },
   {
    "duration": 76,
    "start_time": "2024-06-28T16:12:25.663Z"
   },
   {
    "duration": 14,
    "start_time": "2024-06-28T16:12:25.741Z"
   },
   {
    "duration": 10,
    "start_time": "2024-06-28T16:12:25.757Z"
   },
   {
    "duration": 12,
    "start_time": "2024-06-28T16:12:25.769Z"
   },
   {
    "duration": 8,
    "start_time": "2024-06-28T16:12:25.782Z"
   },
   {
    "duration": 12,
    "start_time": "2024-06-28T16:12:25.791Z"
   },
   {
    "duration": 243,
    "start_time": "2024-06-28T16:12:25.804Z"
   },
   {
    "duration": 189,
    "start_time": "2024-06-28T16:12:26.050Z"
   },
   {
    "duration": 249,
    "start_time": "2024-06-28T16:12:26.241Z"
   },
   {
    "duration": 160,
    "start_time": "2024-06-28T16:12:26.492Z"
   },
   {
    "duration": 13,
    "start_time": "2024-06-28T16:12:26.653Z"
   },
   {
    "duration": 24,
    "start_time": "2024-06-28T16:12:26.667Z"
   },
   {
    "duration": 6,
    "start_time": "2024-06-28T16:12:26.694Z"
   },
   {
    "duration": 24,
    "start_time": "2024-06-28T16:12:26.702Z"
   },
   {
    "duration": 39,
    "start_time": "2024-06-28T16:12:26.727Z"
   },
   {
    "duration": 22,
    "start_time": "2024-06-28T16:12:26.767Z"
   },
   {
    "duration": 6,
    "start_time": "2024-06-28T16:12:26.791Z"
   },
   {
    "duration": 9,
    "start_time": "2024-06-28T16:12:26.798Z"
   },
   {
    "duration": 8,
    "start_time": "2024-06-28T16:12:26.809Z"
   },
   {
    "duration": 6,
    "start_time": "2024-06-28T16:12:26.819Z"
   },
   {
    "duration": 7,
    "start_time": "2024-06-28T16:12:26.827Z"
   },
   {
    "duration": 3,
    "start_time": "2024-06-28T16:12:26.836Z"
   },
   {
    "duration": 21,
    "start_time": "2024-06-28T16:12:26.840Z"
   },
   {
    "duration": 25,
    "start_time": "2024-06-28T16:12:26.863Z"
   },
   {
    "duration": 10,
    "start_time": "2024-06-28T16:12:26.890Z"
   },
   {
    "duration": 5,
    "start_time": "2024-06-28T16:16:50.290Z"
   },
   {
    "duration": 1220,
    "start_time": "2024-06-28T16:23:04.642Z"
   },
   {
    "duration": 71,
    "start_time": "2024-06-28T16:23:05.864Z"
   },
   {
    "duration": 12,
    "start_time": "2024-06-28T16:23:05.937Z"
   },
   {
    "duration": 25,
    "start_time": "2024-06-28T16:23:05.951Z"
   },
   {
    "duration": 17,
    "start_time": "2024-06-28T16:23:05.979Z"
   },
   {
    "duration": 19,
    "start_time": "2024-06-28T16:23:05.998Z"
   },
   {
    "duration": 85,
    "start_time": "2024-06-28T16:23:06.019Z"
   },
   {
    "duration": 24,
    "start_time": "2024-06-28T16:23:06.106Z"
   },
   {
    "duration": 11,
    "start_time": "2024-06-28T16:23:06.131Z"
   },
   {
    "duration": 5,
    "start_time": "2024-06-28T16:23:06.143Z"
   },
   {
    "duration": 7,
    "start_time": "2024-06-28T16:23:06.149Z"
   },
   {
    "duration": 7,
    "start_time": "2024-06-28T16:23:06.157Z"
   },
   {
    "duration": 29,
    "start_time": "2024-06-28T16:23:06.165Z"
   },
   {
    "duration": 82,
    "start_time": "2024-06-28T16:23:06.197Z"
   },
   {
    "duration": 9,
    "start_time": "2024-06-28T16:23:06.281Z"
   },
   {
    "duration": 15,
    "start_time": "2024-06-28T16:23:06.292Z"
   },
   {
    "duration": 5,
    "start_time": "2024-06-28T16:23:06.309Z"
   },
   {
    "duration": 13,
    "start_time": "2024-06-28T16:23:06.316Z"
   },
   {
    "duration": 19,
    "start_time": "2024-06-28T16:23:06.330Z"
   },
   {
    "duration": 175,
    "start_time": "2024-06-28T16:23:06.350Z"
   },
   {
    "duration": 93,
    "start_time": "2024-06-28T16:23:06.527Z"
   },
   {
    "duration": 270,
    "start_time": "2024-06-28T16:23:06.621Z"
   },
   {
    "duration": 200,
    "start_time": "2024-06-28T16:23:06.892Z"
   },
   {
    "duration": 217,
    "start_time": "2024-06-28T16:23:07.095Z"
   },
   {
    "duration": 147,
    "start_time": "2024-06-28T16:23:07.314Z"
   },
   {
    "duration": 19,
    "start_time": "2024-06-28T16:23:07.462Z"
   },
   {
    "duration": 12,
    "start_time": "2024-06-28T16:23:07.483Z"
   },
   {
    "duration": 20,
    "start_time": "2024-06-28T16:23:07.497Z"
   },
   {
    "duration": 22,
    "start_time": "2024-06-28T16:23:07.519Z"
   },
   {
    "duration": 31,
    "start_time": "2024-06-28T16:23:07.542Z"
   },
   {
    "duration": 11,
    "start_time": "2024-06-28T16:23:07.574Z"
   },
   {
    "duration": 20,
    "start_time": "2024-06-28T16:23:07.587Z"
   },
   {
    "duration": 13,
    "start_time": "2024-06-28T16:23:07.608Z"
   },
   {
    "duration": 22,
    "start_time": "2024-06-28T16:23:07.623Z"
   },
   {
    "duration": 188,
    "start_time": "2024-06-28T16:23:07.647Z"
   },
   {
    "duration": 174,
    "start_time": "2024-06-28T16:23:07.837Z"
   },
   {
    "duration": 244,
    "start_time": "2024-06-28T16:23:08.013Z"
   },
   {
    "duration": 166,
    "start_time": "2024-06-28T16:23:08.259Z"
   },
   {
    "duration": 10,
    "start_time": "2024-06-28T16:23:08.426Z"
   },
   {
    "duration": 42,
    "start_time": "2024-06-28T16:23:08.437Z"
   },
   {
    "duration": 7,
    "start_time": "2024-06-28T16:23:08.483Z"
   },
   {
    "duration": 29,
    "start_time": "2024-06-28T16:23:08.491Z"
   },
   {
    "duration": 7,
    "start_time": "2024-06-28T16:23:08.521Z"
   },
   {
    "duration": 14,
    "start_time": "2024-06-28T16:23:08.529Z"
   },
   {
    "duration": 34,
    "start_time": "2024-06-28T16:23:08.545Z"
   },
   {
    "duration": 12,
    "start_time": "2024-06-28T16:23:08.581Z"
   },
   {
    "duration": 12,
    "start_time": "2024-06-28T16:23:08.594Z"
   },
   {
    "duration": 7,
    "start_time": "2024-06-28T16:23:08.608Z"
   },
   {
    "duration": 7,
    "start_time": "2024-06-28T16:23:08.617Z"
   },
   {
    "duration": 4,
    "start_time": "2024-06-28T16:23:08.626Z"
   },
   {
    "duration": 13,
    "start_time": "2024-06-28T16:23:08.631Z"
   },
   {
    "duration": 15,
    "start_time": "2024-06-28T16:23:08.646Z"
   },
   {
    "duration": 5,
    "start_time": "2024-06-28T16:23:08.663Z"
   },
   {
    "duration": 1211,
    "start_time": "2024-06-28T17:45:48.713Z"
   },
   {
    "duration": 207,
    "start_time": "2024-06-28T17:45:49.926Z"
   },
   {
    "duration": 14,
    "start_time": "2024-06-28T17:45:50.135Z"
   },
   {
    "duration": 9,
    "start_time": "2024-06-28T17:45:50.151Z"
   },
   {
    "duration": 13,
    "start_time": "2024-06-28T17:45:50.161Z"
   },
   {
    "duration": 14,
    "start_time": "2024-06-28T17:45:50.176Z"
   },
   {
    "duration": 29,
    "start_time": "2024-06-28T17:45:50.191Z"
   },
   {
    "duration": 21,
    "start_time": "2024-06-28T17:45:50.221Z"
   },
   {
    "duration": 8,
    "start_time": "2024-06-28T17:45:50.243Z"
   },
   {
    "duration": 25,
    "start_time": "2024-06-28T17:45:50.253Z"
   },
   {
    "duration": 42,
    "start_time": "2024-06-28T17:45:50.280Z"
   },
   {
    "duration": 23,
    "start_time": "2024-06-28T17:45:50.323Z"
   },
   {
    "duration": 10,
    "start_time": "2024-06-28T17:45:50.348Z"
   },
   {
    "duration": 17,
    "start_time": "2024-06-28T17:45:50.359Z"
   },
   {
    "duration": 10,
    "start_time": "2024-06-28T17:45:50.377Z"
   },
   {
    "duration": 29,
    "start_time": "2024-06-28T17:45:50.388Z"
   },
   {
    "duration": 8,
    "start_time": "2024-06-28T17:45:50.418Z"
   },
   {
    "duration": 5,
    "start_time": "2024-06-28T17:45:50.428Z"
   },
   {
    "duration": 16,
    "start_time": "2024-06-28T17:45:50.435Z"
   },
   {
    "duration": 138,
    "start_time": "2024-06-28T17:45:50.453Z"
   },
   {
    "duration": 75,
    "start_time": "2024-06-28T17:45:50.592Z"
   },
   {
    "duration": 207,
    "start_time": "2024-06-28T17:45:50.668Z"
   },
   {
    "duration": 134,
    "start_time": "2024-06-28T17:45:50.877Z"
   },
   {
    "duration": 137,
    "start_time": "2024-06-28T17:45:51.012Z"
   },
   {
    "duration": 109,
    "start_time": "2024-06-28T17:45:51.151Z"
   },
   {
    "duration": 19,
    "start_time": "2024-06-28T17:45:51.261Z"
   },
   {
    "duration": 36,
    "start_time": "2024-06-28T17:45:51.282Z"
   },
   {
    "duration": 77,
    "start_time": "2024-06-28T17:45:51.322Z"
   },
   {
    "duration": 24,
    "start_time": "2024-06-28T17:45:51.400Z"
   },
   {
    "duration": 16,
    "start_time": "2024-06-28T17:45:51.425Z"
   },
   {
    "duration": 10,
    "start_time": "2024-06-28T17:45:51.442Z"
   },
   {
    "duration": 12,
    "start_time": "2024-06-28T17:45:51.454Z"
   },
   {
    "duration": 16,
    "start_time": "2024-06-28T17:45:51.468Z"
   },
   {
    "duration": 16,
    "start_time": "2024-06-28T17:45:51.485Z"
   },
   {
    "duration": 148,
    "start_time": "2024-06-28T17:45:51.503Z"
   },
   {
    "duration": 197,
    "start_time": "2024-06-28T17:45:51.652Z"
   },
   {
    "duration": 137,
    "start_time": "2024-06-28T17:45:51.850Z"
   },
   {
    "duration": 134,
    "start_time": "2024-06-28T17:45:51.989Z"
   },
   {
    "duration": 7,
    "start_time": "2024-06-28T17:45:52.124Z"
   },
   {
    "duration": 41,
    "start_time": "2024-06-28T17:45:52.132Z"
   },
   {
    "duration": 25,
    "start_time": "2024-06-28T17:45:52.174Z"
   },
   {
    "duration": 57,
    "start_time": "2024-06-28T17:45:52.200Z"
   },
   {
    "duration": 15,
    "start_time": "2024-06-28T17:45:52.258Z"
   },
   {
    "duration": 22,
    "start_time": "2024-06-28T17:45:52.274Z"
   },
   {
    "duration": 29,
    "start_time": "2024-06-28T17:45:52.297Z"
   },
   {
    "duration": 10,
    "start_time": "2024-06-28T17:45:52.328Z"
   },
   {
    "duration": 32,
    "start_time": "2024-06-28T17:45:52.339Z"
   },
   {
    "duration": 32,
    "start_time": "2024-06-28T17:45:52.373Z"
   },
   {
    "duration": 5,
    "start_time": "2024-06-28T17:45:52.406Z"
   },
   {
    "duration": 10,
    "start_time": "2024-06-28T17:45:52.412Z"
   },
   {
    "duration": 6,
    "start_time": "2024-06-28T17:45:52.423Z"
   },
   {
    "duration": 20,
    "start_time": "2024-06-28T17:45:52.430Z"
   },
   {
    "duration": 8,
    "start_time": "2024-06-28T17:45:52.451Z"
   },
   {
    "duration": 16,
    "start_time": "2024-06-28T17:50:29.250Z"
   },
   {
    "duration": 52,
    "start_time": "2024-06-29T08:09:43.895Z"
   },
   {
    "duration": 1373,
    "start_time": "2024-06-29T08:09:48.061Z"
   },
   {
    "duration": 205,
    "start_time": "2024-06-29T08:09:49.436Z"
   },
   {
    "duration": 17,
    "start_time": "2024-06-29T08:09:49.642Z"
   },
   {
    "duration": 14,
    "start_time": "2024-06-29T08:09:49.661Z"
   },
   {
    "duration": 14,
    "start_time": "2024-06-29T08:09:49.676Z"
   },
   {
    "duration": 31,
    "start_time": "2024-06-29T08:09:49.692Z"
   },
   {
    "duration": 23,
    "start_time": "2024-06-29T08:09:49.725Z"
   },
   {
    "duration": 17,
    "start_time": "2024-06-29T08:09:49.751Z"
   },
   {
    "duration": 11,
    "start_time": "2024-06-29T08:09:49.770Z"
   },
   {
    "duration": 36,
    "start_time": "2024-06-29T08:09:49.784Z"
   },
   {
    "duration": 18,
    "start_time": "2024-06-29T08:09:49.821Z"
   },
   {
    "duration": 8,
    "start_time": "2024-06-29T08:09:49.841Z"
   },
   {
    "duration": 9,
    "start_time": "2024-06-29T08:09:49.851Z"
   },
   {
    "duration": 22,
    "start_time": "2024-06-29T08:09:49.861Z"
   },
   {
    "duration": 11,
    "start_time": "2024-06-29T08:09:49.885Z"
   },
   {
    "duration": 30,
    "start_time": "2024-06-29T08:09:49.897Z"
   },
   {
    "duration": 14,
    "start_time": "2024-06-29T08:09:49.929Z"
   },
   {
    "duration": 6,
    "start_time": "2024-06-29T08:09:49.945Z"
   },
   {
    "duration": 24,
    "start_time": "2024-06-29T08:09:49.953Z"
   },
   {
    "duration": 206,
    "start_time": "2024-06-29T08:09:49.979Z"
   },
   {
    "duration": 132,
    "start_time": "2024-06-29T08:09:50.188Z"
   },
   {
    "duration": 320,
    "start_time": "2024-06-29T08:09:50.322Z"
   },
   {
    "duration": 202,
    "start_time": "2024-06-29T08:09:50.647Z"
   },
   {
    "duration": 197,
    "start_time": "2024-06-29T08:09:50.851Z"
   },
   {
    "duration": 142,
    "start_time": "2024-06-29T08:09:51.050Z"
   },
   {
    "duration": 20,
    "start_time": "2024-06-29T08:09:51.194Z"
   },
   {
    "duration": 19,
    "start_time": "2024-06-29T08:09:51.215Z"
   },
   {
    "duration": 11,
    "start_time": "2024-06-29T08:09:51.245Z"
   },
   {
    "duration": 17,
    "start_time": "2024-06-29T08:09:51.258Z"
   },
   {
    "duration": 30,
    "start_time": "2024-06-29T08:09:51.277Z"
   },
   {
    "duration": 23,
    "start_time": "2024-06-29T08:09:51.308Z"
   },
   {
    "duration": 23,
    "start_time": "2024-06-29T08:09:51.333Z"
   },
   {
    "duration": 38,
    "start_time": "2024-06-29T08:09:51.358Z"
   },
   {
    "duration": 44,
    "start_time": "2024-06-29T08:09:51.397Z"
   },
   {
    "duration": 199,
    "start_time": "2024-06-29T08:09:51.443Z"
   },
   {
    "duration": 274,
    "start_time": "2024-06-29T08:09:51.645Z"
   },
   {
    "duration": 215,
    "start_time": "2024-06-29T08:09:51.922Z"
   },
   {
    "duration": 181,
    "start_time": "2024-06-29T08:09:52.138Z"
   },
   {
    "duration": 10,
    "start_time": "2024-06-29T08:09:52.321Z"
   },
   {
    "duration": 172,
    "start_time": "2024-06-29T08:09:52.333Z"
   },
   {
    "duration": 36,
    "start_time": "2024-06-29T08:09:52.507Z"
   },
   {
    "duration": 48,
    "start_time": "2024-06-29T08:09:52.545Z"
   },
   {
    "duration": 17,
    "start_time": "2024-06-29T08:09:52.595Z"
   },
   {
    "duration": 35,
    "start_time": "2024-06-29T08:09:52.614Z"
   },
   {
    "duration": 9,
    "start_time": "2024-06-29T08:09:52.651Z"
   },
   {
    "duration": 16,
    "start_time": "2024-06-29T08:09:52.662Z"
   },
   {
    "duration": 67,
    "start_time": "2024-06-29T08:09:52.680Z"
   },
   {
    "duration": 27,
    "start_time": "2024-06-29T08:09:52.750Z"
   },
   {
    "duration": 33,
    "start_time": "2024-06-29T08:09:52.779Z"
   },
   {
    "duration": 36,
    "start_time": "2024-06-29T08:09:52.814Z"
   },
   {
    "duration": 46,
    "start_time": "2024-06-29T08:09:52.852Z"
   },
   {
    "duration": 148,
    "start_time": "2024-06-29T08:09:52.900Z"
   },
   {
    "duration": 179,
    "start_time": "2024-06-29T08:09:53.050Z"
   },
   {
    "duration": 26,
    "start_time": "2024-06-29T08:10:27.605Z"
   },
   {
    "duration": 28,
    "start_time": "2024-06-29T08:12:11.700Z"
   },
   {
    "duration": 39,
    "start_time": "2024-06-29T08:12:20.473Z"
   },
   {
    "duration": 28,
    "start_time": "2024-06-29T08:14:56.614Z"
   },
   {
    "duration": 30,
    "start_time": "2024-06-29T08:17:06.387Z"
   },
   {
    "duration": 1159,
    "start_time": "2024-06-29T08:17:12.277Z"
   },
   {
    "duration": 70,
    "start_time": "2024-06-29T08:17:13.438Z"
   },
   {
    "duration": 47,
    "start_time": "2024-06-29T08:17:13.510Z"
   },
   {
    "duration": 157,
    "start_time": "2024-06-29T08:17:13.560Z"
   },
   {
    "duration": 29,
    "start_time": "2024-06-29T08:17:13.719Z"
   },
   {
    "duration": 19,
    "start_time": "2024-06-29T08:17:13.750Z"
   },
   {
    "duration": 81,
    "start_time": "2024-06-29T08:17:13.771Z"
   },
   {
    "duration": 133,
    "start_time": "2024-06-29T08:17:13.854Z"
   },
   {
    "duration": 17,
    "start_time": "2024-06-29T08:17:13.989Z"
   },
   {
    "duration": 56,
    "start_time": "2024-06-29T08:17:14.045Z"
   },
   {
    "duration": 47,
    "start_time": "2024-06-29T08:17:14.103Z"
   },
   {
    "duration": 18,
    "start_time": "2024-06-29T08:17:14.152Z"
   },
   {
    "duration": 10,
    "start_time": "2024-06-29T08:17:14.173Z"
   },
   {
    "duration": 13,
    "start_time": "2024-06-29T08:17:14.185Z"
   },
   {
    "duration": 52,
    "start_time": "2024-06-29T08:17:14.200Z"
   },
   {
    "duration": 28,
    "start_time": "2024-06-29T08:17:14.253Z"
   },
   {
    "duration": 5,
    "start_time": "2024-06-29T08:17:14.283Z"
   },
   {
    "duration": 9,
    "start_time": "2024-06-29T08:17:14.290Z"
   },
   {
    "duration": 52,
    "start_time": "2024-06-29T08:17:14.301Z"
   },
   {
    "duration": 399,
    "start_time": "2024-06-29T08:17:14.355Z"
   },
   {
    "duration": 206,
    "start_time": "2024-06-29T08:17:14.756Z"
   },
   {
    "duration": 342,
    "start_time": "2024-06-29T08:17:14.964Z"
   },
   {
    "duration": 209,
    "start_time": "2024-06-29T08:17:15.308Z"
   },
   {
    "duration": 201,
    "start_time": "2024-06-29T08:17:15.520Z"
   },
   {
    "duration": 144,
    "start_time": "2024-06-29T08:17:15.724Z"
   },
   {
    "duration": 24,
    "start_time": "2024-06-29T08:17:15.870Z"
   },
   {
    "duration": 19,
    "start_time": "2024-06-29T08:17:15.896Z"
   },
   {
    "duration": 48,
    "start_time": "2024-06-29T08:17:15.921Z"
   },
   {
    "duration": 205,
    "start_time": "2024-06-29T08:17:15.971Z"
   },
   {
    "duration": 33,
    "start_time": "2024-06-29T08:17:16.178Z"
   },
   {
    "duration": 15,
    "start_time": "2024-06-29T08:17:16.213Z"
   },
   {
    "duration": 36,
    "start_time": "2024-06-29T08:17:16.230Z"
   },
   {
    "duration": 11,
    "start_time": "2024-06-29T08:17:16.268Z"
   },
   {
    "duration": 28,
    "start_time": "2024-06-29T08:17:16.280Z"
   },
   {
    "duration": 198,
    "start_time": "2024-06-29T08:17:16.310Z"
   },
   {
    "duration": 202,
    "start_time": "2024-06-29T08:17:16.510Z"
   },
   {
    "duration": 252,
    "start_time": "2024-06-29T08:17:16.714Z"
   },
   {
    "duration": 171,
    "start_time": "2024-06-29T08:17:16.968Z"
   },
   {
    "duration": 10,
    "start_time": "2024-06-29T08:17:17.145Z"
   },
   {
    "duration": 58,
    "start_time": "2024-06-29T08:17:17.157Z"
   },
   {
    "duration": 9,
    "start_time": "2024-06-29T08:17:17.217Z"
   },
   {
    "duration": 36,
    "start_time": "2024-06-29T08:17:17.228Z"
   },
   {
    "duration": 7,
    "start_time": "2024-06-29T08:17:17.266Z"
   },
   {
    "duration": 10,
    "start_time": "2024-06-29T08:17:17.275Z"
   },
   {
    "duration": 7,
    "start_time": "2024-06-29T08:17:17.287Z"
   },
   {
    "duration": 10,
    "start_time": "2024-06-29T08:17:17.296Z"
   },
   {
    "duration": 19,
    "start_time": "2024-06-29T08:17:17.308Z"
   },
   {
    "duration": 3,
    "start_time": "2024-06-29T08:17:17.347Z"
   },
   {
    "duration": 9,
    "start_time": "2024-06-29T08:17:17.352Z"
   },
   {
    "duration": 9,
    "start_time": "2024-06-29T08:17:17.363Z"
   },
   {
    "duration": 7,
    "start_time": "2024-06-29T08:17:17.374Z"
   },
   {
    "duration": 19,
    "start_time": "2024-06-29T08:17:17.383Z"
   },
   {
    "duration": 9,
    "start_time": "2024-06-29T08:17:17.404Z"
   },
   {
    "duration": 22,
    "start_time": "2024-06-29T08:20:53.995Z"
   },
   {
    "duration": 7,
    "start_time": "2024-06-29T08:21:58.618Z"
   },
   {
    "duration": 11,
    "start_time": "2024-06-29T08:21:59.034Z"
   },
   {
    "duration": 11,
    "start_time": "2024-06-29T08:21:59.784Z"
   },
   {
    "duration": 8,
    "start_time": "2024-06-29T08:22:51.676Z"
   },
   {
    "duration": 8,
    "start_time": "2024-06-29T08:22:51.956Z"
   },
   {
    "duration": 14,
    "start_time": "2024-06-29T08:22:52.336Z"
   },
   {
    "duration": 7,
    "start_time": "2024-06-29T08:23:03.346Z"
   },
   {
    "duration": 8,
    "start_time": "2024-06-29T08:23:04.986Z"
   },
   {
    "duration": 11,
    "start_time": "2024-06-29T08:23:05.255Z"
   },
   {
    "duration": 8,
    "start_time": "2024-06-29T08:24:18.788Z"
   },
   {
    "duration": 16,
    "start_time": "2024-06-29T08:24:19.211Z"
   },
   {
    "duration": 14,
    "start_time": "2024-06-29T08:24:19.656Z"
   },
   {
    "duration": 7,
    "start_time": "2024-06-29T08:24:23.418Z"
   },
   {
    "duration": 5,
    "start_time": "2024-06-29T08:24:23.735Z"
   },
   {
    "duration": 9,
    "start_time": "2024-06-29T08:24:23.907Z"
   },
   {
    "duration": 10,
    "start_time": "2024-06-29T08:24:24.340Z"
   },
   {
    "duration": 7,
    "start_time": "2024-06-29T08:25:14.356Z"
   },
   {
    "duration": 1595,
    "start_time": "2024-06-29T08:25:25.086Z"
   },
   {
    "duration": 116,
    "start_time": "2024-06-29T08:25:26.684Z"
   },
   {
    "duration": 56,
    "start_time": "2024-06-29T08:25:26.803Z"
   },
   {
    "duration": 96,
    "start_time": "2024-06-29T08:25:26.862Z"
   },
   {
    "duration": 31,
    "start_time": "2024-06-29T08:25:26.960Z"
   },
   {
    "duration": 65,
    "start_time": "2024-06-29T08:25:26.993Z"
   },
   {
    "duration": 18,
    "start_time": "2024-06-29T08:25:27.060Z"
   },
   {
    "duration": 16,
    "start_time": "2024-06-29T08:25:27.080Z"
   },
   {
    "duration": 56,
    "start_time": "2024-06-29T08:25:27.098Z"
   },
   {
    "duration": 15,
    "start_time": "2024-06-29T08:25:27.157Z"
   },
   {
    "duration": 12,
    "start_time": "2024-06-29T08:25:27.174Z"
   },
   {
    "duration": 11,
    "start_time": "2024-06-29T08:25:27.188Z"
   },
   {
    "duration": 9,
    "start_time": "2024-06-29T08:25:27.245Z"
   },
   {
    "duration": 30,
    "start_time": "2024-06-29T08:25:27.256Z"
   },
   {
    "duration": 9,
    "start_time": "2024-06-29T08:25:27.288Z"
   },
   {
    "duration": 71,
    "start_time": "2024-06-29T08:25:27.299Z"
   },
   {
    "duration": 26,
    "start_time": "2024-06-29T08:25:27.373Z"
   },
   {
    "duration": 50,
    "start_time": "2024-06-29T08:25:27.401Z"
   },
   {
    "duration": 29,
    "start_time": "2024-06-29T08:25:27.453Z"
   },
   {
    "duration": 378,
    "start_time": "2024-06-29T08:25:27.484Z"
   },
   {
    "duration": 167,
    "start_time": "2024-06-29T08:25:27.864Z"
   },
   {
    "duration": 337,
    "start_time": "2024-06-29T08:25:28.033Z"
   },
   {
    "duration": 184,
    "start_time": "2024-06-29T08:25:28.372Z"
   },
   {
    "duration": 181,
    "start_time": "2024-06-29T08:25:28.557Z"
   },
   {
    "duration": 139,
    "start_time": "2024-06-29T08:25:28.740Z"
   },
   {
    "duration": 25,
    "start_time": "2024-06-29T08:25:28.881Z"
   },
   {
    "duration": 12,
    "start_time": "2024-06-29T08:25:28.908Z"
   },
   {
    "duration": 16,
    "start_time": "2024-06-29T08:25:28.945Z"
   },
   {
    "duration": 25,
    "start_time": "2024-06-29T08:25:28.963Z"
   },
   {
    "duration": 15,
    "start_time": "2024-06-29T08:25:28.990Z"
   },
   {
    "duration": 11,
    "start_time": "2024-06-29T08:25:29.007Z"
   },
   {
    "duration": 37,
    "start_time": "2024-06-29T08:25:29.019Z"
   },
   {
    "duration": 25,
    "start_time": "2024-06-29T08:25:29.059Z"
   },
   {
    "duration": 23,
    "start_time": "2024-06-29T08:25:29.086Z"
   },
   {
    "duration": 189,
    "start_time": "2024-06-29T08:25:29.110Z"
   },
   {
    "duration": 184,
    "start_time": "2024-06-29T08:25:29.301Z"
   },
   {
    "duration": 263,
    "start_time": "2024-06-29T08:25:29.487Z"
   },
   {
    "duration": 177,
    "start_time": "2024-06-29T08:25:29.753Z"
   },
   {
    "duration": 21,
    "start_time": "2024-06-29T08:25:29.932Z"
   },
   {
    "duration": 47,
    "start_time": "2024-06-29T08:25:29.955Z"
   },
   {
    "duration": 11,
    "start_time": "2024-06-29T08:25:30.004Z"
   },
   {
    "duration": 162,
    "start_time": "2024-06-29T08:25:30.047Z"
   },
   {
    "duration": 85,
    "start_time": "2024-06-29T08:25:30.211Z"
   },
   {
    "duration": 65,
    "start_time": "2024-06-29T08:25:30.298Z"
   },
   {
    "duration": 36,
    "start_time": "2024-06-29T08:25:30.365Z"
   },
   {
    "duration": 54,
    "start_time": "2024-06-29T08:25:30.403Z"
   },
   {
    "duration": 85,
    "start_time": "2024-06-29T08:25:30.459Z"
   },
   {
    "duration": 29,
    "start_time": "2024-06-29T08:25:30.546Z"
   },
   {
    "duration": 42,
    "start_time": "2024-06-29T08:25:30.577Z"
   },
   {
    "duration": 36,
    "start_time": "2024-06-29T08:25:30.621Z"
   },
   {
    "duration": 50,
    "start_time": "2024-06-29T08:25:30.659Z"
   },
   {
    "duration": 69,
    "start_time": "2024-06-29T08:25:30.711Z"
   },
   {
    "duration": 61,
    "start_time": "2024-06-29T08:25:30.783Z"
   },
   {
    "duration": 113,
    "start_time": "2024-06-29T08:32:28.814Z"
   },
   {
    "duration": 2,
    "start_time": "2024-06-29T08:33:28.276Z"
   },
   {
    "duration": 3,
    "start_time": "2024-06-29T08:33:38.727Z"
   },
   {
    "duration": 6,
    "start_time": "2024-06-29T08:33:39.218Z"
   },
   {
    "duration": 1102,
    "start_time": "2024-06-29T08:33:54.006Z"
   },
   {
    "duration": 68,
    "start_time": "2024-06-29T08:33:55.110Z"
   },
   {
    "duration": 11,
    "start_time": "2024-06-29T08:33:55.180Z"
   },
   {
    "duration": 22,
    "start_time": "2024-06-29T08:33:55.193Z"
   },
   {
    "duration": 21,
    "start_time": "2024-06-29T08:33:55.217Z"
   },
   {
    "duration": 13,
    "start_time": "2024-06-29T08:33:55.240Z"
   },
   {
    "duration": 7,
    "start_time": "2024-06-29T08:33:55.255Z"
   },
   {
    "duration": 16,
    "start_time": "2024-06-29T08:33:55.264Z"
   },
   {
    "duration": 18,
    "start_time": "2024-06-29T08:33:55.282Z"
   },
   {
    "duration": 9,
    "start_time": "2024-06-29T08:33:55.303Z"
   },
   {
    "duration": 6,
    "start_time": "2024-06-29T08:33:55.313Z"
   },
   {
    "duration": 7,
    "start_time": "2024-06-29T08:33:55.320Z"
   },
   {
    "duration": 15,
    "start_time": "2024-06-29T08:33:55.345Z"
   },
   {
    "duration": 18,
    "start_time": "2024-06-29T08:33:55.361Z"
   },
   {
    "duration": 31,
    "start_time": "2024-06-29T08:33:55.381Z"
   },
   {
    "duration": 43,
    "start_time": "2024-06-29T08:33:55.413Z"
   },
   {
    "duration": 35,
    "start_time": "2024-06-29T08:33:55.459Z"
   },
   {
    "duration": 14,
    "start_time": "2024-06-29T08:33:55.496Z"
   },
   {
    "duration": 12,
    "start_time": "2024-06-29T08:33:55.512Z"
   },
   {
    "duration": 190,
    "start_time": "2024-06-29T08:33:55.526Z"
   },
   {
    "duration": 96,
    "start_time": "2024-06-29T08:33:55.718Z"
   },
   {
    "duration": 307,
    "start_time": "2024-06-29T08:33:55.815Z"
   },
   {
    "duration": 178,
    "start_time": "2024-06-29T08:33:56.124Z"
   },
   {
    "duration": 176,
    "start_time": "2024-06-29T08:33:56.304Z"
   },
   {
    "duration": 154,
    "start_time": "2024-06-29T08:33:56.482Z"
   },
   {
    "duration": 22,
    "start_time": "2024-06-29T08:33:56.638Z"
   },
   {
    "duration": 15,
    "start_time": "2024-06-29T08:33:56.662Z"
   },
   {
    "duration": 30,
    "start_time": "2024-06-29T08:33:56.682Z"
   },
   {
    "duration": 56,
    "start_time": "2024-06-29T08:33:56.714Z"
   },
   {
    "duration": 14,
    "start_time": "2024-06-29T08:33:56.771Z"
   },
   {
    "duration": 11,
    "start_time": "2024-06-29T08:33:56.787Z"
   },
   {
    "duration": 34,
    "start_time": "2024-06-29T08:33:56.799Z"
   },
   {
    "duration": 36,
    "start_time": "2024-06-29T08:33:56.836Z"
   },
   {
    "duration": 34,
    "start_time": "2024-06-29T08:33:56.873Z"
   },
   {
    "duration": 212,
    "start_time": "2024-06-29T08:33:56.909Z"
   },
   {
    "duration": 168,
    "start_time": "2024-06-29T08:33:57.123Z"
   },
   {
    "duration": 249,
    "start_time": "2024-06-29T08:33:57.292Z"
   },
   {
    "duration": 174,
    "start_time": "2024-06-29T08:33:57.543Z"
   },
   {
    "duration": 8,
    "start_time": "2024-06-29T08:33:57.719Z"
   },
   {
    "duration": 38,
    "start_time": "2024-06-29T08:33:57.728Z"
   },
   {
    "duration": 6,
    "start_time": "2024-06-29T08:33:57.768Z"
   },
   {
    "duration": 30,
    "start_time": "2024-06-29T08:33:57.776Z"
   },
   {
    "duration": 6,
    "start_time": "2024-06-29T08:33:57.808Z"
   },
   {
    "duration": 33,
    "start_time": "2024-06-29T08:33:57.815Z"
   },
   {
    "duration": 5,
    "start_time": "2024-06-29T08:33:57.850Z"
   },
   {
    "duration": 16,
    "start_time": "2024-06-29T08:33:57.857Z"
   },
   {
    "duration": 21,
    "start_time": "2024-06-29T08:33:57.875Z"
   },
   {
    "duration": 7,
    "start_time": "2024-06-29T08:33:57.898Z"
   },
   {
    "duration": 8,
    "start_time": "2024-06-29T08:33:57.907Z"
   },
   {
    "duration": 5,
    "start_time": "2024-06-29T08:33:57.916Z"
   },
   {
    "duration": 8,
    "start_time": "2024-06-29T08:33:57.923Z"
   },
   {
    "duration": 10,
    "start_time": "2024-06-29T08:33:57.933Z"
   },
   {
    "duration": 17,
    "start_time": "2024-06-29T08:33:57.946Z"
   },
   {
    "duration": 13,
    "start_time": "2024-06-29T08:33:57.965Z"
   },
   {
    "duration": 6,
    "start_time": "2024-06-29T08:38:44.101Z"
   },
   {
    "duration": 6,
    "start_time": "2024-06-29T08:39:05.936Z"
   },
   {
    "duration": 3,
    "start_time": "2024-06-29T08:39:29.603Z"
   },
   {
    "duration": 1175,
    "start_time": "2024-06-29T08:39:40.244Z"
   },
   {
    "duration": 68,
    "start_time": "2024-06-29T08:39:41.421Z"
   },
   {
    "duration": 12,
    "start_time": "2024-06-29T08:39:41.491Z"
   },
   {
    "duration": 20,
    "start_time": "2024-06-29T08:39:41.505Z"
   },
   {
    "duration": 115,
    "start_time": "2024-06-29T08:39:41.527Z"
   },
   {
    "duration": 48,
    "start_time": "2024-06-29T08:39:41.644Z"
   },
   {
    "duration": 21,
    "start_time": "2024-06-29T08:39:41.694Z"
   },
   {
    "duration": 11,
    "start_time": "2024-06-29T08:39:41.717Z"
   },
   {
    "duration": 8,
    "start_time": "2024-06-29T08:39:41.730Z"
   },
   {
    "duration": 11,
    "start_time": "2024-06-29T08:39:41.741Z"
   },
   {
    "duration": 68,
    "start_time": "2024-06-29T08:39:41.754Z"
   },
   {
    "duration": 62,
    "start_time": "2024-06-29T08:39:41.824Z"
   },
   {
    "duration": 30,
    "start_time": "2024-06-29T08:39:41.888Z"
   },
   {
    "duration": 11,
    "start_time": "2024-06-29T08:39:41.920Z"
   },
   {
    "duration": 6,
    "start_time": "2024-06-29T08:39:41.933Z"
   },
   {
    "duration": 13,
    "start_time": "2024-06-29T08:39:41.940Z"
   },
   {
    "duration": 10,
    "start_time": "2024-06-29T08:39:41.955Z"
   },
   {
    "duration": 6,
    "start_time": "2024-06-29T08:39:41.966Z"
   },
   {
    "duration": 10,
    "start_time": "2024-06-29T08:39:41.974Z"
   },
   {
    "duration": 187,
    "start_time": "2024-06-29T08:39:41.985Z"
   },
   {
    "duration": 96,
    "start_time": "2024-06-29T08:39:42.173Z"
   },
   {
    "duration": 303,
    "start_time": "2024-06-29T08:39:42.272Z"
   },
   {
    "duration": 388,
    "start_time": "2024-06-29T08:39:42.577Z"
   },
   {
    "duration": 382,
    "start_time": "2024-06-29T08:39:42.967Z"
   },
   {
    "duration": 231,
    "start_time": "2024-06-29T08:39:43.351Z"
   },
   {
    "duration": 68,
    "start_time": "2024-06-29T08:39:43.583Z"
   },
   {
    "duration": 12,
    "start_time": "2024-06-29T08:39:43.653Z"
   },
   {
    "duration": 20,
    "start_time": "2024-06-29T08:39:43.668Z"
   },
   {
    "duration": 64,
    "start_time": "2024-06-29T08:39:43.690Z"
   },
   {
    "duration": 14,
    "start_time": "2024-06-29T08:39:43.756Z"
   },
   {
    "duration": 21,
    "start_time": "2024-06-29T08:39:43.772Z"
   },
   {
    "duration": 61,
    "start_time": "2024-06-29T08:39:43.795Z"
   },
   {
    "duration": 16,
    "start_time": "2024-06-29T08:39:43.858Z"
   },
   {
    "duration": 72,
    "start_time": "2024-06-29T08:39:43.876Z"
   },
   {
    "duration": 240,
    "start_time": "2024-06-29T08:39:43.949Z"
   },
   {
    "duration": 287,
    "start_time": "2024-06-29T08:39:44.192Z"
   },
   {
    "duration": 498,
    "start_time": "2024-06-29T08:39:44.481Z"
   },
   {
    "duration": 365,
    "start_time": "2024-06-29T08:39:44.981Z"
   },
   {
    "duration": 8,
    "start_time": "2024-06-29T08:39:45.348Z"
   },
   {
    "duration": 109,
    "start_time": "2024-06-29T08:39:45.358Z"
   },
   {
    "duration": 100,
    "start_time": "2024-06-29T08:39:45.469Z"
   },
   {
    "duration": 40,
    "start_time": "2024-06-29T08:39:45.570Z"
   },
   {
    "duration": 7,
    "start_time": "2024-06-29T08:39:45.645Z"
   },
   {
    "duration": 20,
    "start_time": "2024-06-29T08:39:45.653Z"
   },
   {
    "duration": 6,
    "start_time": "2024-06-29T08:39:45.675Z"
   },
   {
    "duration": 69,
    "start_time": "2024-06-29T08:39:45.683Z"
   },
   {
    "duration": 32,
    "start_time": "2024-06-29T08:39:45.754Z"
   },
   {
    "duration": 25,
    "start_time": "2024-06-29T08:39:45.788Z"
   },
   {
    "duration": 164,
    "start_time": "2024-06-29T08:39:45.815Z"
   },
   {
    "duration": 10,
    "start_time": "2024-06-29T08:39:45.981Z"
   },
   {
    "duration": 10,
    "start_time": "2024-06-29T08:39:45.993Z"
   },
   {
    "duration": 22,
    "start_time": "2024-06-29T08:39:46.004Z"
   },
   {
    "duration": 14,
    "start_time": "2024-06-29T08:39:46.028Z"
   },
   {
    "duration": 5,
    "start_time": "2024-06-29T08:39:46.044Z"
   },
   {
    "duration": 14,
    "start_time": "2024-06-29T08:39:46.051Z"
   },
   {
    "duration": 7,
    "start_time": "2024-06-29T08:40:00.535Z"
   },
   {
    "duration": 7,
    "start_time": "2024-06-29T08:41:05.616Z"
   },
   {
    "duration": 1403,
    "start_time": "2024-06-29T09:00:06.874Z"
   },
   {
    "duration": 207,
    "start_time": "2024-06-29T09:00:08.280Z"
   },
   {
    "duration": 15,
    "start_time": "2024-06-29T09:00:08.488Z"
   },
   {
    "duration": 18,
    "start_time": "2024-06-29T09:00:08.505Z"
   },
   {
    "duration": 28,
    "start_time": "2024-06-29T09:00:08.524Z"
   },
   {
    "duration": 31,
    "start_time": "2024-06-29T09:00:08.554Z"
   },
   {
    "duration": 9,
    "start_time": "2024-06-29T09:00:08.587Z"
   },
   {
    "duration": 31,
    "start_time": "2024-06-29T09:00:08.598Z"
   },
   {
    "duration": 13,
    "start_time": "2024-06-29T09:00:08.632Z"
   },
   {
    "duration": 35,
    "start_time": "2024-06-29T09:00:08.649Z"
   },
   {
    "duration": 19,
    "start_time": "2024-06-29T09:00:08.686Z"
   },
   {
    "duration": 20,
    "start_time": "2024-06-29T09:00:08.707Z"
   },
   {
    "duration": 18,
    "start_time": "2024-06-29T09:00:08.729Z"
   },
   {
    "duration": 19,
    "start_time": "2024-06-29T09:00:08.749Z"
   },
   {
    "duration": 10,
    "start_time": "2024-06-29T09:00:08.770Z"
   },
   {
    "duration": 43,
    "start_time": "2024-06-29T09:00:08.782Z"
   },
   {
    "duration": 8,
    "start_time": "2024-06-29T09:00:08.827Z"
   },
   {
    "duration": 17,
    "start_time": "2024-06-29T09:00:08.837Z"
   },
   {
    "duration": 50,
    "start_time": "2024-06-29T09:00:08.855Z"
   },
   {
    "duration": 247,
    "start_time": "2024-06-29T09:00:08.907Z"
   },
   {
    "duration": 97,
    "start_time": "2024-06-29T09:00:09.156Z"
   },
   {
    "duration": 290,
    "start_time": "2024-06-29T09:00:09.255Z"
   },
   {
    "duration": 181,
    "start_time": "2024-06-29T09:00:09.547Z"
   },
   {
    "duration": 194,
    "start_time": "2024-06-29T09:00:09.730Z"
   },
   {
    "duration": 181,
    "start_time": "2024-06-29T09:00:09.926Z"
   },
   {
    "duration": 18,
    "start_time": "2024-06-29T09:00:10.109Z"
   },
   {
    "duration": 29,
    "start_time": "2024-06-29T09:00:10.129Z"
   },
   {
    "duration": 16,
    "start_time": "2024-06-29T09:00:10.162Z"
   },
   {
    "duration": 18,
    "start_time": "2024-06-29T09:00:10.179Z"
   },
   {
    "duration": 32,
    "start_time": "2024-06-29T09:00:10.199Z"
   },
   {
    "duration": 30,
    "start_time": "2024-06-29T09:00:10.233Z"
   },
   {
    "duration": 16,
    "start_time": "2024-06-29T09:00:10.264Z"
   },
   {
    "duration": 15,
    "start_time": "2024-06-29T09:00:10.281Z"
   },
   {
    "duration": 13,
    "start_time": "2024-06-29T09:00:10.298Z"
   },
   {
    "duration": 180,
    "start_time": "2024-06-29T09:00:10.313Z"
   },
   {
    "duration": 185,
    "start_time": "2024-06-29T09:00:10.494Z"
   },
   {
    "duration": 274,
    "start_time": "2024-06-29T09:00:10.680Z"
   },
   {
    "duration": 328,
    "start_time": "2024-06-29T09:00:10.956Z"
   },
   {
    "duration": 61,
    "start_time": "2024-06-29T09:00:11.286Z"
   },
   {
    "duration": 29,
    "start_time": "2024-06-29T09:00:11.348Z"
   },
   {
    "duration": 6,
    "start_time": "2024-06-29T09:00:11.379Z"
   },
   {
    "duration": 79,
    "start_time": "2024-06-29T09:00:11.387Z"
   },
   {
    "duration": 6,
    "start_time": "2024-06-29T09:00:11.468Z"
   },
   {
    "duration": 9,
    "start_time": "2024-06-29T09:00:11.475Z"
   },
   {
    "duration": 7,
    "start_time": "2024-06-29T09:00:11.486Z"
   },
   {
    "duration": 11,
    "start_time": "2024-06-29T09:00:11.546Z"
   },
   {
    "duration": 21,
    "start_time": "2024-06-29T09:00:11.559Z"
   },
   {
    "duration": 28,
    "start_time": "2024-06-29T09:00:11.581Z"
   },
   {
    "duration": 40,
    "start_time": "2024-06-29T09:00:11.611Z"
   },
   {
    "duration": 9,
    "start_time": "2024-06-29T09:00:11.652Z"
   },
   {
    "duration": 8,
    "start_time": "2024-06-29T09:00:11.663Z"
   },
   {
    "duration": 11,
    "start_time": "2024-06-29T09:00:11.672Z"
   },
   {
    "duration": 11,
    "start_time": "2024-06-29T09:00:11.685Z"
   },
   {
    "duration": 167,
    "start_time": "2024-06-29T09:00:11.697Z"
   },
   {
    "duration": 26,
    "start_time": "2024-06-29T09:00:11.866Z"
   },
   {
    "duration": 17,
    "start_time": "2024-06-29T09:01:01.824Z"
   },
   {
    "duration": 1399,
    "start_time": "2024-06-30T16:59:26.245Z"
   },
   {
    "duration": 200,
    "start_time": "2024-06-30T16:59:27.646Z"
   },
   {
    "duration": 13,
    "start_time": "2024-06-30T16:59:27.848Z"
   },
   {
    "duration": 14,
    "start_time": "2024-06-30T16:59:27.864Z"
   },
   {
    "duration": 17,
    "start_time": "2024-06-30T16:59:27.880Z"
   },
   {
    "duration": 14,
    "start_time": "2024-06-30T16:59:27.898Z"
   },
   {
    "duration": 20,
    "start_time": "2024-06-30T16:59:27.914Z"
   },
   {
    "duration": 11,
    "start_time": "2024-06-30T16:59:27.936Z"
   },
   {
    "duration": 18,
    "start_time": "2024-06-30T16:59:27.949Z"
   },
   {
    "duration": 13,
    "start_time": "2024-06-30T16:59:27.970Z"
   },
   {
    "duration": 5,
    "start_time": "2024-06-30T16:59:27.985Z"
   },
   {
    "duration": 6,
    "start_time": "2024-06-30T16:59:27.991Z"
   },
   {
    "duration": 6,
    "start_time": "2024-06-30T16:59:27.998Z"
   },
   {
    "duration": 6,
    "start_time": "2024-06-30T16:59:28.006Z"
   },
   {
    "duration": 6,
    "start_time": "2024-06-30T16:59:28.013Z"
   },
   {
    "duration": 10,
    "start_time": "2024-06-30T16:59:28.020Z"
   },
   {
    "duration": 52,
    "start_time": "2024-06-30T16:59:28.032Z"
   },
   {
    "duration": 5,
    "start_time": "2024-06-30T16:59:28.086Z"
   },
   {
    "duration": 10,
    "start_time": "2024-06-30T16:59:28.093Z"
   },
   {
    "duration": 203,
    "start_time": "2024-06-30T16:59:28.105Z"
   },
   {
    "duration": 105,
    "start_time": "2024-06-30T16:59:28.310Z"
   },
   {
    "duration": 286,
    "start_time": "2024-06-30T16:59:28.417Z"
   },
   {
    "duration": 203,
    "start_time": "2024-06-30T16:59:28.705Z"
   },
   {
    "duration": 191,
    "start_time": "2024-06-30T16:59:28.910Z"
   },
   {
    "duration": 139,
    "start_time": "2024-06-30T16:59:29.103Z"
   },
   {
    "duration": 17,
    "start_time": "2024-06-30T16:59:29.243Z"
   },
   {
    "duration": 28,
    "start_time": "2024-06-30T16:59:29.262Z"
   },
   {
    "duration": 10,
    "start_time": "2024-06-30T16:59:29.294Z"
   },
   {
    "duration": 12,
    "start_time": "2024-06-30T16:59:29.306Z"
   },
   {
    "duration": 15,
    "start_time": "2024-06-30T16:59:29.320Z"
   },
   {
    "duration": 10,
    "start_time": "2024-06-30T16:59:29.337Z"
   },
   {
    "duration": 40,
    "start_time": "2024-06-30T16:59:29.349Z"
   },
   {
    "duration": 12,
    "start_time": "2024-06-30T16:59:29.390Z"
   },
   {
    "duration": 13,
    "start_time": "2024-06-30T16:59:29.404Z"
   },
   {
    "duration": 203,
    "start_time": "2024-06-30T16:59:29.419Z"
   },
   {
    "duration": 178,
    "start_time": "2024-06-30T16:59:29.624Z"
   },
   {
    "duration": 259,
    "start_time": "2024-06-30T16:59:29.804Z"
   },
   {
    "duration": 191,
    "start_time": "2024-06-30T16:59:30.065Z"
   },
   {
    "duration": 9,
    "start_time": "2024-06-30T16:59:30.258Z"
   },
   {
    "duration": 80,
    "start_time": "2024-06-30T16:59:30.269Z"
   },
   {
    "duration": 29,
    "start_time": "2024-06-30T16:59:30.351Z"
   },
   {
    "duration": 59,
    "start_time": "2024-06-30T16:59:30.382Z"
   },
   {
    "duration": 38,
    "start_time": "2024-06-30T16:59:30.443Z"
   },
   {
    "duration": 1156,
    "start_time": "2024-06-30T16:59:30.483Z"
   },
   {
    "duration": 0,
    "start_time": "2024-06-30T16:59:31.640Z"
   },
   {
    "duration": 1,
    "start_time": "2024-06-30T16:59:31.641Z"
   },
   {
    "duration": 0,
    "start_time": "2024-06-30T16:59:31.643Z"
   },
   {
    "duration": 0,
    "start_time": "2024-06-30T16:59:31.644Z"
   },
   {
    "duration": 0,
    "start_time": "2024-06-30T16:59:31.645Z"
   },
   {
    "duration": 0,
    "start_time": "2024-06-30T16:59:31.646Z"
   },
   {
    "duration": 0,
    "start_time": "2024-06-30T16:59:31.647Z"
   },
   {
    "duration": 0,
    "start_time": "2024-06-30T16:59:31.648Z"
   },
   {
    "duration": 0,
    "start_time": "2024-06-30T16:59:31.649Z"
   },
   {
    "duration": 0,
    "start_time": "2024-06-30T16:59:31.650Z"
   },
   {
    "duration": 0,
    "start_time": "2024-06-30T16:59:31.651Z"
   },
   {
    "duration": 0,
    "start_time": "2024-06-30T16:59:31.653Z"
   },
   {
    "duration": 9,
    "start_time": "2024-06-30T17:02:36.570Z"
   },
   {
    "duration": 1134,
    "start_time": "2024-06-30T17:02:41.316Z"
   },
   {
    "duration": 74,
    "start_time": "2024-06-30T17:02:42.452Z"
   },
   {
    "duration": 13,
    "start_time": "2024-06-30T17:02:42.528Z"
   },
   {
    "duration": 12,
    "start_time": "2024-06-30T17:02:42.543Z"
   },
   {
    "duration": 21,
    "start_time": "2024-06-30T17:02:42.558Z"
   },
   {
    "duration": 20,
    "start_time": "2024-06-30T17:02:42.581Z"
   },
   {
    "duration": 7,
    "start_time": "2024-06-30T17:02:42.603Z"
   },
   {
    "duration": 23,
    "start_time": "2024-06-30T17:02:42.611Z"
   },
   {
    "duration": 39,
    "start_time": "2024-06-30T17:02:42.635Z"
   },
   {
    "duration": 7,
    "start_time": "2024-06-30T17:02:42.675Z"
   },
   {
    "duration": 11,
    "start_time": "2024-06-30T17:02:42.683Z"
   },
   {
    "duration": 9,
    "start_time": "2024-06-30T17:02:42.696Z"
   },
   {
    "duration": 7,
    "start_time": "2024-06-30T17:02:42.707Z"
   },
   {
    "duration": 20,
    "start_time": "2024-06-30T17:02:42.717Z"
   },
   {
    "duration": 8,
    "start_time": "2024-06-30T17:02:42.738Z"
   },
   {
    "duration": 10,
    "start_time": "2024-06-30T17:02:42.748Z"
   },
   {
    "duration": 23,
    "start_time": "2024-06-30T17:02:42.759Z"
   },
   {
    "duration": 8,
    "start_time": "2024-06-30T17:02:42.783Z"
   },
   {
    "duration": 25,
    "start_time": "2024-06-30T17:02:42.793Z"
   },
   {
    "duration": 180,
    "start_time": "2024-06-30T17:02:42.819Z"
   },
   {
    "duration": 106,
    "start_time": "2024-06-30T17:02:43.000Z"
   },
   {
    "duration": 299,
    "start_time": "2024-06-30T17:02:43.108Z"
   },
   {
    "duration": 224,
    "start_time": "2024-06-30T17:02:43.409Z"
   },
   {
    "duration": 203,
    "start_time": "2024-06-30T17:02:43.635Z"
   },
   {
    "duration": 150,
    "start_time": "2024-06-30T17:02:43.841Z"
   },
   {
    "duration": 18,
    "start_time": "2024-06-30T17:02:43.993Z"
   },
   {
    "duration": 17,
    "start_time": "2024-06-30T17:02:44.012Z"
   },
   {
    "duration": 20,
    "start_time": "2024-06-30T17:02:44.031Z"
   },
   {
    "duration": 31,
    "start_time": "2024-06-30T17:02:44.053Z"
   },
   {
    "duration": 15,
    "start_time": "2024-06-30T17:02:44.086Z"
   },
   {
    "duration": 21,
    "start_time": "2024-06-30T17:02:44.103Z"
   },
   {
    "duration": 17,
    "start_time": "2024-06-30T17:02:44.126Z"
   },
   {
    "duration": 14,
    "start_time": "2024-06-30T17:02:44.145Z"
   },
   {
    "duration": 23,
    "start_time": "2024-06-30T17:02:44.160Z"
   },
   {
    "duration": 180,
    "start_time": "2024-06-30T17:02:44.185Z"
   },
   {
    "duration": 194,
    "start_time": "2024-06-30T17:02:44.367Z"
   },
   {
    "duration": 247,
    "start_time": "2024-06-30T17:02:44.562Z"
   },
   {
    "duration": 160,
    "start_time": "2024-06-30T17:02:44.810Z"
   },
   {
    "duration": 18,
    "start_time": "2024-06-30T17:02:44.971Z"
   },
   {
    "duration": 30,
    "start_time": "2024-06-30T17:02:44.990Z"
   },
   {
    "duration": 40,
    "start_time": "2024-06-30T17:02:45.024Z"
   },
   {
    "duration": 26,
    "start_time": "2024-06-30T17:02:45.066Z"
   },
   {
    "duration": 29,
    "start_time": "2024-06-30T17:02:45.094Z"
   },
   {
    "duration": 19,
    "start_time": "2024-06-30T17:02:45.124Z"
   },
   {
    "duration": 26,
    "start_time": "2024-06-30T17:02:45.144Z"
   },
   {
    "duration": 19,
    "start_time": "2024-06-30T17:02:45.172Z"
   },
   {
    "duration": 29,
    "start_time": "2024-06-30T17:02:45.193Z"
   },
   {
    "duration": 69,
    "start_time": "2024-06-30T17:02:45.224Z"
   },
   {
    "duration": 9,
    "start_time": "2024-06-30T17:02:45.295Z"
   },
   {
    "duration": 48,
    "start_time": "2024-06-30T17:02:45.305Z"
   },
   {
    "duration": 22,
    "start_time": "2024-06-30T17:02:45.355Z"
   },
   {
    "duration": 17,
    "start_time": "2024-06-30T17:02:45.378Z"
   },
   {
    "duration": 9,
    "start_time": "2024-06-30T17:02:45.396Z"
   },
   {
    "duration": 18,
    "start_time": "2024-06-30T17:02:45.407Z"
   },
   {
    "duration": 12,
    "start_time": "2024-06-30T17:02:45.427Z"
   },
   {
    "duration": 22,
    "start_time": "2024-06-30T17:02:45.441Z"
   },
   {
    "duration": 6,
    "start_time": "2024-06-30T17:03:51.691Z"
   },
   {
    "duration": 11,
    "start_time": "2024-06-30T17:03:52.430Z"
   },
   {
    "duration": 1199,
    "start_time": "2024-06-30T17:03:59.414Z"
   },
   {
    "duration": 70,
    "start_time": "2024-06-30T17:04:00.615Z"
   },
   {
    "duration": 12,
    "start_time": "2024-06-30T17:04:00.690Z"
   },
   {
    "duration": 22,
    "start_time": "2024-06-30T17:04:00.703Z"
   },
   {
    "duration": 43,
    "start_time": "2024-06-30T17:04:00.727Z"
   },
   {
    "duration": 47,
    "start_time": "2024-06-30T17:04:00.773Z"
   },
   {
    "duration": 74,
    "start_time": "2024-06-30T17:04:00.822Z"
   },
   {
    "duration": 43,
    "start_time": "2024-06-30T17:04:00.898Z"
   },
   {
    "duration": 48,
    "start_time": "2024-06-30T17:04:00.944Z"
   },
   {
    "duration": 27,
    "start_time": "2024-06-30T17:04:00.994Z"
   },
   {
    "duration": 42,
    "start_time": "2024-06-30T17:04:01.022Z"
   },
   {
    "duration": 28,
    "start_time": "2024-06-30T17:04:01.066Z"
   },
   {
    "duration": 31,
    "start_time": "2024-06-30T17:04:01.095Z"
   },
   {
    "duration": 39,
    "start_time": "2024-06-30T17:04:01.128Z"
   },
   {
    "duration": 21,
    "start_time": "2024-06-30T17:04:01.169Z"
   },
   {
    "duration": 58,
    "start_time": "2024-06-30T17:04:01.192Z"
   },
   {
    "duration": 22,
    "start_time": "2024-06-30T17:04:01.252Z"
   },
   {
    "duration": 50,
    "start_time": "2024-06-30T17:04:01.275Z"
   },
   {
    "duration": 76,
    "start_time": "2024-06-30T17:04:01.327Z"
   },
   {
    "duration": 205,
    "start_time": "2024-06-30T17:04:01.405Z"
   },
   {
    "duration": 103,
    "start_time": "2024-06-30T17:04:01.612Z"
   },
   {
    "duration": 298,
    "start_time": "2024-06-30T17:04:01.716Z"
   },
   {
    "duration": 193,
    "start_time": "2024-06-30T17:04:02.016Z"
   },
   {
    "duration": 207,
    "start_time": "2024-06-30T17:04:02.211Z"
   },
   {
    "duration": 143,
    "start_time": "2024-06-30T17:04:02.420Z"
   },
   {
    "duration": 27,
    "start_time": "2024-06-30T17:04:02.565Z"
   },
   {
    "duration": 24,
    "start_time": "2024-06-30T17:04:02.597Z"
   },
   {
    "duration": 20,
    "start_time": "2024-06-30T17:04:02.622Z"
   },
   {
    "duration": 13,
    "start_time": "2024-06-30T17:04:02.643Z"
   },
   {
    "duration": 15,
    "start_time": "2024-06-30T17:04:02.658Z"
   },
   {
    "duration": 18,
    "start_time": "2024-06-30T17:04:02.674Z"
   },
   {
    "duration": 23,
    "start_time": "2024-06-30T17:04:02.694Z"
   },
   {
    "duration": 18,
    "start_time": "2024-06-30T17:04:02.719Z"
   },
   {
    "duration": 13,
    "start_time": "2024-06-30T17:04:02.738Z"
   },
   {
    "duration": 208,
    "start_time": "2024-06-30T17:04:02.752Z"
   },
   {
    "duration": 190,
    "start_time": "2024-06-30T17:04:02.961Z"
   },
   {
    "duration": 252,
    "start_time": "2024-06-30T17:04:03.153Z"
   },
   {
    "duration": 177,
    "start_time": "2024-06-30T17:04:03.407Z"
   },
   {
    "duration": 9,
    "start_time": "2024-06-30T17:04:03.586Z"
   },
   {
    "duration": 30,
    "start_time": "2024-06-30T17:04:03.596Z"
   },
   {
    "duration": 7,
    "start_time": "2024-06-30T17:04:03.627Z"
   },
   {
    "duration": 50,
    "start_time": "2024-06-30T17:04:03.636Z"
   },
   {
    "duration": 7,
    "start_time": "2024-06-30T17:04:03.688Z"
   },
   {
    "duration": 27,
    "start_time": "2024-06-30T17:04:03.696Z"
   },
   {
    "duration": 6,
    "start_time": "2024-06-30T17:04:03.725Z"
   },
   {
    "duration": 11,
    "start_time": "2024-06-30T17:04:03.732Z"
   },
   {
    "duration": 10,
    "start_time": "2024-06-30T17:04:03.744Z"
   },
   {
    "duration": 27,
    "start_time": "2024-06-30T17:04:03.756Z"
   },
   {
    "duration": 17,
    "start_time": "2024-06-30T17:04:03.785Z"
   },
   {
    "duration": 3,
    "start_time": "2024-06-30T17:04:03.803Z"
   },
   {
    "duration": 11,
    "start_time": "2024-06-30T17:04:03.807Z"
   },
   {
    "duration": 4,
    "start_time": "2024-06-30T17:04:03.819Z"
   },
   {
    "duration": 10,
    "start_time": "2024-06-30T17:04:03.824Z"
   },
   {
    "duration": 5,
    "start_time": "2024-06-30T17:04:03.835Z"
   },
   {
    "duration": 9,
    "start_time": "2024-06-30T17:04:03.842Z"
   },
   {
    "duration": 8,
    "start_time": "2024-06-30T17:04:03.853Z"
   },
   {
    "duration": 28,
    "start_time": "2024-06-30T17:04:03.862Z"
   },
   {
    "duration": 10,
    "start_time": "2024-06-30T17:04:50.624Z"
   },
   {
    "duration": 5,
    "start_time": "2024-06-30T17:05:28.343Z"
   },
   {
    "duration": 11,
    "start_time": "2024-06-30T17:05:29.554Z"
   },
   {
    "duration": 6,
    "start_time": "2024-06-30T17:05:45.362Z"
   },
   {
    "duration": 10,
    "start_time": "2024-06-30T17:05:45.809Z"
   },
   {
    "duration": 1250,
    "start_time": "2024-06-30T17:06:32.294Z"
   },
   {
    "duration": 0,
    "start_time": "2024-06-30T17:06:33.546Z"
   },
   {
    "duration": 987,
    "start_time": "2024-06-30T17:06:39.653Z"
   },
   {
    "duration": 7,
    "start_time": "2024-06-30T17:06:58.878Z"
   },
   {
    "duration": 11,
    "start_time": "2024-06-30T17:07:00.894Z"
   },
   {
    "duration": 61,
    "start_time": "2024-06-30T17:07:18.783Z"
   },
   {
    "duration": 12,
    "start_time": "2024-06-30T17:07:19.434Z"
   },
   {
    "duration": 8,
    "start_time": "2024-06-30T17:08:03.223Z"
   },
   {
    "duration": 11,
    "start_time": "2024-06-30T17:08:04.037Z"
   },
   {
    "duration": 6,
    "start_time": "2024-06-30T17:08:26.365Z"
   },
   {
    "duration": 11,
    "start_time": "2024-06-30T17:08:27.068Z"
   },
   {
    "duration": 21,
    "start_time": "2024-06-30T17:09:31.324Z"
   },
   {
    "duration": 3,
    "start_time": "2024-06-30T17:10:03.515Z"
   },
   {
    "duration": 10,
    "start_time": "2024-06-30T17:10:03.893Z"
   },
   {
    "duration": 11,
    "start_time": "2024-06-30T17:10:10.589Z"
   },
   {
    "duration": 5,
    "start_time": "2024-06-30T17:10:33.450Z"
   },
   {
    "duration": 16,
    "start_time": "2024-06-30T17:11:32.885Z"
   },
   {
    "duration": 4,
    "start_time": "2024-06-30T17:11:47.157Z"
   },
   {
    "duration": 28,
    "start_time": "2024-06-30T17:11:47.579Z"
   },
   {
    "duration": 12,
    "start_time": "2024-06-30T17:11:49.119Z"
   },
   {
    "duration": 3,
    "start_time": "2024-06-30T17:12:50.923Z"
   },
   {
    "duration": 23,
    "start_time": "2024-06-30T17:12:51.914Z"
   },
   {
    "duration": 11,
    "start_time": "2024-06-30T17:12:52.341Z"
   },
   {
    "duration": 3,
    "start_time": "2024-06-30T17:13:02.646Z"
   },
   {
    "duration": 19,
    "start_time": "2024-06-30T17:13:03.181Z"
   },
   {
    "duration": 14,
    "start_time": "2024-06-30T17:13:03.758Z"
   },
   {
    "duration": 7,
    "start_time": "2024-06-30T17:13:42.208Z"
   },
   {
    "duration": 18,
    "start_time": "2024-06-30T17:13:43.116Z"
   },
   {
    "duration": 25,
    "start_time": "2024-06-30T17:15:13.570Z"
   },
   {
    "duration": 22,
    "start_time": "2024-06-30T17:15:18.991Z"
   },
   {
    "duration": 6,
    "start_time": "2024-06-30T17:15:19.465Z"
   },
   {
    "duration": 1155,
    "start_time": "2024-06-30T17:15:23.533Z"
   },
   {
    "duration": 70,
    "start_time": "2024-06-30T17:15:24.690Z"
   },
   {
    "duration": 13,
    "start_time": "2024-06-30T17:15:24.765Z"
   },
   {
    "duration": 40,
    "start_time": "2024-06-30T17:15:24.780Z"
   },
   {
    "duration": 20,
    "start_time": "2024-06-30T17:15:24.822Z"
   },
   {
    "duration": 22,
    "start_time": "2024-06-30T17:15:24.844Z"
   },
   {
    "duration": 28,
    "start_time": "2024-06-30T17:15:24.868Z"
   },
   {
    "duration": 18,
    "start_time": "2024-06-30T17:15:24.898Z"
   },
   {
    "duration": 11,
    "start_time": "2024-06-30T17:15:24.920Z"
   },
   {
    "duration": 7,
    "start_time": "2024-06-30T17:15:24.933Z"
   },
   {
    "duration": 22,
    "start_time": "2024-06-30T17:15:24.942Z"
   },
   {
    "duration": 17,
    "start_time": "2024-06-30T17:15:24.965Z"
   },
   {
    "duration": 25,
    "start_time": "2024-06-30T17:15:24.984Z"
   },
   {
    "duration": 17,
    "start_time": "2024-06-30T17:15:25.010Z"
   },
   {
    "duration": 46,
    "start_time": "2024-06-30T17:15:25.029Z"
   },
   {
    "duration": 35,
    "start_time": "2024-06-30T17:15:25.077Z"
   },
   {
    "duration": 7,
    "start_time": "2024-06-30T17:15:25.114Z"
   },
   {
    "duration": 6,
    "start_time": "2024-06-30T17:15:25.123Z"
   },
   {
    "duration": 20,
    "start_time": "2024-06-30T17:15:25.131Z"
   },
   {
    "duration": 198,
    "start_time": "2024-06-30T17:15:25.153Z"
   },
   {
    "duration": 107,
    "start_time": "2024-06-30T17:15:25.353Z"
   },
   {
    "duration": 285,
    "start_time": "2024-06-30T17:15:25.461Z"
   },
   {
    "duration": 201,
    "start_time": "2024-06-30T17:15:25.748Z"
   },
   {
    "duration": 180,
    "start_time": "2024-06-30T17:15:25.951Z"
   },
   {
    "duration": 133,
    "start_time": "2024-06-30T17:15:26.134Z"
   },
   {
    "duration": 24,
    "start_time": "2024-06-30T17:15:26.269Z"
   },
   {
    "duration": 13,
    "start_time": "2024-06-30T17:15:26.298Z"
   },
   {
    "duration": 17,
    "start_time": "2024-06-30T17:15:26.313Z"
   },
   {
    "duration": 12,
    "start_time": "2024-06-30T17:15:26.332Z"
   },
   {
    "duration": 13,
    "start_time": "2024-06-30T17:15:26.346Z"
   },
   {
    "duration": 31,
    "start_time": "2024-06-30T17:15:26.360Z"
   },
   {
    "duration": 12,
    "start_time": "2024-06-30T17:15:26.393Z"
   },
   {
    "duration": 17,
    "start_time": "2024-06-30T17:15:26.407Z"
   },
   {
    "duration": 20,
    "start_time": "2024-06-30T17:15:26.425Z"
   },
   {
    "duration": 191,
    "start_time": "2024-06-30T17:15:26.447Z"
   },
   {
    "duration": 182,
    "start_time": "2024-06-30T17:15:26.640Z"
   },
   {
    "duration": 254,
    "start_time": "2024-06-30T17:15:26.824Z"
   },
   {
    "duration": 187,
    "start_time": "2024-06-30T17:15:27.080Z"
   },
   {
    "duration": 16,
    "start_time": "2024-06-30T17:15:27.268Z"
   },
   {
    "duration": 39,
    "start_time": "2024-06-30T17:15:27.285Z"
   },
   {
    "duration": 5,
    "start_time": "2024-06-30T17:15:27.326Z"
   },
   {
    "duration": 31,
    "start_time": "2024-06-30T17:15:27.333Z"
   },
   {
    "duration": 6,
    "start_time": "2024-06-30T17:15:27.366Z"
   },
   {
    "duration": 23,
    "start_time": "2024-06-30T17:15:27.373Z"
   },
   {
    "duration": 20,
    "start_time": "2024-06-30T17:15:27.397Z"
   },
   {
    "duration": 7,
    "start_time": "2024-06-30T17:15:27.418Z"
   },
   {
    "duration": 11,
    "start_time": "2024-06-30T17:15:27.427Z"
   },
   {
    "duration": 20,
    "start_time": "2024-06-30T17:15:27.439Z"
   },
   {
    "duration": 26,
    "start_time": "2024-06-30T17:15:27.460Z"
   },
   {
    "duration": 17,
    "start_time": "2024-06-30T17:15:27.487Z"
   },
   {
    "duration": 7,
    "start_time": "2024-06-30T17:15:27.505Z"
   },
   {
    "duration": 5,
    "start_time": "2024-06-30T17:15:27.513Z"
   },
   {
    "duration": 3,
    "start_time": "2024-06-30T17:15:27.519Z"
   },
   {
    "duration": 23,
    "start_time": "2024-06-30T17:15:27.523Z"
   },
   {
    "duration": 2,
    "start_time": "2024-06-30T17:15:27.548Z"
   },
   {
    "duration": 10,
    "start_time": "2024-06-30T17:15:27.552Z"
   },
   {
    "duration": 27,
    "start_time": "2024-06-30T17:15:27.563Z"
   },
   {
    "duration": 12,
    "start_time": "2024-06-30T17:15:27.592Z"
   },
   {
    "duration": 6,
    "start_time": "2024-06-30T17:15:50.183Z"
   },
   {
    "duration": 11,
    "start_time": "2024-06-30T17:15:50.556Z"
   },
   {
    "duration": 9,
    "start_time": "2024-06-30T17:15:55.140Z"
   },
   {
    "duration": 6,
    "start_time": "2024-06-30T17:16:01.279Z"
   },
   {
    "duration": 12,
    "start_time": "2024-06-30T17:16:01.753Z"
   },
   {
    "duration": 6,
    "start_time": "2024-06-30T17:16:10.874Z"
   },
   {
    "duration": 6,
    "start_time": "2024-06-30T17:16:11.201Z"
   },
   {
    "duration": 15,
    "start_time": "2024-06-30T17:16:11.859Z"
   },
   {
    "duration": 6,
    "start_time": "2024-06-30T17:16:27.180Z"
   },
   {
    "duration": 16,
    "start_time": "2024-06-30T17:16:27.604Z"
   },
   {
    "duration": 6,
    "start_time": "2024-06-30T17:16:30.714Z"
   },
   {
    "duration": 6,
    "start_time": "2024-06-30T17:16:31.093Z"
   },
   {
    "duration": 12,
    "start_time": "2024-06-30T17:16:31.398Z"
   },
   {
    "duration": 6,
    "start_time": "2024-06-30T17:16:39.518Z"
   },
   {
    "duration": 17,
    "start_time": "2024-06-30T17:16:39.891Z"
   },
   {
    "duration": 6,
    "start_time": "2024-06-30T17:16:42.113Z"
   },
   {
    "duration": 12,
    "start_time": "2024-06-30T17:16:42.583Z"
   },
   {
    "duration": 1143,
    "start_time": "2024-06-30T17:16:55.110Z"
   },
   {
    "duration": 69,
    "start_time": "2024-06-30T17:16:56.255Z"
   },
   {
    "duration": 13,
    "start_time": "2024-06-30T17:16:56.326Z"
   },
   {
    "duration": 19,
    "start_time": "2024-06-30T17:16:56.342Z"
   },
   {
    "duration": 10,
    "start_time": "2024-06-30T17:16:56.363Z"
   },
   {
    "duration": 15,
    "start_time": "2024-06-30T17:16:56.374Z"
   },
   {
    "duration": 8,
    "start_time": "2024-06-30T17:16:56.390Z"
   },
   {
    "duration": 13,
    "start_time": "2024-06-30T17:16:56.400Z"
   },
   {
    "duration": 11,
    "start_time": "2024-06-30T17:16:56.415Z"
   },
   {
    "duration": 6,
    "start_time": "2024-06-30T17:16:56.429Z"
   },
   {
    "duration": 4,
    "start_time": "2024-06-30T17:16:56.436Z"
   },
   {
    "duration": 20,
    "start_time": "2024-06-30T17:16:56.442Z"
   },
   {
    "duration": 23,
    "start_time": "2024-06-30T17:16:56.463Z"
   },
   {
    "duration": 7,
    "start_time": "2024-06-30T17:16:56.488Z"
   },
   {
    "duration": 7,
    "start_time": "2024-06-30T17:16:56.497Z"
   },
   {
    "duration": 21,
    "start_time": "2024-06-30T17:16:56.505Z"
   },
   {
    "duration": 6,
    "start_time": "2024-06-30T17:16:56.528Z"
   },
   {
    "duration": 7,
    "start_time": "2024-06-30T17:16:56.535Z"
   },
   {
    "duration": 39,
    "start_time": "2024-06-30T17:16:56.544Z"
   },
   {
    "duration": 184,
    "start_time": "2024-06-30T17:16:56.585Z"
   },
   {
    "duration": 98,
    "start_time": "2024-06-30T17:16:56.771Z"
   },
   {
    "duration": 277,
    "start_time": "2024-06-30T17:16:56.881Z"
   },
   {
    "duration": 183,
    "start_time": "2024-06-30T17:16:57.160Z"
   },
   {
    "duration": 182,
    "start_time": "2024-06-30T17:16:57.345Z"
   },
   {
    "duration": 141,
    "start_time": "2024-06-30T17:16:57.529Z"
   },
   {
    "duration": 28,
    "start_time": "2024-06-30T17:16:57.673Z"
   },
   {
    "duration": 13,
    "start_time": "2024-06-30T17:16:57.703Z"
   },
   {
    "duration": 14,
    "start_time": "2024-06-30T17:16:57.722Z"
   },
   {
    "duration": 31,
    "start_time": "2024-06-30T17:16:57.738Z"
   },
   {
    "duration": 24,
    "start_time": "2024-06-30T17:16:57.771Z"
   },
   {
    "duration": 12,
    "start_time": "2024-06-30T17:16:57.796Z"
   },
   {
    "duration": 12,
    "start_time": "2024-06-30T17:16:57.810Z"
   },
   {
    "duration": 9,
    "start_time": "2024-06-30T17:16:57.824Z"
   },
   {
    "duration": 15,
    "start_time": "2024-06-30T17:16:57.834Z"
   },
   {
    "duration": 214,
    "start_time": "2024-06-30T17:16:57.882Z"
   },
   {
    "duration": 181,
    "start_time": "2024-06-30T17:16:58.097Z"
   },
   {
    "duration": 240,
    "start_time": "2024-06-30T17:16:58.282Z"
   },
   {
    "duration": 168,
    "start_time": "2024-06-30T17:16:58.524Z"
   },
   {
    "duration": 8,
    "start_time": "2024-06-30T17:16:58.694Z"
   },
   {
    "duration": 23,
    "start_time": "2024-06-30T17:16:58.704Z"
   },
   {
    "duration": 6,
    "start_time": "2024-06-30T17:16:58.729Z"
   },
   {
    "duration": 54,
    "start_time": "2024-06-30T17:16:58.736Z"
   },
   {
    "duration": 5,
    "start_time": "2024-06-30T17:16:58.792Z"
   },
   {
    "duration": 9,
    "start_time": "2024-06-30T17:16:58.798Z"
   },
   {
    "duration": 5,
    "start_time": "2024-06-30T17:16:58.809Z"
   },
   {
    "duration": 6,
    "start_time": "2024-06-30T17:16:58.815Z"
   },
   {
    "duration": 12,
    "start_time": "2024-06-30T17:16:58.822Z"
   },
   {
    "duration": 11,
    "start_time": "2024-06-30T17:16:58.836Z"
   },
   {
    "duration": 30,
    "start_time": "2024-06-30T17:16:58.884Z"
   },
   {
    "duration": 25,
    "start_time": "2024-06-30T17:16:58.916Z"
   },
   {
    "duration": 4,
    "start_time": "2024-06-30T17:16:58.943Z"
   },
   {
    "duration": 7,
    "start_time": "2024-06-30T17:16:58.949Z"
   },
   {
    "duration": 3,
    "start_time": "2024-06-30T17:16:58.983Z"
   },
   {
    "duration": 14,
    "start_time": "2024-06-30T17:16:58.987Z"
   },
   {
    "duration": 3,
    "start_time": "2024-06-30T17:16:59.002Z"
   },
   {
    "duration": 4,
    "start_time": "2024-06-30T17:16:59.006Z"
   },
   {
    "duration": 4,
    "start_time": "2024-06-30T17:16:59.012Z"
   },
   {
    "duration": 6,
    "start_time": "2024-06-30T17:16:59.017Z"
   },
   {
    "duration": 6,
    "start_time": "2024-06-30T17:18:22.407Z"
   },
   {
    "duration": 19,
    "start_time": "2024-06-30T17:18:23.236Z"
   },
   {
    "duration": 1204,
    "start_time": "2024-06-30T17:18:31.274Z"
   },
   {
    "duration": 77,
    "start_time": "2024-06-30T17:18:32.481Z"
   },
   {
    "duration": 16,
    "start_time": "2024-06-30T17:18:32.560Z"
   },
   {
    "duration": 15,
    "start_time": "2024-06-30T17:18:32.578Z"
   },
   {
    "duration": 25,
    "start_time": "2024-06-30T17:18:32.594Z"
   },
   {
    "duration": 21,
    "start_time": "2024-06-30T17:18:32.620Z"
   },
   {
    "duration": 7,
    "start_time": "2024-06-30T17:18:32.643Z"
   },
   {
    "duration": 19,
    "start_time": "2024-06-30T17:18:32.651Z"
   },
   {
    "duration": 22,
    "start_time": "2024-06-30T17:18:32.672Z"
   },
   {
    "duration": 4,
    "start_time": "2024-06-30T17:18:32.697Z"
   },
   {
    "duration": 6,
    "start_time": "2024-06-30T17:18:32.703Z"
   },
   {
    "duration": 11,
    "start_time": "2024-06-30T17:18:32.710Z"
   },
   {
    "duration": 11,
    "start_time": "2024-06-30T17:18:32.723Z"
   },
   {
    "duration": 14,
    "start_time": "2024-06-30T17:18:32.735Z"
   },
   {
    "duration": 12,
    "start_time": "2024-06-30T17:18:32.750Z"
   },
   {
    "duration": 20,
    "start_time": "2024-06-30T17:18:32.764Z"
   },
   {
    "duration": 8,
    "start_time": "2024-06-30T17:18:32.786Z"
   },
   {
    "duration": 13,
    "start_time": "2024-06-30T17:18:32.795Z"
   },
   {
    "duration": 44,
    "start_time": "2024-06-30T17:18:32.810Z"
   },
   {
    "duration": 176,
    "start_time": "2024-06-30T17:18:32.855Z"
   },
   {
    "duration": 103,
    "start_time": "2024-06-30T17:18:33.032Z"
   },
   {
    "duration": 275,
    "start_time": "2024-06-30T17:18:33.137Z"
   },
   {
    "duration": 198,
    "start_time": "2024-06-30T17:18:33.414Z"
   },
   {
    "duration": 199,
    "start_time": "2024-06-30T17:18:33.622Z"
   },
   {
    "duration": 155,
    "start_time": "2024-06-30T17:18:33.823Z"
   },
   {
    "duration": 24,
    "start_time": "2024-06-30T17:18:33.981Z"
   },
   {
    "duration": 16,
    "start_time": "2024-06-30T17:18:34.007Z"
   },
   {
    "duration": 10,
    "start_time": "2024-06-30T17:18:34.027Z"
   },
   {
    "duration": 18,
    "start_time": "2024-06-30T17:18:34.038Z"
   },
   {
    "duration": 38,
    "start_time": "2024-06-30T17:18:34.058Z"
   },
   {
    "duration": 11,
    "start_time": "2024-06-30T17:18:34.098Z"
   },
   {
    "duration": 13,
    "start_time": "2024-06-30T17:18:34.110Z"
   },
   {
    "duration": 8,
    "start_time": "2024-06-30T17:18:34.125Z"
   },
   {
    "duration": 13,
    "start_time": "2024-06-30T17:18:34.135Z"
   },
   {
    "duration": 233,
    "start_time": "2024-06-30T17:18:34.150Z"
   },
   {
    "duration": 176,
    "start_time": "2024-06-30T17:18:34.385Z"
   },
   {
    "duration": 246,
    "start_time": "2024-06-30T17:18:34.562Z"
   },
   {
    "duration": 171,
    "start_time": "2024-06-30T17:18:34.809Z"
   },
   {
    "duration": 9,
    "start_time": "2024-06-30T17:18:34.982Z"
   },
   {
    "duration": 23,
    "start_time": "2024-06-30T17:18:34.993Z"
   },
   {
    "duration": 5,
    "start_time": "2024-06-30T17:18:35.018Z"
   },
   {
    "duration": 24,
    "start_time": "2024-06-30T17:18:35.024Z"
   },
   {
    "duration": 34,
    "start_time": "2024-06-30T17:18:35.049Z"
   },
   {
    "duration": 18,
    "start_time": "2024-06-30T17:18:35.085Z"
   },
   {
    "duration": 7,
    "start_time": "2024-06-30T17:18:35.104Z"
   },
   {
    "duration": 5,
    "start_time": "2024-06-30T17:18:35.113Z"
   },
   {
    "duration": 12,
    "start_time": "2024-06-30T17:18:35.120Z"
   },
   {
    "duration": 19,
    "start_time": "2024-06-30T17:18:35.133Z"
   },
   {
    "duration": 34,
    "start_time": "2024-06-30T17:18:35.154Z"
   },
   {
    "duration": 15,
    "start_time": "2024-06-30T17:18:35.189Z"
   },
   {
    "duration": 3,
    "start_time": "2024-06-30T17:18:35.205Z"
   },
   {
    "duration": 12,
    "start_time": "2024-06-30T17:18:35.209Z"
   },
   {
    "duration": 14,
    "start_time": "2024-06-30T17:18:35.222Z"
   },
   {
    "duration": 37,
    "start_time": "2024-06-30T17:18:35.237Z"
   },
   {
    "duration": 21,
    "start_time": "2024-06-30T17:18:35.276Z"
   },
   {
    "duration": 20,
    "start_time": "2024-06-30T17:18:35.299Z"
   },
   {
    "duration": 5,
    "start_time": "2024-06-30T17:18:35.321Z"
   },
   {
    "duration": 27,
    "start_time": "2024-06-30T17:18:35.328Z"
   },
   {
    "duration": 6,
    "start_time": "2024-06-30T17:19:13.747Z"
   },
   {
    "duration": 5,
    "start_time": "2024-06-30T17:19:14.156Z"
   },
   {
    "duration": 11,
    "start_time": "2024-06-30T17:19:14.514Z"
   },
   {
    "duration": 9,
    "start_time": "2024-06-30T17:19:41.676Z"
   },
   {
    "duration": 7,
    "start_time": "2024-06-30T17:19:42.065Z"
   },
   {
    "duration": 16,
    "start_time": "2024-06-30T17:19:42.436Z"
   },
   {
    "duration": 1148,
    "start_time": "2024-06-30T17:19:59.321Z"
   },
   {
    "duration": 71,
    "start_time": "2024-06-30T17:20:00.472Z"
   },
   {
    "duration": 51,
    "start_time": "2024-06-30T17:20:00.545Z"
   },
   {
    "duration": 54,
    "start_time": "2024-06-30T17:20:00.598Z"
   },
   {
    "duration": 43,
    "start_time": "2024-06-30T17:20:00.653Z"
   },
   {
    "duration": 46,
    "start_time": "2024-06-30T17:20:00.698Z"
   },
   {
    "duration": 55,
    "start_time": "2024-06-30T17:20:00.745Z"
   },
   {
    "duration": 105,
    "start_time": "2024-06-30T17:20:00.802Z"
   },
   {
    "duration": 32,
    "start_time": "2024-06-30T17:20:00.909Z"
   },
   {
    "duration": 35,
    "start_time": "2024-06-30T17:20:00.945Z"
   },
   {
    "duration": 35,
    "start_time": "2024-06-30T17:20:00.982Z"
   },
   {
    "duration": 43,
    "start_time": "2024-06-30T17:20:01.019Z"
   },
   {
    "duration": 74,
    "start_time": "2024-06-30T17:20:01.063Z"
   },
   {
    "duration": 99,
    "start_time": "2024-06-30T17:20:01.138Z"
   },
   {
    "duration": 78,
    "start_time": "2024-06-30T17:20:01.239Z"
   },
   {
    "duration": 88,
    "start_time": "2024-06-30T17:20:01.318Z"
   },
   {
    "duration": 43,
    "start_time": "2024-06-30T17:20:01.408Z"
   },
   {
    "duration": 81,
    "start_time": "2024-06-30T17:20:01.453Z"
   },
   {
    "duration": 54,
    "start_time": "2024-06-30T17:20:01.536Z"
   },
   {
    "duration": 250,
    "start_time": "2024-06-30T17:20:01.592Z"
   },
   {
    "duration": 108,
    "start_time": "2024-06-30T17:20:01.844Z"
   },
   {
    "duration": 278,
    "start_time": "2024-06-30T17:20:01.954Z"
   },
   {
    "duration": 180,
    "start_time": "2024-06-30T17:20:02.233Z"
   },
   {
    "duration": 188,
    "start_time": "2024-06-30T17:20:02.415Z"
   },
   {
    "duration": 138,
    "start_time": "2024-06-30T17:20:02.604Z"
   },
   {
    "duration": 18,
    "start_time": "2024-06-30T17:20:02.743Z"
   },
   {
    "duration": 26,
    "start_time": "2024-06-30T17:20:02.762Z"
   },
   {
    "duration": 20,
    "start_time": "2024-06-30T17:20:02.793Z"
   },
   {
    "duration": 11,
    "start_time": "2024-06-30T17:20:02.815Z"
   },
   {
    "duration": 19,
    "start_time": "2024-06-30T17:20:02.829Z"
   },
   {
    "duration": 36,
    "start_time": "2024-06-30T17:20:02.850Z"
   },
   {
    "duration": 21,
    "start_time": "2024-06-30T17:20:02.888Z"
   },
   {
    "duration": 16,
    "start_time": "2024-06-30T17:20:02.911Z"
   },
   {
    "duration": 14,
    "start_time": "2024-06-30T17:20:02.928Z"
   },
   {
    "duration": 207,
    "start_time": "2024-06-30T17:20:02.943Z"
   },
   {
    "duration": 186,
    "start_time": "2024-06-30T17:20:03.154Z"
   },
   {
    "duration": 257,
    "start_time": "2024-06-30T17:20:03.341Z"
   },
   {
    "duration": 168,
    "start_time": "2024-06-30T17:20:03.599Z"
   },
   {
    "duration": 16,
    "start_time": "2024-06-30T17:20:03.769Z"
   },
   {
    "duration": 25,
    "start_time": "2024-06-30T17:20:03.786Z"
   },
   {
    "duration": 7,
    "start_time": "2024-06-30T17:20:03.813Z"
   },
   {
    "duration": 34,
    "start_time": "2024-06-30T17:20:03.821Z"
   },
   {
    "duration": 25,
    "start_time": "2024-06-30T17:20:03.857Z"
   },
   {
    "duration": 16,
    "start_time": "2024-06-30T17:20:03.884Z"
   },
   {
    "duration": 12,
    "start_time": "2024-06-30T17:20:03.902Z"
   },
   {
    "duration": 10,
    "start_time": "2024-06-30T17:20:03.916Z"
   },
   {
    "duration": 19,
    "start_time": "2024-06-30T17:20:03.928Z"
   },
   {
    "duration": 36,
    "start_time": "2024-06-30T17:20:03.949Z"
   },
   {
    "duration": 15,
    "start_time": "2024-06-30T17:20:03.987Z"
   },
   {
    "duration": 3,
    "start_time": "2024-06-30T17:20:04.004Z"
   },
   {
    "duration": 8,
    "start_time": "2024-06-30T17:20:04.009Z"
   },
   {
    "duration": 7,
    "start_time": "2024-06-30T17:20:04.019Z"
   },
   {
    "duration": 7,
    "start_time": "2024-06-30T17:20:04.028Z"
   },
   {
    "duration": 15,
    "start_time": "2024-06-30T17:20:04.037Z"
   },
   {
    "duration": 5,
    "start_time": "2024-06-30T17:20:04.054Z"
   },
   {
    "duration": 21,
    "start_time": "2024-06-30T17:20:04.061Z"
   },
   {
    "duration": 6,
    "start_time": "2024-06-30T17:20:04.084Z"
   },
   {
    "duration": 6,
    "start_time": "2024-06-30T17:22:15.768Z"
   },
   {
    "duration": 6,
    "start_time": "2024-06-30T17:22:16.176Z"
   },
   {
    "duration": 11,
    "start_time": "2024-06-30T17:22:16.582Z"
   },
   {
    "duration": 6,
    "start_time": "2024-06-30T17:22:32.497Z"
   },
   {
    "duration": 5,
    "start_time": "2024-06-30T17:24:05.548Z"
   },
   {
    "duration": 7,
    "start_time": "2024-06-30T17:24:05.862Z"
   },
   {
    "duration": 7,
    "start_time": "2024-06-30T17:24:06.263Z"
   },
   {
    "duration": 14,
    "start_time": "2024-06-30T17:24:06.919Z"
   },
   {
    "duration": 22,
    "start_time": "2024-06-30T17:24:47.158Z"
   },
   {
    "duration": 5,
    "start_time": "2024-06-30T17:25:19.397Z"
   },
   {
    "duration": 6,
    "start_time": "2024-06-30T17:25:20.140Z"
   },
   {
    "duration": 13,
    "start_time": "2024-06-30T17:25:20.545Z"
   },
   {
    "duration": 14,
    "start_time": "2024-06-30T17:25:22.584Z"
   },
   {
    "duration": 9,
    "start_time": "2024-06-30T17:25:30.923Z"
   },
   {
    "duration": 18,
    "start_time": "2024-06-30T17:25:43.163Z"
   },
   {
    "duration": 65,
    "start_time": "2024-06-30T17:26:16.606Z"
   },
   {
    "duration": 6,
    "start_time": "2024-06-30T17:31:45.672Z"
   },
   {
    "duration": 5,
    "start_time": "2024-06-30T17:31:55.846Z"
   },
   {
    "duration": 1154,
    "start_time": "2024-06-30T17:33:58.653Z"
   },
   {
    "duration": 71,
    "start_time": "2024-06-30T17:33:59.808Z"
   },
   {
    "duration": 15,
    "start_time": "2024-06-30T17:33:59.889Z"
   },
   {
    "duration": 14,
    "start_time": "2024-06-30T17:33:59.906Z"
   },
   {
    "duration": 11,
    "start_time": "2024-06-30T17:33:59.922Z"
   },
   {
    "duration": 27,
    "start_time": "2024-06-30T17:33:59.935Z"
   },
   {
    "duration": 7,
    "start_time": "2024-06-30T17:33:59.963Z"
   },
   {
    "duration": 15,
    "start_time": "2024-06-30T17:33:59.986Z"
   },
   {
    "duration": 46,
    "start_time": "2024-06-30T17:34:00.004Z"
   },
   {
    "duration": 42,
    "start_time": "2024-06-30T17:34:00.052Z"
   },
   {
    "duration": 15,
    "start_time": "2024-06-30T17:34:00.096Z"
   },
   {
    "duration": 31,
    "start_time": "2024-06-30T17:34:00.112Z"
   },
   {
    "duration": 52,
    "start_time": "2024-06-30T17:34:00.145Z"
   },
   {
    "duration": 68,
    "start_time": "2024-06-30T17:34:00.198Z"
   },
   {
    "duration": 67,
    "start_time": "2024-06-30T17:34:00.268Z"
   },
   {
    "duration": 28,
    "start_time": "2024-06-30T17:34:00.336Z"
   },
   {
    "duration": 54,
    "start_time": "2024-06-30T17:34:00.366Z"
   },
   {
    "duration": 46,
    "start_time": "2024-06-30T17:34:00.421Z"
   },
   {
    "duration": 44,
    "start_time": "2024-06-30T17:34:00.468Z"
   },
   {
    "duration": 220,
    "start_time": "2024-06-30T17:34:00.514Z"
   },
   {
    "duration": 114,
    "start_time": "2024-06-30T17:34:00.735Z"
   },
   {
    "duration": 327,
    "start_time": "2024-06-30T17:34:00.851Z"
   },
   {
    "duration": 221,
    "start_time": "2024-06-30T17:34:01.182Z"
   },
   {
    "duration": 194,
    "start_time": "2024-06-30T17:34:01.405Z"
   },
   {
    "duration": 140,
    "start_time": "2024-06-30T17:34:01.601Z"
   },
   {
    "duration": 18,
    "start_time": "2024-06-30T17:34:01.742Z"
   },
   {
    "duration": 44,
    "start_time": "2024-06-30T17:34:01.764Z"
   },
   {
    "duration": 34,
    "start_time": "2024-06-30T17:34:01.809Z"
   },
   {
    "duration": 85,
    "start_time": "2024-06-30T17:34:01.845Z"
   },
   {
    "duration": 66,
    "start_time": "2024-06-30T17:34:01.932Z"
   },
   {
    "duration": 25,
    "start_time": "2024-06-30T17:34:02.000Z"
   },
   {
    "duration": 54,
    "start_time": "2024-06-30T17:34:02.026Z"
   },
   {
    "duration": 39,
    "start_time": "2024-06-30T17:34:02.082Z"
   },
   {
    "duration": 52,
    "start_time": "2024-06-30T17:34:02.123Z"
   },
   {
    "duration": 224,
    "start_time": "2024-06-30T17:34:02.176Z"
   },
   {
    "duration": 243,
    "start_time": "2024-06-30T17:34:02.401Z"
   },
   {
    "duration": 273,
    "start_time": "2024-06-30T17:34:02.646Z"
   },
   {
    "duration": 190,
    "start_time": "2024-06-30T17:34:02.920Z"
   },
   {
    "duration": 17,
    "start_time": "2024-06-30T17:34:03.112Z"
   },
   {
    "duration": 33,
    "start_time": "2024-06-30T17:34:03.131Z"
   },
   {
    "duration": 25,
    "start_time": "2024-06-30T17:34:03.166Z"
   },
   {
    "duration": 31,
    "start_time": "2024-06-30T17:34:03.193Z"
   },
   {
    "duration": 7,
    "start_time": "2024-06-30T17:34:03.226Z"
   },
   {
    "duration": 6,
    "start_time": "2024-06-30T17:34:03.235Z"
   },
   {
    "duration": 19,
    "start_time": "2024-06-30T17:34:03.243Z"
   },
   {
    "duration": 27,
    "start_time": "2024-06-30T17:34:03.264Z"
   },
   {
    "duration": 65,
    "start_time": "2024-06-30T17:34:03.293Z"
   },
   {
    "duration": 11,
    "start_time": "2024-06-30T17:34:03.360Z"
   },
   {
    "duration": 22,
    "start_time": "2024-06-30T17:34:03.374Z"
   },
   {
    "duration": 6,
    "start_time": "2024-06-30T17:34:03.398Z"
   },
   {
    "duration": 5,
    "start_time": "2024-06-30T17:34:03.405Z"
   },
   {
    "duration": 12,
    "start_time": "2024-06-30T17:34:03.412Z"
   },
   {
    "duration": 9,
    "start_time": "2024-06-30T17:34:03.425Z"
   },
   {
    "duration": 4,
    "start_time": "2024-06-30T17:34:03.436Z"
   },
   {
    "duration": 4,
    "start_time": "2024-06-30T17:34:03.441Z"
   },
   {
    "duration": 9,
    "start_time": "2024-06-30T17:34:03.447Z"
   },
   {
    "duration": 1161,
    "start_time": "2024-06-30T20:56:30.600Z"
   },
   {
    "duration": 202,
    "start_time": "2024-06-30T20:56:31.762Z"
   },
   {
    "duration": 11,
    "start_time": "2024-06-30T20:56:31.965Z"
   },
   {
    "duration": 18,
    "start_time": "2024-06-30T20:56:31.978Z"
   },
   {
    "duration": 7,
    "start_time": "2024-06-30T20:56:31.998Z"
   },
   {
    "duration": 8,
    "start_time": "2024-06-30T20:56:32.007Z"
   },
   {
    "duration": 5,
    "start_time": "2024-06-30T20:56:32.016Z"
   },
   {
    "duration": 10,
    "start_time": "2024-06-30T20:56:32.022Z"
   },
   {
    "duration": 6,
    "start_time": "2024-06-30T20:56:32.033Z"
   },
   {
    "duration": 4,
    "start_time": "2024-06-30T20:56:32.041Z"
   },
   {
    "duration": 3,
    "start_time": "2024-06-30T20:56:32.046Z"
   },
   {
    "duration": 5,
    "start_time": "2024-06-30T20:56:32.050Z"
   },
   {
    "duration": 5,
    "start_time": "2024-06-30T20:56:32.056Z"
   },
   {
    "duration": 41,
    "start_time": "2024-06-30T20:56:32.062Z"
   },
   {
    "duration": 13,
    "start_time": "2024-06-30T20:56:32.104Z"
   },
   {
    "duration": 15,
    "start_time": "2024-06-30T20:56:32.118Z"
   },
   {
    "duration": 5,
    "start_time": "2024-06-30T20:56:32.134Z"
   },
   {
    "duration": 8,
    "start_time": "2024-06-30T20:56:32.140Z"
   },
   {
    "duration": 7,
    "start_time": "2024-06-30T20:56:32.149Z"
   },
   {
    "duration": 150,
    "start_time": "2024-06-30T20:56:32.157Z"
   },
   {
    "duration": 72,
    "start_time": "2024-06-30T20:56:32.308Z"
   },
   {
    "duration": 208,
    "start_time": "2024-06-30T20:56:32.381Z"
   },
   {
    "duration": 132,
    "start_time": "2024-06-30T20:56:32.591Z"
   },
   {
    "duration": 142,
    "start_time": "2024-06-30T20:56:32.724Z"
   },
   {
    "duration": 123,
    "start_time": "2024-06-30T20:56:32.868Z"
   },
   {
    "duration": 17,
    "start_time": "2024-06-30T20:56:32.993Z"
   },
   {
    "duration": 9,
    "start_time": "2024-06-30T20:56:33.011Z"
   },
   {
    "duration": 8,
    "start_time": "2024-06-30T20:56:33.023Z"
   },
   {
    "duration": 9,
    "start_time": "2024-06-30T20:56:33.032Z"
   },
   {
    "duration": 11,
    "start_time": "2024-06-30T20:56:33.042Z"
   },
   {
    "duration": 9,
    "start_time": "2024-06-30T20:56:33.054Z"
   },
   {
    "duration": 45,
    "start_time": "2024-06-30T20:56:33.064Z"
   },
   {
    "duration": 68,
    "start_time": "2024-06-30T20:56:33.111Z"
   },
   {
    "duration": 10,
    "start_time": "2024-06-30T20:56:33.180Z"
   },
   {
    "duration": 141,
    "start_time": "2024-06-30T20:56:33.191Z"
   },
   {
    "duration": 138,
    "start_time": "2024-06-30T20:56:33.334Z"
   },
   {
    "duration": 171,
    "start_time": "2024-06-30T20:56:33.474Z"
   },
   {
    "duration": 126,
    "start_time": "2024-06-30T20:56:33.647Z"
   },
   {
    "duration": 8,
    "start_time": "2024-06-30T20:56:33.774Z"
   },
   {
    "duration": 31,
    "start_time": "2024-06-30T20:56:33.784Z"
   },
   {
    "duration": 5,
    "start_time": "2024-06-30T20:56:33.817Z"
   },
   {
    "duration": 27,
    "start_time": "2024-06-30T20:56:33.823Z"
   },
   {
    "duration": 5,
    "start_time": "2024-06-30T20:56:33.851Z"
   },
   {
    "duration": 23,
    "start_time": "2024-06-30T20:56:33.857Z"
   },
   {
    "duration": 6,
    "start_time": "2024-06-30T20:56:33.882Z"
   },
   {
    "duration": 7,
    "start_time": "2024-06-30T20:56:33.889Z"
   },
   {
    "duration": 7,
    "start_time": "2024-06-30T20:56:33.897Z"
   },
   {
    "duration": 10,
    "start_time": "2024-06-30T20:56:33.906Z"
   },
   {
    "duration": 3,
    "start_time": "2024-06-30T20:56:33.917Z"
   },
   {
    "duration": 5,
    "start_time": "2024-06-30T20:56:33.921Z"
   },
   {
    "duration": 4,
    "start_time": "2024-06-30T20:56:33.927Z"
   },
   {
    "duration": 5,
    "start_time": "2024-06-30T20:56:33.932Z"
   },
   {
    "duration": 13,
    "start_time": "2024-06-30T20:56:33.938Z"
   },
   {
    "duration": 6,
    "start_time": "2024-06-30T20:56:33.952Z"
   },
   {
    "duration": 10,
    "start_time": "2024-06-30T20:56:33.959Z"
   },
   {
    "duration": 6,
    "start_time": "2024-06-30T20:56:33.970Z"
   }
  ],
  "kernelspec": {
   "display_name": "Python 3 (ipykernel)",
   "language": "python",
   "name": "python3"
  },
  "language_info": {
   "codemirror_mode": {
    "name": "ipython",
    "version": 3
   },
   "file_extension": ".py",
   "mimetype": "text/x-python",
   "name": "python",
   "nbconvert_exporter": "python",
   "pygments_lexer": "ipython3",
   "version": "3.11.5"
  },
  "toc": {
   "base_numbering": 1,
   "nav_menu": {},
   "number_sections": true,
   "sideBar": true,
   "skip_h1_title": true,
   "title_cell": "Table of Contents",
   "title_sidebar": "Contents",
   "toc_cell": false,
   "toc_position": {},
   "toc_section_display": true,
   "toc_window_display": false
  }
 },
 "nbformat": 4,
 "nbformat_minor": 5
}
