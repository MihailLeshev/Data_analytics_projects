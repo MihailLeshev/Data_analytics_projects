{
 "cells": [
  {
   "cell_type": "markdown",
   "id": "386f2ae7",
   "metadata": {
    "deletable": false,
    "editable": false,
    "id": "386f2ae7"
   },
   "source": [
    "# Исследование надежности заемщиков\n"
   ]
  },
  {
   "cell_type": "markdown",
   "id": "ffe86f65",
   "metadata": {
    "deletable": false,
    "editable": false,
    "id": "ffe86f65"
   },
   "source": [
    "Во второй части проекта вы выполните шаги 3 и 4. Их вручную проверит ревьюер.\n",
    "Чтобы вам не пришлось писать код заново для шагов 1 и 2, мы добавили авторские решения в ячейки с кодом. \n",
    "\n"
   ]
  },
  {
   "cell_type": "markdown",
   "id": "26613308",
   "metadata": {
    "deletable": false,
    "editable": false,
    "id": "26613308"
   },
   "source": [
    "## Откройте таблицу и изучите общую информацию о данных"
   ]
  },
  {
   "cell_type": "markdown",
   "id": "3c9f838e",
   "metadata": {
    "deletable": false,
    "editable": false,
    "id": "3c9f838e"
   },
   "source": [
    "**Задание 1. Импортируйте библиотеку pandas. Считайте данные из csv-файла в датафрейм и сохраните в переменную `data`. Путь к файлу:**\n",
    "\n",
    "`/datasets/data.csv`"
   ]
  },
  {
   "cell_type": "code",
   "execution_count": 1,
   "id": "77a68a90",
   "metadata": {
    "deletable": false,
    "id": "77a68a90"
   },
   "outputs": [],
   "source": [
    "import pandas as pd\n",
    "    \n",
    "try:\n",
    "    data = pd.read_csv('/datasets/data.csv')\n",
    "except:\n",
    "    data = pd.read_csv('/Users/a0000/Documents/Analitic/All_projects/project1_bank/datasets/data.csv')\n",
    "    "
   ]
  },
  {
   "cell_type": "markdown",
   "id": "45365635",
   "metadata": {
    "deletable": false,
    "editable": false,
    "id": "45365635"
   },
   "source": [
    "**Задание 2. Выведите первые 20 строчек датафрейма `data` на экран.**"
   ]
  },
  {
   "cell_type": "code",
   "execution_count": 2,
   "id": "b0451a9a",
   "metadata": {
    "deletable": false,
    "id": "b0451a9a",
    "outputId": "1a8f3ef2-d323-4ec2-ddf7-89670b5944c4"
   },
   "outputs": [
    {
     "data": {
      "text/html": [
       "<div>\n",
       "<style scoped>\n",
       "    .dataframe tbody tr th:only-of-type {\n",
       "        vertical-align: middle;\n",
       "    }\n",
       "\n",
       "    .dataframe tbody tr th {\n",
       "        vertical-align: top;\n",
       "    }\n",
       "\n",
       "    .dataframe thead th {\n",
       "        text-align: right;\n",
       "    }\n",
       "</style>\n",
       "<table border=\"1\" class=\"dataframe\">\n",
       "  <thead>\n",
       "    <tr style=\"text-align: right;\">\n",
       "      <th></th>\n",
       "      <th>children</th>\n",
       "      <th>days_employed</th>\n",
       "      <th>dob_years</th>\n",
       "      <th>education</th>\n",
       "      <th>education_id</th>\n",
       "      <th>family_status</th>\n",
       "      <th>family_status_id</th>\n",
       "      <th>gender</th>\n",
       "      <th>income_type</th>\n",
       "      <th>debt</th>\n",
       "      <th>total_income</th>\n",
       "      <th>purpose</th>\n",
       "    </tr>\n",
       "  </thead>\n",
       "  <tbody>\n",
       "    <tr>\n",
       "      <th>0</th>\n",
       "      <td>1</td>\n",
       "      <td>-8437.673028</td>\n",
       "      <td>42</td>\n",
       "      <td>высшее</td>\n",
       "      <td>0</td>\n",
       "      <td>женат / замужем</td>\n",
       "      <td>0</td>\n",
       "      <td>F</td>\n",
       "      <td>сотрудник</td>\n",
       "      <td>0</td>\n",
       "      <td>253875.639453</td>\n",
       "      <td>покупка жилья</td>\n",
       "    </tr>\n",
       "    <tr>\n",
       "      <th>1</th>\n",
       "      <td>1</td>\n",
       "      <td>-4024.803754</td>\n",
       "      <td>36</td>\n",
       "      <td>среднее</td>\n",
       "      <td>1</td>\n",
       "      <td>женат / замужем</td>\n",
       "      <td>0</td>\n",
       "      <td>F</td>\n",
       "      <td>сотрудник</td>\n",
       "      <td>0</td>\n",
       "      <td>112080.014102</td>\n",
       "      <td>приобретение автомобиля</td>\n",
       "    </tr>\n",
       "    <tr>\n",
       "      <th>2</th>\n",
       "      <td>0</td>\n",
       "      <td>-5623.422610</td>\n",
       "      <td>33</td>\n",
       "      <td>Среднее</td>\n",
       "      <td>1</td>\n",
       "      <td>женат / замужем</td>\n",
       "      <td>0</td>\n",
       "      <td>M</td>\n",
       "      <td>сотрудник</td>\n",
       "      <td>0</td>\n",
       "      <td>145885.952297</td>\n",
       "      <td>покупка жилья</td>\n",
       "    </tr>\n",
       "    <tr>\n",
       "      <th>3</th>\n",
       "      <td>3</td>\n",
       "      <td>-4124.747207</td>\n",
       "      <td>32</td>\n",
       "      <td>среднее</td>\n",
       "      <td>1</td>\n",
       "      <td>женат / замужем</td>\n",
       "      <td>0</td>\n",
       "      <td>M</td>\n",
       "      <td>сотрудник</td>\n",
       "      <td>0</td>\n",
       "      <td>267628.550329</td>\n",
       "      <td>дополнительное образование</td>\n",
       "    </tr>\n",
       "    <tr>\n",
       "      <th>4</th>\n",
       "      <td>0</td>\n",
       "      <td>340266.072047</td>\n",
       "      <td>53</td>\n",
       "      <td>среднее</td>\n",
       "      <td>1</td>\n",
       "      <td>гражданский брак</td>\n",
       "      <td>1</td>\n",
       "      <td>F</td>\n",
       "      <td>пенсионер</td>\n",
       "      <td>0</td>\n",
       "      <td>158616.077870</td>\n",
       "      <td>сыграть свадьбу</td>\n",
       "    </tr>\n",
       "  </tbody>\n",
       "</table>\n",
       "</div>"
      ],
      "text/plain": [
       "   children  days_employed  dob_years education  education_id  \\\n",
       "0         1   -8437.673028         42    высшее             0   \n",
       "1         1   -4024.803754         36   среднее             1   \n",
       "2         0   -5623.422610         33   Среднее             1   \n",
       "3         3   -4124.747207         32   среднее             1   \n",
       "4         0  340266.072047         53   среднее             1   \n",
       "\n",
       "      family_status  family_status_id gender income_type  debt   total_income  \\\n",
       "0   женат / замужем                 0      F   сотрудник     0  253875.639453   \n",
       "1   женат / замужем                 0      F   сотрудник     0  112080.014102   \n",
       "2   женат / замужем                 0      M   сотрудник     0  145885.952297   \n",
       "3   женат / замужем                 0      M   сотрудник     0  267628.550329   \n",
       "4  гражданский брак                 1      F   пенсионер     0  158616.077870   \n",
       "\n",
       "                      purpose  \n",
       "0               покупка жилья  \n",
       "1     приобретение автомобиля  \n",
       "2               покупка жилья  \n",
       "3  дополнительное образование  \n",
       "4             сыграть свадьбу  "
      ]
     },
     "execution_count": 2,
     "metadata": {},
     "output_type": "execute_result"
    }
   ],
   "source": [
    "data.head(5)"
   ]
  },
  {
   "cell_type": "markdown",
   "id": "0ed8f27f",
   "metadata": {
    "deletable": false,
    "editable": false,
    "id": "0ed8f27f"
   },
   "source": [
    "**Задание 3. Выведите основную информацию о датафрейме с помощью метода `info()`.**"
   ]
  },
  {
   "cell_type": "code",
   "execution_count": 3,
   "id": "ab3f863b",
   "metadata": {
    "deletable": false,
    "id": "ab3f863b",
    "outputId": "15376089-8dad-46c9-b520-c05248d43158"
   },
   "outputs": [
    {
     "name": "stdout",
     "output_type": "stream",
     "text": [
      "<class 'pandas.core.frame.DataFrame'>\n",
      "RangeIndex: 21525 entries, 0 to 21524\n",
      "Data columns (total 12 columns):\n",
      " #   Column            Non-Null Count  Dtype  \n",
      "---  ------            --------------  -----  \n",
      " 0   children          21525 non-null  int64  \n",
      " 1   days_employed     19351 non-null  float64\n",
      " 2   dob_years         21525 non-null  int64  \n",
      " 3   education         21525 non-null  object \n",
      " 4   education_id      21525 non-null  int64  \n",
      " 5   family_status     21525 non-null  object \n",
      " 6   family_status_id  21525 non-null  int64  \n",
      " 7   gender            21525 non-null  object \n",
      " 8   income_type       21525 non-null  object \n",
      " 9   debt              21525 non-null  int64  \n",
      " 10  total_income      19351 non-null  float64\n",
      " 11  purpose           21525 non-null  object \n",
      "dtypes: float64(2), int64(5), object(5)\n",
      "memory usage: 2.0+ MB\n"
     ]
    }
   ],
   "source": [
    "data.info()"
   ]
  },
  {
   "cell_type": "markdown",
   "id": "60e3e22d",
   "metadata": {
    "deletable": false,
    "editable": false,
    "id": "60e3e22d"
   },
   "source": [
    "## Предобработка данных"
   ]
  },
  {
   "cell_type": "markdown",
   "id": "03dc170c",
   "metadata": {
    "deletable": false,
    "editable": false,
    "id": "03dc170c"
   },
   "source": [
    "### Удаление пропусков"
   ]
  },
  {
   "cell_type": "markdown",
   "id": "a4f54eef",
   "metadata": {
    "deletable": false,
    "editable": false,
    "id": "a4f54eef"
   },
   "source": [
    "**Задание 4. Выведите количество пропущенных значений для каждого столбца. Используйте комбинацию двух методов.**"
   ]
  },
  {
   "cell_type": "code",
   "execution_count": 4,
   "id": "2dc372b2",
   "metadata": {
    "deletable": false,
    "id": "2dc372b2",
    "outputId": "81f4d817-781c-465c-ed15-91ce4446810d"
   },
   "outputs": [
    {
     "data": {
      "text/plain": [
       "children               0\n",
       "days_employed       2174\n",
       "dob_years              0\n",
       "education              0\n",
       "education_id           0\n",
       "family_status          0\n",
       "family_status_id       0\n",
       "gender                 0\n",
       "income_type            0\n",
       "debt                   0\n",
       "total_income        2174\n",
       "purpose                0\n",
       "dtype: int64"
      ]
     },
     "execution_count": 4,
     "metadata": {},
     "output_type": "execute_result"
    }
   ],
   "source": [
    "data.isna().sum()"
   ]
  },
  {
   "cell_type": "markdown",
   "id": "14f011b1",
   "metadata": {
    "deletable": false,
    "editable": false,
    "id": "14f011b1"
   },
   "source": [
    "**Задание 5. В двух столбцах есть пропущенные значения. Один из них — `days_employed`. Пропуски в этом столбце вы обработаете на следующем этапе. Другой столбец с пропущенными значениями — `total_income` — хранит данные о доходах. На сумму дохода сильнее всего влияет тип занятости, поэтому заполнить пропуски в этом столбце нужно медианным значением по каждому типу из столбца `income_type`. Например, у человека с типом занятости `сотрудник` пропуск в столбце `total_income` должен быть заполнен медианным доходом среди всех записей с тем же типом.**"
   ]
  },
  {
   "cell_type": "code",
   "execution_count": 5,
   "id": "bdabfb6e",
   "metadata": {
    "deletable": false,
    "id": "bdabfb6e"
   },
   "outputs": [],
   "source": [
    "for t in data['income_type'].unique():\n",
    "    data.loc[(data['income_type'] == t) & (data['total_income'].isna()), 'total_income'] = \\\n",
    "    data.loc[(data['income_type'] == t), 'total_income'].median()"
   ]
  },
  {
   "cell_type": "markdown",
   "id": "5be34059",
   "metadata": {
    "deletable": false,
    "editable": false,
    "id": "5be34059"
   },
   "source": [
    "### Обработка аномальных значений"
   ]
  },
  {
   "cell_type": "markdown",
   "id": "a87606cb",
   "metadata": {
    "deletable": false,
    "editable": false,
    "id": "a87606cb"
   },
   "source": [
    "**Задание 6. В данных могут встречаться артефакты (аномалии) — значения, которые не отражают действительность и появились по какой-то ошибке. таким артефактом будет отрицательное количество дней трудового стажа в столбце `days_employed`. Для реальных данных это нормально. Обработайте значения в этом столбце: замените все отрицательные значения положительными с помощью метода `abs()`.**"
   ]
  },
  {
   "cell_type": "code",
   "execution_count": 6,
   "id": "020c46cc",
   "metadata": {
    "deletable": false,
    "id": "020c46cc"
   },
   "outputs": [],
   "source": [
    "data['days_employed'] = data['days_employed'].abs()"
   ]
  },
  {
   "cell_type": "markdown",
   "id": "45538a3a",
   "metadata": {
    "deletable": false,
    "editable": false,
    "id": "45538a3a"
   },
   "source": [
    "**Задание 7. Для каждого типа занятости выведите медианное значение трудового стажа `days_employed` в днях.**"
   ]
  },
  {
   "cell_type": "code",
   "execution_count": 7,
   "id": "cd3e6328",
   "metadata": {
    "deletable": false,
    "id": "cd3e6328",
    "outputId": "801ef80e-522b-4668-f34e-565af7432bcf"
   },
   "outputs": [
    {
     "data": {
      "text/plain": [
       "income_type\n",
       "безработный        366413.652744\n",
       "в декрете            3296.759962\n",
       "госслужащий          2689.368353\n",
       "компаньон            1547.382223\n",
       "пенсионер          365213.306266\n",
       "предприниматель       520.848083\n",
       "сотрудник            1574.202821\n",
       "студент               578.751554\n",
       "Name: days_employed, dtype: float64"
      ]
     },
     "execution_count": 7,
     "metadata": {},
     "output_type": "execute_result"
    }
   ],
   "source": [
    "data.groupby('income_type')['days_employed'].agg('median')"
   ]
  },
  {
   "cell_type": "markdown",
   "id": "90c5f058",
   "metadata": {
    "deletable": false,
    "editable": false,
    "id": "90c5f058"
   },
   "source": [
    "У двух типов (безработные и пенсионеры) получатся аномально большие значения. Исправить такие значения сложно, поэтому оставьте их как есть."
   ]
  },
  {
   "cell_type": "markdown",
   "id": "9652e50d",
   "metadata": {
    "deletable": false,
    "editable": false,
    "id": "9652e50d"
   },
   "source": [
    "**Задание 8. Выведите перечень уникальных значений столбца `children`.**"
   ]
  },
  {
   "cell_type": "code",
   "execution_count": 8,
   "id": "dbb37b8e",
   "metadata": {
    "deletable": false,
    "id": "dbb37b8e",
    "outputId": "6975b15c-7f95-4697-d16d-a0c79b657b03"
   },
   "outputs": [
    {
     "data": {
      "text/plain": [
       "array([ 1,  0,  3,  2, -1,  4, 20,  5])"
      ]
     },
     "execution_count": 8,
     "metadata": {},
     "output_type": "execute_result"
    }
   ],
   "source": [
    "data['children'].unique()"
   ]
  },
  {
   "cell_type": "markdown",
   "id": "2b8b0715",
   "metadata": {
    "deletable": false,
    "editable": false,
    "id": "2b8b0715"
   },
   "source": [
    "**Задание 9. В столбце `children` есть два аномальных значения. Удалите строки, в которых встречаются такие аномальные значения из датафрейма `data`.**"
   ]
  },
  {
   "cell_type": "code",
   "execution_count": 9,
   "id": "20009df8",
   "metadata": {
    "deletable": false,
    "id": "20009df8"
   },
   "outputs": [],
   "source": [
    "data = data[(data['children'] != -1) & (data['children'] != 20)]"
   ]
  },
  {
   "cell_type": "markdown",
   "id": "8c6ac9f1",
   "metadata": {
    "deletable": false,
    "editable": false,
    "id": "8c6ac9f1"
   },
   "source": [
    "**Задание 10. Ещё раз выведите перечень уникальных значений столбца `children`, чтобы убедиться, что артефакты удалены.**"
   ]
  },
  {
   "cell_type": "code",
   "execution_count": 10,
   "id": "07337b81",
   "metadata": {
    "deletable": false,
    "id": "07337b81",
    "outputId": "b2097101-d49d-44d9-901b-32a65c9463d1"
   },
   "outputs": [
    {
     "data": {
      "text/plain": [
       "array([1, 0, 3, 2, 4, 5])"
      ]
     },
     "execution_count": 10,
     "metadata": {},
     "output_type": "execute_result"
    }
   ],
   "source": [
    "data['children'].unique()"
   ]
  },
  {
   "cell_type": "markdown",
   "id": "ee3f52d4",
   "metadata": {
    "deletable": false,
    "editable": false,
    "id": "ee3f52d4"
   },
   "source": [
    "### Удаление пропусков (продолжение)"
   ]
  },
  {
   "cell_type": "markdown",
   "id": "a700b0e4",
   "metadata": {
    "deletable": false,
    "editable": false,
    "id": "a700b0e4"
   },
   "source": [
    "**Задание 11. Заполните пропуски в столбце `days_employed` медианными значениями по каждого типа занятости `income_type`.**"
   ]
  },
  {
   "cell_type": "code",
   "execution_count": 11,
   "id": "61946b83",
   "metadata": {
    "deletable": false,
    "id": "61946b83"
   },
   "outputs": [],
   "source": [
    "for t in data['income_type'].unique():\n",
    "    data.loc[(data['income_type'] == t) & (data['days_employed'].isna()), 'days_employed'] = \\\n",
    "    data.loc[(data['income_type'] == t), 'days_employed'].median()"
   ]
  },
  {
   "cell_type": "markdown",
   "id": "550dcd9b",
   "metadata": {
    "deletable": false,
    "editable": false,
    "id": "550dcd9b"
   },
   "source": [
    "**Задание 12. Убедитесь, что все пропуски заполнены. Проверьте себя и ещё раз выведите количество пропущенных значений для каждого столбца с помощью двух методов.**"
   ]
  },
  {
   "cell_type": "code",
   "execution_count": 12,
   "id": "937c7014",
   "metadata": {
    "deletable": false,
    "id": "937c7014",
    "outputId": "8da1e4e1-358e-4e87-98c9-f261bce0a7b2"
   },
   "outputs": [
    {
     "data": {
      "text/plain": [
       "children            0\n",
       "days_employed       0\n",
       "dob_years           0\n",
       "education           0\n",
       "education_id        0\n",
       "family_status       0\n",
       "family_status_id    0\n",
       "gender              0\n",
       "income_type         0\n",
       "debt                0\n",
       "total_income        0\n",
       "purpose             0\n",
       "dtype: int64"
      ]
     },
     "execution_count": 12,
     "metadata": {},
     "output_type": "execute_result"
    }
   ],
   "source": [
    "data.isna().sum()"
   ]
  },
  {
   "cell_type": "markdown",
   "id": "d522e295",
   "metadata": {
    "deletable": false,
    "editable": false,
    "id": "d522e295"
   },
   "source": [
    "### Изменение типов данных"
   ]
  },
  {
   "cell_type": "markdown",
   "id": "c229c581",
   "metadata": {
    "deletable": false,
    "editable": false,
    "id": "c229c581"
   },
   "source": [
    "**Задание 13. Замените вещественный тип данных в столбце `total_income` на целочисленный с помощью метода `astype()`.**"
   ]
  },
  {
   "cell_type": "code",
   "execution_count": 13,
   "id": "31036462",
   "metadata": {
    "deletable": false,
    "id": "31036462"
   },
   "outputs": [],
   "source": [
    "data['total_income'] = data['total_income'].astype(int)"
   ]
  },
  {
   "cell_type": "markdown",
   "id": "b8e3d1d9",
   "metadata": {
    "deletable": false,
    "editable": false,
    "id": "b8e3d1d9"
   },
   "source": [
    "### Обработка дубликатов"
   ]
  },
  {
   "cell_type": "markdown",
   "id": "9be53c49",
   "metadata": {
    "deletable": false,
    "editable": false,
    "id": "9be53c49"
   },
   "source": [
    "**Задание 14. Обработайте неявные дубликаты в столбце `education`. В этом столбце есть одни и те же значения, но записанные по-разному: с использованием заглавных и строчных букв. Приведите их к нижнему регистру.**"
   ]
  },
  {
   "cell_type": "code",
   "execution_count": 14,
   "id": "d89e73e1",
   "metadata": {
    "deletable": false,
    "id": "d89e73e1"
   },
   "outputs": [],
   "source": [
    "data['education'] = data['education'].str.lower()"
   ]
  },
  {
   "cell_type": "markdown",
   "id": "01d4500e",
   "metadata": {
    "deletable": false,
    "editable": false,
    "id": "01d4500e"
   },
   "source": [
    "**Задание 15. Выведите на экран количество строк-дубликатов в данных. Если такие строки присутствуют, удалите их.**"
   ]
  },
  {
   "cell_type": "code",
   "execution_count": 15,
   "id": "e10efb23",
   "metadata": {
    "deletable": false,
    "id": "e10efb23",
    "outputId": "9684deba-1934-42d1-99e1-cda61740f822"
   },
   "outputs": [
    {
     "data": {
      "text/plain": [
       "71"
      ]
     },
     "execution_count": 15,
     "metadata": {},
     "output_type": "execute_result"
    }
   ],
   "source": [
    "data.duplicated().sum()"
   ]
  },
  {
   "cell_type": "code",
   "execution_count": 16,
   "id": "df853f20",
   "metadata": {
    "deletable": false,
    "id": "df853f20"
   },
   "outputs": [],
   "source": [
    "data = data.drop_duplicates()"
   ]
  },
  {
   "cell_type": "markdown",
   "id": "627be38f",
   "metadata": {
    "deletable": false,
    "editable": false,
    "id": "627be38f"
   },
   "source": [
    "### Категоризация данных"
   ]
  },
  {
   "cell_type": "markdown",
   "id": "4684c3e0",
   "metadata": {
    "deletable": false,
    "editable": false,
    "id": "4684c3e0"
   },
   "source": [
    "**Задание 16. На основании диапазонов, указанных ниже, создайте в датафрейме `data` столбец `total_income_category` с категориями:**\n",
    "\n",
    "- 0–30000 — `'E'`;\n",
    "- 30001–50000 — `'D'`;\n",
    "- 50001–200000 — `'C'`;\n",
    "- 200001–1000000 — `'B'`;\n",
    "- 1000001 и выше — `'A'`.\n",
    "\n",
    "\n",
    "**Например, кредитополучателю с доходом 25000 нужно назначить категорию `'E'`, а клиенту, получающему 235000, — `'B'`. Используйте собственную функцию с именем `categorize_income()` и метод `apply()`.**"
   ]
  },
  {
   "cell_type": "code",
   "execution_count": 17,
   "id": "78965238",
   "metadata": {
    "deletable": false,
    "id": "78965238"
   },
   "outputs": [],
   "source": [
    "def categorize_income(income):\n",
    "    try:\n",
    "        if 0 <= income <= 30000:\n",
    "            return 'E'\n",
    "        elif 30001 <= income <= 50000:\n",
    "            return 'D'\n",
    "        elif 50001 <= income <= 200000:\n",
    "            return 'C'\n",
    "        elif 200001 <= income <= 1000000:\n",
    "            return 'B'\n",
    "        elif income >= 1000001:\n",
    "            return 'A'\n",
    "    except:\n",
    "        pass"
   ]
  },
  {
   "cell_type": "code",
   "execution_count": 18,
   "id": "0980ada1",
   "metadata": {
    "deletable": false,
    "id": "0980ada1"
   },
   "outputs": [],
   "source": [
    "data['total_income_category'] = data['total_income'].apply(categorize_income)"
   ]
  },
  {
   "cell_type": "markdown",
   "id": "9917bba0",
   "metadata": {
    "deletable": false,
    "editable": false,
    "id": "9917bba0"
   },
   "source": [
    "**Задание 17. Выведите на экран перечень уникальных целей взятия кредита из столбца `purpose`.**"
   ]
  },
  {
   "cell_type": "code",
   "execution_count": 19,
   "id": "ee07b65e",
   "metadata": {
    "deletable": false,
    "id": "ee07b65e",
    "outputId": "673c12d9-7d7e-4ae0-9812-c622c89dd244"
   },
   "outputs": [
    {
     "data": {
      "text/plain": [
       "array(['покупка жилья', 'приобретение автомобиля',\n",
       "       'дополнительное образование', 'сыграть свадьбу',\n",
       "       'операции с жильем', 'образование', 'на проведение свадьбы',\n",
       "       'покупка жилья для семьи', 'покупка недвижимости',\n",
       "       'покупка коммерческой недвижимости', 'покупка жилой недвижимости',\n",
       "       'строительство собственной недвижимости', 'недвижимость',\n",
       "       'строительство недвижимости', 'на покупку подержанного автомобиля',\n",
       "       'на покупку своего автомобиля',\n",
       "       'операции с коммерческой недвижимостью',\n",
       "       'строительство жилой недвижимости', 'жилье',\n",
       "       'операции со своей недвижимостью', 'автомобили',\n",
       "       'заняться образованием', 'сделка с подержанным автомобилем',\n",
       "       'получение образования', 'автомобиль', 'свадьба',\n",
       "       'получение дополнительного образования', 'покупка своего жилья',\n",
       "       'операции с недвижимостью', 'получение высшего образования',\n",
       "       'свой автомобиль', 'сделка с автомобилем',\n",
       "       'профильное образование', 'высшее образование',\n",
       "       'покупка жилья для сдачи', 'на покупку автомобиля', 'ремонт жилью',\n",
       "       'заняться высшим образованием'], dtype=object)"
      ]
     },
     "execution_count": 19,
     "metadata": {},
     "output_type": "execute_result"
    }
   ],
   "source": [
    "data['purpose'].unique()"
   ]
  },
  {
   "cell_type": "markdown",
   "id": "52b79d56",
   "metadata": {
    "deletable": false,
    "editable": false,
    "id": "52b79d56"
   },
   "source": [
    "**Задание 18. Создайте функцию, которая на основании данных из столбца `purpose` сформирует новый столбец `purpose_category`, в который войдут следующие категории:**\n",
    "\n",
    "- `'операции с автомобилем'`,\n",
    "- `'операции с недвижимостью'`,\n",
    "- `'проведение свадьбы'`,\n",
    "- `'получение образования'`.\n",
    "\n",
    "**Например, если в столбце `purpose` находится подстрока `'на покупку автомобиля'`, то в столбце `purpose_category` должна появиться строка `'операции с автомобилем'`.**\n",
    "\n",
    "**Используйте собственную функцию с именем `categorize_purpose()` и метод `apply()`. Изучите данные в столбце `purpose` и определите, какие подстроки помогут вам правильно определить категорию.**"
   ]
  },
  {
   "cell_type": "code",
   "execution_count": 20,
   "id": "9cf6c6eb",
   "metadata": {
    "deletable": false,
    "id": "be41da5d"
   },
   "outputs": [],
   "source": [
    "# создайте функцию categorize_purpose()\n",
    "purpose = data['purpose']\n",
    "def categorize_purpose(purpose):\n",
    "    if 'авто' in purpose:\n",
    "        return('операции с автомобилем')\n",
    "    if 'жи' in purpose:\n",
    "        return('операции с недвижимостью')\n",
    "    if 'сва' in purpose:\n",
    "        return('проведение свадьбы')\n",
    "    if 'обра' in purpose:\n",
    "        return('получение образования')"
   ]
  },
  {
   "cell_type": "code",
   "execution_count": 21,
   "id": "94c4a19a",
   "metadata": {
    "deletable": false,
    "id": "94c4a19a"
   },
   "outputs": [
    {
     "name": "stdout",
     "output_type": "stream",
     "text": [
      "   children  days_employed  dob_years education  education_id  \\\n",
      "0         1    8437.673028         42    высшее             0   \n",
      "1         1    4024.803754         36   среднее             1   \n",
      "2         0    5623.422610         33   среднее             1   \n",
      "3         3    4124.747207         32   среднее             1   \n",
      "4         0  340266.072047         53   среднее             1   \n",
      "\n",
      "      family_status  family_status_id gender income_type  debt  total_income  \\\n",
      "0   женат / замужем                 0      F   сотрудник     0        253875   \n",
      "1   женат / замужем                 0      F   сотрудник     0        112080   \n",
      "2   женат / замужем                 0      M   сотрудник     0        145885   \n",
      "3   женат / замужем                 0      M   сотрудник     0        267628   \n",
      "4  гражданский брак                 1      F   пенсионер     0        158616   \n",
      "\n",
      "                      purpose total_income_category          purpose_category  \n",
      "0               покупка жилья                     B  операции с недвижимостью  \n",
      "1     приобретение автомобиля                     C    операции с автомобилем  \n",
      "2               покупка жилья                     C  операции с недвижимостью  \n",
      "3  дополнительное образование                     B     получение образования  \n",
      "4             сыграть свадьбу                     C        проведение свадьбы  \n"
     ]
    }
   ],
   "source": [
    "# примените функцию методом apply()\n",
    "data['purpose_category'] = data['purpose'].apply(categorize_purpose)\n",
    "print(data.head(5))"
   ]
  },
  {
   "cell_type": "markdown",
   "id": "3d596c34",
   "metadata": {
    "deletable": false,
    "editable": false,
    "id": "3d596c34"
   },
   "source": [
    "### Шаг 3. Исследуйте данные и ответьте на вопросы"
   ]
  },
  {
   "cell_type": "markdown",
   "id": "648db036",
   "metadata": {
    "deletable": false,
    "editable": false,
    "id": "648db036"
   },
   "source": [
    "#### 3.1 Есть ли зависимость между количеством детей и возвратом кредита в срок?"
   ]
  },
  {
   "cell_type": "markdown",
   "id": "b5a63922",
   "metadata": {},
   "source": [
    "**Cоздаем DataFrame где:**"
   ]
  },
  {
   "cell_type": "markdown",
   "id": "efe4c2c9",
   "metadata": {},
   "source": [
    "**sum - это количество заемщиков по группам количества детей которые имеют задолженность по возврату кредита**"
   ]
  },
  {
   "cell_type": "markdown",
   "id": "1c7c14c1",
   "metadata": {},
   "source": [
    "**count - это общее количество заемщиков в этой группе**"
   ]
  },
  {
   "cell_type": "code",
   "execution_count": 22,
   "id": "7fcff25e",
   "metadata": {
    "deletable": false,
    "id": "7fcff25e"
   },
   "outputs": [],
   "source": [
    "children_df = data.groupby('children').agg(\n",
    "    {\n",
    "        'debt':[sum,pd.Series.count], \n",
    "    }\n",
    ")"
   ]
  },
  {
   "cell_type": "markdown",
   "id": "80899a94",
   "metadata": {},
   "source": [
    "**procent_of_repayment - это процент людей имеющих задолженность по возврату кредитов**"
   ]
  },
  {
   "cell_type": "code",
   "execution_count": 23,
   "id": "340dd9e4",
   "metadata": {},
   "outputs": [
    {
     "data": {
      "text/html": [
       "<div>\n",
       "<style scoped>\n",
       "    .dataframe tbody tr th:only-of-type {\n",
       "        vertical-align: middle;\n",
       "    }\n",
       "\n",
       "    .dataframe tbody tr th {\n",
       "        vertical-align: top;\n",
       "    }\n",
       "\n",
       "    .dataframe thead tr th {\n",
       "        text-align: left;\n",
       "    }\n",
       "\n",
       "    .dataframe thead tr:last-of-type th {\n",
       "        text-align: right;\n",
       "    }\n",
       "</style>\n",
       "<table border=\"1\" class=\"dataframe\">\n",
       "  <thead>\n",
       "    <tr>\n",
       "      <th></th>\n",
       "      <th colspan=\"2\" halign=\"left\">debt</th>\n",
       "      <th>procent_of_repayment</th>\n",
       "    </tr>\n",
       "    <tr>\n",
       "      <th></th>\n",
       "      <th>sum</th>\n",
       "      <th>count</th>\n",
       "      <th></th>\n",
       "    </tr>\n",
       "    <tr>\n",
       "      <th>children</th>\n",
       "      <th></th>\n",
       "      <th></th>\n",
       "      <th></th>\n",
       "    </tr>\n",
       "  </thead>\n",
       "  <tbody>\n",
       "    <tr>\n",
       "      <th>0</th>\n",
       "      <td>1063</td>\n",
       "      <td>14091</td>\n",
       "      <td>7.543822</td>\n",
       "    </tr>\n",
       "    <tr>\n",
       "      <th>1</th>\n",
       "      <td>444</td>\n",
       "      <td>4808</td>\n",
       "      <td>9.234609</td>\n",
       "    </tr>\n",
       "    <tr>\n",
       "      <th>2</th>\n",
       "      <td>194</td>\n",
       "      <td>2052</td>\n",
       "      <td>9.454191</td>\n",
       "    </tr>\n",
       "    <tr>\n",
       "      <th>3</th>\n",
       "      <td>27</td>\n",
       "      <td>330</td>\n",
       "      <td>8.181818</td>\n",
       "    </tr>\n",
       "    <tr>\n",
       "      <th>4</th>\n",
       "      <td>4</td>\n",
       "      <td>41</td>\n",
       "      <td>9.756098</td>\n",
       "    </tr>\n",
       "    <tr>\n",
       "      <th>5</th>\n",
       "      <td>0</td>\n",
       "      <td>9</td>\n",
       "      <td>0.000000</td>\n",
       "    </tr>\n",
       "  </tbody>\n",
       "</table>\n",
       "</div>"
      ],
      "text/plain": [
       "          debt        procent_of_repayment\n",
       "           sum  count                     \n",
       "children                                  \n",
       "0         1063  14091             7.543822\n",
       "1          444   4808             9.234609\n",
       "2          194   2052             9.454191\n",
       "3           27    330             8.181818\n",
       "4            4     41             9.756098\n",
       "5            0      9             0.000000"
      ]
     },
     "execution_count": 23,
     "metadata": {},
     "output_type": "execute_result"
    }
   ],
   "source": [
    "\n",
    "children_df['procent_of_repayment'] = children_df[('debt','sum')] / children_df[('debt','count')] * 100\n",
    " \n",
    "children_df "
   ]
  },
  {
   "cell_type": "markdown",
   "id": "d4e4f32f",
   "metadata": {},
   "source": [
    "Бездетные заемщики (0 детей): имеют самый низкий процент невозврата кредита (7.54%). Это может говорить о том, что у людей без детей меньше финансовых обязательств, и они могут быть более ответственными в финансовом планировании.\n",
    "\n",
    "Заемщики с 1 и 2 детьми: процент невозврата кредита выше (9.23% и 9.45% соответственно) по сравнению с бездетными. Увеличение финансовой нагрузки на семью с ростом числа детей может способствовать увеличению вероятности просрочек по кредитам.\n",
    "\n",
    "Заемщики с 3 детьми: показывают более низкий процент невозврата (8.18%) по сравнению с теми, у кого 1 или 2 ребенка. Это может быть связано с получением государственной поддержки или лучшим финансовым планированием в семьях с тремя детьми.\n",
    "\n",
    "Заемщики с 4 детьми: демонстрируют высокий процент невозврата (9.76%), что может быть связано с увеличением финансовой нагрузки на семью.\n",
    "\n",
    "Заемщики с 5 детьми: не имеют случаев невозврата кредита, но общее количество таких заемщиков очень мало (всего 9), что делает недостаточные выводы для этой категории."
   ]
  },
  {
   "cell_type": "markdown",
   "id": "2eb9088e",
   "metadata": {
    "deletable": false,
    "id": "2eb9088e"
   },
   "source": [
    "**Вывод**:Изучив данные приходим к выводу что,с увеличением количества детей увеличивается и процент невозврата кредита, за исключением семьи с 3 детьми)."
   ]
  },
  {
   "cell_type": "markdown",
   "id": "a947d220",
   "metadata": {},
   "source": [
    "<div class=\"alert-danger\"> \n",
    "<b>Комментарий ревьюера ❌</b> \n",
    "\n",
    "Не совсем понятно, какую информацию несет данный столбец. Здесь (и, соответственно, далее) необходимо посмотреть процентное соотношение должников внутри этой категории. То есть разделить кол-во должников в этой категории на кол-во заемщиков в этой категории\n",
    "    \n",
    "Комментарий относится ко всем пунктам"
   ]
  },
  {
   "cell_type": "markdown",
   "id": "23413fc7",
   "metadata": {},
   "source": [
    "<div class=\"alert-success\"> \n",
    "<b>Комментарий ревьюера 👍 Вторая итерация </b>\n",
    "\n",
    "Ага, теперь верный столбец"
   ]
  },
  {
   "cell_type": "markdown",
   "id": "74c9b3a7",
   "metadata": {
    "deletable": false,
    "editable": false,
    "id": "74c9b3a7"
   },
   "source": [
    "#### 3.2 Есть ли зависимость между семейным положением и возвратом кредита в срок?"
   ]
  },
  {
   "cell_type": "markdown",
   "id": "296c2dee",
   "metadata": {},
   "source": [
    "**Cоздание DataFrame по семейному положению и проценту возрата кредита в срок**"
   ]
  },
  {
   "cell_type": "markdown",
   "id": "b5bc76d3",
   "metadata": {},
   "source": [
    "**sum - это количество заемщиков по группам семейного положения которые имеют задолженность по возврату кредита**"
   ]
  },
  {
   "cell_type": "markdown",
   "id": "2c0b064a",
   "metadata": {},
   "source": [
    "**count - это общее количество заемщиков в этой группе**"
   ]
  },
  {
   "cell_type": "code",
   "execution_count": 24,
   "id": "8098ab3b",
   "metadata": {
    "deletable": false,
    "id": "8098ab3b",
    "scrolled": true
   },
   "outputs": [],
   "source": [
    "family_status_df = data.groupby('family_status').agg(\n",
    "    {\n",
    "        'debt':[sum,pd.Series.count], \n",
    "    }\n",
    ")                                                     "
   ]
  },
  {
   "cell_type": "markdown",
   "id": "5f96ee26",
   "metadata": {},
   "source": [
    "**procent_of_no_repayment - это процент людей имеющих задолженность по возврату кредитов**"
   ]
  },
  {
   "cell_type": "markdown",
   "id": "4419f13e",
   "metadata": {},
   "source": [
    "**more solvent - это столбец указывающий на более платежеспособных людей, мы берем среднее значение процента заемщиков которые имеют задолженность по возврату кредита и сравниваем с каждой подгруппой**"
   ]
  },
  {
   "cell_type": "code",
   "execution_count": 25,
   "id": "fdbcdf9e",
   "metadata": {},
   "outputs": [
    {
     "data": {
      "text/html": [
       "<div>\n",
       "<style scoped>\n",
       "    .dataframe tbody tr th:only-of-type {\n",
       "        vertical-align: middle;\n",
       "    }\n",
       "\n",
       "    .dataframe tbody tr th {\n",
       "        vertical-align: top;\n",
       "    }\n",
       "\n",
       "    .dataframe thead tr th {\n",
       "        text-align: left;\n",
       "    }\n",
       "\n",
       "    .dataframe thead tr:last-of-type th {\n",
       "        text-align: right;\n",
       "    }\n",
       "</style>\n",
       "<table border=\"1\" class=\"dataframe\">\n",
       "  <thead>\n",
       "    <tr>\n",
       "      <th></th>\n",
       "      <th colspan=\"2\" halign=\"left\">debt</th>\n",
       "      <th>procent_of_no_repayment</th>\n",
       "      <th>more_solvent</th>\n",
       "    </tr>\n",
       "    <tr>\n",
       "      <th></th>\n",
       "      <th>sum</th>\n",
       "      <th>count</th>\n",
       "      <th></th>\n",
       "      <th></th>\n",
       "    </tr>\n",
       "    <tr>\n",
       "      <th>family_status</th>\n",
       "      <th></th>\n",
       "      <th></th>\n",
       "      <th></th>\n",
       "      <th></th>\n",
       "    </tr>\n",
       "  </thead>\n",
       "  <tbody>\n",
       "    <tr>\n",
       "      <th>Не женат / не замужем</th>\n",
       "      <td>273</td>\n",
       "      <td>2796</td>\n",
       "      <td>9.763948</td>\n",
       "      <td>no</td>\n",
       "    </tr>\n",
       "    <tr>\n",
       "      <th>в разводе</th>\n",
       "      <td>84</td>\n",
       "      <td>1189</td>\n",
       "      <td>7.064760</td>\n",
       "      <td>yes</td>\n",
       "    </tr>\n",
       "    <tr>\n",
       "      <th>вдовец / вдова</th>\n",
       "      <td>63</td>\n",
       "      <td>951</td>\n",
       "      <td>6.624606</td>\n",
       "      <td>yes</td>\n",
       "    </tr>\n",
       "    <tr>\n",
       "      <th>гражданский брак</th>\n",
       "      <td>385</td>\n",
       "      <td>4134</td>\n",
       "      <td>9.313014</td>\n",
       "      <td>no</td>\n",
       "    </tr>\n",
       "    <tr>\n",
       "      <th>женат / замужем</th>\n",
       "      <td>927</td>\n",
       "      <td>12261</td>\n",
       "      <td>7.560558</td>\n",
       "      <td>yes</td>\n",
       "    </tr>\n",
       "  </tbody>\n",
       "</table>\n",
       "</div>"
      ],
      "text/plain": [
       "                      debt        procent_of_no_repayment more_solvent\n",
       "                       sum  count                                     \n",
       "family_status                                                         \n",
       "Не женат / не замужем  273   2796                9.763948           no\n",
       "в разводе               84   1189                7.064760          yes\n",
       "вдовец / вдова          63    951                6.624606          yes\n",
       "гражданский брак       385   4134                9.313014           no\n",
       "женат / замужем        927  12261                7.560558          yes"
      ]
     },
     "execution_count": 25,
     "metadata": {},
     "output_type": "execute_result"
    }
   ],
   "source": [
    "family_status_df['procent_of_no_repayment'] = family_status_df[('debt','sum')] / family_status_df[('debt','count')] * 100\n",
    " \n",
    "family_status_df['more_solvent'] = family_status_df['procent_of_no_repayment'].apply(lambda x: 'yes' if x <= family_status_df['procent_of_no_repayment'].mean()  else 'no') \n",
    "family_status_df"
   ]
  },
  {
   "cell_type": "markdown",
   "id": "c389ca63",
   "metadata": {
    "deletable": false,
    "id": "c389ca63"
   },
   "source": [
    "**Вывод:** \n",
    "Люди имеющие статус \"в разводе, вдовец / вдова, женат / замужем\" имеют более высокий процент своевременного возврата кредитов, это может свидетельствовать о том, что у них присутвует определенная стабильность в финансовое поведение по сравнению с теми, кто имеет статус \"Не женат / не замужем, гражданский брак\""
   ]
  },
  {
   "cell_type": "markdown",
   "id": "d97bd9d9",
   "metadata": {},
   "source": [
    "<div class=\"alert-danger\"> \n",
    "<b>Комментарий ревьюера ❌</b> \n",
    "\n",
    "Также стоит улучшить код: сейчас он не самый оптимальный и лаконичный. Можно создать одну таблицу в 1-2 строки в одной ячейке с помощью groupby и .agg: https://pandas.pydata.org/pandas-docs/version/0.22/generated/pandas.core.groupby.DataFrameGroupBy.agg.html\n",
    "    \n",
    "Комментарий относится ко всем пунктам, в том числе к прошлой сводной таблице"
   ]
  },
  {
   "cell_type": "markdown",
   "id": "49b99dd3",
   "metadata": {},
   "source": [
    "<div class=\"alert-success\"> \n",
    "<b>Комментарий ревьюера 👍 Вторая итерация </b>\n",
    "\n",
    "Можно проще: "
   ]
  },
  {
   "cell_type": "code",
   "execution_count": 26,
   "id": "d3067737",
   "metadata": {},
   "outputs": [
    {
     "data": {
      "text/html": [
       "<div>\n",
       "<style scoped>\n",
       "    .dataframe tbody tr th:only-of-type {\n",
       "        vertical-align: middle;\n",
       "    }\n",
       "\n",
       "    .dataframe tbody tr th {\n",
       "        vertical-align: top;\n",
       "    }\n",
       "\n",
       "    .dataframe thead th {\n",
       "        text-align: right;\n",
       "    }\n",
       "</style>\n",
       "<table border=\"1\" class=\"dataframe\">\n",
       "  <thead>\n",
       "    <tr style=\"text-align: right;\">\n",
       "      <th></th>\n",
       "      <th>count</th>\n",
       "      <th>sum</th>\n",
       "      <th>percent</th>\n",
       "    </tr>\n",
       "    <tr>\n",
       "      <th>purpose_category</th>\n",
       "      <th></th>\n",
       "      <th></th>\n",
       "      <th></th>\n",
       "    </tr>\n",
       "  </thead>\n",
       "  <tbody>\n",
       "    <tr>\n",
       "      <th>операции с автомобилем</th>\n",
       "      <td>4279</td>\n",
       "      <td>400</td>\n",
       "      <td>9.347978</td>\n",
       "    </tr>\n",
       "    <tr>\n",
       "      <th>операции с недвижимостью</th>\n",
       "      <td>10751</td>\n",
       "      <td>780</td>\n",
       "      <td>7.255139</td>\n",
       "    </tr>\n",
       "    <tr>\n",
       "      <th>получение образования</th>\n",
       "      <td>3988</td>\n",
       "      <td>369</td>\n",
       "      <td>9.252758</td>\n",
       "    </tr>\n",
       "    <tr>\n",
       "      <th>проведение свадьбы</th>\n",
       "      <td>2313</td>\n",
       "      <td>183</td>\n",
       "      <td>7.911803</td>\n",
       "    </tr>\n",
       "  </tbody>\n",
       "</table>\n",
       "</div>"
      ],
      "text/plain": [
       "                          count  sum   percent\n",
       "purpose_category                              \n",
       "операции с автомобилем     4279  400  9.347978\n",
       "операции с недвижимостью  10751  780  7.255139\n",
       "получение образования      3988  369  9.252758\n",
       "проведение свадьбы         2313  183  7.911803"
      ]
     },
     "execution_count": 26,
     "metadata": {},
     "output_type": "execute_result"
    }
   ],
   "source": [
    "# Код ревьюера\n",
    "\n",
    "# группируем данные по цели кредита ('purpose_category'), затем применяем агрегирующие функции к столбцу 'debt'\n",
    "grouped_data = data.groupby('purpose_category')['debt'].agg(['count', 'sum'])\n",
    "# считаем процент\n",
    "grouped_data['percent'] = grouped_data['sum'] / grouped_data['count'] * 100\n",
    "grouped_data"
   ]
  },
  {
   "cell_type": "markdown",
   "id": "9529de68",
   "metadata": {
    "deletable": false,
    "editable": false,
    "id": "9529de68"
   },
   "source": [
    "#### 3.3 Есть ли зависимость между уровнем дохода и возвратом кредита в срок?"
   ]
  },
  {
   "cell_type": "markdown",
   "id": "86341121",
   "metadata": {},
   "source": [
    "**Cоздание DataFrame по семейному уровню дохода и проценту возрата кредита в срок**"
   ]
  },
  {
   "cell_type": "markdown",
   "id": "cb362862",
   "metadata": {},
   "source": [
    "**sum - это количество заемщиков по группам семейного положения которые имеют задолженность по возврату кредита**"
   ]
  },
  {
   "cell_type": "markdown",
   "id": "710296cf",
   "metadata": {},
   "source": [
    "**count - это общее количество заемщиков в этой группе**"
   ]
  },
  {
   "cell_type": "code",
   "execution_count": 27,
   "id": "8787f44a",
   "metadata": {
    "deletable": false,
    "id": "8787f44a"
   },
   "outputs": [],
   "source": [
    "total_income_category_df = data.groupby('total_income_category').agg(\n",
    "    {\n",
    "        'debt':[sum,pd.Series.count], \n",
    "    }\n",
    ")                                              "
   ]
  },
  {
   "cell_type": "markdown",
   "id": "26c5c322",
   "metadata": {},
   "source": [
    "**procent_of_no_repayment - это процент людей имеющих задолженность по возврату кредитов**"
   ]
  },
  {
   "cell_type": "code",
   "execution_count": 28,
   "id": "6116ae6e",
   "metadata": {},
   "outputs": [
    {
     "data": {
      "text/html": [
       "<div>\n",
       "<style scoped>\n",
       "    .dataframe tbody tr th:only-of-type {\n",
       "        vertical-align: middle;\n",
       "    }\n",
       "\n",
       "    .dataframe tbody tr th {\n",
       "        vertical-align: top;\n",
       "    }\n",
       "\n",
       "    .dataframe thead tr th {\n",
       "        text-align: left;\n",
       "    }\n",
       "\n",
       "    .dataframe thead tr:last-of-type th {\n",
       "        text-align: right;\n",
       "    }\n",
       "</style>\n",
       "<table border=\"1\" class=\"dataframe\">\n",
       "  <thead>\n",
       "    <tr>\n",
       "      <th></th>\n",
       "      <th colspan=\"2\" halign=\"left\">debt</th>\n",
       "      <th>procent_of_no_repayment</th>\n",
       "    </tr>\n",
       "    <tr>\n",
       "      <th></th>\n",
       "      <th>sum</th>\n",
       "      <th>count</th>\n",
       "      <th></th>\n",
       "    </tr>\n",
       "    <tr>\n",
       "      <th>total_income_category</th>\n",
       "      <th></th>\n",
       "      <th></th>\n",
       "      <th></th>\n",
       "    </tr>\n",
       "  </thead>\n",
       "  <tbody>\n",
       "    <tr>\n",
       "      <th>A</th>\n",
       "      <td>2</td>\n",
       "      <td>25</td>\n",
       "      <td>8.000000</td>\n",
       "    </tr>\n",
       "    <tr>\n",
       "      <th>B</th>\n",
       "      <td>354</td>\n",
       "      <td>5014</td>\n",
       "      <td>7.060231</td>\n",
       "    </tr>\n",
       "    <tr>\n",
       "      <th>C</th>\n",
       "      <td>1353</td>\n",
       "      <td>15921</td>\n",
       "      <td>8.498210</td>\n",
       "    </tr>\n",
       "    <tr>\n",
       "      <th>D</th>\n",
       "      <td>21</td>\n",
       "      <td>349</td>\n",
       "      <td>6.017192</td>\n",
       "    </tr>\n",
       "    <tr>\n",
       "      <th>E</th>\n",
       "      <td>2</td>\n",
       "      <td>22</td>\n",
       "      <td>9.090909</td>\n",
       "    </tr>\n",
       "  </tbody>\n",
       "</table>\n",
       "</div>"
      ],
      "text/plain": [
       "                       debt        procent_of_no_repayment\n",
       "                        sum  count                        \n",
       "total_income_category                                     \n",
       "A                         2     25                8.000000\n",
       "B                       354   5014                7.060231\n",
       "C                      1353  15921                8.498210\n",
       "D                        21    349                6.017192\n",
       "E                         2     22                9.090909"
      ]
     },
     "execution_count": 28,
     "metadata": {},
     "output_type": "execute_result"
    }
   ],
   "source": [
    "total_income_category_df['procent_of_no_repayment'] = total_income_category_df[('debt','sum')] / total_income_category_df[('debt','count')] * 100\n",
    " \n",
    "total_income_category_df"
   ]
  },
  {
   "cell_type": "markdown",
   "id": "6dd14b57",
   "metadata": {
    "deletable": false,
    "id": "6dd14b57"
   },
   "source": [
    "**Вывод:** Категория D имеет самый низкий процент невозврата кредитов. Это может указывать на то, что заемщики в этой категории управляют своими финансами достаточно осторожно, возможно, из-за ограниченных ресурсов, что приводит к более ответственному отношению к долгам.\n",
    "\n",
    "Категория C, с другой стороны, показывает более высокий процент невозврата. Это может быть связано с тем, что у заемщиков в этой категории, несмотря на сравнительно приличный доход, может быть больше обязательств или менее строгий финансовый контроль, что приводит к финансовым трудностям.\n",
    "\n",
    "Категория B занимает промежуточное положение с процентом невозврата 7.06%. Заемщики в этой категории, вероятно, имеют лучшее кредитное образование и доступ к финансовым инструментам, что способствует более успешному управлению кредитами.\n",
    "\n",
    "При анализе данных о невозврате кредитов по категориям A и E стоит также учитывать, что оценка может быть затруднена из-за относительно малого размера выборки. Малый объем данных в категориях может приводить к тому, что результаты статистически менее устойчивы и могут быть искажены несколькими аномальными случаями или не отражать общую тенденцию."
   ]
  },
  {
   "cell_type": "markdown",
   "id": "75a4975d",
   "metadata": {},
   "source": [
    "<div class=\"alert-warning\"> \n",
    "<b>Комментарий ревьюера 💡</b> \n",
    "    \n",
    "Тут необходимо обратить внимание на маленький размер некоторых категорий, по ним нельзя делать выводы. А по оставшимся можно определить зависимость, расписать подробнее"
   ]
  },
  {
   "cell_type": "markdown",
   "id": "1dcc9b12",
   "metadata": {
    "deletable": false,
    "editable": false,
    "id": "1dcc9b12"
   },
   "source": [
    "#### 3.4 Как разные цели кредита влияют на его возврат в срок?"
   ]
  },
  {
   "cell_type": "markdown",
   "id": "8e6790ef",
   "metadata": {},
   "source": [
    "**Cоздание DataFrame по цели кредита и проценту возрата кредита в срок**"
   ]
  },
  {
   "cell_type": "markdown",
   "id": "08d1d0d2",
   "metadata": {},
   "source": [
    "**sum - это количество заемщиков по группам семейного положения которые имеют задолженность по возврату кредита**"
   ]
  },
  {
   "cell_type": "markdown",
   "id": "e061b998",
   "metadata": {},
   "source": [
    "**count - это общее количество заемщиков в этой группе**"
   ]
  },
  {
   "cell_type": "code",
   "execution_count": 29,
   "id": "c602bc8b",
   "metadata": {
    "deletable": false,
    "id": "c602bc8b"
   },
   "outputs": [],
   "source": [
    "purpose_category_df = data.groupby('purpose_category').agg(\n",
    "    {\n",
    "        'debt':[sum,pd.Series.count], \n",
    "    }\n",
    ")                                              "
   ]
  },
  {
   "cell_type": "markdown",
   "id": "592e3def",
   "metadata": {},
   "source": [
    "**procent_of_no_repayment - это процент людей имеющих задолженность по возврату кредитов**"
   ]
  },
  {
   "cell_type": "markdown",
   "id": "22648c8d",
   "metadata": {},
   "source": [
    "**more solvent - это столбец указывающий на более платежеспособных людей, мы берем среднее значение процента заемщиков которые имеют задолженность по возврату кредита и сравниваем с каждой подгруппой**"
   ]
  },
  {
   "cell_type": "code",
   "execution_count": 30,
   "id": "6ee7edae",
   "metadata": {},
   "outputs": [
    {
     "data": {
      "text/html": [
       "<div>\n",
       "<style scoped>\n",
       "    .dataframe tbody tr th:only-of-type {\n",
       "        vertical-align: middle;\n",
       "    }\n",
       "\n",
       "    .dataframe tbody tr th {\n",
       "        vertical-align: top;\n",
       "    }\n",
       "\n",
       "    .dataframe thead tr th {\n",
       "        text-align: left;\n",
       "    }\n",
       "\n",
       "    .dataframe thead tr:last-of-type th {\n",
       "        text-align: right;\n",
       "    }\n",
       "</style>\n",
       "<table border=\"1\" class=\"dataframe\">\n",
       "  <thead>\n",
       "    <tr>\n",
       "      <th></th>\n",
       "      <th colspan=\"2\" halign=\"left\">debt</th>\n",
       "      <th>procent_of_no_repayment</th>\n",
       "      <th>more_solvent</th>\n",
       "    </tr>\n",
       "    <tr>\n",
       "      <th></th>\n",
       "      <th>sum</th>\n",
       "      <th>count</th>\n",
       "      <th></th>\n",
       "      <th></th>\n",
       "    </tr>\n",
       "    <tr>\n",
       "      <th>purpose_category</th>\n",
       "      <th></th>\n",
       "      <th></th>\n",
       "      <th></th>\n",
       "      <th></th>\n",
       "    </tr>\n",
       "  </thead>\n",
       "  <tbody>\n",
       "    <tr>\n",
       "      <th>операции с автомобилем</th>\n",
       "      <td>400</td>\n",
       "      <td>4279</td>\n",
       "      <td>9.347978</td>\n",
       "      <td>no</td>\n",
       "    </tr>\n",
       "    <tr>\n",
       "      <th>операции с недвижимостью</th>\n",
       "      <td>780</td>\n",
       "      <td>10751</td>\n",
       "      <td>7.255139</td>\n",
       "      <td>yes</td>\n",
       "    </tr>\n",
       "    <tr>\n",
       "      <th>получение образования</th>\n",
       "      <td>369</td>\n",
       "      <td>3988</td>\n",
       "      <td>9.252758</td>\n",
       "      <td>no</td>\n",
       "    </tr>\n",
       "    <tr>\n",
       "      <th>проведение свадьбы</th>\n",
       "      <td>183</td>\n",
       "      <td>2313</td>\n",
       "      <td>7.911803</td>\n",
       "      <td>yes</td>\n",
       "    </tr>\n",
       "  </tbody>\n",
       "</table>\n",
       "</div>"
      ],
      "text/plain": [
       "                         debt        procent_of_no_repayment more_solvent\n",
       "                          sum  count                                     \n",
       "purpose_category                                                         \n",
       "операции с автомобилем    400   4279                9.347978           no\n",
       "операции с недвижимостью  780  10751                7.255139          yes\n",
       "получение образования     369   3988                9.252758           no\n",
       "проведение свадьбы        183   2313                7.911803          yes"
      ]
     },
     "execution_count": 30,
     "metadata": {},
     "output_type": "execute_result"
    }
   ],
   "source": [
    "purpose_category_df['procent_of_no_repayment'] = purpose_category_df[('debt','sum')] / purpose_category_df[('debt','count')] * 100\n",
    " \n",
    "purpose_category_df['more_solvent'] = purpose_category_df['procent_of_no_repayment'].apply(lambda x: 'yes' if x <= purpose_category_df['procent_of_no_repayment'].mean()  else 'no') \n",
    "purpose_category_df "
   ]
  },
  {
   "cell_type": "markdown",
   "id": "cf05ed63",
   "metadata": {
    "deletable": false,
    "id": "cf05ed63"
   },
   "source": [
    "**Вывод:** Заемщики которые взяли кредит категории \"операции с недвижимостью и проведение свадьбы\" имеют более высокий процент своевременного возврата кредита по сравнению с теми, кто имеет уровень дохода категории \"операции с автомобилем, получение образования\" , это может означать более ответственному отношению к долгам и лучшую финансовую стабильность."
   ]
  },
  {
   "cell_type": "markdown",
   "id": "303599ed",
   "metadata": {},
   "source": [
    "<div class=\"alert-success\"> \n",
    "<b>Комментарий ревьюера 👍</b>\n",
    "\n",
    "Можно попробовать забежать вперед и добавить визуализацию к каждому пункту"
   ]
  },
  {
   "cell_type": "markdown",
   "id": "46c1f10b",
   "metadata": {
    "deletable": false,
    "editable": false,
    "id": "46c1f10b"
   },
   "source": [
    "#### 3.5 Приведите возможные причины появления пропусков в исходных данных."
   ]
  },
  {
   "cell_type": "markdown",
   "id": "3697d2a9",
   "metadata": {
    "deletable": false,
    "id": "3697d2a9"
   },
   "source": [
    "*Ответ:* Ошибки при вводе данных, Технические проблемы при сборе данных, Ограничения при сборе данных, Недоступность данных, Исключение данных из анализа."
   ]
  },
  {
   "cell_type": "markdown",
   "id": "7485a770",
   "metadata": {},
   "source": [
    "<div class=\"alert-success\"> \n",
    "<b>Комментарий ревьюера 👍</b>\n",
    "\n",
    "Согласен с названными тобою возможными причинами пропусков"
   ]
  },
  {
   "cell_type": "markdown",
   "id": "3137d257",
   "metadata": {
    "deletable": false,
    "editable": false,
    "id": "3137d257"
   },
   "source": [
    "#### 3.6 Объясните, почему заполнить пропуски медианным значением — лучшее решение для количественных переменных."
   ]
  },
  {
   "cell_type": "markdown",
   "id": "cf40012a",
   "metadata": {
    "deletable": false,
    "id": "cf40012a"
   },
   "source": [
    "*Ответ:* Заполнять пропуски медианным значением — лучшее решение для количественных переменных, так как одно значение может быть 1, а другое 100, и среднее между ними будет 50.5, из-за чего может быть получена в дальнейшем неверная информация. "
   ]
  },
  {
   "cell_type": "markdown",
   "id": "7c1b6b70",
   "metadata": {},
   "source": [
    "<div class=\"alert-success\"> \n",
    "<b>Комментарий ревьюера 👍 </b>\n",
    "    \n",
    "Ддело именно в том, что среднее сильно реагирует на выбросы, тем самым искажая наши данные, в отличие от медианы"
   ]
  },
  {
   "cell_type": "markdown",
   "id": "57bc304e",
   "metadata": {
    "deletable": false,
    "editable": false,
    "id": "57bc304e"
   },
   "source": [
    "### Шаг 4: общий вывод."
   ]
  },
  {
   "cell_type": "markdown",
   "id": "1ab75d1c",
   "metadata": {
    "deletable": false,
    "id": "1ab75d1c"
   },
   "source": [
    "**Вывод:** \n",
    "\n",
    "**1.Получив данные мною была сделана предобработка данных, которая включила в себя:**\n",
    "\n",
    "--Удаление пропусков\n",
    "\n",
    "--Обработку аномальных значений\n",
    "\n",
    "--Изменение типов данных\n",
    "\n",
    "--Обработка дубликатов\n",
    "\n",
    "--Категоризацию данных\n",
    "\n",
    "**Далее используя данные о:**\n",
    "\n",
    "--должниках \n",
    "\n",
    "--количестве детей\n",
    "\n",
    "--семейном положении\n",
    "\n",
    "--уровню дохода\n",
    "\n",
    "--цели кредита\n",
    "\n",
    "**сделал выводы отвечающие на вопросы:**\n",
    "\n",
    "--зависимость между количеством детей и возвратом кредита в срок\n",
    "\n",
    "--зависимость между семейным положением и возвратом кредита в срок\n",
    "\n",
    "--зависимость между уровнем дохода и возвратом кредита в срок\n",
    "\n",
    "--Как разные цели кредита влияют на его возврат в срок\".\n",
    "\n",
    "**2.По моим результатам:**\n",
    "\n",
    "**Портрет идеального клиента**\n",
    "\n",
    "Семейное положение: Женат / Замужем, Вдовец / Вдова или Разведен(а). Эти категории чаще всего демонстрируют высокий процент своевременного возврата кредитов, что указывает на финансовую стабильность и ответственность.\n",
    "\n",
    "Количество детей: Бездетные. Люди без детей имеют самый низкий процент невозврата кредита (7.54%), что может свидетельствовать о меньших финансовых обязательствах и более строгом финансовом планировании.\n",
    "\n",
    "Категория дохода: Высокий (категория D). Эта группа показала самый низкий процент невозврата кредитов, что может быть связано с осторожным управлением ограниченными ресурсами.\n",
    "\n",
    "Цель кредита: Операции с недвижимостью или проведение свадьбы. Заемщики, взявшие кредиты на эти цели, имеют выше процент своевременного возврата кредитов.\n",
    "\n",
    "**Портрет нежелательного клиента**\n",
    "\n",
    "Семейное положение: Не женат / Не замужем или Гражданский брак. Эти категории показывают более высокий процент невозврата кредитов, что может указывать на менее стабильное финансовое положение.\n",
    "\n",
    "Количество детей: 4 ребенка. Заемщики с четырьмя детьми демонстрируют высокий процент невозврата кредитов (9.76%), что скорее всего связано с увеличением финансовой нагрузки.\n",
    "\n",
    "Категория дохода: Средний (категория C). Заемщики в этой категории показывают более высокий процент невозврата, возможно, из-за большего количества финансовых обязательств и менее строгого финансового контроля.\n",
    "\n",
    "Цель кредита: Операции с автомобилем или получение образования. Эти цели кредитования связаны с более высоким процентом невозврата, что может отражать менее ответственное отношение к долгам и финансовые трудности.\n",
    "\n",
    "**3. Итоговые рекомендации для заказчика по сбору данных и скорингу**\n",
    "\n",
    "**Расширение и Углубление Сбора Данных:**\n",
    "\n",
    "**Демографическая информация:** Уделите особое внимание сбору подробной информации о семейном положении и количестве детей заемщика. Эти параметры показали значительное влияние на вероятность невозврата кредитов.\n",
    "\n",
    "**Финансовые данные**: Собирайте более детализированную информацию о доходах и регулярных расходах заемщиков, включая тип дохода (постоянный, временный) и источники финансовой поддержки (например, государственные выплаты).\n",
    "\n",
    "**Цели кредитования:** Фиксируйте и анализируйте цели кредитования более тщательно, поскольку это существенно влияет на риск невозврата.\n",
    "\n",
    "**Улучшение Моделей Скоринга:**\n",
    "\n",
    "**Поведенческие факторы:** Включите анализ платежной дисциплины по Количеству банковских займов за весь период жизни;\n",
    "Количеству отказов от других банков и микрофинансовых организаций, Сумму, которую заемщик выплатили без просрочек.\n",
    "\n",
    "**Анкета потенциального заёмщика:** Добавьте адрес проживания. По статистике люди из более обеспеченных регионов лучше выплачивают кредит, чем жители неблагополучных областей страны;"
   ]
  },
  {
   "cell_type": "markdown",
   "id": "569ed1c6",
   "metadata": {},
   "source": [
    "<div class=\"alert-danger\"> \n",
    "<b>Комментарий ревьюера ❌</b> \n",
    "    \n",
    "Нужно расширить вывод. Заказчик, зачастую, читает только общий вывод исследования - поэтому он должен быть максимально информативным и иметь итоги и рекомендации. Можно написать, с какими данными была проведена работа, что было сделано и т.д. Можно составить портреты идеального и нежелательного клиентов. \n",
    "    \n",
    "Здорово, что есть формулировки зависимостей, но вот что еще можно и нужно добавить:\n",
    "1. Написать, с какими данными была проведена работа, что было тобою сделано в проекте\n",
    "2. Портреты идеального и нежелательного клиентов\n",
    "3. Итоговые рекомендации для заказчика по сбору данных и скорингу\n",
    "   "
   ]
  },
  {
   "cell_type": "markdown",
   "id": "02f323f0",
   "metadata": {},
   "source": [
    "<div class=\"alert-success\"> \n",
    "<b>Комментарий ревьюера 👍 Вторая итерация </b>\n",
    "\n",
    "Вывод стал информативнее и подробнее"
   ]
  },
  {
   "cell_type": "markdown",
   "id": "c1b434b9",
   "metadata": {},
   "source": [
    "<div class=\"alert-danger\"> \n",
    "<b>Комментарий ревьюера ❌</b>\n",
    "    \n",
    "Отличный проект, тобою проделана большая работа, ты молодец!\n",
    "\n",
    "Сперва похвалю за наличие везде промежуточных выводов, комментариев. Даны верные ответы на поставленные вопросы.\n",
    "    \n",
    "Что обязательно стоит доработать: расширить общий вывод, улучшить код, доработать сводные таблицы. Желательно поработать и над желтыми комментариями. Можешь еще попробовать добавить визуализацию в проект (но это по желанию). По визуализации могу посоветовать следующие материалы: 1. https://github.com/esokolov/ml-course-hse/blob/master/2022-fall/seminars/sem02-charts.ipynb 2. https://github.com/Palladain/Deep_Python/blob/main/Lectures/Lecture_3/Lecture_3_Python.ipynb\n",
    "    \n",
    "Буду ждать доработок :) Удачи!"
   ]
  },
  {
   "cell_type": "markdown",
   "id": "d0f3a3bd",
   "metadata": {},
   "source": [
    "<div class=\"alert-success\"> \n",
    "<b>Комментарий ревьюера 👍 Вторая итерация </b>\n",
    "\n",
    "Все критические ошибки исправлены, проект стал еще лучше, принимаю. Успехов в дальнейшей учебе!"
   ]
  }
 ],
 "metadata": {
  "ExecuteTimeLog": [
   {
    "duration": 475,
    "start_time": "2024-05-22T09:13:50.842Z"
   },
   {
    "duration": 21,
    "start_time": "2024-05-22T09:13:51.319Z"
   },
   {
    "duration": 15,
    "start_time": "2024-05-22T09:13:51.342Z"
   },
   {
    "duration": 10,
    "start_time": "2024-05-22T09:13:51.358Z"
   },
   {
    "duration": 38,
    "start_time": "2024-05-22T09:13:51.369Z"
   },
   {
    "duration": 3,
    "start_time": "2024-05-22T09:13:51.408Z"
   },
   {
    "duration": 8,
    "start_time": "2024-05-22T09:13:51.413Z"
   },
   {
    "duration": 24,
    "start_time": "2024-05-22T09:13:51.423Z"
   },
   {
    "duration": 7,
    "start_time": "2024-05-22T09:13:51.448Z"
   },
   {
    "duration": 5,
    "start_time": "2024-05-22T09:13:51.457Z"
   },
   {
    "duration": 38,
    "start_time": "2024-05-22T09:13:51.463Z"
   },
   {
    "duration": 10,
    "start_time": "2024-05-22T09:13:51.503Z"
   },
   {
    "duration": 4,
    "start_time": "2024-05-22T09:13:51.514Z"
   },
   {
    "duration": 12,
    "start_time": "2024-05-22T09:13:51.544Z"
   },
   {
    "duration": 24,
    "start_time": "2024-05-22T09:13:51.558Z"
   },
   {
    "duration": 15,
    "start_time": "2024-05-22T09:13:51.584Z"
   },
   {
    "duration": 3,
    "start_time": "2024-05-22T09:13:51.601Z"
   },
   {
    "duration": 13,
    "start_time": "2024-05-22T09:13:51.606Z"
   },
   {
    "duration": 26,
    "start_time": "2024-05-22T09:13:51.620Z"
   },
   {
    "duration": 3,
    "start_time": "2024-05-22T09:13:51.648Z"
   },
   {
    "duration": 11,
    "start_time": "2024-05-22T09:13:51.652Z"
   },
   {
    "duration": 3,
    "start_time": "2024-05-22T09:13:51.664Z"
   },
   {
    "duration": 10,
    "start_time": "2024-05-22T09:13:51.668Z"
   },
   {
    "duration": 12,
    "start_time": "2024-05-22T09:13:51.679Z"
   },
   {
    "duration": 15,
    "start_time": "2024-05-22T09:13:51.693Z"
   },
   {
    "duration": 12,
    "start_time": "2024-05-22T09:34:37.779Z"
   },
   {
    "duration": 5,
    "start_time": "2024-05-22T09:37:06.096Z"
   },
   {
    "duration": 787,
    "start_time": "2024-05-22T09:37:28.311Z"
   },
   {
    "duration": 953,
    "start_time": "2024-05-22T09:38:00.962Z"
   },
   {
    "duration": 10,
    "start_time": "2024-05-22T09:38:18.884Z"
   },
   {
    "duration": 6,
    "start_time": "2024-05-22T09:38:36.424Z"
   },
   {
    "duration": 5,
    "start_time": "2024-05-22T10:19:59.910Z"
   },
   {
    "duration": 3,
    "start_time": "2024-05-22T10:20:01.961Z"
   },
   {
    "duration": 4,
    "start_time": "2024-05-22T10:20:09.184Z"
   },
   {
    "duration": 4,
    "start_time": "2024-05-22T10:20:34.049Z"
   },
   {
    "duration": 4,
    "start_time": "2024-05-22T10:20:36.410Z"
   },
   {
    "duration": 458,
    "start_time": "2024-05-22T10:20:39.453Z"
   },
   {
    "duration": 21,
    "start_time": "2024-05-22T10:20:39.913Z"
   },
   {
    "duration": 27,
    "start_time": "2024-05-22T10:20:39.935Z"
   },
   {
    "duration": 10,
    "start_time": "2024-05-22T10:20:39.963Z"
   },
   {
    "duration": 34,
    "start_time": "2024-05-22T10:20:39.976Z"
   },
   {
    "duration": 4,
    "start_time": "2024-05-22T10:20:40.011Z"
   },
   {
    "duration": 38,
    "start_time": "2024-05-22T10:20:40.016Z"
   },
   {
    "duration": 44,
    "start_time": "2024-05-22T10:20:40.055Z"
   },
   {
    "duration": 15,
    "start_time": "2024-05-22T10:20:40.100Z"
   },
   {
    "duration": 19,
    "start_time": "2024-05-22T10:20:40.116Z"
   },
   {
    "duration": 45,
    "start_time": "2024-05-22T10:20:40.136Z"
   },
   {
    "duration": 10,
    "start_time": "2024-05-22T10:20:40.183Z"
   },
   {
    "duration": 17,
    "start_time": "2024-05-22T10:20:40.194Z"
   },
   {
    "duration": 20,
    "start_time": "2024-05-22T10:20:40.213Z"
   },
   {
    "duration": 21,
    "start_time": "2024-05-22T10:20:40.235Z"
   },
   {
    "duration": 15,
    "start_time": "2024-05-22T10:20:40.257Z"
   },
   {
    "duration": 3,
    "start_time": "2024-05-22T10:20:40.274Z"
   },
   {
    "duration": 13,
    "start_time": "2024-05-22T10:20:40.278Z"
   },
   {
    "duration": 15,
    "start_time": "2024-05-22T10:20:40.293Z"
   },
   {
    "duration": 5,
    "start_time": "2024-05-22T10:20:40.309Z"
   },
   {
    "duration": 12,
    "start_time": "2024-05-22T10:20:40.345Z"
   },
   {
    "duration": 12,
    "start_time": "2024-05-22T10:20:40.359Z"
   },
   {
    "duration": 8,
    "start_time": "2024-05-22T10:20:40.372Z"
   },
   {
    "duration": 12,
    "start_time": "2024-05-22T10:20:40.381Z"
   },
   {
    "duration": 7,
    "start_time": "2024-05-22T10:20:40.395Z"
   },
   {
    "duration": 12,
    "start_time": "2024-05-22T10:20:50.437Z"
   },
   {
    "duration": 4,
    "start_time": "2024-05-22T10:20:55.785Z"
   },
   {
    "duration": 9,
    "start_time": "2024-05-22T10:22:23.451Z"
   },
   {
    "duration": 14,
    "start_time": "2024-05-22T10:23:02.999Z"
   },
   {
    "duration": 7,
    "start_time": "2024-05-22T10:28:11.783Z"
   },
   {
    "duration": 1061,
    "start_time": "2024-05-22T10:31:12.804Z"
   },
   {
    "duration": 1020,
    "start_time": "2024-05-22T10:31:48.859Z"
   },
   {
    "duration": 928,
    "start_time": "2024-05-22T10:32:27.575Z"
   },
   {
    "duration": 934,
    "start_time": "2024-05-22T10:32:43.026Z"
   },
   {
    "duration": 1022,
    "start_time": "2024-05-22T10:32:49.517Z"
   },
   {
    "duration": 15,
    "start_time": "2024-05-22T10:33:03.716Z"
   },
   {
    "duration": 12,
    "start_time": "2024-05-22T10:33:14.885Z"
   },
   {
    "duration": 8,
    "start_time": "2024-05-22T10:33:20.727Z"
   },
   {
    "duration": 8,
    "start_time": "2024-05-22T10:33:56.792Z"
   },
   {
    "duration": 8,
    "start_time": "2024-05-22T10:34:51.743Z"
   },
   {
    "duration": 8,
    "start_time": "2024-05-22T10:34:56.817Z"
   },
   {
    "duration": 11,
    "start_time": "2024-05-22T10:35:01.817Z"
   },
   {
    "duration": 13,
    "start_time": "2024-05-22T11:33:48.025Z"
   },
   {
    "duration": 13,
    "start_time": "2024-05-22T11:34:06.472Z"
   },
   {
    "duration": 9,
    "start_time": "2024-05-22T11:40:44.090Z"
   },
   {
    "duration": 8,
    "start_time": "2024-05-22T11:40:54.364Z"
   },
   {
    "duration": 949,
    "start_time": "2024-05-22T11:42:16.807Z"
   },
   {
    "duration": 11,
    "start_time": "2024-05-22T11:42:56.704Z"
   },
   {
    "duration": 1015,
    "start_time": "2024-05-22T11:43:02.139Z"
   },
   {
    "duration": 7,
    "start_time": "2024-05-22T11:44:13.428Z"
   },
   {
    "duration": 7,
    "start_time": "2024-05-22T11:44:18.312Z"
   },
   {
    "duration": 6,
    "start_time": "2024-05-22T11:44:23.898Z"
   },
   {
    "duration": 771,
    "start_time": "2024-05-22T11:44:58.846Z"
   },
   {
    "duration": 7,
    "start_time": "2024-05-22T11:45:05.604Z"
   },
   {
    "duration": 1127,
    "start_time": "2024-05-22T11:46:07.338Z"
   },
   {
    "duration": 14,
    "start_time": "2024-05-22T11:46:21.213Z"
   },
   {
    "duration": 12,
    "start_time": "2024-05-22T11:46:26.004Z"
   },
   {
    "duration": 13,
    "start_time": "2024-05-22T11:46:32.314Z"
   },
   {
    "duration": 14,
    "start_time": "2024-05-22T11:46:34.387Z"
   },
   {
    "duration": 13,
    "start_time": "2024-05-22T11:46:50.173Z"
   },
   {
    "duration": 720,
    "start_time": "2024-05-22T11:46:54.105Z"
   },
   {
    "duration": 7,
    "start_time": "2024-05-22T11:47:01.003Z"
   },
   {
    "duration": 730,
    "start_time": "2024-05-22T11:47:54.437Z"
   },
   {
    "duration": 694,
    "start_time": "2024-05-22T11:48:30.597Z"
   },
   {
    "duration": 10,
    "start_time": "2024-05-22T11:49:17.472Z"
   },
   {
    "duration": 8,
    "start_time": "2024-05-22T11:49:24.022Z"
   },
   {
    "duration": 10,
    "start_time": "2024-05-22T11:52:08.035Z"
   },
   {
    "duration": 20,
    "start_time": "2024-05-22T11:56:16.580Z"
   },
   {
    "duration": 18,
    "start_time": "2024-05-22T11:56:49.979Z"
   },
   {
    "duration": 25,
    "start_time": "2024-05-22T11:56:58.221Z"
   },
   {
    "duration": 16,
    "start_time": "2024-05-22T11:57:10.220Z"
   },
   {
    "duration": 33,
    "start_time": "2024-05-22T12:02:11.600Z"
   },
   {
    "duration": 12,
    "start_time": "2024-05-22T12:10:23.229Z"
   },
   {
    "duration": 68,
    "start_time": "2024-05-22T12:26:44.452Z"
   },
   {
    "duration": 12,
    "start_time": "2024-05-22T12:26:48.437Z"
   },
   {
    "duration": 61,
    "start_time": "2024-05-22T12:34:40.263Z"
   },
   {
    "duration": 64,
    "start_time": "2024-05-22T12:34:49.586Z"
   },
   {
    "duration": 4,
    "start_time": "2024-05-22T12:34:59.395Z"
   },
   {
    "duration": 18,
    "start_time": "2024-05-22T12:35:27.693Z"
   },
   {
    "duration": 9,
    "start_time": "2024-05-22T12:35:48.655Z"
   },
   {
    "duration": 13,
    "start_time": "2024-05-22T12:37:45.895Z"
   },
   {
    "duration": 18,
    "start_time": "2024-05-22T12:38:00.405Z"
   },
   {
    "duration": 36,
    "start_time": "2024-05-22T12:38:05.480Z"
   },
   {
    "duration": 14,
    "start_time": "2024-05-22T12:38:19.178Z"
   },
   {
    "duration": 11,
    "start_time": "2024-05-22T12:40:44.619Z"
   },
   {
    "duration": 12,
    "start_time": "2024-05-22T12:45:51.285Z"
   },
   {
    "duration": 7,
    "start_time": "2024-05-22T12:51:37.553Z"
   },
   {
    "duration": 12,
    "start_time": "2024-05-22T13:11:20.552Z"
   },
   {
    "duration": 3,
    "start_time": "2024-05-22T13:11:27.208Z"
   },
   {
    "duration": 18,
    "start_time": "2024-05-22T13:27:04.316Z"
   },
   {
    "duration": 18,
    "start_time": "2024-05-22T13:29:03.668Z"
   },
   {
    "duration": 9,
    "start_time": "2024-05-22T13:29:19.332Z"
   },
   {
    "duration": 990,
    "start_time": "2024-05-22T13:37:13.751Z"
   },
   {
    "duration": 19,
    "start_time": "2024-05-22T13:37:54.268Z"
   },
   {
    "duration": 14,
    "start_time": "2024-05-22T13:39:21.293Z"
   },
   {
    "duration": 30,
    "start_time": "2024-05-22T13:40:44.079Z"
   },
   {
    "duration": 21,
    "start_time": "2024-05-22T13:41:22.042Z"
   },
   {
    "duration": 23,
    "start_time": "2024-05-22T13:41:49.590Z"
   },
   {
    "duration": 14,
    "start_time": "2024-05-22T13:43:33.422Z"
   },
   {
    "duration": 19,
    "start_time": "2024-05-22T13:43:41.348Z"
   },
   {
    "duration": 15,
    "start_time": "2024-05-22T13:44:18.414Z"
   },
   {
    "duration": 24,
    "start_time": "2024-05-22T13:45:40.100Z"
   },
   {
    "duration": 29,
    "start_time": "2024-05-22T13:45:55.081Z"
   },
   {
    "duration": 41,
    "start_time": "2024-05-22T13:47:00.935Z"
   },
   {
    "duration": 17,
    "start_time": "2024-05-22T13:48:30.878Z"
   },
   {
    "duration": 41,
    "start_time": "2024-05-22T13:49:37.320Z"
   },
   {
    "duration": 114,
    "start_time": "2024-05-22T13:50:02.069Z"
   },
   {
    "duration": 22,
    "start_time": "2024-05-22T13:50:07.619Z"
   },
   {
    "duration": 18,
    "start_time": "2024-05-22T13:50:37.346Z"
   },
   {
    "duration": 19,
    "start_time": "2024-05-22T13:50:44.854Z"
   },
   {
    "duration": 14,
    "start_time": "2024-05-22T13:51:04.452Z"
   },
   {
    "duration": 25,
    "start_time": "2024-05-22T13:52:33.568Z"
   },
   {
    "duration": 20,
    "start_time": "2024-05-22T13:53:37.054Z"
   },
   {
    "duration": 17,
    "start_time": "2024-05-22T13:53:52.854Z"
   },
   {
    "duration": 19,
    "start_time": "2024-05-22T13:54:08.700Z"
   },
   {
    "duration": 23,
    "start_time": "2024-05-22T13:54:25.322Z"
   },
   {
    "duration": 22,
    "start_time": "2024-05-22T13:54:44.787Z"
   },
   {
    "duration": 15,
    "start_time": "2024-05-22T13:55:11.014Z"
   },
   {
    "duration": 12,
    "start_time": "2024-05-22T13:55:48.146Z"
   },
   {
    "duration": 23,
    "start_time": "2024-05-22T13:56:26.155Z"
   },
   {
    "duration": 16,
    "start_time": "2024-05-22T13:56:29.964Z"
   },
   {
    "duration": 13,
    "start_time": "2024-05-22T13:56:42.838Z"
   },
   {
    "duration": 15,
    "start_time": "2024-05-22T13:56:56.363Z"
   },
   {
    "duration": 14,
    "start_time": "2024-05-22T13:57:07.621Z"
   },
   {
    "duration": 14,
    "start_time": "2024-05-22T13:58:35.930Z"
   },
   {
    "duration": 5,
    "start_time": "2024-05-22T14:00:25.989Z"
   },
   {
    "duration": 16,
    "start_time": "2024-05-22T14:00:27.057Z"
   },
   {
    "duration": 285,
    "start_time": "2024-05-22T14:03:11.470Z"
   },
   {
    "duration": 1018,
    "start_time": "2024-05-22T14:03:20.570Z"
   },
   {
    "duration": 999,
    "start_time": "2024-05-22T14:03:30.422Z"
   },
   {
    "duration": 1019,
    "start_time": "2024-05-22T14:03:41.182Z"
   },
   {
    "duration": 4479,
    "start_time": "2024-05-22T14:04:07.082Z"
   },
   {
    "duration": 1214,
    "start_time": "2024-05-22T14:04:29.137Z"
   },
   {
    "duration": 1064,
    "start_time": "2024-05-22T14:05:03.040Z"
   },
   {
    "duration": 1114,
    "start_time": "2024-05-22T14:05:59.156Z"
   },
   {
    "duration": 78,
    "start_time": "2024-05-22T14:06:36.572Z"
   },
   {
    "duration": 387,
    "start_time": "2024-05-22T14:06:40.974Z"
   },
   {
    "duration": 298,
    "start_time": "2024-05-22T14:07:01.455Z"
   },
   {
    "duration": 261,
    "start_time": "2024-05-22T14:07:52.690Z"
   },
   {
    "duration": 273,
    "start_time": "2024-05-22T14:07:56.731Z"
   },
   {
    "duration": 18,
    "start_time": "2024-05-22T14:08:08.857Z"
   },
   {
    "duration": 17,
    "start_time": "2024-05-22T14:13:03.457Z"
   },
   {
    "duration": 17,
    "start_time": "2024-05-22T14:15:36.064Z"
   },
   {
    "duration": 17,
    "start_time": "2024-05-22T14:16:56.037Z"
   },
   {
    "duration": 4,
    "start_time": "2024-05-22T14:26:04.922Z"
   },
   {
    "duration": 8,
    "start_time": "2024-05-22T14:26:43.803Z"
   },
   {
    "duration": 6,
    "start_time": "2024-05-22T14:28:57.798Z"
   },
   {
    "duration": 5,
    "start_time": "2024-05-22T14:29:05.347Z"
   },
   {
    "duration": 8,
    "start_time": "2024-05-22T14:29:09.162Z"
   },
   {
    "duration": 23,
    "start_time": "2024-05-22T14:30:49.631Z"
   },
   {
    "duration": 17,
    "start_time": "2024-05-22T14:31:13.354Z"
   },
   {
    "duration": 23,
    "start_time": "2024-05-22T14:36:46.822Z"
   },
   {
    "duration": 19,
    "start_time": "2024-05-22T14:36:51.671Z"
   },
   {
    "duration": 18,
    "start_time": "2024-05-22T14:37:18.822Z"
   },
   {
    "duration": 949,
    "start_time": "2024-05-22T14:39:42.356Z"
   },
   {
    "duration": 1020,
    "start_time": "2024-05-22T14:39:47.768Z"
   },
   {
    "duration": 21,
    "start_time": "2024-05-22T14:40:09.787Z"
   },
   {
    "duration": 21,
    "start_time": "2024-05-22T14:40:15.585Z"
   },
   {
    "duration": 22,
    "start_time": "2024-05-22T14:40:32.871Z"
   },
   {
    "duration": 21,
    "start_time": "2024-05-22T14:41:00.649Z"
   },
   {
    "duration": 18,
    "start_time": "2024-05-22T14:41:12.980Z"
   },
   {
    "duration": 24,
    "start_time": "2024-05-22T14:41:27.231Z"
   },
   {
    "duration": 450,
    "start_time": "2024-05-22T14:41:32.090Z"
   },
   {
    "duration": 22,
    "start_time": "2024-05-22T14:41:32.542Z"
   },
   {
    "duration": 15,
    "start_time": "2024-05-22T14:41:32.565Z"
   },
   {
    "duration": 10,
    "start_time": "2024-05-22T14:41:32.582Z"
   },
   {
    "duration": 53,
    "start_time": "2024-05-22T14:41:32.594Z"
   },
   {
    "duration": 3,
    "start_time": "2024-05-22T14:41:32.648Z"
   },
   {
    "duration": 23,
    "start_time": "2024-05-22T14:41:32.653Z"
   },
   {
    "duration": 5,
    "start_time": "2024-05-22T14:41:32.677Z"
   },
   {
    "duration": 8,
    "start_time": "2024-05-22T14:41:32.683Z"
   },
   {
    "duration": 6,
    "start_time": "2024-05-22T14:41:32.694Z"
   },
   {
    "duration": 49,
    "start_time": "2024-05-22T14:41:32.701Z"
   },
   {
    "duration": 10,
    "start_time": "2024-05-22T14:41:32.752Z"
   },
   {
    "duration": 9,
    "start_time": "2024-05-22T14:41:32.763Z"
   },
   {
    "duration": 12,
    "start_time": "2024-05-22T14:41:32.773Z"
   },
   {
    "duration": 24,
    "start_time": "2024-05-22T14:41:32.787Z"
   },
   {
    "duration": 32,
    "start_time": "2024-05-22T14:41:32.813Z"
   },
   {
    "duration": 4,
    "start_time": "2024-05-22T14:41:32.846Z"
   },
   {
    "duration": 11,
    "start_time": "2024-05-22T14:41:32.852Z"
   },
   {
    "duration": 6,
    "start_time": "2024-05-22T14:41:32.864Z"
   },
   {
    "duration": 4,
    "start_time": "2024-05-22T14:41:32.872Z"
   },
   {
    "duration": 22,
    "start_time": "2024-05-22T14:41:32.878Z"
   },
   {
    "duration": 18,
    "start_time": "2024-05-22T14:41:32.901Z"
   },
   {
    "duration": 33,
    "start_time": "2024-05-22T14:41:32.920Z"
   },
   {
    "duration": 18,
    "start_time": "2024-05-22T14:41:32.954Z"
   },
   {
    "duration": 3,
    "start_time": "2024-05-22T14:41:32.974Z"
   },
   {
    "duration": 7,
    "start_time": "2024-05-22T14:42:39.999Z"
   },
   {
    "duration": 7,
    "start_time": "2024-05-22T14:42:59.506Z"
   },
   {
    "duration": 15,
    "start_time": "2024-05-22T14:44:35.840Z"
   },
   {
    "duration": 23,
    "start_time": "2024-05-22T14:44:42.739Z"
   },
   {
    "duration": 508,
    "start_time": "2024-05-22T15:22:26.252Z"
   },
   {
    "duration": 21,
    "start_time": "2024-05-22T15:22:26.762Z"
   },
   {
    "duration": 15,
    "start_time": "2024-05-22T15:22:26.784Z"
   },
   {
    "duration": 10,
    "start_time": "2024-05-22T15:22:26.800Z"
   },
   {
    "duration": 55,
    "start_time": "2024-05-22T15:22:26.811Z"
   },
   {
    "duration": 3,
    "start_time": "2024-05-22T15:22:26.868Z"
   },
   {
    "duration": 17,
    "start_time": "2024-05-22T15:22:26.872Z"
   },
   {
    "duration": 4,
    "start_time": "2024-05-22T15:22:26.890Z"
   },
   {
    "duration": 10,
    "start_time": "2024-05-22T15:22:26.896Z"
   },
   {
    "duration": 4,
    "start_time": "2024-05-22T15:22:26.908Z"
   },
   {
    "duration": 48,
    "start_time": "2024-05-22T15:22:26.913Z"
   },
   {
    "duration": 9,
    "start_time": "2024-05-22T15:22:26.963Z"
   },
   {
    "duration": 12,
    "start_time": "2024-05-22T15:22:26.974Z"
   },
   {
    "duration": 13,
    "start_time": "2024-05-22T15:22:26.988Z"
   },
   {
    "duration": 25,
    "start_time": "2024-05-22T15:22:27.003Z"
   },
   {
    "duration": 25,
    "start_time": "2024-05-22T15:22:27.029Z"
   },
   {
    "duration": 3,
    "start_time": "2024-05-22T15:22:27.055Z"
   },
   {
    "duration": 11,
    "start_time": "2024-05-22T15:22:27.060Z"
   },
   {
    "duration": 7,
    "start_time": "2024-05-22T15:22:27.072Z"
   },
   {
    "duration": 9,
    "start_time": "2024-05-22T15:22:27.081Z"
   },
   {
    "duration": 17,
    "start_time": "2024-05-22T15:22:27.092Z"
   },
   {
    "duration": 18,
    "start_time": "2024-05-22T15:22:27.110Z"
   },
   {
    "duration": 18,
    "start_time": "2024-05-22T15:22:27.146Z"
   },
   {
    "duration": 27,
    "start_time": "2024-05-22T15:22:27.165Z"
   },
   {
    "duration": 21,
    "start_time": "2024-05-22T15:22:27.194Z"
   },
   {
    "duration": 475,
    "start_time": "2024-05-22T15:33:53.258Z"
   },
   {
    "duration": 20,
    "start_time": "2024-05-22T15:33:53.735Z"
   },
   {
    "duration": 14,
    "start_time": "2024-05-22T15:33:53.756Z"
   },
   {
    "duration": 10,
    "start_time": "2024-05-22T15:33:53.771Z"
   },
   {
    "duration": 32,
    "start_time": "2024-05-22T15:33:53.782Z"
   },
   {
    "duration": 29,
    "start_time": "2024-05-22T15:33:53.816Z"
   },
   {
    "duration": 13,
    "start_time": "2024-05-22T15:33:53.847Z"
   },
   {
    "duration": 3,
    "start_time": "2024-05-22T15:33:53.862Z"
   },
   {
    "duration": 7,
    "start_time": "2024-05-22T15:33:53.867Z"
   },
   {
    "duration": 4,
    "start_time": "2024-05-22T15:33:53.876Z"
   },
   {
    "duration": 34,
    "start_time": "2024-05-22T15:33:53.881Z"
   },
   {
    "duration": 33,
    "start_time": "2024-05-22T15:33:53.917Z"
   },
   {
    "duration": 6,
    "start_time": "2024-05-22T15:33:53.951Z"
   },
   {
    "duration": 12,
    "start_time": "2024-05-22T15:33:53.958Z"
   },
   {
    "duration": 22,
    "start_time": "2024-05-22T15:33:53.971Z"
   },
   {
    "duration": 50,
    "start_time": "2024-05-22T15:33:53.995Z"
   },
   {
    "duration": 4,
    "start_time": "2024-05-22T15:33:54.047Z"
   },
   {
    "duration": 15,
    "start_time": "2024-05-22T15:33:54.053Z"
   },
   {
    "duration": 7,
    "start_time": "2024-05-22T15:33:54.070Z"
   },
   {
    "duration": 3,
    "start_time": "2024-05-22T15:33:54.079Z"
   },
   {
    "duration": 18,
    "start_time": "2024-05-22T15:33:54.084Z"
   },
   {
    "duration": 17,
    "start_time": "2024-05-22T15:33:54.104Z"
   },
   {
    "duration": 44,
    "start_time": "2024-05-22T15:33:54.123Z"
   },
   {
    "duration": 42,
    "start_time": "2024-05-22T15:33:54.168Z"
   },
   {
    "duration": 22,
    "start_time": "2024-05-22T15:33:54.211Z"
   },
   {
    "duration": 12,
    "start_time": "2024-05-22T15:38:32.553Z"
   },
   {
    "duration": 474,
    "start_time": "2024-05-22T15:46:18.450Z"
   },
   {
    "duration": 20,
    "start_time": "2024-05-22T15:46:18.926Z"
   },
   {
    "duration": 14,
    "start_time": "2024-05-22T15:46:18.947Z"
   },
   {
    "duration": 10,
    "start_time": "2024-05-22T15:46:18.963Z"
   },
   {
    "duration": 36,
    "start_time": "2024-05-22T15:46:18.974Z"
   },
   {
    "duration": 3,
    "start_time": "2024-05-22T15:46:19.011Z"
   },
   {
    "duration": 29,
    "start_time": "2024-05-22T15:46:19.016Z"
   },
   {
    "duration": 7,
    "start_time": "2024-05-22T15:46:19.047Z"
   },
   {
    "duration": 8,
    "start_time": "2024-05-22T15:46:19.056Z"
   },
   {
    "duration": 3,
    "start_time": "2024-05-22T15:46:19.067Z"
   },
   {
    "duration": 45,
    "start_time": "2024-05-22T15:46:19.072Z"
   },
   {
    "duration": 10,
    "start_time": "2024-05-22T15:46:19.119Z"
   },
   {
    "duration": 16,
    "start_time": "2024-05-22T15:46:19.130Z"
   },
   {
    "duration": 17,
    "start_time": "2024-05-22T15:46:19.148Z"
   },
   {
    "duration": 24,
    "start_time": "2024-05-22T15:46:19.167Z"
   },
   {
    "duration": 15,
    "start_time": "2024-05-22T15:46:19.193Z"
   },
   {
    "duration": 3,
    "start_time": "2024-05-22T15:46:19.210Z"
   },
   {
    "duration": 20,
    "start_time": "2024-05-22T15:46:19.214Z"
   },
   {
    "duration": 12,
    "start_time": "2024-05-22T15:46:19.235Z"
   },
   {
    "duration": 3,
    "start_time": "2024-05-22T15:46:19.249Z"
   },
   {
    "duration": 20,
    "start_time": "2024-05-22T15:46:19.253Z"
   },
   {
    "duration": 23,
    "start_time": "2024-05-22T15:46:19.274Z"
   },
   {
    "duration": 15,
    "start_time": "2024-05-22T15:46:19.299Z"
   },
   {
    "duration": 22,
    "start_time": "2024-05-22T15:46:19.315Z"
   },
   {
    "duration": 20,
    "start_time": "2024-05-22T15:46:19.338Z"
   },
   {
    "duration": 10,
    "start_time": "2024-05-22T15:51:23.564Z"
   },
   {
    "duration": 438,
    "start_time": "2024-05-22T15:52:35.288Z"
   },
   {
    "duration": 24,
    "start_time": "2024-05-22T15:52:35.728Z"
   },
   {
    "duration": 15,
    "start_time": "2024-05-22T15:52:35.753Z"
   },
   {
    "duration": 11,
    "start_time": "2024-05-22T15:52:35.770Z"
   },
   {
    "duration": 37,
    "start_time": "2024-05-22T15:52:35.782Z"
   },
   {
    "duration": 3,
    "start_time": "2024-05-22T15:52:35.820Z"
   },
   {
    "duration": 7,
    "start_time": "2024-05-22T15:52:35.846Z"
   },
   {
    "duration": 16,
    "start_time": "2024-05-22T15:52:35.855Z"
   },
   {
    "duration": 16,
    "start_time": "2024-05-22T15:52:35.872Z"
   },
   {
    "duration": 24,
    "start_time": "2024-05-22T15:52:35.891Z"
   },
   {
    "duration": 48,
    "start_time": "2024-05-22T15:52:35.917Z"
   },
   {
    "duration": 9,
    "start_time": "2024-05-22T15:52:35.967Z"
   },
   {
    "duration": 3,
    "start_time": "2024-05-22T15:52:35.978Z"
   },
   {
    "duration": 18,
    "start_time": "2024-05-22T15:52:35.982Z"
   },
   {
    "duration": 18,
    "start_time": "2024-05-22T15:52:36.001Z"
   },
   {
    "duration": 37,
    "start_time": "2024-05-22T15:52:36.021Z"
   },
   {
    "duration": 3,
    "start_time": "2024-05-22T15:52:36.060Z"
   },
   {
    "duration": 15,
    "start_time": "2024-05-22T15:52:36.064Z"
   },
   {
    "duration": 25,
    "start_time": "2024-05-22T15:52:36.080Z"
   },
   {
    "duration": 15,
    "start_time": "2024-05-22T15:52:36.107Z"
   },
   {
    "duration": 8,
    "start_time": "2024-05-22T15:52:36.124Z"
   },
   {
    "duration": 14,
    "start_time": "2024-05-22T15:52:36.134Z"
   },
   {
    "duration": 29,
    "start_time": "2024-05-22T15:52:36.149Z"
   },
   {
    "duration": 15,
    "start_time": "2024-05-22T15:52:36.179Z"
   },
   {
    "duration": 16,
    "start_time": "2024-05-22T15:52:36.195Z"
   },
   {
    "duration": 5,
    "start_time": "2024-05-22T15:53:09.761Z"
   },
   {
    "duration": 452,
    "start_time": "2024-05-22T15:53:26.448Z"
   },
   {
    "duration": 20,
    "start_time": "2024-05-22T15:53:26.902Z"
   },
   {
    "duration": 14,
    "start_time": "2024-05-22T15:53:26.924Z"
   },
   {
    "duration": 11,
    "start_time": "2024-05-22T15:53:26.946Z"
   },
   {
    "duration": 32,
    "start_time": "2024-05-22T15:53:26.959Z"
   },
   {
    "duration": 3,
    "start_time": "2024-05-22T15:53:26.993Z"
   },
   {
    "duration": 10,
    "start_time": "2024-05-22T15:53:26.997Z"
   },
   {
    "duration": 4,
    "start_time": "2024-05-22T15:53:27.008Z"
   },
   {
    "duration": 32,
    "start_time": "2024-05-22T15:53:27.013Z"
   },
   {
    "duration": 5,
    "start_time": "2024-05-22T15:53:27.046Z"
   },
   {
    "duration": 37,
    "start_time": "2024-05-22T15:53:27.052Z"
   },
   {
    "duration": 10,
    "start_time": "2024-05-22T15:53:27.090Z"
   },
   {
    "duration": 9,
    "start_time": "2024-05-22T15:53:27.102Z"
   },
   {
    "duration": 27,
    "start_time": "2024-05-22T15:53:27.114Z"
   },
   {
    "duration": 55,
    "start_time": "2024-05-22T15:53:27.143Z"
   },
   {
    "duration": 18,
    "start_time": "2024-05-22T15:53:27.199Z"
   },
   {
    "duration": 3,
    "start_time": "2024-05-22T15:53:27.219Z"
   },
   {
    "duration": 13,
    "start_time": "2024-05-22T15:53:27.224Z"
   },
   {
    "duration": 25,
    "start_time": "2024-05-22T15:53:27.239Z"
   },
   {
    "duration": 13,
    "start_time": "2024-05-22T15:53:27.266Z"
   },
   {
    "duration": 20,
    "start_time": "2024-05-22T15:53:27.280Z"
   },
   {
    "duration": 18,
    "start_time": "2024-05-22T15:53:27.301Z"
   },
   {
    "duration": 15,
    "start_time": "2024-05-22T15:53:27.321Z"
   },
   {
    "duration": 13,
    "start_time": "2024-05-22T15:53:27.338Z"
   },
   {
    "duration": 15,
    "start_time": "2024-05-22T15:53:27.353Z"
   },
   {
    "duration": 11,
    "start_time": "2024-05-22T15:56:40.777Z"
   },
   {
    "duration": 11,
    "start_time": "2024-05-22T15:57:02.962Z"
   },
   {
    "duration": 5,
    "start_time": "2024-05-22T15:57:24.444Z"
   },
   {
    "duration": 5,
    "start_time": "2024-05-22T15:58:31.785Z"
   },
   {
    "duration": 8,
    "start_time": "2024-05-22T15:58:33.886Z"
   },
   {
    "duration": 5,
    "start_time": "2024-05-22T15:58:34.995Z"
   },
   {
    "duration": 482,
    "start_time": "2024-05-22T15:58:37.939Z"
   },
   {
    "duration": 21,
    "start_time": "2024-05-22T15:58:38.422Z"
   },
   {
    "duration": 13,
    "start_time": "2024-05-22T15:58:38.445Z"
   },
   {
    "duration": 35,
    "start_time": "2024-05-22T15:58:38.460Z"
   },
   {
    "duration": 33,
    "start_time": "2024-05-22T15:58:38.496Z"
   },
   {
    "duration": 3,
    "start_time": "2024-05-22T15:58:38.530Z"
   },
   {
    "duration": 13,
    "start_time": "2024-05-22T15:58:38.534Z"
   },
   {
    "duration": 4,
    "start_time": "2024-05-22T15:58:38.548Z"
   },
   {
    "duration": 6,
    "start_time": "2024-05-22T15:58:38.553Z"
   },
   {
    "duration": 4,
    "start_time": "2024-05-22T15:58:38.562Z"
   },
   {
    "duration": 33,
    "start_time": "2024-05-22T15:58:38.567Z"
   },
   {
    "duration": 9,
    "start_time": "2024-05-22T15:58:38.601Z"
   },
   {
    "duration": 3,
    "start_time": "2024-05-22T15:58:38.612Z"
   },
   {
    "duration": 39,
    "start_time": "2024-05-22T15:58:38.616Z"
   },
   {
    "duration": 32,
    "start_time": "2024-05-22T15:58:38.657Z"
   },
   {
    "duration": 15,
    "start_time": "2024-05-22T15:58:38.690Z"
   },
   {
    "duration": 4,
    "start_time": "2024-05-22T15:58:38.706Z"
   },
   {
    "duration": 15,
    "start_time": "2024-05-22T15:58:38.711Z"
   },
   {
    "duration": 8,
    "start_time": "2024-05-22T15:58:38.727Z"
   },
   {
    "duration": 11,
    "start_time": "2024-05-22T15:58:38.736Z"
   },
   {
    "duration": 19,
    "start_time": "2024-05-22T15:58:38.748Z"
   },
   {
    "duration": 12,
    "start_time": "2024-05-22T15:58:38.768Z"
   },
   {
    "duration": 5,
    "start_time": "2024-05-22T15:58:38.781Z"
   },
   {
    "duration": 17,
    "start_time": "2024-05-22T15:58:38.788Z"
   },
   {
    "duration": 39,
    "start_time": "2024-05-22T15:58:38.806Z"
   },
   {
    "duration": 18,
    "start_time": "2024-05-22T15:58:38.847Z"
   },
   {
    "duration": 8,
    "start_time": "2024-05-22T15:58:54.270Z"
   },
   {
    "duration": 60,
    "start_time": "2024-05-22T16:01:05.730Z"
   },
   {
    "duration": 16,
    "start_time": "2024-05-22T16:01:20.046Z"
   },
   {
    "duration": 9,
    "start_time": "2024-05-22T16:01:21.128Z"
   },
   {
    "duration": 12,
    "start_time": "2024-05-22T16:01:51.028Z"
   },
   {
    "duration": 8,
    "start_time": "2024-05-22T16:01:52.913Z"
   },
   {
    "duration": 487,
    "start_time": "2024-05-22T16:01:58.737Z"
   },
   {
    "duration": 22,
    "start_time": "2024-05-22T16:01:59.226Z"
   },
   {
    "duration": 16,
    "start_time": "2024-05-22T16:01:59.249Z"
   },
   {
    "duration": 9,
    "start_time": "2024-05-22T16:01:59.266Z"
   },
   {
    "duration": 32,
    "start_time": "2024-05-22T16:01:59.277Z"
   },
   {
    "duration": 3,
    "start_time": "2024-05-22T16:01:59.310Z"
   },
   {
    "duration": 34,
    "start_time": "2024-05-22T16:01:59.314Z"
   },
   {
    "duration": 4,
    "start_time": "2024-05-22T16:01:59.349Z"
   },
   {
    "duration": 10,
    "start_time": "2024-05-22T16:01:59.354Z"
   },
   {
    "duration": 4,
    "start_time": "2024-05-22T16:01:59.366Z"
   },
   {
    "duration": 36,
    "start_time": "2024-05-22T16:01:59.372Z"
   },
   {
    "duration": 10,
    "start_time": "2024-05-22T16:01:59.409Z"
   },
   {
    "duration": 29,
    "start_time": "2024-05-22T16:01:59.420Z"
   },
   {
    "duration": 14,
    "start_time": "2024-05-22T16:01:59.450Z"
   },
   {
    "duration": 21,
    "start_time": "2024-05-22T16:01:59.465Z"
   },
   {
    "duration": 22,
    "start_time": "2024-05-22T16:01:59.488Z"
   },
   {
    "duration": 13,
    "start_time": "2024-05-22T16:01:59.512Z"
   },
   {
    "duration": 23,
    "start_time": "2024-05-22T16:01:59.526Z"
   },
   {
    "duration": 6,
    "start_time": "2024-05-22T16:01:59.551Z"
   },
   {
    "duration": 42,
    "start_time": "2024-05-22T16:01:59.559Z"
   },
   {
    "duration": 14,
    "start_time": "2024-05-22T16:01:59.602Z"
   },
   {
    "duration": 12,
    "start_time": "2024-05-22T16:01:59.617Z"
   },
   {
    "duration": 4,
    "start_time": "2024-05-22T16:01:59.631Z"
   },
   {
    "duration": 15,
    "start_time": "2024-05-22T16:01:59.637Z"
   },
   {
    "duration": 7,
    "start_time": "2024-05-22T16:01:59.653Z"
   },
   {
    "duration": 20,
    "start_time": "2024-05-22T16:01:59.662Z"
   },
   {
    "duration": 15,
    "start_time": "2024-05-22T16:01:59.684Z"
   },
   {
    "duration": 5,
    "start_time": "2024-05-22T16:02:14.278Z"
   },
   {
    "duration": 484,
    "start_time": "2024-05-22T16:02:25.044Z"
   },
   {
    "duration": 22,
    "start_time": "2024-05-22T16:02:25.529Z"
   },
   {
    "duration": 28,
    "start_time": "2024-05-22T16:02:25.555Z"
   },
   {
    "duration": 11,
    "start_time": "2024-05-22T16:02:25.584Z"
   },
   {
    "duration": 46,
    "start_time": "2024-05-22T16:02:25.596Z"
   },
   {
    "duration": 14,
    "start_time": "2024-05-22T16:02:25.645Z"
   },
   {
    "duration": 9,
    "start_time": "2024-05-22T16:02:25.661Z"
   },
   {
    "duration": 3,
    "start_time": "2024-05-22T16:02:25.672Z"
   },
   {
    "duration": 6,
    "start_time": "2024-05-22T16:02:25.678Z"
   },
   {
    "duration": 8,
    "start_time": "2024-05-22T16:02:25.685Z"
   },
   {
    "duration": 34,
    "start_time": "2024-05-22T16:02:25.694Z"
   },
   {
    "duration": 21,
    "start_time": "2024-05-22T16:02:25.729Z"
   },
   {
    "duration": 14,
    "start_time": "2024-05-22T16:02:25.752Z"
   },
   {
    "duration": 22,
    "start_time": "2024-05-22T16:02:25.767Z"
   },
   {
    "duration": 25,
    "start_time": "2024-05-22T16:02:25.790Z"
   },
   {
    "duration": 16,
    "start_time": "2024-05-22T16:02:25.817Z"
   },
   {
    "duration": 8,
    "start_time": "2024-05-22T16:02:25.834Z"
   },
   {
    "duration": 21,
    "start_time": "2024-05-22T16:02:25.844Z"
   },
   {
    "duration": 15,
    "start_time": "2024-05-22T16:02:25.867Z"
   },
   {
    "duration": 5,
    "start_time": "2024-05-22T16:02:25.883Z"
   },
   {
    "duration": 18,
    "start_time": "2024-05-22T16:02:25.889Z"
   },
   {
    "duration": 23,
    "start_time": "2024-05-22T16:02:25.908Z"
   },
   {
    "duration": 5,
    "start_time": "2024-05-22T16:02:25.932Z"
   },
   {
    "duration": 23,
    "start_time": "2024-05-22T16:02:25.938Z"
   },
   {
    "duration": 10,
    "start_time": "2024-05-22T16:02:25.962Z"
   },
   {
    "duration": 30,
    "start_time": "2024-05-22T16:02:25.974Z"
   },
   {
    "duration": 27,
    "start_time": "2024-05-22T16:02:26.007Z"
   },
   {
    "duration": 8,
    "start_time": "2024-05-22T16:02:34.727Z"
   },
   {
    "duration": 7,
    "start_time": "2024-05-22T16:02:36.068Z"
   },
   {
    "duration": 13,
    "start_time": "2024-05-22T16:02:52.411Z"
   },
   {
    "duration": 5,
    "start_time": "2024-05-22T16:04:23.118Z"
   },
   {
    "duration": 12,
    "start_time": "2024-05-22T16:04:24.980Z"
   },
   {
    "duration": 517,
    "start_time": "2024-05-22T16:05:38.547Z"
   },
   {
    "duration": 24,
    "start_time": "2024-05-22T16:05:39.066Z"
   },
   {
    "duration": 20,
    "start_time": "2024-05-22T16:05:39.092Z"
   },
   {
    "duration": 11,
    "start_time": "2024-05-22T16:05:39.114Z"
   },
   {
    "duration": 38,
    "start_time": "2024-05-22T16:05:39.146Z"
   },
   {
    "duration": 4,
    "start_time": "2024-05-22T16:05:39.185Z"
   },
   {
    "duration": 18,
    "start_time": "2024-05-22T16:05:39.191Z"
   },
   {
    "duration": 5,
    "start_time": "2024-05-22T16:05:39.210Z"
   },
   {
    "duration": 11,
    "start_time": "2024-05-22T16:05:39.217Z"
   },
   {
    "duration": 6,
    "start_time": "2024-05-22T16:05:39.247Z"
   },
   {
    "duration": 39,
    "start_time": "2024-05-22T16:05:39.255Z"
   },
   {
    "duration": 14,
    "start_time": "2024-05-22T16:05:39.296Z"
   },
   {
    "duration": 9,
    "start_time": "2024-05-22T16:05:39.312Z"
   },
   {
    "duration": 37,
    "start_time": "2024-05-22T16:05:39.347Z"
   },
   {
    "duration": 32,
    "start_time": "2024-05-22T16:05:39.386Z"
   },
   {
    "duration": 19,
    "start_time": "2024-05-22T16:05:39.419Z"
   },
   {
    "duration": 3,
    "start_time": "2024-05-22T16:05:39.440Z"
   },
   {
    "duration": 27,
    "start_time": "2024-05-22T16:05:39.445Z"
   },
   {
    "duration": 12,
    "start_time": "2024-05-22T16:05:39.474Z"
   },
   {
    "duration": 10,
    "start_time": "2024-05-22T16:05:39.487Z"
   },
   {
    "duration": 14,
    "start_time": "2024-05-22T16:05:39.499Z"
   },
   {
    "duration": 15,
    "start_time": "2024-05-22T16:05:39.515Z"
   },
   {
    "duration": 15,
    "start_time": "2024-05-22T16:05:39.532Z"
   },
   {
    "duration": 17,
    "start_time": "2024-05-22T16:05:39.549Z"
   },
   {
    "duration": 4,
    "start_time": "2024-05-22T16:05:39.568Z"
   },
   {
    "duration": 11,
    "start_time": "2024-05-22T16:05:39.573Z"
   },
   {
    "duration": 28,
    "start_time": "2024-05-22T16:05:39.586Z"
   },
   {
    "duration": 38,
    "start_time": "2024-05-22T16:05:39.616Z"
   },
   {
    "duration": 6,
    "start_time": "2024-05-22T16:06:33.059Z"
   },
   {
    "duration": 487,
    "start_time": "2024-05-22T16:06:37.182Z"
   },
   {
    "duration": 23,
    "start_time": "2024-05-22T16:06:37.671Z"
   },
   {
    "duration": 50,
    "start_time": "2024-05-22T16:06:37.696Z"
   },
   {
    "duration": 13,
    "start_time": "2024-05-22T16:06:37.748Z"
   },
   {
    "duration": 59,
    "start_time": "2024-05-22T16:06:37.763Z"
   },
   {
    "duration": 4,
    "start_time": "2024-05-22T16:06:37.824Z"
   },
   {
    "duration": 26,
    "start_time": "2024-05-22T16:06:37.829Z"
   },
   {
    "duration": 27,
    "start_time": "2024-05-22T16:06:37.856Z"
   },
   {
    "duration": 49,
    "start_time": "2024-05-22T16:06:37.884Z"
   },
   {
    "duration": 10,
    "start_time": "2024-05-22T16:06:37.936Z"
   },
   {
    "duration": 68,
    "start_time": "2024-05-22T16:06:37.948Z"
   },
   {
    "duration": 11,
    "start_time": "2024-05-22T16:06:38.018Z"
   },
   {
    "duration": 32,
    "start_time": "2024-05-22T16:06:38.030Z"
   },
   {
    "duration": 39,
    "start_time": "2024-05-22T16:06:38.064Z"
   },
   {
    "duration": 36,
    "start_time": "2024-05-22T16:06:38.105Z"
   },
   {
    "duration": 18,
    "start_time": "2024-05-22T16:06:38.143Z"
   },
   {
    "duration": 16,
    "start_time": "2024-05-22T16:06:38.164Z"
   },
   {
    "duration": 31,
    "start_time": "2024-05-22T16:06:38.182Z"
   },
   {
    "duration": 40,
    "start_time": "2024-05-22T16:06:38.215Z"
   },
   {
    "duration": 21,
    "start_time": "2024-05-22T16:06:38.256Z"
   },
   {
    "duration": 28,
    "start_time": "2024-05-22T16:06:38.280Z"
   },
   {
    "duration": 66,
    "start_time": "2024-05-22T16:06:38.310Z"
   },
   {
    "duration": 35,
    "start_time": "2024-05-22T16:06:38.377Z"
   },
   {
    "duration": 44,
    "start_time": "2024-05-22T16:06:38.413Z"
   },
   {
    "duration": 26,
    "start_time": "2024-05-22T16:06:38.459Z"
   },
   {
    "duration": 31,
    "start_time": "2024-05-22T16:06:38.487Z"
   },
   {
    "duration": 42,
    "start_time": "2024-05-22T16:06:38.519Z"
   },
   {
    "duration": 27,
    "start_time": "2024-05-22T16:06:38.564Z"
   },
   {
    "duration": 51,
    "start_time": "2024-05-22T16:06:38.593Z"
   },
   {
    "duration": 5,
    "start_time": "2024-05-22T16:07:21.954Z"
   },
   {
    "duration": 6,
    "start_time": "2024-05-22T16:07:22.918Z"
   },
   {
    "duration": 511,
    "start_time": "2024-05-22T16:07:27.212Z"
   },
   {
    "duration": 36,
    "start_time": "2024-05-22T16:07:27.725Z"
   },
   {
    "duration": 19,
    "start_time": "2024-05-22T16:07:27.763Z"
   },
   {
    "duration": 12,
    "start_time": "2024-05-22T16:07:27.784Z"
   },
   {
    "duration": 53,
    "start_time": "2024-05-22T16:07:27.797Z"
   },
   {
    "duration": 4,
    "start_time": "2024-05-22T16:07:27.852Z"
   },
   {
    "duration": 11,
    "start_time": "2024-05-22T16:07:27.858Z"
   },
   {
    "duration": 5,
    "start_time": "2024-05-22T16:07:27.871Z"
   },
   {
    "duration": 11,
    "start_time": "2024-05-22T16:07:27.878Z"
   },
   {
    "duration": 5,
    "start_time": "2024-05-22T16:07:27.894Z"
   },
   {
    "duration": 81,
    "start_time": "2024-05-22T16:07:27.901Z"
   },
   {
    "duration": 11,
    "start_time": "2024-05-22T16:07:27.984Z"
   },
   {
    "duration": 15,
    "start_time": "2024-05-22T16:07:27.997Z"
   },
   {
    "duration": 15,
    "start_time": "2024-05-22T16:07:28.014Z"
   },
   {
    "duration": 41,
    "start_time": "2024-05-22T16:07:28.031Z"
   },
   {
    "duration": 18,
    "start_time": "2024-05-22T16:07:28.073Z"
   },
   {
    "duration": 4,
    "start_time": "2024-05-22T16:07:28.093Z"
   },
   {
    "duration": 14,
    "start_time": "2024-05-22T16:07:28.099Z"
   },
   {
    "duration": 12,
    "start_time": "2024-05-22T16:07:28.115Z"
   },
   {
    "duration": 22,
    "start_time": "2024-05-22T16:07:28.129Z"
   },
   {
    "duration": 14,
    "start_time": "2024-05-22T16:07:28.154Z"
   },
   {
    "duration": 13,
    "start_time": "2024-05-22T16:07:28.170Z"
   },
   {
    "duration": 13,
    "start_time": "2024-05-22T16:07:28.185Z"
   },
   {
    "duration": 17,
    "start_time": "2024-05-22T16:07:28.200Z"
   },
   {
    "duration": 6,
    "start_time": "2024-05-22T16:07:28.244Z"
   },
   {
    "duration": 5,
    "start_time": "2024-05-22T16:07:28.252Z"
   },
   {
    "duration": 8,
    "start_time": "2024-05-22T16:07:28.259Z"
   },
   {
    "duration": 39,
    "start_time": "2024-05-22T16:07:28.270Z"
   },
   {
    "duration": 53,
    "start_time": "2024-05-22T16:07:28.311Z"
   },
   {
    "duration": 4,
    "start_time": "2024-05-22T16:07:55.365Z"
   },
   {
    "duration": 10,
    "start_time": "2024-05-22T16:07:56.243Z"
   },
   {
    "duration": 70,
    "start_time": "2024-05-22T16:09:21.327Z"
   },
   {
    "duration": 8,
    "start_time": "2024-05-22T16:09:32.668Z"
   },
   {
    "duration": 8,
    "start_time": "2024-05-22T16:09:59.860Z"
   },
   {
    "duration": 13,
    "start_time": "2024-05-22T16:10:02.393Z"
   },
   {
    "duration": 4,
    "start_time": "2024-05-22T16:10:03.260Z"
   },
   {
    "duration": 3,
    "start_time": "2024-05-22T16:10:04.302Z"
   },
   {
    "duration": 7,
    "start_time": "2024-05-22T16:10:08.061Z"
   },
   {
    "duration": 514,
    "start_time": "2024-05-22T16:10:13.717Z"
   },
   {
    "duration": 32,
    "start_time": "2024-05-22T16:10:14.233Z"
   },
   {
    "duration": 18,
    "start_time": "2024-05-22T16:10:14.267Z"
   },
   {
    "duration": 12,
    "start_time": "2024-05-22T16:10:14.288Z"
   },
   {
    "duration": 75,
    "start_time": "2024-05-22T16:10:14.301Z"
   },
   {
    "duration": 4,
    "start_time": "2024-05-22T16:10:14.378Z"
   },
   {
    "duration": 12,
    "start_time": "2024-05-22T16:10:14.384Z"
   },
   {
    "duration": 6,
    "start_time": "2024-05-22T16:10:14.397Z"
   },
   {
    "duration": 18,
    "start_time": "2024-05-22T16:10:14.404Z"
   },
   {
    "duration": 20,
    "start_time": "2024-05-22T16:10:14.426Z"
   },
   {
    "duration": 44,
    "start_time": "2024-05-22T16:10:14.449Z"
   },
   {
    "duration": 11,
    "start_time": "2024-05-22T16:10:14.494Z"
   },
   {
    "duration": 9,
    "start_time": "2024-05-22T16:10:14.506Z"
   },
   {
    "duration": 48,
    "start_time": "2024-05-22T16:10:14.517Z"
   },
   {
    "duration": 19,
    "start_time": "2024-05-22T16:10:14.567Z"
   },
   {
    "duration": 17,
    "start_time": "2024-05-22T16:10:14.588Z"
   },
   {
    "duration": 4,
    "start_time": "2024-05-22T16:10:14.607Z"
   },
   {
    "duration": 12,
    "start_time": "2024-05-22T16:10:14.612Z"
   },
   {
    "duration": 8,
    "start_time": "2024-05-22T16:10:14.655Z"
   },
   {
    "duration": 4,
    "start_time": "2024-05-22T16:10:14.664Z"
   },
   {
    "duration": 11,
    "start_time": "2024-05-22T16:10:14.669Z"
   },
   {
    "duration": 14,
    "start_time": "2024-05-22T16:10:14.681Z"
   },
   {
    "duration": 5,
    "start_time": "2024-05-22T16:10:14.696Z"
   },
   {
    "duration": 14,
    "start_time": "2024-05-22T16:10:14.703Z"
   },
   {
    "duration": 27,
    "start_time": "2024-05-22T16:10:14.719Z"
   },
   {
    "duration": 5,
    "start_time": "2024-05-22T16:10:14.749Z"
   },
   {
    "duration": 79,
    "start_time": "2024-05-22T16:10:14.756Z"
   },
   {
    "duration": 0,
    "start_time": "2024-05-22T16:10:14.837Z"
   },
   {
    "duration": 0,
    "start_time": "2024-05-22T16:10:14.838Z"
   },
   {
    "duration": 502,
    "start_time": "2024-05-22T16:11:23.611Z"
   },
   {
    "duration": 24,
    "start_time": "2024-05-22T16:11:24.115Z"
   },
   {
    "duration": 31,
    "start_time": "2024-05-22T16:11:24.141Z"
   },
   {
    "duration": 21,
    "start_time": "2024-05-22T16:11:24.175Z"
   },
   {
    "duration": 63,
    "start_time": "2024-05-22T16:11:24.198Z"
   },
   {
    "duration": 4,
    "start_time": "2024-05-22T16:11:24.263Z"
   },
   {
    "duration": 40,
    "start_time": "2024-05-22T16:11:24.269Z"
   },
   {
    "duration": 15,
    "start_time": "2024-05-22T16:11:24.310Z"
   },
   {
    "duration": 50,
    "start_time": "2024-05-22T16:11:24.327Z"
   },
   {
    "duration": 26,
    "start_time": "2024-05-22T16:11:24.380Z"
   },
   {
    "duration": 66,
    "start_time": "2024-05-22T16:11:24.407Z"
   },
   {
    "duration": 12,
    "start_time": "2024-05-22T16:11:24.476Z"
   },
   {
    "duration": 19,
    "start_time": "2024-05-22T16:11:24.490Z"
   },
   {
    "duration": 39,
    "start_time": "2024-05-22T16:11:24.511Z"
   },
   {
    "duration": 42,
    "start_time": "2024-05-22T16:11:24.553Z"
   },
   {
    "duration": 33,
    "start_time": "2024-05-22T16:11:24.597Z"
   },
   {
    "duration": 9,
    "start_time": "2024-05-22T16:11:24.631Z"
   },
   {
    "duration": 25,
    "start_time": "2024-05-22T16:11:24.642Z"
   },
   {
    "duration": 24,
    "start_time": "2024-05-22T16:11:24.669Z"
   },
   {
    "duration": 15,
    "start_time": "2024-05-22T16:11:24.694Z"
   },
   {
    "duration": 41,
    "start_time": "2024-05-22T16:11:24.711Z"
   },
   {
    "duration": 30,
    "start_time": "2024-05-22T16:11:24.754Z"
   },
   {
    "duration": 19,
    "start_time": "2024-05-22T16:11:24.786Z"
   },
   {
    "duration": 25,
    "start_time": "2024-05-22T16:11:24.807Z"
   },
   {
    "duration": 22,
    "start_time": "2024-05-22T16:11:24.834Z"
   },
   {
    "duration": 33,
    "start_time": "2024-05-22T16:11:24.859Z"
   },
   {
    "duration": 91,
    "start_time": "2024-05-22T16:11:24.894Z"
   },
   {
    "duration": 0,
    "start_time": "2024-05-22T16:11:24.987Z"
   },
   {
    "duration": 0,
    "start_time": "2024-05-22T16:11:24.988Z"
   },
   {
    "duration": 541,
    "start_time": "2024-05-22T16:11:36.039Z"
   },
   {
    "duration": 24,
    "start_time": "2024-05-22T16:11:36.582Z"
   },
   {
    "duration": 20,
    "start_time": "2024-05-22T16:11:36.607Z"
   },
   {
    "duration": 28,
    "start_time": "2024-05-22T16:11:36.629Z"
   },
   {
    "duration": 54,
    "start_time": "2024-05-22T16:11:36.661Z"
   },
   {
    "duration": 3,
    "start_time": "2024-05-22T16:11:36.717Z"
   },
   {
    "duration": 46,
    "start_time": "2024-05-22T16:11:36.721Z"
   },
   {
    "duration": 11,
    "start_time": "2024-05-22T16:11:36.769Z"
   },
   {
    "duration": 20,
    "start_time": "2024-05-22T16:11:36.782Z"
   },
   {
    "duration": 10,
    "start_time": "2024-05-22T16:11:36.806Z"
   },
   {
    "duration": 60,
    "start_time": "2024-05-22T16:11:36.818Z"
   },
   {
    "duration": 13,
    "start_time": "2024-05-22T16:11:36.880Z"
   },
   {
    "duration": 13,
    "start_time": "2024-05-22T16:11:36.895Z"
   },
   {
    "duration": 30,
    "start_time": "2024-05-22T16:11:36.910Z"
   },
   {
    "duration": 36,
    "start_time": "2024-05-22T16:11:36.942Z"
   },
   {
    "duration": 17,
    "start_time": "2024-05-22T16:11:36.980Z"
   },
   {
    "duration": 6,
    "start_time": "2024-05-22T16:11:36.999Z"
   },
   {
    "duration": 34,
    "start_time": "2024-05-22T16:11:37.007Z"
   },
   {
    "duration": 7,
    "start_time": "2024-05-22T16:11:37.043Z"
   },
   {
    "duration": 5,
    "start_time": "2024-05-22T16:11:37.051Z"
   },
   {
    "duration": 12,
    "start_time": "2024-05-22T16:11:37.058Z"
   },
   {
    "duration": 17,
    "start_time": "2024-05-22T16:11:37.071Z"
   },
   {
    "duration": 6,
    "start_time": "2024-05-22T16:11:37.090Z"
   },
   {
    "duration": 13,
    "start_time": "2024-05-22T16:11:37.098Z"
   },
   {
    "duration": 5,
    "start_time": "2024-05-22T16:11:37.145Z"
   },
   {
    "duration": 5,
    "start_time": "2024-05-22T16:11:37.153Z"
   },
   {
    "duration": 10,
    "start_time": "2024-05-22T16:11:37.160Z"
   },
   {
    "duration": 18,
    "start_time": "2024-05-22T16:11:37.173Z"
   },
   {
    "duration": 54,
    "start_time": "2024-05-22T16:11:37.193Z"
   },
   {
    "duration": 460,
    "start_time": "2024-05-22T16:12:59.660Z"
   },
   {
    "duration": 22,
    "start_time": "2024-05-22T16:13:00.122Z"
   },
   {
    "duration": 29,
    "start_time": "2024-05-22T16:13:00.146Z"
   },
   {
    "duration": 26,
    "start_time": "2024-05-22T16:13:00.176Z"
   },
   {
    "duration": 45,
    "start_time": "2024-05-22T16:13:00.203Z"
   },
   {
    "duration": 6,
    "start_time": "2024-05-22T16:13:00.250Z"
   },
   {
    "duration": 29,
    "start_time": "2024-05-22T16:13:00.258Z"
   },
   {
    "duration": 23,
    "start_time": "2024-05-22T16:13:00.289Z"
   },
   {
    "duration": 20,
    "start_time": "2024-05-22T16:13:00.313Z"
   },
   {
    "duration": 11,
    "start_time": "2024-05-22T16:13:00.335Z"
   },
   {
    "duration": 59,
    "start_time": "2024-05-22T16:13:00.348Z"
   },
   {
    "duration": 10,
    "start_time": "2024-05-22T16:13:00.409Z"
   },
   {
    "duration": 17,
    "start_time": "2024-05-22T16:13:00.420Z"
   },
   {
    "duration": 26,
    "start_time": "2024-05-22T16:13:00.441Z"
   },
   {
    "duration": 30,
    "start_time": "2024-05-22T16:13:00.469Z"
   },
   {
    "duration": 42,
    "start_time": "2024-05-22T16:13:00.501Z"
   },
   {
    "duration": 15,
    "start_time": "2024-05-22T16:13:00.544Z"
   },
   {
    "duration": 48,
    "start_time": "2024-05-22T16:13:00.560Z"
   },
   {
    "duration": 50,
    "start_time": "2024-05-22T16:13:00.610Z"
   },
   {
    "duration": 58,
    "start_time": "2024-05-22T16:13:00.662Z"
   },
   {
    "duration": 70,
    "start_time": "2024-05-22T16:13:00.721Z"
   },
   {
    "duration": 68,
    "start_time": "2024-05-22T16:13:00.792Z"
   },
   {
    "duration": 30,
    "start_time": "2024-05-22T16:13:00.861Z"
   },
   {
    "duration": 45,
    "start_time": "2024-05-22T16:13:00.892Z"
   },
   {
    "duration": 46,
    "start_time": "2024-05-22T16:13:00.938Z"
   },
   {
    "duration": 86,
    "start_time": "2024-05-22T16:13:00.986Z"
   },
   {
    "duration": 54,
    "start_time": "2024-05-22T16:13:01.073Z"
   },
   {
    "duration": 81,
    "start_time": "2024-05-22T16:13:01.129Z"
   },
   {
    "duration": 67,
    "start_time": "2024-05-22T16:13:01.212Z"
   },
   {
    "duration": 12,
    "start_time": "2024-05-22T16:13:19.658Z"
   },
   {
    "duration": 4,
    "start_time": "2024-05-22T16:13:20.557Z"
   },
   {
    "duration": 3,
    "start_time": "2024-05-22T16:13:21.408Z"
   },
   {
    "duration": 6,
    "start_time": "2024-05-22T16:13:24.626Z"
   },
   {
    "duration": 15,
    "start_time": "2024-05-22T16:14:18.626Z"
   },
   {
    "duration": 16,
    "start_time": "2024-05-22T16:15:14.492Z"
   },
   {
    "duration": 23,
    "start_time": "2024-05-22T16:15:17.241Z"
   },
   {
    "duration": 6,
    "start_time": "2024-05-22T16:15:24.534Z"
   },
   {
    "duration": 22,
    "start_time": "2024-05-22T16:17:25.750Z"
   },
   {
    "duration": 341,
    "start_time": "2024-05-22T16:17:47.575Z"
   },
   {
    "duration": 26,
    "start_time": "2024-05-22T16:18:13.942Z"
   },
   {
    "duration": 17,
    "start_time": "2024-05-22T16:19:07.266Z"
   },
   {
    "duration": 490,
    "start_time": "2024-05-22T16:19:12.921Z"
   },
   {
    "duration": 21,
    "start_time": "2024-05-22T16:19:13.412Z"
   },
   {
    "duration": 23,
    "start_time": "2024-05-22T16:19:13.434Z"
   },
   {
    "duration": 19,
    "start_time": "2024-05-22T16:19:13.463Z"
   },
   {
    "duration": 34,
    "start_time": "2024-05-22T16:19:13.484Z"
   },
   {
    "duration": 3,
    "start_time": "2024-05-22T16:19:13.519Z"
   },
   {
    "duration": 21,
    "start_time": "2024-05-22T16:19:13.523Z"
   },
   {
    "duration": 10,
    "start_time": "2024-05-22T16:19:13.546Z"
   },
   {
    "duration": 11,
    "start_time": "2024-05-22T16:19:13.558Z"
   },
   {
    "duration": 4,
    "start_time": "2024-05-22T16:19:13.572Z"
   },
   {
    "duration": 37,
    "start_time": "2024-05-22T16:19:13.578Z"
   },
   {
    "duration": 36,
    "start_time": "2024-05-22T16:19:13.617Z"
   },
   {
    "duration": 5,
    "start_time": "2024-05-22T16:19:13.654Z"
   },
   {
    "duration": 13,
    "start_time": "2024-05-22T16:19:13.660Z"
   },
   {
    "duration": 25,
    "start_time": "2024-05-22T16:19:13.674Z"
   },
   {
    "duration": 15,
    "start_time": "2024-05-22T16:19:13.700Z"
   },
   {
    "duration": 3,
    "start_time": "2024-05-22T16:19:13.717Z"
   },
   {
    "duration": 38,
    "start_time": "2024-05-22T16:19:13.722Z"
   },
   {
    "duration": 6,
    "start_time": "2024-05-22T16:19:13.761Z"
   },
   {
    "duration": 4,
    "start_time": "2024-05-22T16:19:13.768Z"
   },
   {
    "duration": 11,
    "start_time": "2024-05-22T16:19:13.773Z"
   },
   {
    "duration": 11,
    "start_time": "2024-05-22T16:19:13.786Z"
   },
   {
    "duration": 5,
    "start_time": "2024-05-22T16:19:13.798Z"
   },
   {
    "duration": 12,
    "start_time": "2024-05-22T16:19:13.804Z"
   },
   {
    "duration": 6,
    "start_time": "2024-05-22T16:19:13.844Z"
   },
   {
    "duration": 8,
    "start_time": "2024-05-22T16:19:13.853Z"
   },
   {
    "duration": 7,
    "start_time": "2024-05-22T16:19:13.863Z"
   },
   {
    "duration": 22,
    "start_time": "2024-05-22T16:19:13.872Z"
   },
   {
    "duration": 18,
    "start_time": "2024-05-22T16:19:13.895Z"
   },
   {
    "duration": 455,
    "start_time": "2024-05-22T16:22:19.984Z"
   },
   {
    "duration": 31,
    "start_time": "2024-05-22T16:22:20.441Z"
   },
   {
    "duration": 22,
    "start_time": "2024-05-22T16:22:20.474Z"
   },
   {
    "duration": 10,
    "start_time": "2024-05-22T16:22:20.498Z"
   },
   {
    "duration": 69,
    "start_time": "2024-05-22T16:22:20.509Z"
   },
   {
    "duration": 3,
    "start_time": "2024-05-22T16:22:20.580Z"
   },
   {
    "duration": 13,
    "start_time": "2024-05-22T16:22:20.584Z"
   },
   {
    "duration": 4,
    "start_time": "2024-05-22T16:22:20.598Z"
   },
   {
    "duration": 31,
    "start_time": "2024-05-22T16:22:20.603Z"
   },
   {
    "duration": 31,
    "start_time": "2024-05-22T16:22:20.637Z"
   },
   {
    "duration": 48,
    "start_time": "2024-05-22T16:22:20.669Z"
   },
   {
    "duration": 10,
    "start_time": "2024-05-22T16:22:20.719Z"
   },
   {
    "duration": 13,
    "start_time": "2024-05-22T16:22:20.731Z"
   },
   {
    "duration": 16,
    "start_time": "2024-05-22T16:22:20.746Z"
   },
   {
    "duration": 41,
    "start_time": "2024-05-22T16:22:20.763Z"
   },
   {
    "duration": 15,
    "start_time": "2024-05-22T16:22:20.806Z"
   },
   {
    "duration": 8,
    "start_time": "2024-05-22T16:22:20.823Z"
   },
   {
    "duration": 57,
    "start_time": "2024-05-22T16:22:20.832Z"
   },
   {
    "duration": 8,
    "start_time": "2024-05-22T16:22:20.890Z"
   },
   {
    "duration": 6,
    "start_time": "2024-05-22T16:22:20.900Z"
   },
   {
    "duration": 18,
    "start_time": "2024-05-22T16:22:20.907Z"
   },
   {
    "duration": 36,
    "start_time": "2024-05-22T16:22:20.927Z"
   },
   {
    "duration": 6,
    "start_time": "2024-05-22T16:22:20.964Z"
   },
   {
    "duration": 16,
    "start_time": "2024-05-22T16:22:20.971Z"
   },
   {
    "duration": 15,
    "start_time": "2024-05-22T16:22:20.988Z"
   },
   {
    "duration": 15,
    "start_time": "2024-05-22T16:22:21.004Z"
   },
   {
    "duration": 35,
    "start_time": "2024-05-22T16:22:21.020Z"
   },
   {
    "duration": 10,
    "start_time": "2024-05-22T16:22:21.060Z"
   },
   {
    "duration": 5,
    "start_time": "2024-05-22T16:22:21.071Z"
   },
   {
    "duration": 11,
    "start_time": "2024-05-22T16:22:21.077Z"
   },
   {
    "duration": 31,
    "start_time": "2024-05-22T16:22:21.089Z"
   },
   {
    "duration": 46,
    "start_time": "2024-05-22T16:22:21.121Z"
   },
   {
    "duration": 79,
    "start_time": "2024-05-22T16:24:36.190Z"
   },
   {
    "duration": 492,
    "start_time": "2024-05-22T16:25:18.822Z"
   },
   {
    "duration": 20,
    "start_time": "2024-05-22T16:25:19.316Z"
   },
   {
    "duration": 28,
    "start_time": "2024-05-22T16:25:19.338Z"
   },
   {
    "duration": 13,
    "start_time": "2024-05-22T16:25:19.367Z"
   },
   {
    "duration": 35,
    "start_time": "2024-05-22T16:25:19.382Z"
   },
   {
    "duration": 3,
    "start_time": "2024-05-22T16:25:19.418Z"
   },
   {
    "duration": 11,
    "start_time": "2024-05-22T16:25:19.422Z"
   },
   {
    "duration": 23,
    "start_time": "2024-05-22T16:25:19.434Z"
   },
   {
    "duration": 8,
    "start_time": "2024-05-22T16:25:19.460Z"
   },
   {
    "duration": 17,
    "start_time": "2024-05-22T16:25:19.470Z"
   },
   {
    "duration": 49,
    "start_time": "2024-05-22T16:25:19.489Z"
   },
   {
    "duration": 19,
    "start_time": "2024-05-22T16:25:19.544Z"
   },
   {
    "duration": 16,
    "start_time": "2024-05-22T16:25:19.564Z"
   },
   {
    "duration": 27,
    "start_time": "2024-05-22T16:25:19.583Z"
   },
   {
    "duration": 28,
    "start_time": "2024-05-22T16:25:19.611Z"
   },
   {
    "duration": 24,
    "start_time": "2024-05-22T16:25:19.640Z"
   },
   {
    "duration": 3,
    "start_time": "2024-05-22T16:25:19.666Z"
   },
   {
    "duration": 29,
    "start_time": "2024-05-22T16:25:19.670Z"
   },
   {
    "duration": 17,
    "start_time": "2024-05-22T16:25:19.700Z"
   },
   {
    "duration": 15,
    "start_time": "2024-05-22T16:25:19.719Z"
   },
   {
    "duration": 16,
    "start_time": "2024-05-22T16:25:19.736Z"
   },
   {
    "duration": 15,
    "start_time": "2024-05-22T16:25:19.754Z"
   },
   {
    "duration": 10,
    "start_time": "2024-05-22T16:25:19.770Z"
   },
   {
    "duration": 41,
    "start_time": "2024-05-22T16:25:19.781Z"
   },
   {
    "duration": 9,
    "start_time": "2024-05-22T16:25:19.823Z"
   },
   {
    "duration": 22,
    "start_time": "2024-05-22T16:25:19.833Z"
   },
   {
    "duration": 13,
    "start_time": "2024-05-22T16:25:19.857Z"
   },
   {
    "duration": 40,
    "start_time": "2024-05-22T16:25:19.871Z"
   },
   {
    "duration": 14,
    "start_time": "2024-05-22T16:25:19.912Z"
   },
   {
    "duration": 36,
    "start_time": "2024-05-22T16:25:19.928Z"
   },
   {
    "duration": 16,
    "start_time": "2024-05-22T16:25:19.966Z"
   },
   {
    "duration": 139,
    "start_time": "2024-05-22T16:25:19.983Z"
   },
   {
    "duration": 21,
    "start_time": "2024-05-22T16:26:06.591Z"
   },
   {
    "duration": 259,
    "start_time": "2024-05-22T16:31:38.904Z"
   },
   {
    "duration": 463,
    "start_time": "2024-05-22T16:32:00.207Z"
   },
   {
    "duration": 20,
    "start_time": "2024-05-22T16:32:00.673Z"
   },
   {
    "duration": 22,
    "start_time": "2024-05-22T16:32:00.694Z"
   },
   {
    "duration": 44,
    "start_time": "2024-05-22T16:32:00.718Z"
   },
   {
    "duration": 67,
    "start_time": "2024-05-22T16:32:00.764Z"
   },
   {
    "duration": 63,
    "start_time": "2024-05-22T16:32:00.833Z"
   },
   {
    "duration": 72,
    "start_time": "2024-05-22T16:32:00.897Z"
   },
   {
    "duration": 59,
    "start_time": "2024-05-22T16:32:00.971Z"
   },
   {
    "duration": 91,
    "start_time": "2024-05-22T16:32:01.032Z"
   },
   {
    "duration": 56,
    "start_time": "2024-05-22T16:32:01.127Z"
   },
   {
    "duration": 104,
    "start_time": "2024-05-22T16:32:01.185Z"
   },
   {
    "duration": 13,
    "start_time": "2024-05-22T16:32:01.291Z"
   },
   {
    "duration": 98,
    "start_time": "2024-05-22T16:32:01.305Z"
   },
   {
    "duration": 94,
    "start_time": "2024-05-22T16:32:01.405Z"
   },
   {
    "duration": 70,
    "start_time": "2024-05-22T16:32:01.500Z"
   },
   {
    "duration": 31,
    "start_time": "2024-05-22T16:32:01.571Z"
   },
   {
    "duration": 26,
    "start_time": "2024-05-22T16:32:01.604Z"
   },
   {
    "duration": 46,
    "start_time": "2024-05-22T16:32:01.632Z"
   },
   {
    "duration": 20,
    "start_time": "2024-05-22T16:32:01.679Z"
   },
   {
    "duration": 49,
    "start_time": "2024-05-22T16:32:01.700Z"
   },
   {
    "duration": 46,
    "start_time": "2024-05-22T16:32:01.750Z"
   },
   {
    "duration": 37,
    "start_time": "2024-05-22T16:32:01.798Z"
   },
   {
    "duration": 20,
    "start_time": "2024-05-22T16:32:01.837Z"
   },
   {
    "duration": 46,
    "start_time": "2024-05-22T16:32:01.859Z"
   },
   {
    "duration": 23,
    "start_time": "2024-05-22T16:32:01.907Z"
   },
   {
    "duration": 12,
    "start_time": "2024-05-22T16:32:01.932Z"
   },
   {
    "duration": 16,
    "start_time": "2024-05-22T16:32:01.946Z"
   },
   {
    "duration": 22,
    "start_time": "2024-05-22T16:32:01.965Z"
   },
   {
    "duration": 11,
    "start_time": "2024-05-22T16:32:01.988Z"
   },
   {
    "duration": 26,
    "start_time": "2024-05-22T16:32:02.000Z"
   },
   {
    "duration": 20,
    "start_time": "2024-05-22T16:32:02.028Z"
   },
   {
    "duration": 319,
    "start_time": "2024-05-22T16:32:02.050Z"
   },
   {
    "duration": 264,
    "start_time": "2024-05-22T16:32:40.671Z"
   },
   {
    "duration": 267,
    "start_time": "2024-05-22T16:33:10.097Z"
   },
   {
    "duration": 223,
    "start_time": "2024-05-22T16:33:46.177Z"
   },
   {
    "duration": 231,
    "start_time": "2024-05-22T16:33:59.274Z"
   },
   {
    "duration": 25,
    "start_time": "2024-05-22T16:34:34.143Z"
   },
   {
    "duration": 499,
    "start_time": "2024-05-22T16:38:02.141Z"
   },
   {
    "duration": 29,
    "start_time": "2024-05-22T16:38:02.641Z"
   },
   {
    "duration": 70,
    "start_time": "2024-05-22T16:38:02.671Z"
   },
   {
    "duration": 16,
    "start_time": "2024-05-22T16:38:02.743Z"
   },
   {
    "duration": 35,
    "start_time": "2024-05-22T16:38:02.761Z"
   },
   {
    "duration": 3,
    "start_time": "2024-05-22T16:38:02.797Z"
   },
   {
    "duration": 8,
    "start_time": "2024-05-22T16:38:02.802Z"
   },
   {
    "duration": 4,
    "start_time": "2024-05-22T16:38:02.812Z"
   },
   {
    "duration": 29,
    "start_time": "2024-05-22T16:38:02.817Z"
   },
   {
    "duration": 6,
    "start_time": "2024-05-22T16:38:02.852Z"
   },
   {
    "duration": 33,
    "start_time": "2024-05-22T16:38:02.859Z"
   },
   {
    "duration": 9,
    "start_time": "2024-05-22T16:38:02.894Z"
   },
   {
    "duration": 5,
    "start_time": "2024-05-22T16:38:02.904Z"
   },
   {
    "duration": 37,
    "start_time": "2024-05-22T16:38:02.910Z"
   },
   {
    "duration": 23,
    "start_time": "2024-05-22T16:38:02.950Z"
   },
   {
    "duration": 16,
    "start_time": "2024-05-22T16:38:02.974Z"
   },
   {
    "duration": 3,
    "start_time": "2024-05-22T16:38:02.991Z"
   },
   {
    "duration": 12,
    "start_time": "2024-05-22T16:38:02.995Z"
   },
   {
    "duration": 5,
    "start_time": "2024-05-22T16:38:03.008Z"
   },
   {
    "duration": 12,
    "start_time": "2024-05-22T16:38:03.014Z"
   },
   {
    "duration": 13,
    "start_time": "2024-05-22T16:38:03.049Z"
   },
   {
    "duration": 10,
    "start_time": "2024-05-22T16:38:03.064Z"
   },
   {
    "duration": 5,
    "start_time": "2024-05-22T16:38:03.075Z"
   },
   {
    "duration": 12,
    "start_time": "2024-05-22T16:38:03.081Z"
   },
   {
    "duration": 3,
    "start_time": "2024-05-22T16:38:03.094Z"
   },
   {
    "duration": 7,
    "start_time": "2024-05-22T16:38:03.098Z"
   },
   {
    "duration": 9,
    "start_time": "2024-05-22T16:38:03.106Z"
   },
   {
    "duration": 17,
    "start_time": "2024-05-22T16:38:03.146Z"
   },
   {
    "duration": 2,
    "start_time": "2024-05-22T16:38:03.165Z"
   },
   {
    "duration": 25,
    "start_time": "2024-05-22T16:38:03.169Z"
   },
   {
    "duration": 8,
    "start_time": "2024-05-22T16:38:03.195Z"
   },
   {
    "duration": 17,
    "start_time": "2024-05-22T16:38:03.204Z"
   },
   {
    "duration": 3,
    "start_time": "2024-05-22T16:38:03.222Z"
   },
   {
    "duration": 28,
    "start_time": "2024-05-22T16:38:03.227Z"
   },
   {
    "duration": 15,
    "start_time": "2024-05-22T16:38:03.257Z"
   },
   {
    "duration": 449,
    "start_time": "2024-05-22T22:43:59.473Z"
   },
   {
    "duration": 25,
    "start_time": "2024-05-22T22:43:59.925Z"
   },
   {
    "duration": 13,
    "start_time": "2024-05-22T22:43:59.951Z"
   },
   {
    "duration": 9,
    "start_time": "2024-05-22T22:43:59.965Z"
   },
   {
    "duration": 43,
    "start_time": "2024-05-22T22:43:59.976Z"
   },
   {
    "duration": 4,
    "start_time": "2024-05-22T22:44:00.021Z"
   },
   {
    "duration": 34,
    "start_time": "2024-05-22T22:44:00.026Z"
   },
   {
    "duration": 70,
    "start_time": "2024-05-22T22:44:00.062Z"
   },
   {
    "duration": 37,
    "start_time": "2024-05-22T22:44:00.133Z"
   },
   {
    "duration": 30,
    "start_time": "2024-05-22T22:44:00.171Z"
   },
   {
    "duration": 58,
    "start_time": "2024-05-22T22:44:00.203Z"
   },
   {
    "duration": 35,
    "start_time": "2024-05-22T22:44:00.263Z"
   },
   {
    "duration": 26,
    "start_time": "2024-05-22T22:44:00.299Z"
   },
   {
    "duration": 84,
    "start_time": "2024-05-22T22:44:00.328Z"
   },
   {
    "duration": 58,
    "start_time": "2024-05-22T22:44:00.413Z"
   },
   {
    "duration": 36,
    "start_time": "2024-05-22T22:44:00.472Z"
   },
   {
    "duration": 24,
    "start_time": "2024-05-22T22:44:00.509Z"
   },
   {
    "duration": 39,
    "start_time": "2024-05-22T22:44:00.534Z"
   },
   {
    "duration": 38,
    "start_time": "2024-05-22T22:44:00.574Z"
   },
   {
    "duration": 48,
    "start_time": "2024-05-22T22:44:00.613Z"
   },
   {
    "duration": 34,
    "start_time": "2024-05-22T22:44:00.663Z"
   },
   {
    "duration": 80,
    "start_time": "2024-05-22T22:44:00.698Z"
   },
   {
    "duration": 48,
    "start_time": "2024-05-22T22:44:00.779Z"
   },
   {
    "duration": 50,
    "start_time": "2024-05-22T22:44:00.829Z"
   },
   {
    "duration": 42,
    "start_time": "2024-05-22T22:44:00.880Z"
   },
   {
    "duration": 97,
    "start_time": "2024-05-22T22:44:00.923Z"
   },
   {
    "duration": 74,
    "start_time": "2024-05-22T22:44:01.022Z"
   },
   {
    "duration": 51,
    "start_time": "2024-05-22T22:44:01.097Z"
   },
   {
    "duration": 40,
    "start_time": "2024-05-22T22:44:01.149Z"
   },
   {
    "duration": 63,
    "start_time": "2024-05-22T22:44:01.191Z"
   },
   {
    "duration": 51,
    "start_time": "2024-05-22T22:44:01.255Z"
   },
   {
    "duration": 48,
    "start_time": "2024-05-22T22:44:01.307Z"
   },
   {
    "duration": 51,
    "start_time": "2024-05-22T22:44:01.357Z"
   },
   {
    "duration": 47,
    "start_time": "2024-05-22T22:44:01.410Z"
   },
   {
    "duration": 127,
    "start_time": "2024-05-22T22:44:01.458Z"
   },
   {
    "duration": 51,
    "start_time": "2024-05-23T08:46:15.107Z"
   },
   {
    "duration": 597,
    "start_time": "2024-05-23T08:46:19.780Z"
   },
   {
    "duration": 21,
    "start_time": "2024-05-23T08:46:20.378Z"
   },
   {
    "duration": 33,
    "start_time": "2024-05-23T08:46:20.400Z"
   },
   {
    "duration": 8,
    "start_time": "2024-05-23T08:46:20.435Z"
   },
   {
    "duration": 29,
    "start_time": "2024-05-23T08:46:20.444Z"
   },
   {
    "duration": 3,
    "start_time": "2024-05-23T08:46:20.475Z"
   },
   {
    "duration": 10,
    "start_time": "2024-05-23T08:46:20.479Z"
   },
   {
    "duration": 11,
    "start_time": "2024-05-23T08:46:20.490Z"
   },
   {
    "duration": 9,
    "start_time": "2024-05-23T08:46:20.503Z"
   },
   {
    "duration": 3,
    "start_time": "2024-05-23T08:46:20.515Z"
   },
   {
    "duration": 31,
    "start_time": "2024-05-23T08:46:20.519Z"
   },
   {
    "duration": 8,
    "start_time": "2024-05-23T08:46:20.552Z"
   },
   {
    "duration": 3,
    "start_time": "2024-05-23T08:46:20.561Z"
   },
   {
    "duration": 15,
    "start_time": "2024-05-23T08:46:20.565Z"
   },
   {
    "duration": 37,
    "start_time": "2024-05-23T08:46:20.582Z"
   },
   {
    "duration": 16,
    "start_time": "2024-05-23T08:46:20.621Z"
   },
   {
    "duration": 3,
    "start_time": "2024-05-23T08:46:20.638Z"
   },
   {
    "duration": 10,
    "start_time": "2024-05-23T08:46:20.643Z"
   },
   {
    "duration": 6,
    "start_time": "2024-05-23T08:46:20.654Z"
   },
   {
    "duration": 3,
    "start_time": "2024-05-23T08:46:20.661Z"
   },
   {
    "duration": 9,
    "start_time": "2024-05-23T08:46:20.666Z"
   },
   {
    "duration": 41,
    "start_time": "2024-05-23T08:46:20.677Z"
   },
   {
    "duration": 5,
    "start_time": "2024-05-23T08:46:20.719Z"
   },
   {
    "duration": 11,
    "start_time": "2024-05-23T08:46:20.725Z"
   },
   {
    "duration": 3,
    "start_time": "2024-05-23T08:46:20.737Z"
   },
   {
    "duration": 3,
    "start_time": "2024-05-23T08:46:20.741Z"
   },
   {
    "duration": 7,
    "start_time": "2024-05-23T08:46:20.745Z"
   },
   {
    "duration": 9,
    "start_time": "2024-05-23T08:46:20.755Z"
   },
   {
    "duration": 22,
    "start_time": "2024-05-23T08:46:20.765Z"
   },
   {
    "duration": 4,
    "start_time": "2024-05-23T08:46:20.788Z"
   },
   {
    "duration": 22,
    "start_time": "2024-05-23T08:46:20.793Z"
   },
   {
    "duration": 12,
    "start_time": "2024-05-23T08:46:20.816Z"
   },
   {
    "duration": 4,
    "start_time": "2024-05-23T08:46:20.829Z"
   },
   {
    "duration": 5,
    "start_time": "2024-05-23T08:46:20.834Z"
   },
   {
    "duration": 6,
    "start_time": "2024-05-23T08:46:20.841Z"
   },
   {
    "duration": 3,
    "start_time": "2024-05-23T08:46:36.662Z"
   },
   {
    "duration": 8,
    "start_time": "2024-05-23T08:46:37.928Z"
   },
   {
    "duration": 6,
    "start_time": "2024-05-23T08:48:10.970Z"
   },
   {
    "duration": 5,
    "start_time": "2024-05-23T08:48:50.672Z"
   },
   {
    "duration": 448,
    "start_time": "2024-05-23T09:17:59.219Z"
   },
   {
    "duration": 21,
    "start_time": "2024-05-23T09:17:59.669Z"
   },
   {
    "duration": 13,
    "start_time": "2024-05-23T09:17:59.691Z"
   },
   {
    "duration": 11,
    "start_time": "2024-05-23T09:17:59.706Z"
   },
   {
    "duration": 31,
    "start_time": "2024-05-23T09:17:59.719Z"
   },
   {
    "duration": 4,
    "start_time": "2024-05-23T09:17:59.751Z"
   },
   {
    "duration": 17,
    "start_time": "2024-05-23T09:17:59.756Z"
   },
   {
    "duration": 4,
    "start_time": "2024-05-23T09:17:59.774Z"
   },
   {
    "duration": 7,
    "start_time": "2024-05-23T09:17:59.780Z"
   },
   {
    "duration": 3,
    "start_time": "2024-05-23T09:17:59.814Z"
   },
   {
    "duration": 32,
    "start_time": "2024-05-23T09:17:59.819Z"
   },
   {
    "duration": 10,
    "start_time": "2024-05-23T09:17:59.852Z"
   },
   {
    "duration": 3,
    "start_time": "2024-05-23T09:17:59.864Z"
   },
   {
    "duration": 17,
    "start_time": "2024-05-23T09:17:59.868Z"
   },
   {
    "duration": 38,
    "start_time": "2024-05-23T09:17:59.887Z"
   },
   {
    "duration": 17,
    "start_time": "2024-05-23T09:17:59.927Z"
   },
   {
    "duration": 4,
    "start_time": "2024-05-23T09:17:59.945Z"
   },
   {
    "duration": 22,
    "start_time": "2024-05-23T09:17:59.951Z"
   },
   {
    "duration": 6,
    "start_time": "2024-05-23T09:17:59.974Z"
   },
   {
    "duration": 3,
    "start_time": "2024-05-23T09:17:59.982Z"
   },
   {
    "duration": 28,
    "start_time": "2024-05-23T09:17:59.987Z"
   },
   {
    "duration": 23,
    "start_time": "2024-05-23T09:18:00.017Z"
   },
   {
    "duration": 61,
    "start_time": "2024-05-23T09:18:00.041Z"
   },
   {
    "duration": 0,
    "start_time": "2024-05-23T09:18:00.104Z"
   },
   {
    "duration": 0,
    "start_time": "2024-05-23T09:18:00.105Z"
   },
   {
    "duration": 0,
    "start_time": "2024-05-23T09:18:00.106Z"
   },
   {
    "duration": 0,
    "start_time": "2024-05-23T09:18:00.108Z"
   },
   {
    "duration": 0,
    "start_time": "2024-05-23T09:18:00.109Z"
   },
   {
    "duration": 0,
    "start_time": "2024-05-23T09:18:00.110Z"
   },
   {
    "duration": 1,
    "start_time": "2024-05-23T09:18:00.111Z"
   },
   {
    "duration": 0,
    "start_time": "2024-05-23T09:18:00.113Z"
   },
   {
    "duration": 0,
    "start_time": "2024-05-23T09:18:00.114Z"
   },
   {
    "duration": 0,
    "start_time": "2024-05-23T09:18:00.115Z"
   },
   {
    "duration": 0,
    "start_time": "2024-05-23T09:18:00.117Z"
   },
   {
    "duration": 0,
    "start_time": "2024-05-23T09:18:00.118Z"
   },
   {
    "duration": 0,
    "start_time": "2024-05-23T09:18:00.119Z"
   },
   {
    "duration": 0,
    "start_time": "2024-05-23T09:18:00.120Z"
   },
   {
    "duration": 8,
    "start_time": "2024-05-23T09:18:30.962Z"
   },
   {
    "duration": 57,
    "start_time": "2024-05-23T09:18:31.693Z"
   },
   {
    "duration": 7,
    "start_time": "2024-05-23T09:18:36.428Z"
   },
   {
    "duration": 8,
    "start_time": "2024-05-23T09:18:46.393Z"
   },
   {
    "duration": 5,
    "start_time": "2024-05-23T09:18:47.274Z"
   },
   {
    "duration": 73,
    "start_time": "2024-05-23T09:23:02.483Z"
   },
   {
    "duration": 3,
    "start_time": "2024-05-23T09:23:02.918Z"
   },
   {
    "duration": 10,
    "start_time": "2024-05-23T09:23:33.996Z"
   },
   {
    "duration": 4,
    "start_time": "2024-05-23T09:23:35.893Z"
   },
   {
    "duration": 10,
    "start_time": "2024-05-23T09:30:13.616Z"
   },
   {
    "duration": 10,
    "start_time": "2024-05-23T09:30:59.140Z"
   },
   {
    "duration": 9,
    "start_time": "2024-05-23T09:31:00.916Z"
   },
   {
    "duration": 8,
    "start_time": "2024-05-23T09:31:01.852Z"
   },
   {
    "duration": 8,
    "start_time": "2024-05-23T09:31:12.441Z"
   },
   {
    "duration": 9,
    "start_time": "2024-05-23T09:31:41.941Z"
   },
   {
    "duration": 4,
    "start_time": "2024-05-23T09:31:42.807Z"
   },
   {
    "duration": 4,
    "start_time": "2024-05-23T09:35:27.542Z"
   },
   {
    "duration": 54,
    "start_time": "2024-05-23T09:35:43.131Z"
   },
   {
    "duration": 6,
    "start_time": "2024-05-23T09:35:49.217Z"
   },
   {
    "duration": 61,
    "start_time": "2024-05-23T09:36:10.018Z"
   },
   {
    "duration": 4,
    "start_time": "2024-05-23T09:36:12.349Z"
   },
   {
    "duration": 56,
    "start_time": "2024-05-23T09:36:13.233Z"
   },
   {
    "duration": 5,
    "start_time": "2024-05-23T09:36:19.135Z"
   },
   {
    "duration": 7,
    "start_time": "2024-05-23T09:37:01.076Z"
   },
   {
    "duration": 7,
    "start_time": "2024-05-23T09:37:03.292Z"
   },
   {
    "duration": 3,
    "start_time": "2024-05-23T09:37:03.722Z"
   },
   {
    "duration": 6,
    "start_time": "2024-05-23T09:37:09.582Z"
   },
   {
    "duration": 6,
    "start_time": "2024-05-23T09:37:10.701Z"
   },
   {
    "duration": 6,
    "start_time": "2024-05-23T09:37:19.885Z"
   },
   {
    "duration": 20,
    "start_time": "2024-05-23T09:38:44.227Z"
   },
   {
    "duration": 23,
    "start_time": "2024-05-23T09:38:45.162Z"
   },
   {
    "duration": 6,
    "start_time": "2024-05-23T09:38:51.292Z"
   },
   {
    "duration": 11,
    "start_time": "2024-05-23T09:38:53.412Z"
   },
   {
    "duration": 4,
    "start_time": "2024-05-23T09:38:53.777Z"
   },
   {
    "duration": 7,
    "start_time": "2024-05-23T09:38:55.404Z"
   },
   {
    "duration": 6,
    "start_time": "2024-05-23T09:39:02.896Z"
   },
   {
    "duration": 8,
    "start_time": "2024-05-23T09:39:06.004Z"
   },
   {
    "duration": 4,
    "start_time": "2024-05-23T09:39:06.450Z"
   },
   {
    "duration": 6,
    "start_time": "2024-05-23T09:39:06.969Z"
   },
   {
    "duration": 5,
    "start_time": "2024-05-23T09:39:07.796Z"
   },
   {
    "duration": 5,
    "start_time": "2024-05-23T09:39:14.628Z"
   },
   {
    "duration": 8,
    "start_time": "2024-05-23T09:39:56.834Z"
   },
   {
    "duration": 5,
    "start_time": "2024-05-23T09:39:57.629Z"
   },
   {
    "duration": 3,
    "start_time": "2024-05-23T09:47:37.253Z"
   },
   {
    "duration": 11,
    "start_time": "2024-05-23T09:49:12.885Z"
   },
   {
    "duration": 7,
    "start_time": "2024-05-23T09:49:30.878Z"
   },
   {
    "duration": 11,
    "start_time": "2024-05-23T09:49:31.335Z"
   },
   {
    "duration": 7,
    "start_time": "2024-05-23T09:53:09.551Z"
   },
   {
    "duration": 5,
    "start_time": "2024-05-23T09:53:10.408Z"
   },
   {
    "duration": 6,
    "start_time": "2024-05-23T09:58:48.379Z"
   },
   {
    "duration": 12,
    "start_time": "2024-05-23T09:58:50.891Z"
   },
   {
    "duration": 3,
    "start_time": "2024-05-23T09:58:51.753Z"
   },
   {
    "duration": 3,
    "start_time": "2024-05-23T09:58:52.702Z"
   },
   {
    "duration": 7,
    "start_time": "2024-05-23T09:58:53.627Z"
   },
   {
    "duration": 8,
    "start_time": "2024-05-23T10:00:16.104Z"
   },
   {
    "duration": 3,
    "start_time": "2024-05-23T10:00:16.487Z"
   },
   {
    "duration": 474,
    "start_time": "2024-05-23T10:01:54.482Z"
   },
   {
    "duration": 21,
    "start_time": "2024-05-23T10:01:54.958Z"
   },
   {
    "duration": 13,
    "start_time": "2024-05-23T10:01:54.981Z"
   },
   {
    "duration": 22,
    "start_time": "2024-05-23T10:01:54.996Z"
   },
   {
    "duration": 35,
    "start_time": "2024-05-23T10:01:55.019Z"
   },
   {
    "duration": 3,
    "start_time": "2024-05-23T10:01:55.056Z"
   },
   {
    "duration": 11,
    "start_time": "2024-05-23T10:01:55.060Z"
   },
   {
    "duration": 7,
    "start_time": "2024-05-23T10:01:55.073Z"
   },
   {
    "duration": 8,
    "start_time": "2024-05-23T10:01:55.082Z"
   },
   {
    "duration": 10,
    "start_time": "2024-05-23T10:01:55.093Z"
   },
   {
    "duration": 31,
    "start_time": "2024-05-23T10:01:55.111Z"
   },
   {
    "duration": 9,
    "start_time": "2024-05-23T10:01:55.144Z"
   },
   {
    "duration": 3,
    "start_time": "2024-05-23T10:01:55.154Z"
   },
   {
    "duration": 10,
    "start_time": "2024-05-23T10:01:55.159Z"
   },
   {
    "duration": 19,
    "start_time": "2024-05-23T10:01:55.171Z"
   },
   {
    "duration": 16,
    "start_time": "2024-05-23T10:01:55.212Z"
   },
   {
    "duration": 4,
    "start_time": "2024-05-23T10:01:55.229Z"
   },
   {
    "duration": 11,
    "start_time": "2024-05-23T10:01:55.234Z"
   },
   {
    "duration": 7,
    "start_time": "2024-05-23T10:01:55.247Z"
   },
   {
    "duration": 5,
    "start_time": "2024-05-23T10:01:55.255Z"
   },
   {
    "duration": 12,
    "start_time": "2024-05-23T10:01:55.261Z"
   },
   {
    "duration": 14,
    "start_time": "2024-05-23T10:01:55.274Z"
   },
   {
    "duration": 23,
    "start_time": "2024-05-23T10:01:55.289Z"
   },
   {
    "duration": 12,
    "start_time": "2024-05-23T10:01:55.314Z"
   },
   {
    "duration": 3,
    "start_time": "2024-05-23T10:01:55.327Z"
   },
   {
    "duration": 29,
    "start_time": "2024-05-23T10:01:55.331Z"
   },
   {
    "duration": 8,
    "start_time": "2024-05-23T10:01:55.362Z"
   },
   {
    "duration": 11,
    "start_time": "2024-05-23T10:01:55.373Z"
   },
   {
    "duration": 6,
    "start_time": "2024-05-23T10:01:55.385Z"
   },
   {
    "duration": 4,
    "start_time": "2024-05-23T10:01:55.392Z"
   },
   {
    "duration": 6,
    "start_time": "2024-05-23T10:01:55.398Z"
   },
   {
    "duration": 20,
    "start_time": "2024-05-23T10:01:55.405Z"
   },
   {
    "duration": 3,
    "start_time": "2024-05-23T10:01:55.426Z"
   },
   {
    "duration": 4,
    "start_time": "2024-05-23T10:01:55.430Z"
   },
   {
    "duration": 10,
    "start_time": "2024-05-23T10:01:55.436Z"
   },
   {
    "duration": 4,
    "start_time": "2024-05-23T10:04:48.324Z"
   },
   {
    "duration": 11,
    "start_time": "2024-05-23T10:04:56.998Z"
   },
   {
    "duration": 3,
    "start_time": "2024-05-23T10:04:57.965Z"
   },
   {
    "duration": 5,
    "start_time": "2024-05-23T10:04:58.750Z"
   },
   {
    "duration": 6,
    "start_time": "2024-05-23T10:04:59.917Z"
   },
   {
    "duration": 3,
    "start_time": "2024-05-23T10:05:44.006Z"
   },
   {
    "duration": 6,
    "start_time": "2024-05-23T10:05:44.973Z"
   },
   {
    "duration": 457,
    "start_time": "2024-05-23T10:09:10.129Z"
   },
   {
    "duration": 20,
    "start_time": "2024-05-23T10:09:10.588Z"
   },
   {
    "duration": 13,
    "start_time": "2024-05-23T10:09:10.609Z"
   },
   {
    "duration": 8,
    "start_time": "2024-05-23T10:09:10.624Z"
   },
   {
    "duration": 31,
    "start_time": "2024-05-23T10:09:10.633Z"
   },
   {
    "duration": 2,
    "start_time": "2024-05-23T10:09:10.666Z"
   },
   {
    "duration": 8,
    "start_time": "2024-05-23T10:09:10.669Z"
   },
   {
    "duration": 3,
    "start_time": "2024-05-23T10:09:10.679Z"
   },
   {
    "duration": 30,
    "start_time": "2024-05-23T10:09:10.683Z"
   },
   {
    "duration": 4,
    "start_time": "2024-05-23T10:09:10.715Z"
   },
   {
    "duration": 29,
    "start_time": "2024-05-23T10:09:10.721Z"
   },
   {
    "duration": 9,
    "start_time": "2024-05-23T10:09:10.752Z"
   },
   {
    "duration": 3,
    "start_time": "2024-05-23T10:09:10.762Z"
   },
   {
    "duration": 11,
    "start_time": "2024-05-23T10:09:10.766Z"
   },
   {
    "duration": 50,
    "start_time": "2024-05-23T10:09:10.778Z"
   },
   {
    "duration": 15,
    "start_time": "2024-05-23T10:09:10.829Z"
   },
   {
    "duration": 3,
    "start_time": "2024-05-23T10:09:10.846Z"
   },
   {
    "duration": 11,
    "start_time": "2024-05-23T10:09:10.850Z"
   },
   {
    "duration": 10,
    "start_time": "2024-05-23T10:09:10.862Z"
   },
   {
    "duration": 3,
    "start_time": "2024-05-23T10:09:10.873Z"
   },
   {
    "duration": 8,
    "start_time": "2024-05-23T10:09:10.877Z"
   },
   {
    "duration": 29,
    "start_time": "2024-05-23T10:09:10.886Z"
   },
   {
    "duration": 5,
    "start_time": "2024-05-23T10:09:10.916Z"
   },
   {
    "duration": 13,
    "start_time": "2024-05-23T10:09:10.923Z"
   },
   {
    "duration": 3,
    "start_time": "2024-05-23T10:09:10.937Z"
   },
   {
    "duration": 8,
    "start_time": "2024-05-23T10:09:10.941Z"
   },
   {
    "duration": 17,
    "start_time": "2024-05-23T10:09:10.950Z"
   },
   {
    "duration": 10,
    "start_time": "2024-05-23T10:09:10.970Z"
   },
   {
    "duration": 3,
    "start_time": "2024-05-23T10:09:10.982Z"
   },
   {
    "duration": 4,
    "start_time": "2024-05-23T10:09:10.986Z"
   },
   {
    "duration": 6,
    "start_time": "2024-05-23T10:09:11.011Z"
   },
   {
    "duration": 11,
    "start_time": "2024-05-23T10:09:11.019Z"
   },
   {
    "duration": 9,
    "start_time": "2024-05-23T10:09:11.031Z"
   },
   {
    "duration": 9,
    "start_time": "2024-05-23T10:09:11.041Z"
   },
   {
    "duration": 16,
    "start_time": "2024-05-23T10:09:11.052Z"
   },
   {
    "duration": 12,
    "start_time": "2024-05-23T10:09:31.586Z"
   },
   {
    "duration": 3,
    "start_time": "2024-05-23T10:09:32.240Z"
   },
   {
    "duration": 3,
    "start_time": "2024-05-23T10:09:33.189Z"
   },
   {
    "duration": 5,
    "start_time": "2024-05-23T10:09:35.433Z"
   },
   {
    "duration": 8,
    "start_time": "2024-05-23T10:30:00.363Z"
   },
   {
    "duration": 5,
    "start_time": "2024-05-23T10:30:01.330Z"
   },
   {
    "duration": 8,
    "start_time": "2024-05-23T10:30:11.212Z"
   },
   {
    "duration": 5,
    "start_time": "2024-05-23T10:30:13.680Z"
   },
   {
    "duration": 5,
    "start_time": "2024-05-23T10:32:22.349Z"
   },
   {
    "duration": 5,
    "start_time": "2024-05-23T10:32:23.148Z"
   },
   {
    "duration": 10,
    "start_time": "2024-05-23T10:33:03.281Z"
   },
   {
    "duration": 3,
    "start_time": "2024-05-23T10:33:04.348Z"
   },
   {
    "duration": 4,
    "start_time": "2024-05-23T10:33:05.052Z"
   },
   {
    "duration": 6,
    "start_time": "2024-05-23T10:33:06.181Z"
   },
   {
    "duration": 11,
    "start_time": "2024-05-23T10:38:33.034Z"
   },
   {
    "duration": 67,
    "start_time": "2024-05-23T10:39:16.810Z"
   },
   {
    "duration": 12,
    "start_time": "2024-05-23T10:40:04.935Z"
   },
   {
    "duration": 12,
    "start_time": "2024-05-23T10:40:27.435Z"
   },
   {
    "duration": 16,
    "start_time": "2024-05-23T10:40:34.284Z"
   },
   {
    "duration": 13,
    "start_time": "2024-05-23T10:40:40.435Z"
   },
   {
    "duration": 4,
    "start_time": "2024-05-23T10:42:09.234Z"
   },
   {
    "duration": 1326,
    "start_time": "2024-05-23T10:43:16.993Z"
   },
   {
    "duration": 0,
    "start_time": "2024-05-23T10:43:18.321Z"
   },
   {
    "duration": 10,
    "start_time": "2024-05-23T10:43:21.152Z"
   },
   {
    "duration": 1408,
    "start_time": "2024-05-23T10:43:21.518Z"
   },
   {
    "duration": 15,
    "start_time": "2024-05-23T10:43:40.353Z"
   },
   {
    "duration": 125,
    "start_time": "2024-05-23T10:49:28.494Z"
   },
   {
    "duration": 9,
    "start_time": "2024-05-23T10:50:30.052Z"
   },
   {
    "duration": 59,
    "start_time": "2024-05-23T10:50:30.452Z"
   },
   {
    "duration": 89,
    "start_time": "2024-05-23T10:51:11.037Z"
   },
   {
    "duration": 63,
    "start_time": "2024-05-23T10:51:21.436Z"
   },
   {
    "duration": 20,
    "start_time": "2024-05-23T10:51:32.986Z"
   },
   {
    "duration": 25,
    "start_time": "2024-05-23T10:51:44.802Z"
   },
   {
    "duration": 474,
    "start_time": "2024-05-23T10:54:08.750Z"
   },
   {
    "duration": 22,
    "start_time": "2024-05-23T10:54:09.226Z"
   },
   {
    "duration": 14,
    "start_time": "2024-05-23T10:54:09.249Z"
   },
   {
    "duration": 8,
    "start_time": "2024-05-23T10:54:09.265Z"
   },
   {
    "duration": 49,
    "start_time": "2024-05-23T10:54:09.275Z"
   },
   {
    "duration": 3,
    "start_time": "2024-05-23T10:54:09.325Z"
   },
   {
    "duration": 9,
    "start_time": "2024-05-23T10:54:09.329Z"
   },
   {
    "duration": 3,
    "start_time": "2024-05-23T10:54:09.339Z"
   },
   {
    "duration": 8,
    "start_time": "2024-05-23T10:54:09.344Z"
   },
   {
    "duration": 5,
    "start_time": "2024-05-23T10:54:09.355Z"
   },
   {
    "duration": 52,
    "start_time": "2024-05-23T10:54:09.361Z"
   },
   {
    "duration": 8,
    "start_time": "2024-05-23T10:54:09.414Z"
   },
   {
    "duration": 3,
    "start_time": "2024-05-23T10:54:09.424Z"
   },
   {
    "duration": 10,
    "start_time": "2024-05-23T10:54:09.428Z"
   },
   {
    "duration": 19,
    "start_time": "2024-05-23T10:54:09.440Z"
   },
   {
    "duration": 15,
    "start_time": "2024-05-23T10:54:09.461Z"
   },
   {
    "duration": 3,
    "start_time": "2024-05-23T10:54:09.478Z"
   },
   {
    "duration": 10,
    "start_time": "2024-05-23T10:54:09.511Z"
   },
   {
    "duration": 7,
    "start_time": "2024-05-23T10:54:09.522Z"
   },
   {
    "duration": 5,
    "start_time": "2024-05-23T10:54:09.530Z"
   },
   {
    "duration": 9,
    "start_time": "2024-05-23T10:54:09.536Z"
   },
   {
    "duration": 7,
    "start_time": "2024-05-23T10:54:09.547Z"
   },
   {
    "duration": 12,
    "start_time": "2024-05-23T10:54:09.555Z"
   },
   {
    "duration": 23,
    "start_time": "2024-05-23T10:54:09.568Z"
   },
   {
    "duration": 26,
    "start_time": "2024-05-23T10:54:09.611Z"
   },
   {
    "duration": 4,
    "start_time": "2024-05-23T10:54:09.638Z"
   },
   {
    "duration": 4,
    "start_time": "2024-05-23T10:54:09.643Z"
   },
   {
    "duration": 15,
    "start_time": "2024-05-23T10:54:09.650Z"
   },
   {
    "duration": 8,
    "start_time": "2024-05-23T10:54:09.667Z"
   },
   {
    "duration": 14,
    "start_time": "2024-05-23T10:54:09.676Z"
   },
   {
    "duration": 20,
    "start_time": "2024-05-23T10:54:09.692Z"
   },
   {
    "duration": 8,
    "start_time": "2024-05-23T10:54:09.714Z"
   },
   {
    "duration": 9,
    "start_time": "2024-05-23T10:54:09.723Z"
   },
   {
    "duration": 13,
    "start_time": "2024-05-23T10:54:09.733Z"
   },
   {
    "duration": 3,
    "start_time": "2024-05-23T10:54:09.747Z"
   },
   {
    "duration": 8,
    "start_time": "2024-05-23T10:54:09.751Z"
   },
   {
    "duration": 5,
    "start_time": "2024-05-23T10:54:09.761Z"
   },
   {
    "duration": 7,
    "start_time": "2024-05-23T10:55:51.952Z"
   },
   {
    "duration": 25,
    "start_time": "2024-05-23T11:19:47.774Z"
   },
   {
    "duration": 6,
    "start_time": "2024-05-23T11:19:51.800Z"
   },
   {
    "duration": 25,
    "start_time": "2024-05-23T11:19:52.661Z"
   },
   {
    "duration": 73,
    "start_time": "2024-05-23T11:20:14.098Z"
   },
   {
    "duration": 9,
    "start_time": "2024-05-23T11:20:17.631Z"
   },
   {
    "duration": 16,
    "start_time": "2024-05-23T11:20:18.150Z"
   },
   {
    "duration": 25,
    "start_time": "2024-05-23T11:20:36.057Z"
   },
   {
    "duration": 5,
    "start_time": "2024-05-23T11:21:24.815Z"
   },
   {
    "duration": 27,
    "start_time": "2024-05-23T11:21:25.300Z"
   },
   {
    "duration": 5,
    "start_time": "2024-05-23T11:39:23.219Z"
   },
   {
    "duration": 24,
    "start_time": "2024-05-23T11:39:23.711Z"
   },
   {
    "duration": 24,
    "start_time": "2024-05-23T11:39:58.426Z"
   },
   {
    "duration": 26,
    "start_time": "2024-05-23T11:40:24.301Z"
   },
   {
    "duration": 6,
    "start_time": "2024-05-23T11:40:30.955Z"
   },
   {
    "duration": 25,
    "start_time": "2024-05-23T11:40:31.449Z"
   },
   {
    "duration": 13,
    "start_time": "2024-05-23T11:40:59.426Z"
   },
   {
    "duration": 14,
    "start_time": "2024-05-23T11:41:38.092Z"
   },
   {
    "duration": 5,
    "start_time": "2024-05-23T11:41:40.671Z"
   },
   {
    "duration": 14,
    "start_time": "2024-05-23T11:41:41.059Z"
   },
   {
    "duration": 11,
    "start_time": "2024-05-23T11:43:13.133Z"
   },
   {
    "duration": 14,
    "start_time": "2024-05-23T11:43:18.050Z"
   },
   {
    "duration": 11,
    "start_time": "2024-05-23T11:50:44.441Z"
   },
   {
    "duration": 10,
    "start_time": "2024-05-23T11:50:49.037Z"
   },
   {
    "duration": 6,
    "start_time": "2024-05-23T11:50:51.517Z"
   },
   {
    "duration": 10,
    "start_time": "2024-05-23T11:50:55.357Z"
   },
   {
    "duration": 10,
    "start_time": "2024-05-23T11:50:58.407Z"
   },
   {
    "duration": 6,
    "start_time": "2024-05-23T11:51:00.666Z"
   },
   {
    "duration": 9,
    "start_time": "2024-05-23T11:51:01.641Z"
   },
   {
    "duration": 8,
    "start_time": "2024-05-23T11:51:16.570Z"
   },
   {
    "duration": 6,
    "start_time": "2024-05-23T11:51:22.782Z"
   },
   {
    "duration": 7,
    "start_time": "2024-05-23T11:51:26.023Z"
   },
   {
    "duration": 14,
    "start_time": "2024-05-23T11:51:44.238Z"
   },
   {
    "duration": 1440,
    "start_time": "2024-05-23T11:51:50.899Z"
   },
   {
    "duration": 14,
    "start_time": "2024-05-23T11:52:05.592Z"
   },
   {
    "duration": 11,
    "start_time": "2024-05-23T11:52:18.175Z"
   },
   {
    "duration": 9,
    "start_time": "2024-05-23T11:52:38.741Z"
   },
   {
    "duration": 8,
    "start_time": "2024-05-23T11:52:50.518Z"
   },
   {
    "duration": 9,
    "start_time": "2024-05-23T11:53:05.351Z"
   },
   {
    "duration": 9,
    "start_time": "2024-05-23T11:53:14.639Z"
   },
   {
    "duration": 9,
    "start_time": "2024-05-23T11:53:32.525Z"
   },
   {
    "duration": 9,
    "start_time": "2024-05-23T11:53:39.453Z"
   },
   {
    "duration": 8,
    "start_time": "2024-05-23T11:53:45.558Z"
   },
   {
    "duration": 9,
    "start_time": "2024-05-23T11:53:47.416Z"
   },
   {
    "duration": 11,
    "start_time": "2024-05-23T11:53:59.395Z"
   },
   {
    "duration": 15,
    "start_time": "2024-05-23T11:54:20.966Z"
   },
   {
    "duration": 14,
    "start_time": "2024-05-23T11:54:25.573Z"
   },
   {
    "duration": 15,
    "start_time": "2024-05-23T11:54:33.367Z"
   },
   {
    "duration": 15,
    "start_time": "2024-05-23T11:55:45.007Z"
   },
   {
    "duration": 12,
    "start_time": "2024-05-23T12:02:34.248Z"
   },
   {
    "duration": 14,
    "start_time": "2024-05-23T12:08:08.072Z"
   },
   {
    "duration": 415,
    "start_time": "2024-05-23T12:08:14.655Z"
   },
   {
    "duration": 24,
    "start_time": "2024-05-23T12:08:15.072Z"
   },
   {
    "duration": 15,
    "start_time": "2024-05-23T12:08:15.098Z"
   },
   {
    "duration": 14,
    "start_time": "2024-05-23T12:08:15.116Z"
   },
   {
    "duration": 31,
    "start_time": "2024-05-23T12:08:15.131Z"
   },
   {
    "duration": 4,
    "start_time": "2024-05-23T12:08:15.163Z"
   },
   {
    "duration": 28,
    "start_time": "2024-05-23T12:08:15.168Z"
   },
   {
    "duration": 41,
    "start_time": "2024-05-23T12:08:15.198Z"
   },
   {
    "duration": 30,
    "start_time": "2024-05-23T12:08:15.240Z"
   },
   {
    "duration": 11,
    "start_time": "2024-05-23T12:08:15.273Z"
   },
   {
    "duration": 31,
    "start_time": "2024-05-23T12:08:15.286Z"
   },
   {
    "duration": 8,
    "start_time": "2024-05-23T12:08:15.319Z"
   },
   {
    "duration": 3,
    "start_time": "2024-05-23T12:08:15.328Z"
   },
   {
    "duration": 12,
    "start_time": "2024-05-23T12:08:15.333Z"
   },
   {
    "duration": 30,
    "start_time": "2024-05-23T12:08:15.346Z"
   },
   {
    "duration": 16,
    "start_time": "2024-05-23T12:08:15.377Z"
   },
   {
    "duration": 4,
    "start_time": "2024-05-23T12:08:15.395Z"
   },
   {
    "duration": 23,
    "start_time": "2024-05-23T12:08:15.400Z"
   },
   {
    "duration": 7,
    "start_time": "2024-05-23T12:08:15.425Z"
   },
   {
    "duration": 16,
    "start_time": "2024-05-23T12:08:15.434Z"
   },
   {
    "duration": 22,
    "start_time": "2024-05-23T12:08:15.452Z"
   },
   {
    "duration": 11,
    "start_time": "2024-05-23T12:08:15.476Z"
   },
   {
    "duration": 22,
    "start_time": "2024-05-23T12:08:15.489Z"
   },
   {
    "duration": 12,
    "start_time": "2024-05-23T12:08:15.513Z"
   },
   {
    "duration": 26,
    "start_time": "2024-05-23T12:08:15.526Z"
   },
   {
    "duration": 5,
    "start_time": "2024-05-23T12:08:15.554Z"
   },
   {
    "duration": 24,
    "start_time": "2024-05-23T12:08:15.560Z"
   },
   {
    "duration": 10,
    "start_time": "2024-05-23T12:08:15.586Z"
   },
   {
    "duration": 9,
    "start_time": "2024-05-23T12:08:15.597Z"
   },
   {
    "duration": 18,
    "start_time": "2024-05-23T12:08:15.607Z"
   },
   {
    "duration": 9,
    "start_time": "2024-05-23T12:08:15.627Z"
   },
   {
    "duration": 17,
    "start_time": "2024-05-23T12:08:15.637Z"
   },
   {
    "duration": 4,
    "start_time": "2024-05-23T12:08:15.655Z"
   },
   {
    "duration": 11,
    "start_time": "2024-05-23T12:08:15.660Z"
   },
   {
    "duration": 15,
    "start_time": "2024-05-23T12:08:15.672Z"
   },
   {
    "duration": 2,
    "start_time": "2024-05-23T12:08:15.689Z"
   },
   {
    "duration": 5,
    "start_time": "2024-05-23T12:08:15.693Z"
   },
   {
    "duration": 16,
    "start_time": "2024-05-23T12:08:15.700Z"
   },
   {
    "duration": 10,
    "start_time": "2024-05-23T12:09:20.534Z"
   },
   {
    "duration": 25,
    "start_time": "2024-05-23T12:09:20.976Z"
   },
   {
    "duration": 27,
    "start_time": "2024-05-23T12:13:55.807Z"
   },
   {
    "duration": 6,
    "start_time": "2024-05-23T12:14:08.866Z"
   },
   {
    "duration": 14,
    "start_time": "2024-05-23T12:14:11.149Z"
   },
   {
    "duration": 9,
    "start_time": "2024-05-23T12:14:39.556Z"
   },
   {
    "duration": 23,
    "start_time": "2024-05-23T12:14:41.017Z"
   },
   {
    "duration": 23,
    "start_time": "2024-05-23T12:15:30.125Z"
   },
   {
    "duration": 23,
    "start_time": "2024-05-23T12:19:11.784Z"
   },
   {
    "duration": 23,
    "start_time": "2024-05-23T12:20:26.134Z"
   },
   {
    "duration": 11,
    "start_time": "2024-05-23T12:22:15.293Z"
   },
   {
    "duration": 24,
    "start_time": "2024-05-23T12:22:15.711Z"
   },
   {
    "duration": 7,
    "start_time": "2024-05-23T12:23:12.501Z"
   },
   {
    "duration": 28,
    "start_time": "2024-05-23T12:23:13.109Z"
   },
   {
    "duration": 462,
    "start_time": "2024-05-23T12:23:27.271Z"
   },
   {
    "duration": 22,
    "start_time": "2024-05-23T12:23:27.735Z"
   },
   {
    "duration": 15,
    "start_time": "2024-05-23T12:23:27.758Z"
   },
   {
    "duration": 10,
    "start_time": "2024-05-23T12:23:27.775Z"
   },
   {
    "duration": 50,
    "start_time": "2024-05-23T12:23:27.786Z"
   },
   {
    "duration": 3,
    "start_time": "2024-05-23T12:23:27.838Z"
   },
   {
    "duration": 11,
    "start_time": "2024-05-23T12:23:27.843Z"
   },
   {
    "duration": 10,
    "start_time": "2024-05-23T12:23:27.856Z"
   },
   {
    "duration": 15,
    "start_time": "2024-05-23T12:23:27.868Z"
   },
   {
    "duration": 4,
    "start_time": "2024-05-23T12:23:27.887Z"
   },
   {
    "duration": 45,
    "start_time": "2024-05-23T12:23:27.892Z"
   },
   {
    "duration": 9,
    "start_time": "2024-05-23T12:23:27.939Z"
   },
   {
    "duration": 11,
    "start_time": "2024-05-23T12:23:27.950Z"
   },
   {
    "duration": 19,
    "start_time": "2024-05-23T12:23:27.963Z"
   },
   {
    "duration": 19,
    "start_time": "2024-05-23T12:23:27.983Z"
   },
   {
    "duration": 18,
    "start_time": "2024-05-23T12:23:28.012Z"
   },
   {
    "duration": 4,
    "start_time": "2024-05-23T12:23:28.031Z"
   },
   {
    "duration": 17,
    "start_time": "2024-05-23T12:23:28.037Z"
   },
   {
    "duration": 13,
    "start_time": "2024-05-23T12:23:28.056Z"
   },
   {
    "duration": 3,
    "start_time": "2024-05-23T12:23:28.070Z"
   },
   {
    "duration": 37,
    "start_time": "2024-05-23T12:23:28.075Z"
   },
   {
    "duration": 7,
    "start_time": "2024-05-23T12:23:28.113Z"
   },
   {
    "duration": 31,
    "start_time": "2024-05-23T12:23:28.122Z"
   },
   {
    "duration": 13,
    "start_time": "2024-05-23T12:23:28.155Z"
   },
   {
    "duration": 53,
    "start_time": "2024-05-23T12:23:28.170Z"
   },
   {
    "duration": 8,
    "start_time": "2024-05-23T12:23:28.224Z"
   },
   {
    "duration": 29,
    "start_time": "2024-05-23T12:23:28.233Z"
   },
   {
    "duration": 2,
    "start_time": "2024-05-23T12:23:28.266Z"
   },
   {
    "duration": 23,
    "start_time": "2024-05-23T12:23:28.270Z"
   },
   {
    "duration": 16,
    "start_time": "2024-05-23T12:23:28.294Z"
   },
   {
    "duration": 18,
    "start_time": "2024-05-23T12:23:28.311Z"
   },
   {
    "duration": 3,
    "start_time": "2024-05-23T12:23:28.330Z"
   },
   {
    "duration": 23,
    "start_time": "2024-05-23T12:23:28.334Z"
   },
   {
    "duration": 17,
    "start_time": "2024-05-23T12:23:28.358Z"
   },
   {
    "duration": 7,
    "start_time": "2024-05-23T12:24:36.464Z"
   },
   {
    "duration": 470,
    "start_time": "2024-05-23T12:24:57.973Z"
   },
   {
    "duration": 20,
    "start_time": "2024-05-23T12:24:58.445Z"
   },
   {
    "duration": 13,
    "start_time": "2024-05-23T12:24:58.466Z"
   },
   {
    "duration": 9,
    "start_time": "2024-05-23T12:24:58.481Z"
   },
   {
    "duration": 49,
    "start_time": "2024-05-23T12:24:58.491Z"
   },
   {
    "duration": 3,
    "start_time": "2024-05-23T12:24:58.541Z"
   },
   {
    "duration": 7,
    "start_time": "2024-05-23T12:24:58.546Z"
   },
   {
    "duration": 3,
    "start_time": "2024-05-23T12:24:58.555Z"
   },
   {
    "duration": 7,
    "start_time": "2024-05-23T12:24:58.559Z"
   },
   {
    "duration": 3,
    "start_time": "2024-05-23T12:24:58.570Z"
   },
   {
    "duration": 53,
    "start_time": "2024-05-23T12:24:58.574Z"
   },
   {
    "duration": 9,
    "start_time": "2024-05-23T12:24:58.629Z"
   },
   {
    "duration": 3,
    "start_time": "2024-05-23T12:24:58.639Z"
   },
   {
    "duration": 14,
    "start_time": "2024-05-23T12:24:58.643Z"
   },
   {
    "duration": 23,
    "start_time": "2024-05-23T12:24:58.658Z"
   },
   {
    "duration": 35,
    "start_time": "2024-05-23T12:24:58.682Z"
   },
   {
    "duration": 3,
    "start_time": "2024-05-23T12:24:58.718Z"
   },
   {
    "duration": 20,
    "start_time": "2024-05-23T12:24:58.722Z"
   },
   {
    "duration": 5,
    "start_time": "2024-05-23T12:24:58.743Z"
   },
   {
    "duration": 4,
    "start_time": "2024-05-23T12:24:58.749Z"
   },
   {
    "duration": 10,
    "start_time": "2024-05-23T12:24:58.754Z"
   },
   {
    "duration": 5,
    "start_time": "2024-05-23T12:24:58.765Z"
   },
   {
    "duration": 75,
    "start_time": "2024-05-23T12:24:58.771Z"
   },
   {
    "duration": 0,
    "start_time": "2024-05-23T12:24:58.847Z"
   },
   {
    "duration": 0,
    "start_time": "2024-05-23T12:24:58.848Z"
   },
   {
    "duration": 0,
    "start_time": "2024-05-23T12:24:58.849Z"
   },
   {
    "duration": 0,
    "start_time": "2024-05-23T12:24:58.850Z"
   },
   {
    "duration": 0,
    "start_time": "2024-05-23T12:24:58.851Z"
   },
   {
    "duration": 0,
    "start_time": "2024-05-23T12:24:58.851Z"
   },
   {
    "duration": 0,
    "start_time": "2024-05-23T12:24:58.852Z"
   },
   {
    "duration": 0,
    "start_time": "2024-05-23T12:24:58.853Z"
   },
   {
    "duration": 0,
    "start_time": "2024-05-23T12:24:58.854Z"
   },
   {
    "duration": 0,
    "start_time": "2024-05-23T12:24:58.854Z"
   },
   {
    "duration": 0,
    "start_time": "2024-05-23T12:24:58.855Z"
   },
   {
    "duration": 13,
    "start_time": "2024-05-23T12:25:12.965Z"
   },
   {
    "duration": 9,
    "start_time": "2024-05-23T12:25:18.124Z"
   },
   {
    "duration": 23,
    "start_time": "2024-05-23T12:25:20.071Z"
   },
   {
    "duration": 21157,
    "start_time": "2024-05-23T12:25:48.723Z"
   },
   {
    "duration": 23,
    "start_time": "2024-05-23T12:26:43.068Z"
   },
   {
    "duration": 22,
    "start_time": "2024-05-23T12:27:10.599Z"
   },
   {
    "duration": 7,
    "start_time": "2024-05-23T12:27:19.932Z"
   },
   {
    "duration": 2,
    "start_time": "2024-05-23T12:32:56.200Z"
   },
   {
    "duration": 13,
    "start_time": "2024-05-23T12:32:58.650Z"
   },
   {
    "duration": 2,
    "start_time": "2024-05-23T12:33:27.299Z"
   },
   {
    "duration": 23,
    "start_time": "2024-05-23T12:33:29.107Z"
   },
   {
    "duration": 478,
    "start_time": "2024-05-23T12:33:33.592Z"
   },
   {
    "duration": 20,
    "start_time": "2024-05-23T12:33:34.072Z"
   },
   {
    "duration": 13,
    "start_time": "2024-05-23T12:33:34.093Z"
   },
   {
    "duration": 10,
    "start_time": "2024-05-23T12:33:34.108Z"
   },
   {
    "duration": 30,
    "start_time": "2024-05-23T12:33:34.120Z"
   },
   {
    "duration": 3,
    "start_time": "2024-05-23T12:33:34.151Z"
   },
   {
    "duration": 8,
    "start_time": "2024-05-23T12:33:34.156Z"
   },
   {
    "duration": 4,
    "start_time": "2024-05-23T12:33:34.165Z"
   },
   {
    "duration": 7,
    "start_time": "2024-05-23T12:33:34.170Z"
   },
   {
    "duration": 4,
    "start_time": "2024-05-23T12:33:34.179Z"
   },
   {
    "duration": 31,
    "start_time": "2024-05-23T12:33:34.211Z"
   },
   {
    "duration": 8,
    "start_time": "2024-05-23T12:33:34.243Z"
   },
   {
    "duration": 6,
    "start_time": "2024-05-23T12:33:34.252Z"
   },
   {
    "duration": 11,
    "start_time": "2024-05-23T12:33:34.259Z"
   },
   {
    "duration": 42,
    "start_time": "2024-05-23T12:33:34.273Z"
   },
   {
    "duration": 18,
    "start_time": "2024-05-23T12:33:34.316Z"
   },
   {
    "duration": 4,
    "start_time": "2024-05-23T12:33:34.336Z"
   },
   {
    "duration": 10,
    "start_time": "2024-05-23T12:33:34.342Z"
   },
   {
    "duration": 6,
    "start_time": "2024-05-23T12:33:34.353Z"
   },
   {
    "duration": 3,
    "start_time": "2024-05-23T12:33:34.361Z"
   },
   {
    "duration": 46,
    "start_time": "2024-05-23T12:33:34.366Z"
   },
   {
    "duration": 3,
    "start_time": "2024-05-23T12:33:34.413Z"
   },
   {
    "duration": 16,
    "start_time": "2024-05-23T12:33:34.417Z"
   },
   {
    "duration": 2,
    "start_time": "2024-05-23T12:33:34.435Z"
   },
   {
    "duration": 24,
    "start_time": "2024-05-23T12:33:34.439Z"
   },
   {
    "duration": 8,
    "start_time": "2024-05-23T12:33:34.465Z"
   },
   {
    "duration": 54,
    "start_time": "2024-05-23T12:33:34.474Z"
   },
   {
    "duration": 3,
    "start_time": "2024-05-23T12:33:34.532Z"
   },
   {
    "duration": 8,
    "start_time": "2024-05-23T12:33:34.537Z"
   },
   {
    "duration": 17,
    "start_time": "2024-05-23T12:33:34.547Z"
   },
   {
    "duration": 16,
    "start_time": "2024-05-23T12:33:34.565Z"
   },
   {
    "duration": 3,
    "start_time": "2024-05-23T12:33:34.583Z"
   },
   {
    "duration": 7,
    "start_time": "2024-05-23T12:33:34.588Z"
   },
   {
    "duration": 6,
    "start_time": "2024-05-23T12:33:34.611Z"
   },
   {
    "duration": 483,
    "start_time": "2024-05-23T12:35:33.585Z"
   },
   {
    "duration": 21,
    "start_time": "2024-05-23T12:35:34.070Z"
   },
   {
    "duration": 13,
    "start_time": "2024-05-23T12:35:34.092Z"
   },
   {
    "duration": 11,
    "start_time": "2024-05-23T12:35:34.107Z"
   },
   {
    "duration": 35,
    "start_time": "2024-05-23T12:35:34.119Z"
   },
   {
    "duration": 3,
    "start_time": "2024-05-23T12:35:34.156Z"
   },
   {
    "duration": 8,
    "start_time": "2024-05-23T12:35:34.160Z"
   },
   {
    "duration": 4,
    "start_time": "2024-05-23T12:35:34.169Z"
   },
   {
    "duration": 6,
    "start_time": "2024-05-23T12:35:34.175Z"
   },
   {
    "duration": 30,
    "start_time": "2024-05-23T12:35:34.184Z"
   },
   {
    "duration": 31,
    "start_time": "2024-05-23T12:35:34.215Z"
   },
   {
    "duration": 9,
    "start_time": "2024-05-23T12:35:34.248Z"
   },
   {
    "duration": 4,
    "start_time": "2024-05-23T12:35:34.258Z"
   },
   {
    "duration": 12,
    "start_time": "2024-05-23T12:35:34.263Z"
   },
   {
    "duration": 41,
    "start_time": "2024-05-23T12:35:34.277Z"
   },
   {
    "duration": 15,
    "start_time": "2024-05-23T12:35:34.320Z"
   },
   {
    "duration": 3,
    "start_time": "2024-05-23T12:35:34.337Z"
   },
   {
    "duration": 11,
    "start_time": "2024-05-23T12:35:34.341Z"
   },
   {
    "duration": 6,
    "start_time": "2024-05-23T12:35:34.353Z"
   },
   {
    "duration": 3,
    "start_time": "2024-05-23T12:35:34.360Z"
   },
   {
    "duration": 8,
    "start_time": "2024-05-23T12:35:34.364Z"
   },
   {
    "duration": 2,
    "start_time": "2024-05-23T12:35:34.374Z"
   },
   {
    "duration": 46,
    "start_time": "2024-05-23T12:35:34.377Z"
   },
   {
    "duration": 2,
    "start_time": "2024-05-23T12:35:34.424Z"
   },
   {
    "duration": 38,
    "start_time": "2024-05-23T12:35:34.427Z"
   },
   {
    "duration": 7,
    "start_time": "2024-05-23T12:35:34.467Z"
   },
   {
    "duration": 21,
    "start_time": "2024-05-23T12:35:34.475Z"
   },
   {
    "duration": 13,
    "start_time": "2024-05-23T12:35:34.499Z"
   },
   {
    "duration": 6,
    "start_time": "2024-05-23T12:35:34.514Z"
   },
   {
    "duration": 7,
    "start_time": "2024-05-23T12:35:34.521Z"
   },
   {
    "duration": 15,
    "start_time": "2024-05-23T12:35:34.530Z"
   },
   {
    "duration": 3,
    "start_time": "2024-05-23T12:35:34.546Z"
   },
   {
    "duration": 4,
    "start_time": "2024-05-23T12:35:34.550Z"
   },
   {
    "duration": 11,
    "start_time": "2024-05-23T12:35:34.555Z"
   },
   {
    "duration": 13,
    "start_time": "2024-05-23T12:36:56.341Z"
   },
   {
    "duration": 25,
    "start_time": "2024-05-23T12:37:34.092Z"
   },
   {
    "duration": 23,
    "start_time": "2024-05-23T12:38:55.821Z"
   },
   {
    "duration": 33,
    "start_time": "2024-05-23T12:39:26.390Z"
   },
   {
    "duration": 23,
    "start_time": "2024-05-23T12:40:45.276Z"
   },
   {
    "duration": 15,
    "start_time": "2024-05-23T12:41:14.584Z"
   },
   {
    "duration": 15,
    "start_time": "2024-05-23T12:41:49.806Z"
   },
   {
    "duration": 11,
    "start_time": "2024-05-23T12:42:38.917Z"
   },
   {
    "duration": 13,
    "start_time": "2024-05-23T12:42:52.552Z"
   },
   {
    "duration": 14,
    "start_time": "2024-05-23T12:47:48.460Z"
   },
   {
    "duration": 14,
    "start_time": "2024-05-23T12:47:54.637Z"
   },
   {
    "duration": 12,
    "start_time": "2024-05-23T12:48:07.015Z"
   },
   {
    "duration": 1320,
    "start_time": "2024-05-23T13:06:46.027Z"
   },
   {
    "duration": 1060,
    "start_time": "2024-05-23T13:07:27.835Z"
   },
   {
    "duration": 23,
    "start_time": "2024-05-23T13:08:01.459Z"
   },
   {
    "duration": 24,
    "start_time": "2024-05-23T13:08:41.635Z"
   },
   {
    "duration": 23,
    "start_time": "2024-05-23T13:11:16.482Z"
   },
   {
    "duration": 23,
    "start_time": "2024-05-23T13:12:34.701Z"
   },
   {
    "duration": 462,
    "start_time": "2024-05-23T13:14:26.706Z"
   },
   {
    "duration": 22,
    "start_time": "2024-05-23T13:14:27.169Z"
   },
   {
    "duration": 12,
    "start_time": "2024-05-23T13:14:27.193Z"
   },
   {
    "duration": 12,
    "start_time": "2024-05-23T13:14:27.207Z"
   },
   {
    "duration": 29,
    "start_time": "2024-05-23T13:14:27.221Z"
   },
   {
    "duration": 3,
    "start_time": "2024-05-23T13:14:27.251Z"
   },
   {
    "duration": 24,
    "start_time": "2024-05-23T13:14:27.256Z"
   },
   {
    "duration": 11,
    "start_time": "2024-05-23T13:14:27.281Z"
   },
   {
    "duration": 20,
    "start_time": "2024-05-23T13:14:27.293Z"
   },
   {
    "duration": 15,
    "start_time": "2024-05-23T13:14:27.315Z"
   },
   {
    "duration": 32,
    "start_time": "2024-05-23T13:14:27.331Z"
   },
   {
    "duration": 8,
    "start_time": "2024-05-23T13:14:27.365Z"
   },
   {
    "duration": 4,
    "start_time": "2024-05-23T13:14:27.374Z"
   },
   {
    "duration": 11,
    "start_time": "2024-05-23T13:14:27.379Z"
   },
   {
    "duration": 35,
    "start_time": "2024-05-23T13:14:27.391Z"
   },
   {
    "duration": 15,
    "start_time": "2024-05-23T13:14:27.428Z"
   },
   {
    "duration": 3,
    "start_time": "2024-05-23T13:14:27.445Z"
   },
   {
    "duration": 26,
    "start_time": "2024-05-23T13:14:27.449Z"
   },
   {
    "duration": 10,
    "start_time": "2024-05-23T13:14:27.476Z"
   },
   {
    "duration": 3,
    "start_time": "2024-05-23T13:14:27.488Z"
   },
   {
    "duration": 12,
    "start_time": "2024-05-23T13:14:27.492Z"
   },
   {
    "duration": 16,
    "start_time": "2024-05-23T13:14:27.506Z"
   },
   {
    "duration": 25,
    "start_time": "2024-05-23T13:14:27.523Z"
   },
   {
    "duration": 11,
    "start_time": "2024-05-23T13:14:27.549Z"
   },
   {
    "duration": 23,
    "start_time": "2024-05-23T13:14:27.561Z"
   },
   {
    "duration": 417,
    "start_time": "2024-05-23T13:15:23.752Z"
   },
   {
    "duration": 21,
    "start_time": "2024-05-23T13:15:24.171Z"
   },
   {
    "duration": 19,
    "start_time": "2024-05-23T13:15:24.194Z"
   },
   {
    "duration": 22,
    "start_time": "2024-05-23T13:15:24.215Z"
   },
   {
    "duration": 34,
    "start_time": "2024-05-23T13:15:24.238Z"
   },
   {
    "duration": 4,
    "start_time": "2024-05-23T13:15:24.273Z"
   },
   {
    "duration": 12,
    "start_time": "2024-05-23T13:15:24.278Z"
   },
   {
    "duration": 4,
    "start_time": "2024-05-23T13:15:24.291Z"
   },
   {
    "duration": 7,
    "start_time": "2024-05-23T13:15:24.311Z"
   },
   {
    "duration": 5,
    "start_time": "2024-05-23T13:15:24.320Z"
   },
   {
    "duration": 31,
    "start_time": "2024-05-23T13:15:24.326Z"
   },
   {
    "duration": 9,
    "start_time": "2024-05-23T13:15:24.358Z"
   },
   {
    "duration": 18,
    "start_time": "2024-05-23T13:15:24.368Z"
   },
   {
    "duration": 25,
    "start_time": "2024-05-23T13:15:24.388Z"
   },
   {
    "duration": 20,
    "start_time": "2024-05-23T13:15:24.414Z"
   },
   {
    "duration": 15,
    "start_time": "2024-05-23T13:15:24.435Z"
   },
   {
    "duration": 3,
    "start_time": "2024-05-23T13:15:24.452Z"
   },
   {
    "duration": 10,
    "start_time": "2024-05-23T13:15:24.457Z"
   },
   {
    "duration": 9,
    "start_time": "2024-05-23T13:15:24.468Z"
   },
   {
    "duration": 3,
    "start_time": "2024-05-23T13:15:24.478Z"
   },
   {
    "duration": 32,
    "start_time": "2024-05-23T13:15:24.483Z"
   },
   {
    "duration": 23,
    "start_time": "2024-05-23T13:15:24.516Z"
   },
   {
    "duration": 23,
    "start_time": "2024-05-23T13:15:24.540Z"
   },
   {
    "duration": 12,
    "start_time": "2024-05-23T13:15:24.564Z"
   },
   {
    "duration": 49,
    "start_time": "2024-05-23T13:15:24.578Z"
   },
   {
    "duration": 7,
    "start_time": "2024-05-23T13:15:41.332Z"
   },
   {
    "duration": 10,
    "start_time": "2024-05-23T13:15:41.902Z"
   },
   {
    "duration": 9,
    "start_time": "2024-05-23T13:16:14.658Z"
   },
   {
    "duration": 20,
    "start_time": "2024-05-23T13:16:17.360Z"
   },
   {
    "duration": 7,
    "start_time": "2024-05-23T13:16:54.583Z"
   },
   {
    "duration": 10,
    "start_time": "2024-05-23T13:17:03.466Z"
   },
   {
    "duration": 11,
    "start_time": "2024-05-23T13:17:06.034Z"
   },
   {
    "duration": 10,
    "start_time": "2024-05-23T13:17:08.017Z"
   },
   {
    "duration": 56,
    "start_time": "2024-05-23T13:17:57.148Z"
   },
   {
    "duration": 8,
    "start_time": "2024-05-23T13:18:12.665Z"
   },
   {
    "duration": 18,
    "start_time": "2024-05-23T13:18:13.734Z"
   },
   {
    "duration": 439,
    "start_time": "2024-05-23T13:19:10.256Z"
   },
   {
    "duration": 27,
    "start_time": "2024-05-23T13:19:10.697Z"
   },
   {
    "duration": 13,
    "start_time": "2024-05-23T13:19:10.725Z"
   },
   {
    "duration": 8,
    "start_time": "2024-05-23T13:19:10.740Z"
   },
   {
    "duration": 29,
    "start_time": "2024-05-23T13:19:10.749Z"
   },
   {
    "duration": 3,
    "start_time": "2024-05-23T13:19:10.779Z"
   },
   {
    "duration": 34,
    "start_time": "2024-05-23T13:19:10.783Z"
   },
   {
    "duration": 4,
    "start_time": "2024-05-23T13:19:10.818Z"
   },
   {
    "duration": 9,
    "start_time": "2024-05-23T13:19:10.824Z"
   },
   {
    "duration": 4,
    "start_time": "2024-05-23T13:19:10.837Z"
   },
   {
    "duration": 32,
    "start_time": "2024-05-23T13:19:10.843Z"
   },
   {
    "duration": 36,
    "start_time": "2024-05-23T13:19:10.877Z"
   },
   {
    "duration": 4,
    "start_time": "2024-05-23T13:19:10.915Z"
   },
   {
    "duration": 12,
    "start_time": "2024-05-23T13:19:10.920Z"
   },
   {
    "duration": 28,
    "start_time": "2024-05-23T13:19:10.934Z"
   },
   {
    "duration": 16,
    "start_time": "2024-05-23T13:19:10.963Z"
   },
   {
    "duration": 4,
    "start_time": "2024-05-23T13:19:10.981Z"
   },
   {
    "duration": 35,
    "start_time": "2024-05-23T13:19:10.986Z"
   },
   {
    "duration": 7,
    "start_time": "2024-05-23T13:19:11.023Z"
   },
   {
    "duration": 4,
    "start_time": "2024-05-23T13:19:11.031Z"
   },
   {
    "duration": 10,
    "start_time": "2024-05-23T13:19:11.037Z"
   },
   {
    "duration": 7,
    "start_time": "2024-05-23T13:19:11.048Z"
   },
   {
    "duration": 10,
    "start_time": "2024-05-23T13:19:11.056Z"
   },
   {
    "duration": 13,
    "start_time": "2024-05-23T13:19:11.067Z"
   },
   {
    "duration": 41,
    "start_time": "2024-05-23T13:19:11.081Z"
   },
   {
    "duration": 10,
    "start_time": "2024-05-23T13:19:11.124Z"
   },
   {
    "duration": 11,
    "start_time": "2024-05-23T13:19:11.135Z"
   },
   {
    "duration": 16,
    "start_time": "2024-05-23T13:19:11.148Z"
   },
   {
    "duration": 17,
    "start_time": "2024-05-23T13:19:11.166Z"
   },
   {
    "duration": 7,
    "start_time": "2024-05-23T13:21:25.852Z"
   },
   {
    "duration": 10,
    "start_time": "2024-05-23T13:21:26.444Z"
   },
   {
    "duration": 69,
    "start_time": "2024-05-23T13:22:07.109Z"
   },
   {
    "duration": 10,
    "start_time": "2024-05-23T13:22:08.534Z"
   },
   {
    "duration": 7,
    "start_time": "2024-05-23T13:22:12.612Z"
   },
   {
    "duration": 9,
    "start_time": "2024-05-23T13:22:14.385Z"
   },
   {
    "duration": 468,
    "start_time": "2024-05-23T13:53:38.597Z"
   },
   {
    "duration": 21,
    "start_time": "2024-05-23T13:53:39.067Z"
   },
   {
    "duration": 15,
    "start_time": "2024-05-23T13:53:39.090Z"
   },
   {
    "duration": 10,
    "start_time": "2024-05-23T13:53:39.111Z"
   },
   {
    "duration": 34,
    "start_time": "2024-05-23T13:53:39.122Z"
   },
   {
    "duration": 3,
    "start_time": "2024-05-23T13:53:39.158Z"
   },
   {
    "duration": 16,
    "start_time": "2024-05-23T13:53:39.162Z"
   },
   {
    "duration": 3,
    "start_time": "2024-05-23T13:53:39.179Z"
   },
   {
    "duration": 7,
    "start_time": "2024-05-23T13:53:39.183Z"
   },
   {
    "duration": 4,
    "start_time": "2024-05-23T13:53:39.211Z"
   },
   {
    "duration": 31,
    "start_time": "2024-05-23T13:53:39.217Z"
   },
   {
    "duration": 8,
    "start_time": "2024-05-23T13:53:39.249Z"
   },
   {
    "duration": 5,
    "start_time": "2024-05-23T13:53:39.258Z"
   },
   {
    "duration": 13,
    "start_time": "2024-05-23T13:53:39.265Z"
   },
   {
    "duration": 40,
    "start_time": "2024-05-23T13:53:39.279Z"
   },
   {
    "duration": 16,
    "start_time": "2024-05-23T13:53:39.320Z"
   },
   {
    "duration": 4,
    "start_time": "2024-05-23T13:53:39.337Z"
   },
   {
    "duration": 12,
    "start_time": "2024-05-23T13:53:39.342Z"
   },
   {
    "duration": 6,
    "start_time": "2024-05-23T13:53:39.355Z"
   },
   {
    "duration": 3,
    "start_time": "2024-05-23T13:53:39.362Z"
   },
   {
    "duration": 8,
    "start_time": "2024-05-23T13:53:39.366Z"
   },
   {
    "duration": 16,
    "start_time": "2024-05-23T13:53:39.375Z"
   },
   {
    "duration": 27,
    "start_time": "2024-05-23T13:53:39.393Z"
   },
   {
    "duration": 8,
    "start_time": "2024-05-23T13:53:39.421Z"
   },
   {
    "duration": 18,
    "start_time": "2024-05-23T13:53:39.430Z"
   },
   {
    "duration": 6,
    "start_time": "2024-05-23T13:53:39.450Z"
   },
   {
    "duration": 17,
    "start_time": "2024-05-23T13:53:39.458Z"
   },
   {
    "duration": 11,
    "start_time": "2024-05-23T13:53:39.477Z"
   },
   {
    "duration": 39,
    "start_time": "2024-05-23T13:53:39.489Z"
   },
   {
    "duration": 54,
    "start_time": "2024-05-24T09:30:14.532Z"
   },
   {
    "duration": 567,
    "start_time": "2024-05-24T09:30:20.874Z"
   },
   {
    "duration": 21,
    "start_time": "2024-05-24T09:30:21.443Z"
   },
   {
    "duration": 20,
    "start_time": "2024-05-24T09:30:21.466Z"
   },
   {
    "duration": 26,
    "start_time": "2024-05-24T09:30:21.488Z"
   },
   {
    "duration": 47,
    "start_time": "2024-05-24T09:30:21.516Z"
   },
   {
    "duration": 3,
    "start_time": "2024-05-24T09:30:21.564Z"
   },
   {
    "duration": 28,
    "start_time": "2024-05-24T09:30:21.569Z"
   },
   {
    "duration": 9,
    "start_time": "2024-05-24T09:30:21.599Z"
   },
   {
    "duration": 34,
    "start_time": "2024-05-24T09:30:21.610Z"
   },
   {
    "duration": 17,
    "start_time": "2024-05-24T09:30:21.647Z"
   },
   {
    "duration": 67,
    "start_time": "2024-05-24T09:30:21.666Z"
   },
   {
    "duration": 9,
    "start_time": "2024-05-24T09:30:21.735Z"
   },
   {
    "duration": 24,
    "start_time": "2024-05-24T09:30:21.746Z"
   },
   {
    "duration": 29,
    "start_time": "2024-05-24T09:30:21.772Z"
   },
   {
    "duration": 28,
    "start_time": "2024-05-24T09:30:21.803Z"
   },
   {
    "duration": 22,
    "start_time": "2024-05-24T09:30:21.832Z"
   },
   {
    "duration": 9,
    "start_time": "2024-05-24T09:30:21.855Z"
   },
   {
    "duration": 38,
    "start_time": "2024-05-24T09:30:21.865Z"
   },
   {
    "duration": 12,
    "start_time": "2024-05-24T09:30:21.904Z"
   },
   {
    "duration": 15,
    "start_time": "2024-05-24T09:30:21.918Z"
   },
   {
    "duration": 38,
    "start_time": "2024-05-24T09:30:21.935Z"
   },
   {
    "duration": 21,
    "start_time": "2024-05-24T09:30:21.975Z"
   },
   {
    "duration": 39,
    "start_time": "2024-05-24T09:30:21.998Z"
   },
   {
    "duration": 17,
    "start_time": "2024-05-24T09:30:22.039Z"
   },
   {
    "duration": 46,
    "start_time": "2024-05-24T09:30:22.058Z"
   },
   {
    "duration": 25,
    "start_time": "2024-05-24T09:30:22.105Z"
   },
   {
    "duration": 22,
    "start_time": "2024-05-24T09:30:22.131Z"
   },
   {
    "duration": 26,
    "start_time": "2024-05-24T09:30:22.156Z"
   },
   {
    "duration": 40,
    "start_time": "2024-05-24T09:30:22.184Z"
   },
   {
    "duration": 41,
    "start_time": "2024-05-24T09:30:22.225Z"
   },
   {
    "duration": 12,
    "start_time": "2024-05-24T09:30:38.111Z"
   },
   {
    "duration": 13,
    "start_time": "2024-05-24T09:30:44.867Z"
   },
   {
    "duration": 12,
    "start_time": "2024-05-24T09:30:48.523Z"
   }
  ],
  "colab": {
   "provenance": []
  },
  "kernelspec": {
   "display_name": "Python 3 (ipykernel)",
   "language": "python",
   "name": "python3"
  },
  "language_info": {
   "codemirror_mode": {
    "name": "ipython",
    "version": 3
   },
   "file_extension": ".py",
   "mimetype": "text/x-python",
   "name": "python",
   "nbconvert_exporter": "python",
   "pygments_lexer": "ipython3",
   "version": "3.11.5"
  },
  "toc": {
   "base_numbering": 1,
   "nav_menu": {},
   "number_sections": true,
   "sideBar": true,
   "skip_h1_title": true,
   "title_cell": "Table of Contents",
   "title_sidebar": "Contents",
   "toc_cell": false,
   "toc_position": {},
   "toc_section_display": true,
   "toc_window_display": false
  }
 },
 "nbformat": 4,
 "nbformat_minor": 5
}
