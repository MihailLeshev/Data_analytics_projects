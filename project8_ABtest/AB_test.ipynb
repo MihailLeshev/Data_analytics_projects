{
 "cells": [
  {
   "cell_type": "markdown",
   "id": "88bb5cf1",
   "metadata": {},
   "source": [
    "## Приоритизация и тестирование гипотез для увеличения выручки крупного интернет-магазина"
   ]
  },
  {
   "cell_type": "markdown",
   "id": "e4b9178d",
   "metadata": {},
   "source": [
    "Вместе с отделом маркетинга мы подготовили список гипотез для увеличения выручки.\n",
    "В нашем распоряжении есть данные о гипотезах, заказах и о поситителях."
   ]
  },
  {
   "cell_type": "markdown",
   "id": "465c6bf2",
   "metadata": {},
   "source": [
    "**Цель исследования:** Увеличить выручку крупного интернета-магазина. Провести анализ A/B теста. "
   ]
  },
  {
   "cell_type": "markdown",
   "id": "ec3065c0",
   "metadata": {},
   "source": [
    "**Ход исследования:**\n",
    "- Шаг 1 - Приоритизация гипотез\n",
    "- Шаг 2 - Анализ A/B-теста\n",
    "\n",
    "В ходе эскперимента для анализа гипотез мы восползуемся следующими метриками: \n",
    "- ICE — это метод приоритизации гипотез, который помогает определить, какие гипотезы стоит проверить в первую очередь.\n",
    "- RICE — это метод приоритизации гипотез, который помогает определить, какие из них наиболее важны и заслуживают внимания.\n",
    "\n",
    "Для анализа A/B теста такие параметры как: \n",
    "\n",
    "- Кумулятивную выручку по группам\n",
    "- Кумулятивный средний чек по группам\n",
    "- Относительного изменение кумулятивного среднего чека группы B к группе A\n",
    "- Кумулятивное среднее количество заказов на посетителя по группам\n",
    "- Относительное изменение кумулятивное среднего количества заказов на посетителя группы B к группе A\n",
    "- Количества заказов по пользователя\n",
    "- Посчитаем 95-й и 99-й перцентили количества заказов на пользователя для определения аномальных пользователей\n",
    "- Посчитайем 95-й и 99-й перцентили стоимости заказов для определения аномальных пользователей\n",
    "- Посчитаем статистическую значимость различий в среднем количестве заказов на посетителя между группами по «сырым» и \"отфильтрованным\" данным.\n",
    "- Посчитайте статистическую значимость различий в среднем чеке заказа между группами по «сырым» и \"отфильтрованным\" данным"
   ]
  },
  {
   "cell_type": "markdown",
   "id": "7fac5c73",
   "metadata": {},
   "source": [
    "## Загрузим данные и подготовим их к анализу"
   ]
  },
  {
   "cell_type": "code",
   "execution_count": 1,
   "id": "7a1d8ee5",
   "metadata": {},
   "outputs": [],
   "source": [
    "import pandas as pd\n",
    "import datetime as dt\n",
    "import scipy.stats as stats\n",
    "import seaborn as sns\n",
    "import matplotlib.pyplot as plt\n",
    "import numpy as np"
   ]
  },
  {
   "cell_type": "code",
   "execution_count": 2,
   "id": "8d531012",
   "metadata": {},
   "outputs": [],
   "source": [
    "try:\n",
    "    hypothesis = pd.read_csv('/datasets/hypothesis.csv',sep=',')\n",
    "    orders = pd.read_csv('/datasets/orders.csv',sep=',')\n",
    "    visitors = pd.read_csv('/datasets/visitors.csv',sep=',')\n",
    "except:\n",
    "    hypothesis = pd.read_csv('/Users/a0000/Documents/Analitic/All_projects/project8_ABtest/datasets/hypothesis.csv',sep=',')\n",
    "    orders = pd.read_csv('/Users/a0000/Documents/Analitic/All_projects/project8_ABtest/datasets/orders.csv',sep=',')\n",
    "    visitors = pd.read_csv('/Users/a0000/Documents/Analitic/All_projects/project8_ABtest/datasets/visitors.csv',sep=',')"
   ]
  },
  {
   "cell_type": "markdown",
   "id": "0e3e3513",
   "metadata": {},
   "source": [
    "Выведем таблицы и изучим их"
   ]
  },
  {
   "cell_type": "code",
   "execution_count": 3,
   "id": "73e7c839",
   "metadata": {},
   "outputs": [],
   "source": [
    "pd.set_option('display.max_colwidth', None)"
   ]
  },
  {
   "cell_type": "code",
   "execution_count": 4,
   "id": "923471b3",
   "metadata": {},
   "outputs": [
    {
     "data": {
      "text/html": [
       "<div>\n",
       "<style scoped>\n",
       "    .dataframe tbody tr th:only-of-type {\n",
       "        vertical-align: middle;\n",
       "    }\n",
       "\n",
       "    .dataframe tbody tr th {\n",
       "        vertical-align: top;\n",
       "    }\n",
       "\n",
       "    .dataframe thead th {\n",
       "        text-align: right;\n",
       "    }\n",
       "</style>\n",
       "<table border=\"1\" class=\"dataframe\">\n",
       "  <thead>\n",
       "    <tr style=\"text-align: right;\">\n",
       "      <th></th>\n",
       "      <th>Hypothesis</th>\n",
       "      <th>Reach</th>\n",
       "      <th>Impact</th>\n",
       "      <th>Confidence</th>\n",
       "      <th>Efforts</th>\n",
       "    </tr>\n",
       "  </thead>\n",
       "  <tbody>\n",
       "    <tr>\n",
       "      <th>0</th>\n",
       "      <td>Добавить два новых канала привлечения трафика, что позволит привлекать на 30% больше пользователей</td>\n",
       "      <td>3</td>\n",
       "      <td>10</td>\n",
       "      <td>8</td>\n",
       "      <td>6</td>\n",
       "    </tr>\n",
       "    <tr>\n",
       "      <th>1</th>\n",
       "      <td>Запустить собственную службу доставки, что сократит срок доставки заказов</td>\n",
       "      <td>2</td>\n",
       "      <td>5</td>\n",
       "      <td>4</td>\n",
       "      <td>10</td>\n",
       "    </tr>\n",
       "    <tr>\n",
       "      <th>2</th>\n",
       "      <td>Добавить блоки рекомендаций товаров на сайт интернет магазина, чтобы повысить конверсию и средний чек заказа</td>\n",
       "      <td>8</td>\n",
       "      <td>3</td>\n",
       "      <td>7</td>\n",
       "      <td>3</td>\n",
       "    </tr>\n",
       "    <tr>\n",
       "      <th>3</th>\n",
       "      <td>Изменить структура категорий, что увеличит конверсию, т.к. пользователи быстрее найдут нужный товар</td>\n",
       "      <td>8</td>\n",
       "      <td>3</td>\n",
       "      <td>3</td>\n",
       "      <td>8</td>\n",
       "    </tr>\n",
       "    <tr>\n",
       "      <th>4</th>\n",
       "      <td>Изменить цвет фона главной страницы, чтобы увеличить вовлеченность пользователей</td>\n",
       "      <td>3</td>\n",
       "      <td>1</td>\n",
       "      <td>1</td>\n",
       "      <td>1</td>\n",
       "    </tr>\n",
       "    <tr>\n",
       "      <th>5</th>\n",
       "      <td>Добавить страницу отзывов клиентов о магазине, что позволит увеличить количество заказов</td>\n",
       "      <td>3</td>\n",
       "      <td>2</td>\n",
       "      <td>2</td>\n",
       "      <td>3</td>\n",
       "    </tr>\n",
       "    <tr>\n",
       "      <th>6</th>\n",
       "      <td>Показать на главной странице баннеры с актуальными акциями и распродажами, чтобы увеличить конверсию</td>\n",
       "      <td>5</td>\n",
       "      <td>3</td>\n",
       "      <td>8</td>\n",
       "      <td>3</td>\n",
       "    </tr>\n",
       "    <tr>\n",
       "      <th>7</th>\n",
       "      <td>Добавить форму подписки на все основные страницы, чтобы собрать базу клиентов для email-рассылок</td>\n",
       "      <td>10</td>\n",
       "      <td>7</td>\n",
       "      <td>8</td>\n",
       "      <td>5</td>\n",
       "    </tr>\n",
       "    <tr>\n",
       "      <th>8</th>\n",
       "      <td>Запустить акцию, дающую скидку на товар в день рождения</td>\n",
       "      <td>1</td>\n",
       "      <td>9</td>\n",
       "      <td>9</td>\n",
       "      <td>5</td>\n",
       "    </tr>\n",
       "  </tbody>\n",
       "</table>\n",
       "</div>"
      ],
      "text/plain": [
       "                                                                                                     Hypothesis  \\\n",
       "0            Добавить два новых канала привлечения трафика, что позволит привлекать на 30% больше пользователей   \n",
       "1                                     Запустить собственную службу доставки, что сократит срок доставки заказов   \n",
       "2  Добавить блоки рекомендаций товаров на сайт интернет магазина, чтобы повысить конверсию и средний чек заказа   \n",
       "3           Изменить структура категорий, что увеличит конверсию, т.к. пользователи быстрее найдут нужный товар   \n",
       "4                              Изменить цвет фона главной страницы, чтобы увеличить вовлеченность пользователей   \n",
       "5                      Добавить страницу отзывов клиентов о магазине, что позволит увеличить количество заказов   \n",
       "6          Показать на главной странице баннеры с актуальными акциями и распродажами, чтобы увеличить конверсию   \n",
       "7              Добавить форму подписки на все основные страницы, чтобы собрать базу клиентов для email-рассылок   \n",
       "8                                                       Запустить акцию, дающую скидку на товар в день рождения   \n",
       "\n",
       "   Reach  Impact  Confidence  Efforts  \n",
       "0      3      10           8        6  \n",
       "1      2       5           4       10  \n",
       "2      8       3           7        3  \n",
       "3      8       3           3        8  \n",
       "4      3       1           1        1  \n",
       "5      3       2           2        3  \n",
       "6      5       3           8        3  \n",
       "7     10       7           8        5  \n",
       "8      1       9           9        5  "
      ]
     },
     "execution_count": 4,
     "metadata": {},
     "output_type": "execute_result"
    }
   ],
   "source": [
    "hypothesis"
   ]
  },
  {
   "cell_type": "code",
   "execution_count": 5,
   "id": "d1e38a97",
   "metadata": {},
   "outputs": [
    {
     "data": {
      "text/html": [
       "<div>\n",
       "<style scoped>\n",
       "    .dataframe tbody tr th:only-of-type {\n",
       "        vertical-align: middle;\n",
       "    }\n",
       "\n",
       "    .dataframe tbody tr th {\n",
       "        vertical-align: top;\n",
       "    }\n",
       "\n",
       "    .dataframe thead th {\n",
       "        text-align: right;\n",
       "    }\n",
       "</style>\n",
       "<table border=\"1\" class=\"dataframe\">\n",
       "  <thead>\n",
       "    <tr style=\"text-align: right;\">\n",
       "      <th></th>\n",
       "      <th>transactionId</th>\n",
       "      <th>visitorId</th>\n",
       "      <th>date</th>\n",
       "      <th>revenue</th>\n",
       "      <th>group</th>\n",
       "    </tr>\n",
       "  </thead>\n",
       "  <tbody>\n",
       "    <tr>\n",
       "      <th>0</th>\n",
       "      <td>3667963787</td>\n",
       "      <td>3312258926</td>\n",
       "      <td>2019-08-15</td>\n",
       "      <td>1650</td>\n",
       "      <td>B</td>\n",
       "    </tr>\n",
       "    <tr>\n",
       "      <th>1</th>\n",
       "      <td>2804400009</td>\n",
       "      <td>3642806036</td>\n",
       "      <td>2019-08-15</td>\n",
       "      <td>730</td>\n",
       "      <td>B</td>\n",
       "    </tr>\n",
       "  </tbody>\n",
       "</table>\n",
       "</div>"
      ],
      "text/plain": [
       "   transactionId   visitorId        date  revenue group\n",
       "0     3667963787  3312258926  2019-08-15     1650     B\n",
       "1     2804400009  3642806036  2019-08-15      730     B"
      ]
     },
     "execution_count": 5,
     "metadata": {},
     "output_type": "execute_result"
    }
   ],
   "source": [
    "orders.head(2)"
   ]
  },
  {
   "cell_type": "code",
   "execution_count": 6,
   "id": "8e0fdf01",
   "metadata": {},
   "outputs": [
    {
     "data": {
      "text/html": [
       "<div>\n",
       "<style scoped>\n",
       "    .dataframe tbody tr th:only-of-type {\n",
       "        vertical-align: middle;\n",
       "    }\n",
       "\n",
       "    .dataframe tbody tr th {\n",
       "        vertical-align: top;\n",
       "    }\n",
       "\n",
       "    .dataframe thead th {\n",
       "        text-align: right;\n",
       "    }\n",
       "</style>\n",
       "<table border=\"1\" class=\"dataframe\">\n",
       "  <thead>\n",
       "    <tr style=\"text-align: right;\">\n",
       "      <th></th>\n",
       "      <th>date</th>\n",
       "      <th>group</th>\n",
       "      <th>visitors</th>\n",
       "    </tr>\n",
       "  </thead>\n",
       "  <tbody>\n",
       "    <tr>\n",
       "      <th>0</th>\n",
       "      <td>2019-08-01</td>\n",
       "      <td>A</td>\n",
       "      <td>719</td>\n",
       "    </tr>\n",
       "    <tr>\n",
       "      <th>1</th>\n",
       "      <td>2019-08-02</td>\n",
       "      <td>A</td>\n",
       "      <td>619</td>\n",
       "    </tr>\n",
       "  </tbody>\n",
       "</table>\n",
       "</div>"
      ],
      "text/plain": [
       "         date group  visitors\n",
       "0  2019-08-01     A       719\n",
       "1  2019-08-02     A       619"
      ]
     },
     "execution_count": 6,
     "metadata": {},
     "output_type": "execute_result"
    }
   ],
   "source": [
    "visitors.head(2)"
   ]
  },
  {
   "cell_type": "markdown",
   "id": "87429273",
   "metadata": {},
   "source": [
    "Приведем столбцы date к типу данных datetime64[ns]"
   ]
  },
  {
   "cell_type": "code",
   "execution_count": 7,
   "id": "7caa447f",
   "metadata": {},
   "outputs": [],
   "source": [
    "orders['date'] = pd.to_datetime(orders['date'])"
   ]
  },
  {
   "cell_type": "code",
   "execution_count": 8,
   "id": "739afb9c",
   "metadata": {},
   "outputs": [],
   "source": [
    "visitors['date'] = pd.to_datetime(visitors['date'])"
   ]
  },
  {
   "cell_type": "markdown",
   "id": "ad81c21d",
   "metadata": {},
   "source": [
    "В таблицe hypothesis названия столбцов приведем к нижнему регистру. "
   ]
  },
  {
   "cell_type": "code",
   "execution_count": 9,
   "id": "4b4f827d",
   "metadata": {},
   "outputs": [],
   "source": [
    "hypothesis.columns = hypothesis.columns.str.lower().str.replace(' ', '_')"
   ]
  },
  {
   "cell_type": "markdown",
   "id": "fc019250",
   "metadata": {},
   "source": [
    "Вывод информации для каждого DataFrame"
   ]
  },
  {
   "cell_type": "code",
   "execution_count": 10,
   "id": "2717c257",
   "metadata": {},
   "outputs": [
    {
     "name": "stdout",
     "output_type": "stream",
     "text": [
      "<class 'pandas.core.frame.DataFrame'>\n",
      "RangeIndex: 9 entries, 0 to 8\n",
      "Data columns (total 5 columns):\n",
      " #   Column      Non-Null Count  Dtype \n",
      "---  ------      --------------  ----- \n",
      " 0   hypothesis  9 non-null      object\n",
      " 1   reach       9 non-null      int64 \n",
      " 2   impact      9 non-null      int64 \n",
      " 3   confidence  9 non-null      int64 \n",
      " 4   efforts     9 non-null      int64 \n",
      "dtypes: int64(4), object(1)\n",
      "memory usage: 492.0+ bytes\n",
      "\n",
      "<class 'pandas.core.frame.DataFrame'>\n",
      "RangeIndex: 1197 entries, 0 to 1196\n",
      "Data columns (total 5 columns):\n",
      " #   Column         Non-Null Count  Dtype         \n",
      "---  ------         --------------  -----         \n",
      " 0   transactionId  1197 non-null   int64         \n",
      " 1   visitorId      1197 non-null   int64         \n",
      " 2   date           1197 non-null   datetime64[ns]\n",
      " 3   revenue        1197 non-null   int64         \n",
      " 4   group          1197 non-null   object        \n",
      "dtypes: datetime64[ns](1), int64(3), object(1)\n",
      "memory usage: 46.9+ KB\n",
      "\n",
      "<class 'pandas.core.frame.DataFrame'>\n",
      "RangeIndex: 62 entries, 0 to 61\n",
      "Data columns (total 3 columns):\n",
      " #   Column    Non-Null Count  Dtype         \n",
      "---  ------    --------------  -----         \n",
      " 0   date      62 non-null     datetime64[ns]\n",
      " 1   group     62 non-null     object        \n",
      " 2   visitors  62 non-null     int64         \n",
      "dtypes: datetime64[ns](1), int64(1), object(1)\n",
      "memory usage: 1.6+ KB\n",
      "\n"
     ]
    }
   ],
   "source": [
    "items = [hypothesis ,orders ,visitors]\n",
    "\n",
    "\n",
    "for item in items:\n",
    "    item.info()\n",
    "    print()"
   ]
  },
  {
   "cell_type": "markdown",
   "id": "d41384b0",
   "metadata": {},
   "source": [
    "**Промежуточный вывод:** Мы загрузили данные, пропусков не обнаружено, тип данных в столбцах date изменен с object на datetime64[ns], колонки в таблицу hypothesis приведены к нижнему регистру."
   ]
  },
  {
   "cell_type": "markdown",
   "id": "57245cc9",
   "metadata": {},
   "source": [
    "## Часть 1. Приоритизация гипотез."
   ]
  },
  {
   "cell_type": "markdown",
   "id": "0ee53c37",
   "metadata": {},
   "source": [
    "В файле /datasets/hypothesis.csv 9 гипотез по увеличению выручки интернет-магазина с указанными параметрами Reach, Impact, Confidence, Effort."
   ]
  },
  {
   "cell_type": "markdown",
   "id": "6f3f927e",
   "metadata": {},
   "source": [
    "### Примените фреймворк ICE для приоритизации гипотез. Отсортируйте их по убыванию приоритета."
   ]
  },
  {
   "cell_type": "code",
   "execution_count": 11,
   "id": "02efead3",
   "metadata": {},
   "outputs": [],
   "source": [
    "pd.set_option('display.max_colwidth', None)"
   ]
  },
  {
   "cell_type": "markdown",
   "id": "bb9f78b3",
   "metadata": {},
   "source": [
    "ICE — это метод приоритизации гипотез, который помогает определить, какие гипотезы стоит проверить в первую очередь. ICE (от англ. impact, confidence, effort / ease «влияние, уверенность, усилия / простота»)"
   ]
  },
  {
   "cell_type": "code",
   "execution_count": 12,
   "id": "1869992d",
   "metadata": {},
   "outputs": [
    {
     "data": {
      "text/html": [
       "<div>\n",
       "<style scoped>\n",
       "    .dataframe tbody tr th:only-of-type {\n",
       "        vertical-align: middle;\n",
       "    }\n",
       "\n",
       "    .dataframe tbody tr th {\n",
       "        vertical-align: top;\n",
       "    }\n",
       "\n",
       "    .dataframe thead th {\n",
       "        text-align: right;\n",
       "    }\n",
       "</style>\n",
       "<table border=\"1\" class=\"dataframe\">\n",
       "  <thead>\n",
       "    <tr style=\"text-align: right;\">\n",
       "      <th></th>\n",
       "      <th>hypothesis</th>\n",
       "      <th>reach</th>\n",
       "      <th>impact</th>\n",
       "      <th>confidence</th>\n",
       "      <th>efforts</th>\n",
       "      <th>ICE</th>\n",
       "    </tr>\n",
       "  </thead>\n",
       "  <tbody>\n",
       "    <tr>\n",
       "      <th>8</th>\n",
       "      <td>Запустить акцию, дающую скидку на товар в день рождения</td>\n",
       "      <td>1</td>\n",
       "      <td>9</td>\n",
       "      <td>9</td>\n",
       "      <td>5</td>\n",
       "      <td>16.20</td>\n",
       "    </tr>\n",
       "    <tr>\n",
       "      <th>0</th>\n",
       "      <td>Добавить два новых канала привлечения трафика, что позволит привлекать на 30% больше пользователей</td>\n",
       "      <td>3</td>\n",
       "      <td>10</td>\n",
       "      <td>8</td>\n",
       "      <td>6</td>\n",
       "      <td>13.33</td>\n",
       "    </tr>\n",
       "    <tr>\n",
       "      <th>7</th>\n",
       "      <td>Добавить форму подписки на все основные страницы, чтобы собрать базу клиентов для email-рассылок</td>\n",
       "      <td>10</td>\n",
       "      <td>7</td>\n",
       "      <td>8</td>\n",
       "      <td>5</td>\n",
       "      <td>11.20</td>\n",
       "    </tr>\n",
       "    <tr>\n",
       "      <th>6</th>\n",
       "      <td>Показать на главной странице баннеры с актуальными акциями и распродажами, чтобы увеличить конверсию</td>\n",
       "      <td>5</td>\n",
       "      <td>3</td>\n",
       "      <td>8</td>\n",
       "      <td>3</td>\n",
       "      <td>8.00</td>\n",
       "    </tr>\n",
       "    <tr>\n",
       "      <th>2</th>\n",
       "      <td>Добавить блоки рекомендаций товаров на сайт интернет магазина, чтобы повысить конверсию и средний чек заказа</td>\n",
       "      <td>8</td>\n",
       "      <td>3</td>\n",
       "      <td>7</td>\n",
       "      <td>3</td>\n",
       "      <td>7.00</td>\n",
       "    </tr>\n",
       "    <tr>\n",
       "      <th>1</th>\n",
       "      <td>Запустить собственную службу доставки, что сократит срок доставки заказов</td>\n",
       "      <td>2</td>\n",
       "      <td>5</td>\n",
       "      <td>4</td>\n",
       "      <td>10</td>\n",
       "      <td>2.00</td>\n",
       "    </tr>\n",
       "    <tr>\n",
       "      <th>5</th>\n",
       "      <td>Добавить страницу отзывов клиентов о магазине, что позволит увеличить количество заказов</td>\n",
       "      <td>3</td>\n",
       "      <td>2</td>\n",
       "      <td>2</td>\n",
       "      <td>3</td>\n",
       "      <td>1.33</td>\n",
       "    </tr>\n",
       "    <tr>\n",
       "      <th>3</th>\n",
       "      <td>Изменить структура категорий, что увеличит конверсию, т.к. пользователи быстрее найдут нужный товар</td>\n",
       "      <td>8</td>\n",
       "      <td>3</td>\n",
       "      <td>3</td>\n",
       "      <td>8</td>\n",
       "      <td>1.12</td>\n",
       "    </tr>\n",
       "    <tr>\n",
       "      <th>4</th>\n",
       "      <td>Изменить цвет фона главной страницы, чтобы увеличить вовлеченность пользователей</td>\n",
       "      <td>3</td>\n",
       "      <td>1</td>\n",
       "      <td>1</td>\n",
       "      <td>1</td>\n",
       "      <td>1.00</td>\n",
       "    </tr>\n",
       "  </tbody>\n",
       "</table>\n",
       "</div>"
      ],
      "text/plain": [
       "                                                                                                     hypothesis  \\\n",
       "8                                                       Запустить акцию, дающую скидку на товар в день рождения   \n",
       "0            Добавить два новых канала привлечения трафика, что позволит привлекать на 30% больше пользователей   \n",
       "7              Добавить форму подписки на все основные страницы, чтобы собрать базу клиентов для email-рассылок   \n",
       "6          Показать на главной странице баннеры с актуальными акциями и распродажами, чтобы увеличить конверсию   \n",
       "2  Добавить блоки рекомендаций товаров на сайт интернет магазина, чтобы повысить конверсию и средний чек заказа   \n",
       "1                                     Запустить собственную службу доставки, что сократит срок доставки заказов   \n",
       "5                      Добавить страницу отзывов клиентов о магазине, что позволит увеличить количество заказов   \n",
       "3           Изменить структура категорий, что увеличит конверсию, т.к. пользователи быстрее найдут нужный товар   \n",
       "4                              Изменить цвет фона главной страницы, чтобы увеличить вовлеченность пользователей   \n",
       "\n",
       "   reach  impact  confidence  efforts    ICE  \n",
       "8      1       9           9        5  16.20  \n",
       "0      3      10           8        6  13.33  \n",
       "7     10       7           8        5  11.20  \n",
       "6      5       3           8        3   8.00  \n",
       "2      8       3           7        3   7.00  \n",
       "1      2       5           4       10   2.00  \n",
       "5      3       2           2        3   1.33  \n",
       "3      8       3           3        8   1.12  \n",
       "4      3       1           1        1   1.00  "
      ]
     },
     "execution_count": 12,
     "metadata": {},
     "output_type": "execute_result"
    }
   ],
   "source": [
    "hypothesis['ICE'] = round((hypothesis['impact'] * hypothesis['confidence']) / hypothesis['efforts'],2)\n",
    "hypothesis.sort_values(by = 'ICE', ascending = False)"
   ]
  },
  {
   "cell_type": "markdown",
   "id": "3a67ee6b",
   "metadata": {},
   "source": [
    "**Промежуточный вывод:** Наиболее перспективные гипотезы по ICE: \n",
    "- 8 - Запустить акцию, дающую скидку на товар в день рождения\t\n",
    "- 0 - Добавить два новых канала привлечения трафика, что позволит привлекать на 30% больше пользователей\n",
    "- 7 - Добавить форму подписки на все основные страницы, чтобы собрать базу клиентов для email-рассылок\t\n",
    "- 6 - Показать на главной странице баннеры с актуальными акциями и распродажами, чтобы увеличить конверсию\t"
   ]
  },
  {
   "cell_type": "markdown",
   "id": "02b08a0b",
   "metadata": {},
   "source": [
    "### Примените фреймворк RICE для приоритизации гипотез. Отсортируйте их по убыванию приоритета."
   ]
  },
  {
   "cell_type": "markdown",
   "id": "c2469340",
   "metadata": {},
   "source": [
    "RICE — это метод приоритизации гипотез, который помогает определить, какие из них наиболее важны и заслуживают внимания.\n",
    "\n",
    "Фреймворк RICE состоит из четырёх компонент:\n",
    "- Reach — скольких пользователей затронет изменение, которое вы хотите внести;\n",
    "- Impact — насколько сильно изменение повлияет на пользователей, их опыт и удовлетворение от продукта;\n",
    "- Confidence — насколько вы уверены, что это изменение повлияет на пользователей именно так; \n",
    "- Efforts — сколько стоит протестировать эту гипотезу. "
   ]
  },
  {
   "cell_type": "code",
   "execution_count": 13,
   "id": "565a4752",
   "metadata": {},
   "outputs": [
    {
     "data": {
      "text/html": [
       "<div>\n",
       "<style scoped>\n",
       "    .dataframe tbody tr th:only-of-type {\n",
       "        vertical-align: middle;\n",
       "    }\n",
       "\n",
       "    .dataframe tbody tr th {\n",
       "        vertical-align: top;\n",
       "    }\n",
       "\n",
       "    .dataframe thead th {\n",
       "        text-align: right;\n",
       "    }\n",
       "</style>\n",
       "<table border=\"1\" class=\"dataframe\">\n",
       "  <thead>\n",
       "    <tr style=\"text-align: right;\">\n",
       "      <th></th>\n",
       "      <th>hypothesis</th>\n",
       "      <th>reach</th>\n",
       "      <th>impact</th>\n",
       "      <th>confidence</th>\n",
       "      <th>efforts</th>\n",
       "      <th>ICE</th>\n",
       "      <th>RICE</th>\n",
       "    </tr>\n",
       "  </thead>\n",
       "  <tbody>\n",
       "    <tr>\n",
       "      <th>7</th>\n",
       "      <td>Добавить форму подписки на все основные страницы, чтобы собрать базу клиентов для email-рассылок</td>\n",
       "      <td>10</td>\n",
       "      <td>7</td>\n",
       "      <td>8</td>\n",
       "      <td>5</td>\n",
       "      <td>11.20</td>\n",
       "      <td>112.0</td>\n",
       "    </tr>\n",
       "    <tr>\n",
       "      <th>2</th>\n",
       "      <td>Добавить блоки рекомендаций товаров на сайт интернет магазина, чтобы повысить конверсию и средний чек заказа</td>\n",
       "      <td>8</td>\n",
       "      <td>3</td>\n",
       "      <td>7</td>\n",
       "      <td>3</td>\n",
       "      <td>7.00</td>\n",
       "      <td>56.0</td>\n",
       "    </tr>\n",
       "    <tr>\n",
       "      <th>0</th>\n",
       "      <td>Добавить два новых канала привлечения трафика, что позволит привлекать на 30% больше пользователей</td>\n",
       "      <td>3</td>\n",
       "      <td>10</td>\n",
       "      <td>8</td>\n",
       "      <td>6</td>\n",
       "      <td>13.33</td>\n",
       "      <td>40.0</td>\n",
       "    </tr>\n",
       "    <tr>\n",
       "      <th>6</th>\n",
       "      <td>Показать на главной странице баннеры с актуальными акциями и распродажами, чтобы увеличить конверсию</td>\n",
       "      <td>5</td>\n",
       "      <td>3</td>\n",
       "      <td>8</td>\n",
       "      <td>3</td>\n",
       "      <td>8.00</td>\n",
       "      <td>40.0</td>\n",
       "    </tr>\n",
       "    <tr>\n",
       "      <th>8</th>\n",
       "      <td>Запустить акцию, дающую скидку на товар в день рождения</td>\n",
       "      <td>1</td>\n",
       "      <td>9</td>\n",
       "      <td>9</td>\n",
       "      <td>5</td>\n",
       "      <td>16.20</td>\n",
       "      <td>16.2</td>\n",
       "    </tr>\n",
       "    <tr>\n",
       "      <th>3</th>\n",
       "      <td>Изменить структура категорий, что увеличит конверсию, т.к. пользователи быстрее найдут нужный товар</td>\n",
       "      <td>8</td>\n",
       "      <td>3</td>\n",
       "      <td>3</td>\n",
       "      <td>8</td>\n",
       "      <td>1.12</td>\n",
       "      <td>9.0</td>\n",
       "    </tr>\n",
       "    <tr>\n",
       "      <th>1</th>\n",
       "      <td>Запустить собственную службу доставки, что сократит срок доставки заказов</td>\n",
       "      <td>2</td>\n",
       "      <td>5</td>\n",
       "      <td>4</td>\n",
       "      <td>10</td>\n",
       "      <td>2.00</td>\n",
       "      <td>4.0</td>\n",
       "    </tr>\n",
       "    <tr>\n",
       "      <th>5</th>\n",
       "      <td>Добавить страницу отзывов клиентов о магазине, что позволит увеличить количество заказов</td>\n",
       "      <td>3</td>\n",
       "      <td>2</td>\n",
       "      <td>2</td>\n",
       "      <td>3</td>\n",
       "      <td>1.33</td>\n",
       "      <td>4.0</td>\n",
       "    </tr>\n",
       "    <tr>\n",
       "      <th>4</th>\n",
       "      <td>Изменить цвет фона главной страницы, чтобы увеличить вовлеченность пользователей</td>\n",
       "      <td>3</td>\n",
       "      <td>1</td>\n",
       "      <td>1</td>\n",
       "      <td>1</td>\n",
       "      <td>1.00</td>\n",
       "      <td>3.0</td>\n",
       "    </tr>\n",
       "  </tbody>\n",
       "</table>\n",
       "</div>"
      ],
      "text/plain": [
       "                                                                                                     hypothesis  \\\n",
       "7              Добавить форму подписки на все основные страницы, чтобы собрать базу клиентов для email-рассылок   \n",
       "2  Добавить блоки рекомендаций товаров на сайт интернет магазина, чтобы повысить конверсию и средний чек заказа   \n",
       "0            Добавить два новых канала привлечения трафика, что позволит привлекать на 30% больше пользователей   \n",
       "6          Показать на главной странице баннеры с актуальными акциями и распродажами, чтобы увеличить конверсию   \n",
       "8                                                       Запустить акцию, дающую скидку на товар в день рождения   \n",
       "3           Изменить структура категорий, что увеличит конверсию, т.к. пользователи быстрее найдут нужный товар   \n",
       "1                                     Запустить собственную службу доставки, что сократит срок доставки заказов   \n",
       "5                      Добавить страницу отзывов клиентов о магазине, что позволит увеличить количество заказов   \n",
       "4                              Изменить цвет фона главной страницы, чтобы увеличить вовлеченность пользователей   \n",
       "\n",
       "   reach  impact  confidence  efforts    ICE   RICE  \n",
       "7     10       7           8        5  11.20  112.0  \n",
       "2      8       3           7        3   7.00   56.0  \n",
       "0      3      10           8        6  13.33   40.0  \n",
       "6      5       3           8        3   8.00   40.0  \n",
       "8      1       9           9        5  16.20   16.2  \n",
       "3      8       3           3        8   1.12    9.0  \n",
       "1      2       5           4       10   2.00    4.0  \n",
       "5      3       2           2        3   1.33    4.0  \n",
       "4      3       1           1        1   1.00    3.0  "
      ]
     },
     "execution_count": 13,
     "metadata": {},
     "output_type": "execute_result"
    }
   ],
   "source": [
    "hypothesis['RICE'] = round((hypothesis['reach'] * hypothesis['impact'] * hypothesis['confidence']) / hypothesis['efforts'],2)\n",
    "hypothesis.sort_values(by = 'RICE', ascending = False)"
   ]
  },
  {
   "cell_type": "markdown",
   "id": "8311a04e",
   "metadata": {},
   "source": [
    "**Промежуточный вывод:** Наиболее перспективные гипотезы по RICE: \n",
    "- 7 - Добавить форму подписки на все основные страницы, чтобы собрать базу клиентов для email-рассылок\t\n",
    "- 2 - Добавить блоки рекомендаций товаров на сайт интернет магазина, чтобы повысить конверсию и средний чек заказа\n",
    "- 0 - Добавить два новых канала привлечения трафика, что позволит привлекать на 30% больше пользователей\n",
    "- 6 - Показать на главной странице баннеры с актуальными акциями и распродажами, чтобы увеличить конверсию"
   ]
  },
  {
   "cell_type": "markdown",
   "id": "9500fc92",
   "metadata": {},
   "source": [
    "### Укажите, как изменилась приоритизация гипотез при применении RICE вместо ICE. Объясните, почему так произошло."
   ]
  },
  {
   "cell_type": "markdown",
   "id": "4d3df88a",
   "metadata": {},
   "source": [
    "**Промежуточный вывод:** Приоритизация гипотез при применении RICE вместо ICE изменилась следующим образом: \n",
    "\n",
    "В первых четырех лидирующих позициях гипотезы для ICE - 8, 0, 7, 6 и RICE - 7, 2, 0, 6\n",
    "Они пересекаются между собой в гипотезах 0, 6, 7\n",
    "Разница результатов зависит от дополнительного параметра `reach` в RICE, который показывает скольких пользователей затронет изменение, которое вы хотите внести, для гипотезы 7 параметр reach = 10, поэтому этот параметр входит в топ-4, а параметр 8 имеет reach = 1, поэтому он не вошел в топ - 4 RICE \n"
   ]
  },
  {
   "cell_type": "markdown",
   "id": "cc46103e",
   "metadata": {},
   "source": [
    "## Часть 2. Анализ A/B-теста"
   ]
  },
  {
   "cell_type": "markdown",
   "id": "d598d052",
   "metadata": {},
   "source": [
    "### Постройте график кумулятивной выручки по группам. Сделайте выводы и предположения."
   ]
  },
  {
   "cell_type": "code",
   "execution_count": 14,
   "id": "3e9131ce",
   "metadata": {},
   "outputs": [
    {
     "data": {
      "text/html": [
       "<div>\n",
       "<style scoped>\n",
       "    .dataframe tbody tr th:only-of-type {\n",
       "        vertical-align: middle;\n",
       "    }\n",
       "\n",
       "    .dataframe tbody tr th {\n",
       "        vertical-align: top;\n",
       "    }\n",
       "\n",
       "    .dataframe thead th {\n",
       "        text-align: right;\n",
       "    }\n",
       "</style>\n",
       "<table border=\"1\" class=\"dataframe\">\n",
       "  <thead>\n",
       "    <tr style=\"text-align: right;\">\n",
       "      <th></th>\n",
       "      <th>transactionId</th>\n",
       "      <th>visitorId</th>\n",
       "      <th>date</th>\n",
       "      <th>revenue</th>\n",
       "      <th>group</th>\n",
       "    </tr>\n",
       "  </thead>\n",
       "  <tbody>\n",
       "    <tr>\n",
       "      <th>0</th>\n",
       "      <td>3667963787</td>\n",
       "      <td>3312258926</td>\n",
       "      <td>2019-08-15</td>\n",
       "      <td>1650</td>\n",
       "      <td>B</td>\n",
       "    </tr>\n",
       "    <tr>\n",
       "      <th>1</th>\n",
       "      <td>2804400009</td>\n",
       "      <td>3642806036</td>\n",
       "      <td>2019-08-15</td>\n",
       "      <td>730</td>\n",
       "      <td>B</td>\n",
       "    </tr>\n",
       "  </tbody>\n",
       "</table>\n",
       "</div>"
      ],
      "text/plain": [
       "   transactionId   visitorId       date  revenue group\n",
       "0     3667963787  3312258926 2019-08-15     1650     B\n",
       "1     2804400009  3642806036 2019-08-15      730     B"
      ]
     },
     "execution_count": 14,
     "metadata": {},
     "output_type": "execute_result"
    }
   ],
   "source": [
    "orders.head(2)"
   ]
  },
  {
   "cell_type": "code",
   "execution_count": 15,
   "id": "5cc25529",
   "metadata": {},
   "outputs": [
    {
     "data": {
      "text/html": [
       "<div>\n",
       "<style scoped>\n",
       "    .dataframe tbody tr th:only-of-type {\n",
       "        vertical-align: middle;\n",
       "    }\n",
       "\n",
       "    .dataframe tbody tr th {\n",
       "        vertical-align: top;\n",
       "    }\n",
       "\n",
       "    .dataframe thead th {\n",
       "        text-align: right;\n",
       "    }\n",
       "</style>\n",
       "<table border=\"1\" class=\"dataframe\">\n",
       "  <thead>\n",
       "    <tr style=\"text-align: right;\">\n",
       "      <th></th>\n",
       "      <th>date</th>\n",
       "      <th>group</th>\n",
       "      <th>visitors</th>\n",
       "    </tr>\n",
       "  </thead>\n",
       "  <tbody>\n",
       "    <tr>\n",
       "      <th>0</th>\n",
       "      <td>2019-08-01</td>\n",
       "      <td>A</td>\n",
       "      <td>719</td>\n",
       "    </tr>\n",
       "    <tr>\n",
       "      <th>1</th>\n",
       "      <td>2019-08-02</td>\n",
       "      <td>A</td>\n",
       "      <td>619</td>\n",
       "    </tr>\n",
       "  </tbody>\n",
       "</table>\n",
       "</div>"
      ],
      "text/plain": [
       "        date group  visitors\n",
       "0 2019-08-01     A       719\n",
       "1 2019-08-02     A       619"
      ]
     },
     "execution_count": 15,
     "metadata": {},
     "output_type": "execute_result"
    }
   ],
   "source": [
    "visitors.head(2)"
   ]
  },
  {
   "cell_type": "markdown",
   "id": "35606227",
   "metadata": {},
   "source": [
    "Создадим датафрейм datesGroups с уникальными парами значений 'date' и 'group', таблицы orders."
   ]
  },
  {
   "cell_type": "code",
   "execution_count": 16,
   "id": "df7cf9d4",
   "metadata": {},
   "outputs": [],
   "source": [
    "datesGroups = orders[['date','group']].drop_duplicates()"
   ]
  },
  {
   "cell_type": "markdown",
   "id": "5e55d426",
   "metadata": {},
   "source": [
    "Объявим переменную ordersAggregated, содержащую:\n",
    "- дату;\n",
    "- группу A/B-теста;\n",
    "- число уникальных заказов в группе теста по указанную дату включительно;\n",
    "- число уникальных пользователей, совершивших хотя бы 1 заказ в группе теста по указанную дату включительно;\n",
    "- суммарную выручку заказов в группе теста по указанную дату включительно."
   ]
  },
  {
   "cell_type": "code",
   "execution_count": 17,
   "id": "541cfb6d",
   "metadata": {},
   "outputs": [],
   "source": [
    "ordersAggregated = datesGroups.apply(\n",
    "    lambda x: orders[np.logical_and(orders['date'] <= x['date'], orders['group'] == x['group'])].agg({\n",
    "        'date':'max',\n",
    "        'group':'max',\n",
    "        'transactionId':'nunique',\n",
    "        'visitorId':'nunique',\n",
    "        'revenue':'sum'\n",
    "    }), axis = 1\n",
    ").sort_values(by=['date','group'])"
   ]
  },
  {
   "cell_type": "markdown",
   "id": "46195318",
   "metadata": {},
   "source": [
    "Объявим переменную visitorsAggregated, содержащую:\n",
    "- дату;\n",
    "- группу A/B-теста;\n",
    "- количество уникальных посетителей в группе теста по указанную дату включительно."
   ]
  },
  {
   "cell_type": "code",
   "execution_count": 18,
   "id": "cc8bc6fd",
   "metadata": {},
   "outputs": [],
   "source": [
    "visitorsAggregated = datesGroups.apply(\n",
    "    lambda x: visitors[np.logical_and(visitors['date'] <= x['date'], visitors['group'] == x['group'])].agg({\n",
    "        'date':'max',\n",
    "        'group':'max',\n",
    "        'visitors':'sum'\n",
    "    }), axis = 1\n",
    ").sort_values(by = ['date','group'])"
   ]
  },
  {
   "cell_type": "markdown",
   "id": "e429e53f",
   "metadata": {},
   "source": [
    "Определим переменную cumulativeData, объединив ordersAggregated и visitorsAggregated по колонкам 'date', 'group' методом merge()"
   ]
  },
  {
   "cell_type": "code",
   "execution_count": 19,
   "id": "b9ac2010",
   "metadata": {},
   "outputs": [],
   "source": [
    "cumulativeData = ordersAggregated.merge(visitorsAggregated, left_on = ['date','group'], right_on = ['date','group'])"
   ]
  },
  {
   "cell_type": "markdown",
   "id": "9e7a11ba",
   "metadata": {},
   "source": [
    "Присвоим столбцам cumulativeData названия ['date', 'group', 'orders', 'buyers', 'revenue', 'visitors']"
   ]
  },
  {
   "cell_type": "code",
   "execution_count": 20,
   "id": "92ea8a59",
   "metadata": {},
   "outputs": [],
   "source": [
    "cumulativeData.columns = ['date', 'group', 'orders', 'buyers', 'revenue', 'visitors']"
   ]
  },
  {
   "cell_type": "markdown",
   "id": "b738262a",
   "metadata": {},
   "source": [
    "Выведем первые 5 строк "
   ]
  },
  {
   "cell_type": "code",
   "execution_count": 21,
   "id": "c0f795e3",
   "metadata": {},
   "outputs": [
    {
     "data": {
      "text/html": [
       "<div>\n",
       "<style scoped>\n",
       "    .dataframe tbody tr th:only-of-type {\n",
       "        vertical-align: middle;\n",
       "    }\n",
       "\n",
       "    .dataframe tbody tr th {\n",
       "        vertical-align: top;\n",
       "    }\n",
       "\n",
       "    .dataframe thead th {\n",
       "        text-align: right;\n",
       "    }\n",
       "</style>\n",
       "<table border=\"1\" class=\"dataframe\">\n",
       "  <thead>\n",
       "    <tr style=\"text-align: right;\">\n",
       "      <th></th>\n",
       "      <th>date</th>\n",
       "      <th>group</th>\n",
       "      <th>orders</th>\n",
       "      <th>buyers</th>\n",
       "      <th>revenue</th>\n",
       "      <th>visitors</th>\n",
       "    </tr>\n",
       "  </thead>\n",
       "  <tbody>\n",
       "    <tr>\n",
       "      <th>0</th>\n",
       "      <td>2019-08-01</td>\n",
       "      <td>A</td>\n",
       "      <td>24</td>\n",
       "      <td>20</td>\n",
       "      <td>148579</td>\n",
       "      <td>719</td>\n",
       "    </tr>\n",
       "    <tr>\n",
       "      <th>1</th>\n",
       "      <td>2019-08-01</td>\n",
       "      <td>B</td>\n",
       "      <td>21</td>\n",
       "      <td>20</td>\n",
       "      <td>101217</td>\n",
       "      <td>713</td>\n",
       "    </tr>\n",
       "    <tr>\n",
       "      <th>2</th>\n",
       "      <td>2019-08-02</td>\n",
       "      <td>A</td>\n",
       "      <td>44</td>\n",
       "      <td>38</td>\n",
       "      <td>242401</td>\n",
       "      <td>1338</td>\n",
       "    </tr>\n",
       "    <tr>\n",
       "      <th>3</th>\n",
       "      <td>2019-08-02</td>\n",
       "      <td>B</td>\n",
       "      <td>45</td>\n",
       "      <td>43</td>\n",
       "      <td>266748</td>\n",
       "      <td>1294</td>\n",
       "    </tr>\n",
       "    <tr>\n",
       "      <th>4</th>\n",
       "      <td>2019-08-03</td>\n",
       "      <td>A</td>\n",
       "      <td>68</td>\n",
       "      <td>62</td>\n",
       "      <td>354874</td>\n",
       "      <td>1845</td>\n",
       "    </tr>\n",
       "  </tbody>\n",
       "</table>\n",
       "</div>"
      ],
      "text/plain": [
       "        date group  orders  buyers  revenue  visitors\n",
       "0 2019-08-01     A      24      20   148579       719\n",
       "1 2019-08-01     B      21      20   101217       713\n",
       "2 2019-08-02     A      44      38   242401      1338\n",
       "3 2019-08-02     B      45      43   266748      1294\n",
       "4 2019-08-03     A      68      62   354874      1845"
      ]
     },
     "execution_count": 21,
     "metadata": {},
     "output_type": "execute_result"
    }
   ],
   "source": [
    "cumulativeData.head(5)"
   ]
  },
  {
   "cell_type": "markdown",
   "id": "b47c59aa",
   "metadata": {},
   "source": [
    "Мы собрали все нуные кумулятивные данные, приступим к построению графиков"
   ]
  },
  {
   "cell_type": "markdown",
   "id": "5d985291",
   "metadata": {},
   "source": [
    "Объявим переменные cumulativeRevenueA и cumulativeRevenueB, в которых сохраните данные о датах, выручке и числе заказов в группах A и B.\n",
    "Построим графики кумулятивной выручки по дням по группам."
   ]
  },
  {
   "cell_type": "code",
   "execution_count": 22,
   "id": "2963bda6",
   "metadata": {},
   "outputs": [],
   "source": [
    "cumulativeRevenueA = cumulativeData[cumulativeData['group'] == 'A'][['date','revenue','orders']]\n",
    "cumulativeRevenueB = cumulativeData[cumulativeData['group'] == 'B'][['date','revenue','orders']]"
   ]
  },
  {
   "cell_type": "code",
   "execution_count": 23,
   "id": "715a02e2",
   "metadata": {},
   "outputs": [
    {
     "data": {
      "image/png": "[encoded data removed]",
      "text/plain": [
       "<Figure size 1200x800 with 1 Axes>"
      ]
     },
     "metadata": {},
     "output_type": "display_data"
    }
   ],
   "source": [
    "plt.figure(figsize=(12,8))\n",
    "plt.plot(cumulativeRevenueA['date'], cumulativeRevenueA['revenue'], label = 'A')\n",
    "plt.plot(cumulativeRevenueB['date'], cumulativeRevenueB['revenue'], label = 'B')\n",
    "plt.xlabel('Дата')\n",
    "plt.ylabel('Выручка')\n",
    "plt.title('График кумулятивной выручки по дням и группам')\n",
    "plt.legend()\n",
    "plt.show();"
   ]
  },
  {
   "cell_type": "markdown",
   "id": "ff12c78e",
   "metadata": {},
   "source": [
    "**Промежуточный вывод:** Сегмент B начинает лидировать почти с самого начала теста с небольшими колебаниями, но после преодоления середины теста, сегмент B становится сильно выше сегмента A. Похоже, что в сегменте B произошли аномально большие заказы.   "
   ]
  },
  {
   "cell_type": "markdown",
   "id": "c370218a",
   "metadata": {},
   "source": [
    "### Постройте график кумулятивного среднего чека по группам. Сделайте выводы и предположения."
   ]
  },
  {
   "cell_type": "code",
   "execution_count": 24,
   "id": "ab007a20",
   "metadata": {},
   "outputs": [
    {
     "data": {
      "image/png": "[encoded data removed]",
      "text/plain": [
       "<Figure size 1200x800 with 1 Axes>"
      ]
     },
     "metadata": {},
     "output_type": "display_data"
    }
   ],
   "source": [
    "plt.figure(figsize=(12,8))\n",
    "plt.plot(cumulativeRevenueA['date'], cumulativeRevenueA['revenue'] / cumulativeRevenueA['orders'], label = 'A')\n",
    "plt.plot(cumulativeRevenueB['date'], cumulativeRevenueB['revenue'] / cumulativeRevenueB['orders'], label = 'B')\n",
    "plt.xlabel('Дата')\n",
    "plt.ylabel('Средний чек')\n",
    "plt.title('График кумулятивного среднего чека по группам')\n",
    "plt.legend()\n",
    "plt.show();"
   ]
  },
  {
   "cell_type": "markdown",
   "id": "46b66aa1",
   "metadata": {},
   "source": [
    "**Промежуточный вывод:** По сегменту A в начале наблюдается снижение, но после рост и фиксирование в среднем на одном уровне с небольшим ростом, в то время как сегмент B показывает рост с колебаниями и после преодоления середины резкий скачок вверх и постпенное снижение без фиксирования на одном уровне."
   ]
  },
  {
   "cell_type": "markdown",
   "id": "a741a50d",
   "metadata": {},
   "source": [
    "### Постройте график относительного изменения кумулятивного среднего чека группы B к группе A. Сделайте выводы и предположения."
   ]
  },
  {
   "cell_type": "markdown",
   "id": "97bb527e",
   "metadata": {},
   "source": [
    "Объединим таблицы cumulativeRevenueA и cumulativeRevenueB методом merge() так, чтобы она содержала столбцы:\n",
    "\n",
    "['date', 'revenueA', 'revenueB', 'ordersA', 'ordersB']. \n",
    "\n",
    "Сохраним в переменной mergedCumulativeRevenue. "
   ]
  },
  {
   "cell_type": "code",
   "execution_count": 25,
   "id": "40e5ed1b",
   "metadata": {},
   "outputs": [],
   "source": [
    "mergeCumulativeRevenue = cumulativeRevenueA.merge(cumulativeRevenueB, left_on = 'date', right_on='date', how = 'left',suffixes=['A','B'])"
   ]
  },
  {
   "cell_type": "markdown",
   "id": "ad888316",
   "metadata": {},
   "source": [
    "Построим график относительного изменения кумулятивного среднего чека группы B к группе A"
   ]
  },
  {
   "cell_type": "code",
   "execution_count": 26,
   "id": "1e0f9ed3",
   "metadata": {},
   "outputs": [
    {
     "data": {
      "image/png": "[encoded data removed]",
      "text/plain": [
       "<Figure size 1200x800 with 1 Axes>"
      ]
     },
     "metadata": {},
     "output_type": "display_data"
    }
   ],
   "source": [
    "plt.figure(figsize=(12,8))\n",
    "plt.plot(mergeCumulativeRevenue['date'], (mergeCumulativeRevenue['revenueB'] / mergeCumulativeRevenue['ordersB']) / (mergeCumulativeRevenue['revenueA'] / mergeCumulativeRevenue['ordersA']) - 1)\n",
    "plt.axhline(y=0, color='black', linestyle='--')\n",
    "plt.xlabel('Дата')\n",
    "plt.ylabel('Относительное изменение')\n",
    "plt.title('График относительного изменения кумулятивного среднего чека группы B к группе A')\n",
    "plt.show();"
   ]
  },
  {
   "cell_type": "markdown",
   "id": "e0f2eccb",
   "metadata": {},
   "source": [
    "**Промежуточный вывод:** В нескольких точках график различия между сегментами резко скачет. Скорее всего где-то спрятались крупные заказы и выбросы."
   ]
  },
  {
   "cell_type": "markdown",
   "id": "3d2d94b7",
   "metadata": {},
   "source": [
    "### Постройте график кумулятивного среднего количества заказов на посетителя по группам. Сделайте выводы и предположения"
   ]
  },
  {
   "cell_type": "markdown",
   "id": "7b4c3ec7",
   "metadata": {},
   "source": [
    "Добавим в cumulativeData столбец 'conversion' c отношением числа заказов к количеству пользователей в указанной группе."
   ]
  },
  {
   "cell_type": "code",
   "execution_count": 27,
   "id": "93371eb8",
   "metadata": {},
   "outputs": [],
   "source": [
    "cumulativeData['conversion'] = cumulativeData['orders'] / cumulativeData['visitors']"
   ]
  },
  {
   "cell_type": "markdown",
   "id": "30187d47",
   "metadata": {},
   "source": [
    "Объявим переменные cumulativeDataA и cumulativeDataB, в которых сохраним данные о заказах в сегментах A и B."
   ]
  },
  {
   "cell_type": "code",
   "execution_count": 28,
   "id": "fd70da6a",
   "metadata": {},
   "outputs": [],
   "source": [
    "cumulativeDataA = cumulativeData[cumulativeData['group']=='A']\n",
    "cumulativeDataB = cumulativeData[cumulativeData['group']=='B']"
   ]
  },
  {
   "cell_type": "markdown",
   "id": "d90e7fb8",
   "metadata": {},
   "source": [
    "Построим график кумулятивного среднего количества заказов на посетителя по группам."
   ]
  },
  {
   "cell_type": "code",
   "execution_count": 29,
   "id": "6cb742d8",
   "metadata": {},
   "outputs": [
    {
     "data": {
      "image/png": "[encoded data removed]",
      "text/plain": [
       "<Figure size 1200x800 with 1 Axes>"
      ]
     },
     "metadata": {},
     "output_type": "display_data"
    }
   ],
   "source": [
    "plt.figure(figsize=(12,8))\n",
    "plt.plot(cumulativeDataA['date'], cumulativeDataA['conversion'], label = 'A')\n",
    "plt.plot(cumulativeDataB['date'], cumulativeDataB['conversion'], label = 'B')\n",
    "plt.xlabel('Дата')\n",
    "plt.ylabel('Среднее количество заказов на посетителя')\n",
    "plt.title('График кумулятивного среднего количества заказов на посетителя по группам')\n",
    "\n",
    "plt.axis([dt.datetime(2019, 8, 1), dt.datetime(2019, 9, 1), 0, 0.05])\n",
    "plt.legend()\n",
    "plt.show();"
   ]
  },
  {
   "cell_type": "markdown",
   "id": "894fd975",
   "metadata": {},
   "source": [
    "**Промежуточный вывод:** В начале теста сегмент A имел большее кумулятивное среднее количество заказов на посетителя, но постепенно сегмент B выровнялся и зафиксировался примерно около одного значения больше сегмента A."
   ]
  },
  {
   "cell_type": "markdown",
   "id": "6e69bf09",
   "metadata": {},
   "source": [
    "### Постройте график относительного изменения кумулятивного среднего количества заказов на посетителя группы B к группе A. Сделайте выводы и предположения."
   ]
  },
  {
   "cell_type": "markdown",
   "id": "3ace2f93",
   "metadata": {},
   "source": [
    "Объединим таблицы cumulativeDataA и cumulativeDataB методом merge() так, чтобы она содержала столбцы: ['date', 'conversionA', 'conversionB']. Сохраним в переменной mergedCumulativeConversions. "
   ]
  },
  {
   "cell_type": "code",
   "execution_count": 30,
   "id": "b1383296",
   "metadata": {},
   "outputs": [],
   "source": [
    "mergedCumulativeConversions = cumulativeDataA[['date','conversion']].merge(cumulativeDataB[['date','conversion']], left_on = 'date', right_on = 'date', how='left',suffixes=['A','B'])"
   ]
  },
  {
   "cell_type": "code",
   "execution_count": 31,
   "id": "29ca8583",
   "metadata": {},
   "outputs": [
    {
     "data": {
      "image/png": "[encoded data removed]",
      "text/plain": [
       "<Figure size 1200x800 with 1 Axes>"
      ]
     },
     "metadata": {},
     "output_type": "display_data"
    }
   ],
   "source": [
    "plt.figure(figsize=(12,8))\n",
    "plt.plot(mergedCumulativeConversions['date'], mergedCumulativeConversions['conversionB'] / mergedCumulativeConversions['conversionA']-1, label = 'относительное изменение кумулятивного среднего количества заказов на посетителя')\n",
    "\n",
    "plt.axhline(y = 0, color='black', linestyle='--')\n",
    "plt.axhline(y = 0.1, color='grey', linestyle='--')\n",
    "plt.axis([dt.datetime(2019, 8, 1), dt.datetime(2019, 9, 1), -0.5, 0.5])\n",
    "\n",
    "plt.xlabel('Дата')\n",
    "plt.ylabel('Средний чек')\n",
    "plt.legend()\n",
    "plt.show();"
   ]
  },
  {
   "cell_type": "markdown",
   "id": "1cdbff64",
   "metadata": {},
   "source": [
    "**Промежуточный вывод:** Почти с самого начала теста группа B  лидирует по метрике: становиться лучше и лучше, касается рубежа прироста в 20% и позже фиксируется на приросте около 10% отсносительно группы A."
   ]
  },
  {
   "cell_type": "markdown",
   "id": "316aa97b",
   "metadata": {},
   "source": [
    "### Постройте точечный график количества заказов по пользователям. Сделайте выводы и предположения."
   ]
  },
  {
   "cell_type": "markdown",
   "id": "b75695f7",
   "metadata": {},
   "source": [
    "Найдем число заказов по пользователям — создадим датафрейм c двумя столбцами: 'userId' и 'orders'. Назовем его ordersByUsers. Отсортируем по убыванию количества заказов пользователей и выведите на экран первые 10 строк."
   ]
  },
  {
   "cell_type": "code",
   "execution_count": 32,
   "id": "d0c441b2",
   "metadata": {},
   "outputs": [],
   "source": [
    "ordersByUsers = (\n",
    "    orders.groupby('visitorId', as_index = False)\n",
    "    .agg({'transactionId':'nunique'})\n",
    ")"
   ]
  },
  {
   "cell_type": "code",
   "execution_count": 33,
   "id": "877e9ef8",
   "metadata": {},
   "outputs": [],
   "source": [
    "ordersByUsers.columns= ['userId','orders']"
   ]
  },
  {
   "cell_type": "code",
   "execution_count": 34,
   "id": "47b70b60",
   "metadata": {},
   "outputs": [
    {
     "data": {
      "text/html": [
       "<div>\n",
       "<style scoped>\n",
       "    .dataframe tbody tr th:only-of-type {\n",
       "        vertical-align: middle;\n",
       "    }\n",
       "\n",
       "    .dataframe tbody tr th {\n",
       "        vertical-align: top;\n",
       "    }\n",
       "\n",
       "    .dataframe thead th {\n",
       "        text-align: right;\n",
       "    }\n",
       "</style>\n",
       "<table border=\"1\" class=\"dataframe\">\n",
       "  <thead>\n",
       "    <tr style=\"text-align: right;\">\n",
       "      <th></th>\n",
       "      <th>userId</th>\n",
       "      <th>orders</th>\n",
       "    </tr>\n",
       "  </thead>\n",
       "  <tbody>\n",
       "    <tr>\n",
       "      <th>1023</th>\n",
       "      <td>4256040402</td>\n",
       "      <td>11</td>\n",
       "    </tr>\n",
       "    <tr>\n",
       "      <th>591</th>\n",
       "      <td>2458001652</td>\n",
       "      <td>11</td>\n",
       "    </tr>\n",
       "    <tr>\n",
       "      <th>569</th>\n",
       "      <td>2378935119</td>\n",
       "      <td>9</td>\n",
       "    </tr>\n",
       "    <tr>\n",
       "      <th>487</th>\n",
       "      <td>2038680547</td>\n",
       "      <td>8</td>\n",
       "    </tr>\n",
       "    <tr>\n",
       "      <th>44</th>\n",
       "      <td>199603092</td>\n",
       "      <td>5</td>\n",
       "    </tr>\n",
       "    <tr>\n",
       "      <th>744</th>\n",
       "      <td>3062433592</td>\n",
       "      <td>5</td>\n",
       "    </tr>\n",
       "    <tr>\n",
       "      <th>55</th>\n",
       "      <td>237748145</td>\n",
       "      <td>5</td>\n",
       "    </tr>\n",
       "    <tr>\n",
       "      <th>917</th>\n",
       "      <td>3803269165</td>\n",
       "      <td>5</td>\n",
       "    </tr>\n",
       "    <tr>\n",
       "      <th>299</th>\n",
       "      <td>1230306981</td>\n",
       "      <td>5</td>\n",
       "    </tr>\n",
       "    <tr>\n",
       "      <th>897</th>\n",
       "      <td>3717692402</td>\n",
       "      <td>5</td>\n",
       "    </tr>\n",
       "  </tbody>\n",
       "</table>\n",
       "</div>"
      ],
      "text/plain": [
       "          userId  orders\n",
       "1023  4256040402      11\n",
       "591   2458001652      11\n",
       "569   2378935119       9\n",
       "487   2038680547       8\n",
       "44     199603092       5\n",
       "744   3062433592       5\n",
       "55     237748145       5\n",
       "917   3803269165       5\n",
       "299   1230306981       5\n",
       "897   3717692402       5"
      ]
     },
     "execution_count": 34,
     "metadata": {},
     "output_type": "execute_result"
    }
   ],
   "source": [
    "ordersByUsers.sort_values(by='orders',ascending = False).head(10)"
   ]
  },
  {
   "cell_type": "code",
   "execution_count": 35,
   "id": "4f267ed3",
   "metadata": {},
   "outputs": [
    {
     "data": {
      "image/png": "[encoded data removed]",
      "text/plain": [
       "<Figure size 1000x700 with 1 Axes>"
      ]
     },
     "metadata": {},
     "output_type": "display_data"
    }
   ],
   "source": [
    "plt.figure(figsize=(10,7))\n",
    "plt.hist(ordersByUsers['orders'])\n",
    "plt.xlabel('Количество заказов')\n",
    "plt.ylabel('Количество пользователей')\n",
    "plt.title('график количества заказов по пользователям');\n"
   ]
  },
  {
   "cell_type": "markdown",
   "id": "97627a11",
   "metadata": {},
   "source": [
    "**Промежуточный вывод:** Большинство пользователей совершило всего 1 заказ"
   ]
  },
  {
   "cell_type": "code",
   "execution_count": 36,
   "id": "4c56a743",
   "metadata": {},
   "outputs": [
    {
     "data": {
      "image/png": "[encoded data removed]",
      "text/plain": [
       "<Figure size 1000x700 with 1 Axes>"
      ]
     },
     "metadata": {},
     "output_type": "display_data"
    }
   ],
   "source": [
    "plt.figure(figsize=(10,7))\n",
    "x_values = pd.Series(range(0, len(ordersByUsers)))\n",
    "plt.scatter(x_values, ordersByUsers['orders'])\n",
    "plt.xlabel('Количество пользователей')\n",
    "plt.ylabel('Количество заказов')\n",
    "plt.title('график количества заказов по пользователям');"
   ]
  },
  {
   "cell_type": "markdown",
   "id": "a1a212a9",
   "metadata": {},
   "source": [
    "**Промежуточный вывод:** Пользователей, заказавших более двух раз совсем мало, они могут быть аномальными."
   ]
  },
  {
   "cell_type": "markdown",
   "id": "003c4248",
   "metadata": {},
   "source": [
    "### Посчитайте 95-й и 99-й перцентили количества заказов на пользователя. Выберите границу для определения аномальных пользователей."
   ]
  },
  {
   "cell_type": "code",
   "execution_count": 37,
   "id": "93b70503",
   "metadata": {},
   "outputs": [
    {
     "name": "stdout",
     "output_type": "stream",
     "text": [
      "[2. 4.]\n"
     ]
    }
   ],
   "source": [
    "print(np.percentile(ordersByUsers['orders'],[95,99]))"
   ]
  },
  {
   "cell_type": "markdown",
   "id": "7484c1a0",
   "metadata": {},
   "source": [
    "**Промежуточный вывод:** Не более 5% пользователей совершили больше 2 заказов и не более 1% пользователей совершили больше 4 заказов."
   ]
  },
  {
   "cell_type": "markdown",
   "id": "20269f33",
   "metadata": {},
   "source": [
    "### Постройте точечный график стоимостей заказов. Сделайте выводы и предположения."
   ]
  },
  {
   "cell_type": "code",
   "execution_count": 38,
   "id": "26780157",
   "metadata": {},
   "outputs": [
    {
     "data": {
      "image/png": "[encoded data removed]",
      "text/plain": [
       "<Figure size 1000x700 with 1 Axes>"
      ]
     },
     "metadata": {},
     "output_type": "display_data"
    }
   ],
   "source": [
    "x_values = pd.Series(range(0, len(orders['revenue'])))\n",
    "plt.figure(figsize=(10,7))\n",
    "plt.scatter(x_values, orders['revenue'])\n",
    "plt.xlabel('Стоимость заказов')\n",
    "plt.ylabel('Количество заказов')\n",
    "plt.title('Точечный график стоимостей заказов');"
   ]
  },
  {
   "cell_type": "markdown",
   "id": "62eb4f4e",
   "metadata": {},
   "source": [
    "**Промежуточный вывод:** Заказов стоимостью больше 70000 немного. Заказ на 1200000 выглядит весьма аномальным"
   ]
  },
  {
   "cell_type": "markdown",
   "id": "139a6e94",
   "metadata": {},
   "source": [
    "### Посчитайте 95-й и 99-й перцентили стоимости заказов. Выберите границу для определения аномальных заказов."
   ]
  },
  {
   "cell_type": "code",
   "execution_count": 39,
   "id": "b38dad8f",
   "metadata": {},
   "outputs": [
    {
     "name": "stdout",
     "output_type": "stream",
     "text": [
      "[28000.  58233.2]\n"
     ]
    }
   ],
   "source": [
    "print(np.percentile(orders['revenue'],[95, 99]))"
   ]
  },
  {
   "cell_type": "markdown",
   "id": "34c4a63b",
   "metadata": {},
   "source": [
    "**Промежуточный вывод:** Не более чем у 5% заказов чек дороже 28000 и не больше чем у 1% заказов чек дороже 58233.2\n",
    "\n",
    "За порог мы возьмем сумму в 30.000 и по ней будем отсекать аномалии"
   ]
  },
  {
   "cell_type": "markdown",
   "id": "4d2c615f",
   "metadata": {},
   "source": [
    "### Посчитайте статистическую значимость различий в среднем количестве заказов на посетителя между группами по «сырым» данным. Сделайте выводы и предположения."
   ]
  },
  {
   "cell_type": "markdown",
   "id": "0384c47d",
   "metadata": {},
   "source": [
    "Посчитаем статистическую значимость различий в среднем числе заказов на пользователя по «сырым» данным — без удаления аномальных пользователей.\n",
    "\n",
    "Сформулируем гипотезы. \n",
    "- Нулевая: различий в среднем количестве заказов между группами нет. \n",
    "- Альтернативная: различия в среднем между группами есть.\n",
    "\n",
    "Начнём с подготовки данных. "
   ]
  },
  {
   "cell_type": "code",
   "execution_count": 40,
   "id": "82250956",
   "metadata": {},
   "outputs": [
    {
     "data": {
      "text/html": [
       "<div>\n",
       "<style scoped>\n",
       "    .dataframe tbody tr th:only-of-type {\n",
       "        vertical-align: middle;\n",
       "    }\n",
       "\n",
       "    .dataframe tbody tr th {\n",
       "        vertical-align: top;\n",
       "    }\n",
       "\n",
       "    .dataframe thead th {\n",
       "        text-align: right;\n",
       "    }\n",
       "</style>\n",
       "<table border=\"1\" class=\"dataframe\">\n",
       "  <thead>\n",
       "    <tr style=\"text-align: right;\">\n",
       "      <th></th>\n",
       "      <th>date</th>\n",
       "      <th>ordersPerDateA</th>\n",
       "      <th>revenuePerDateA</th>\n",
       "      <th>ordersPerDateB</th>\n",
       "      <th>revenuePerDateB</th>\n",
       "      <th>ordersCummulativeA</th>\n",
       "      <th>revenueCummulativeA</th>\n",
       "      <th>ordersCummulativeB</th>\n",
       "      <th>revenueCummulativeB</th>\n",
       "      <th>visitorsPerDateA</th>\n",
       "      <th>visitorsPerDateB</th>\n",
       "      <th>visitorsCummulativeA</th>\n",
       "      <th>visitorsCummulativeB</th>\n",
       "    </tr>\n",
       "  </thead>\n",
       "  <tbody>\n",
       "    <tr>\n",
       "      <th>0</th>\n",
       "      <td>2019-08-01</td>\n",
       "      <td>24</td>\n",
       "      <td>148579</td>\n",
       "      <td>21</td>\n",
       "      <td>101217</td>\n",
       "      <td>24</td>\n",
       "      <td>148579</td>\n",
       "      <td>21</td>\n",
       "      <td>101217</td>\n",
       "      <td>719</td>\n",
       "      <td>713</td>\n",
       "      <td>719</td>\n",
       "      <td>713</td>\n",
       "    </tr>\n",
       "    <tr>\n",
       "      <th>1</th>\n",
       "      <td>2019-08-02</td>\n",
       "      <td>20</td>\n",
       "      <td>93822</td>\n",
       "      <td>24</td>\n",
       "      <td>165531</td>\n",
       "      <td>44</td>\n",
       "      <td>242401</td>\n",
       "      <td>45</td>\n",
       "      <td>266748</td>\n",
       "      <td>619</td>\n",
       "      <td>581</td>\n",
       "      <td>1338</td>\n",
       "      <td>1294</td>\n",
       "    </tr>\n",
       "    <tr>\n",
       "      <th>2</th>\n",
       "      <td>2019-08-03</td>\n",
       "      <td>24</td>\n",
       "      <td>112473</td>\n",
       "      <td>16</td>\n",
       "      <td>114248</td>\n",
       "      <td>68</td>\n",
       "      <td>354874</td>\n",
       "      <td>61</td>\n",
       "      <td>380996</td>\n",
       "      <td>507</td>\n",
       "      <td>509</td>\n",
       "      <td>1845</td>\n",
       "      <td>1803</td>\n",
       "    </tr>\n",
       "    <tr>\n",
       "      <th>3</th>\n",
       "      <td>2019-08-04</td>\n",
       "      <td>16</td>\n",
       "      <td>70825</td>\n",
       "      <td>17</td>\n",
       "      <td>108571</td>\n",
       "      <td>84</td>\n",
       "      <td>425699</td>\n",
       "      <td>78</td>\n",
       "      <td>489567</td>\n",
       "      <td>717</td>\n",
       "      <td>770</td>\n",
       "      <td>2562</td>\n",
       "      <td>2573</td>\n",
       "    </tr>\n",
       "    <tr>\n",
       "      <th>4</th>\n",
       "      <td>2019-08-05</td>\n",
       "      <td>25</td>\n",
       "      <td>124218</td>\n",
       "      <td>23</td>\n",
       "      <td>92428</td>\n",
       "      <td>109</td>\n",
       "      <td>549917</td>\n",
       "      <td>101</td>\n",
       "      <td>581995</td>\n",
       "      <td>756</td>\n",
       "      <td>707</td>\n",
       "      <td>3318</td>\n",
       "      <td>3280</td>\n",
       "    </tr>\n",
       "  </tbody>\n",
       "</table>\n",
       "</div>"
      ],
      "text/plain": [
       "        date  ordersPerDateA  revenuePerDateA  ordersPerDateB  \\\n",
       "0 2019-08-01              24           148579              21   \n",
       "1 2019-08-02              20            93822              24   \n",
       "2 2019-08-03              24           112473              16   \n",
       "3 2019-08-04              16            70825              17   \n",
       "4 2019-08-05              25           124218              23   \n",
       "\n",
       "   revenuePerDateB  ordersCummulativeA  revenueCummulativeA  \\\n",
       "0           101217                  24               148579   \n",
       "1           165531                  44               242401   \n",
       "2           114248                  68               354874   \n",
       "3           108571                  84               425699   \n",
       "4            92428                 109               549917   \n",
       "\n",
       "   ordersCummulativeB  revenueCummulativeB  visitorsPerDateA  \\\n",
       "0                  21               101217               719   \n",
       "1                  45               266748               619   \n",
       "2                  61               380996               507   \n",
       "3                  78               489567               717   \n",
       "4                 101               581995               756   \n",
       "\n",
       "   visitorsPerDateB  visitorsCummulativeA  visitorsCummulativeB  \n",
       "0               713                   719                   713  \n",
       "1               581                  1338                  1294  \n",
       "2               509                  1845                  1803  \n",
       "3               770                  2562                  2573  \n",
       "4               707                  3318                  3280  "
      ]
     },
     "execution_count": 40,
     "metadata": {},
     "output_type": "execute_result"
    }
   ],
   "source": [
    "visitorsADaily = visitors[visitors['group'] == 'A'][['date', 'visitors']]\n",
    "\n",
    "visitorsADaily.columns = ['date', 'visitorsPerDateA']\n",
    "\n",
    "visitorsACummulative = visitorsADaily.apply(\n",
    "    lambda x: visitorsADaily[visitorsADaily['date'] <= x['date']].agg(\n",
    "        {'date': 'max', 'visitorsPerDateA': 'sum'}\n",
    "    ),\n",
    "    axis=1,\n",
    ")\n",
    "visitorsACummulative.columns = ['date', 'visitorsCummulativeA']\n",
    "\n",
    "visitorsBDaily = visitors[visitors['group'] == 'B'][['date', 'visitors']]\n",
    "visitorsBDaily.columns = ['date', 'visitorsPerDateB']\n",
    "\n",
    "visitorsBCummulative = visitorsBDaily.apply(\n",
    "    lambda x: visitorsBDaily[visitorsBDaily['date'] <= x['date']].agg(\n",
    "        {'date': 'max', 'visitorsPerDateB': 'sum'}\n",
    "    ),\n",
    "    axis=1,\n",
    ")\n",
    "visitorsBCummulative.columns = ['date', 'visitorsCummulativeB']\n",
    "\n",
    "ordersADaily = (\n",
    "    orders[orders['group'] == 'A'][['date', 'transactionId', 'visitorId', 'revenue']]\n",
    "    .groupby('date', as_index=False)\n",
    "    .agg({'transactionId': pd.Series.nunique, 'revenue': 'sum'})\n",
    ")\n",
    "ordersADaily.columns = ['date', 'ordersPerDateA', 'revenuePerDateA']\n",
    "\n",
    "ordersACummulative = ordersADaily.apply(\n",
    "    lambda x: ordersADaily[ordersADaily['date'] <= x['date']].agg(\n",
    "        {'date': 'max', 'ordersPerDateA': 'sum', 'revenuePerDateA': 'sum'}\n",
    "    ),\n",
    "    axis=1,\n",
    ").sort_values(by=['date'])\n",
    "ordersACummulative.columns = [\n",
    "    'date',\n",
    "    'ordersCummulativeA',\n",
    "    'revenueCummulativeA',\n",
    "]\n",
    "\n",
    "ordersBDaily = (\n",
    "    orders[orders['group'] == 'B'][['date', 'transactionId', 'visitorId', 'revenue']]\n",
    "    .groupby('date', as_index=False)\n",
    "    .agg({'transactionId': pd.Series.nunique, 'revenue': 'sum'})\n",
    ")\n",
    "ordersBDaily.columns = ['date', 'ordersPerDateB', 'revenuePerDateB']\n",
    "\n",
    "ordersBCummulative = ordersBDaily.apply(\n",
    "    lambda x: ordersBDaily[ordersBDaily['date'] <= x['date']].agg(\n",
    "        {'date': 'max', 'ordersPerDateB': 'sum', 'revenuePerDateB': 'sum'}\n",
    "    ),\n",
    "    axis=1,\n",
    ").sort_values(by=['date'])\n",
    "ordersBCummulative.columns = [\n",
    "    'date',\n",
    "    'ordersCummulativeB',\n",
    "    'revenueCummulativeB',\n",
    "]\n",
    "\n",
    "data = (\n",
    "    ordersADaily.merge(\n",
    "        ordersBDaily, left_on='date', right_on='date', how='left'\n",
    "    )\n",
    "    .merge(ordersACummulative, left_on='date', right_on='date', how='left')\n",
    "    .merge(ordersBCummulative, left_on='date', right_on='date', how='left')\n",
    "    .merge(visitorsADaily, left_on='date', right_on='date', how='left')\n",
    "    .merge(visitorsBDaily, left_on='date', right_on='date', how='left')\n",
    "    .merge(visitorsACummulative, left_on='date', right_on='date', how='left')\n",
    "    .merge(visitorsBCummulative, left_on='date', right_on='date', how='left')\n",
    ")\n",
    "\n",
    "data.head(5)"
   ]
  },
  {
   "cell_type": "markdown",
   "id": "45a11653",
   "metadata": {},
   "source": [
    "Создадим переменные ordersByUsersA и ordersByUsersB со столбцами ['userId', 'orders'], где для пользователей, совершивших хотя бы 1 заказ, будет указано число заказов. "
   ]
  },
  {
   "cell_type": "code",
   "execution_count": 41,
   "id": "32fb46b2",
   "metadata": {},
   "outputs": [],
   "source": [
    "ordersByUsersA = (\n",
    "    orders[orders['group'] == 'A']\n",
    "    .groupby('visitorId', as_index = False)\n",
    "    .agg({'transactionId':pd.Series.nunique})\n",
    ")\n",
    "ordersByUsersA.columns = ['userId','orders']\n",
    "\n",
    "ordersByUsersB = (\n",
    "    orders[orders['group'] == 'B']\n",
    "    .groupby('visitorId', as_index = False)\n",
    "    .agg({'transactionId':pd.Series.nunique})\n",
    ")\n",
    "ordersByUsersB.columns = ['userId','orders']"
   ]
  },
  {
   "cell_type": "markdown",
   "id": "5c859604",
   "metadata": {},
   "source": [
    "Объявим переменные sampleA и sampleB, в которых пользователям с заказами будет соответствовать число заказов пользователя. А пользователям без заказов — нули"
   ]
  },
  {
   "cell_type": "code",
   "execution_count": 42,
   "id": "b64e9f37",
   "metadata": {},
   "outputs": [],
   "source": [
    "sampleA = pd.concat([ordersByUsersA['orders'],pd.Series(0, index=np.arange(data['visitorsPerDateA'].sum() - len(ordersByUsersA['orders'])), name='orders')],axis=0)\n",
    "sampleB = pd.concat([ordersByUsersB['orders'],pd.Series(0, index=np.arange(data['visitorsPerDateB'].sum() - len(ordersByUsersB['orders'])), name='orders')],axis=0) "
   ]
  },
  {
   "cell_type": "markdown",
   "id": "c1ce066a",
   "metadata": {},
   "source": [
    "Посчитаем статистическую значимость различия среднего количества заказов по результатам теста. Применим тест Манна-Уитни. "
   ]
  },
  {
   "cell_type": "code",
   "execution_count": 43,
   "id": "2fc045b9",
   "metadata": {},
   "outputs": [
    {
     "name": "stdout",
     "output_type": "stream",
     "text": [
      "p_value равен 0.01679\n",
      "Относительный прирост среднего группы B к конверсии группы A равен 0.138\n"
     ]
    }
   ],
   "source": [
    "print(f'p_value равен {\"{0:.5f}\".format(stats.mannwhitneyu(sampleA, sampleB)[1])}')\n",
    "print(f'Относительный прирост среднего группы B к конверсии группы A равен {\"{0:.3f}\".format(sampleB.mean() / sampleA.mean() - 1)}')"
   ]
  },
  {
   "cell_type": "markdown",
   "id": "586e29a4",
   "metadata": {},
   "source": [
    "**Промежуточный вывод:** p_value меньше 0.05, поэтому нулевую гипотезу отвергаем. Анализ «сырых данных» сообщает, что в среднем количестве заказов между группами есть статистически значимые различия. Относительный прирост среднего группы B к конверсии группы A равен 13.8%."
   ]
  },
  {
   "cell_type": "markdown",
   "id": "2fded31b",
   "metadata": {},
   "source": [
    "### Посчитайте статистическую значимость различий в среднем чеке заказа между группами по «сырым» данным. Сделайте выводы и предположения."
   ]
  },
  {
   "cell_type": "code",
   "execution_count": 44,
   "id": "65bb8176",
   "metadata": {},
   "outputs": [
    {
     "name": "stdout",
     "output_type": "stream",
     "text": [
      "p_value равен\n",
      "0.729\n",
      "Относительное различие среднего чека между сегментами равно\n",
      "0.259\n"
     ]
    }
   ],
   "source": [
    "print(f'p_value равен')\n",
    "print('{0:.3f}'.format(stats.mannwhitneyu(orders[orders['group']=='A']['revenue'], orders[orders['group']=='B']['revenue'])[1]))\n",
    "print(f'Относительное различие среднего чека между сегментами равно')\n",
    "print('{0:.3f}'.format(orders[orders['group']=='B']['revenue'].mean()/orders[orders['group']=='A']['revenue'].mean()-1)) "
   ]
  },
  {
   "cell_type": "markdown",
   "id": "d90ce360",
   "metadata": {},
   "source": [
    "**Промежуточный вывод:** P_value больше 0.05 - статистически значимых отличий в среднем чеке между группами нет. Относительное различие среднего чека между сегментами 25,9%"
   ]
  },
  {
   "cell_type": "markdown",
   "id": "fd991dbd",
   "metadata": {},
   "source": [
    "### Посчитайте статистическую значимость различий в среднем количестве заказов на посетителя между группами по «очищенным» данным. Сделайте выводы и предположения."
   ]
  },
  {
   "cell_type": "markdown",
   "id": "9a9bb590",
   "metadata": {},
   "source": [
    "Приступаем к подготовке очищенных от аномалий данных. \n",
    "Приступаем к подготовке очищенных от аномалий данных.\n",
    "Напомним, что 95-й и 99-й перцентили средних чеков равны 28.000 и 58233,2 рублям. А 95-й и 99-й перцентили числа заказов на одного пользователя равны 2 и 4 заказам на пользователя. \n",
    "\n",
    "Примем за аномальных пользователей тех, кто совершил 4 заказа и более, или совершил заказ на сумму свыше 30.000 рублей. Так мы уберём 1% пользователей с наибольшим числом заказов и от 1% до 5% заказов с наибольшей стоимостью.\n",
    "\n",
    "Сделаем срезы пользователей с числом заказов больше 3 — usersWithManyOrders и пользователей, совершивших заказы дороже 30.000 — usersWithExpensiveOrders. Объединим их в таблице abnormalUsers, удалим дубликаты, отсортируем по возрастанию. "
   ]
  },
  {
   "cell_type": "code",
   "execution_count": 45,
   "id": "7c87480d",
   "metadata": {},
   "outputs": [],
   "source": [
    "usersWithManyOrders = pd.concat(\n",
    "    [\n",
    "        ordersByUsersA[ordersByUsersA['orders'] > 3]['userId'],\n",
    "        ordersByUsersB[ordersByUsersB['orders'] > 3]['userId'],\n",
    "    ],\n",
    "    axis=0,\n",
    ")"
   ]
  },
  {
   "cell_type": "code",
   "execution_count": 46,
   "id": "d53d321c",
   "metadata": {},
   "outputs": [],
   "source": [
    "usersWithExpensiveOrders = orders[orders['revenue'] > 30000]['visitorId']"
   ]
  },
  {
   "cell_type": "code",
   "execution_count": 47,
   "id": "891bcfcb",
   "metadata": {},
   "outputs": [],
   "source": [
    "abnormalUsers = (\n",
    "    pd.concat([usersWithManyOrders,usersWithExpensiveOrders], axis = 0)\n",
    "    .drop_duplicates()\n",
    "    .sort_values()\n",
    ")"
   ]
  },
  {
   "cell_type": "code",
   "execution_count": 48,
   "id": "d36e20e4",
   "metadata": {},
   "outputs": [
    {
     "data": {
      "text/plain": [
       "1099    148427295\n",
       "18      199603092\n",
       "928     204675465\n",
       "23      237748145\n",
       "684     358944393\n",
       "dtype: int64"
      ]
     },
     "execution_count": 48,
     "metadata": {},
     "output_type": "execute_result"
    }
   ],
   "source": [
    "abnormalUsers.head(5)"
   ]
  },
  {
   "cell_type": "markdown",
   "id": "517997da",
   "metadata": {},
   "source": [
    "Мы получили множество аномальных пользователей, после их удаления мы сможем посчитать статистическую значимость очищенных данных."
   ]
  },
  {
   "cell_type": "markdown",
   "id": "949fe66b",
   "metadata": {},
   "source": [
    "Создайте переменные sampleAFiltered и sampleBFiltered, в которых сохраните очищенные данные о заказах — не включая аномальных пользователей. "
   ]
  },
  {
   "cell_type": "code",
   "execution_count": 49,
   "id": "689a1800",
   "metadata": {},
   "outputs": [],
   "source": [
    "sampleAFiltered = pd.concat(\n",
    "    [\n",
    "        ordersByUsersA[\n",
    "            np.logical_not(ordersByUsersA['userId'].isin(abnormalUsers))\n",
    "        ]['orders'],\n",
    "        pd.Series(\n",
    "            0,\n",
    "            index=np.arange(\n",
    "                data['visitorsPerDateA'].sum() - len(ordersByUsersA['orders'])\n",
    "            ),\n",
    "            name='orders',\n",
    "        ),\n",
    "    ],\n",
    "    axis=0,\n",
    ")\n",
    "\n",
    "sampleBFiltered = pd.concat(\n",
    "    [\n",
    "        ordersByUsersB[\n",
    "            np.logical_not(ordersByUsersB['userId'].isin(abnormalUsers))\n",
    "        ]['orders'],\n",
    "        pd.Series(\n",
    "            0,\n",
    "            index=np.arange(\n",
    "                data['visitorsPerDateB'].sum() - len(ordersByUsersB['orders'])\n",
    "            ),\n",
    "            name='orders',\n",
    "        ),\n",
    "    ],\n",
    "    axis=0,\n",
    ")\n"
   ]
  },
  {
   "cell_type": "code",
   "execution_count": 50,
   "id": "ff7fcf13",
   "metadata": {},
   "outputs": [
    {
     "name": "stdout",
     "output_type": "stream",
     "text": [
      "p_value равен\n",
      "0.01832\n",
      "Относительный прирост среднего группы B к конверсии группы A равен\n",
      "0.148\n"
     ]
    }
   ],
   "source": [
    "print(f'p_value равен')\n",
    "print('{0:.5f}'.format(stats.mannwhitneyu(sampleAFiltered, sampleBFiltered)[1]))\n",
    "print(f'Относительный прирост среднего группы B к конверсии группы A равен')\n",
    "print('{0:.3f}'.format(sampleBFiltered.mean()/sampleAFiltered.mean()-1))"
   ]
  },
  {
   "cell_type": "markdown",
   "id": "35abaee8",
   "metadata": {},
   "source": [
    "**Промежуточный вывод:** Как и в случае c сырыми данными, p_value меньше 0.05, поэтому нулевую гипотезу отвергаем. Анализ «сырых данных» сообщает, что в среднем количестве заказов между группами есть статистически значимые различия. Относительный прирост среднего группы B к конверсии группы A равен 14.8%. Сегемент B значительно лучше сегмента A."
   ]
  },
  {
   "cell_type": "markdown",
   "id": "0e524af0",
   "metadata": {},
   "source": [
    "### Посчитайте статистическую значимость различий в среднем чеке заказа между группами по «очищенным» данным. Сделайте выводы и предположения."
   ]
  },
  {
   "cell_type": "code",
   "execution_count": 51,
   "id": "de201cf6",
   "metadata": {},
   "outputs": [
    {
     "name": "stdout",
     "output_type": "stream",
     "text": [
      "p_value = 0.958\n",
      "Относительное различие среднего чека между сегментами =  -0.02\n"
     ]
    }
   ],
   "source": [
    "orders_cleaned = orders[~orders['visitorId'].isin(abnormalUsers)]\n",
    "\n",
    "group_a = orders_cleaned[orders_cleaned['group'] == 'A']['revenue']\n",
    "group_b = orders_cleaned[orders_cleaned['group'] == 'B']['revenue']\n",
    "\n",
    "mean_a = group_a.mean()\n",
    "mean_b = group_b.mean()\n",
    "\n",
    "stat, p_value = stats.mannwhitneyu(group_a, group_b)\n",
    "\n",
    "p_value_rounded = round(p_value, 3)\n",
    "\n",
    "relative_growth = (mean_b - mean_a) / mean_a\n",
    "\n",
    "relative_growth_rounded = round(relative_growth, 3)\n",
    "\n",
    "\n",
    "print(f'p_value = {p_value_rounded}')\n",
    "print(f'Относительное различие среднего чека между сегментами =  {relative_growth_rounded}')\n"
   ]
  },
  {
   "cell_type": "markdown",
   "id": "58d5ba70",
   "metadata": {},
   "source": [
    "**Промежуточный вывод:** \n",
    "Статистическая значимость (p-value):\n",
    "\n",
    "До очистки данных: p-value равен 0.729, что значительно выше стандартного порога значимости 0.05. Это означает, что различия между средними чеками групп A и B не являются статистически значимыми.\n",
    "После очистки данных: p-value равен 0.958, что еще выше и также значительно превышает порог значимости 0.05. Это подтверждает, что различия между средними чеками групп A и B остаются незначимыми.\n",
    "Относительное различие среднего чека:\n",
    "\n",
    "До очистки данных: Относительное различие среднего чека между сегментами равно 0.259, что указывает на увеличение среднего чека в группе B на 25.9% по сравнению с группой A.\n",
    "После очистки данных: Относительное различие среднего чека между сегментами равно -0.02, что указывает на небольшое снижение среднего чека в группе B на 2% по сравнению с группой A."
   ]
  },
  {
   "cell_type": "markdown",
   "id": "0661b6b4",
   "metadata": {},
   "source": [
    "### Количество групп в АВ-тесте"
   ]
  },
  {
   "cell_type": "markdown",
   "id": "fbb1527f",
   "metadata": {},
   "source": [
    "### Даты начала и окончания теста"
   ]
  },
  {
   "cell_type": "code",
   "execution_count": 52,
   "id": "1e2ed4ac",
   "metadata": {},
   "outputs": [
    {
     "name": "stdout",
     "output_type": "stream",
     "text": [
      "2019-08-01 00:00:00\n",
      "2019-08-31 00:00:00\n",
      "30 days 00:00:00\n"
     ]
    }
   ],
   "source": [
    "print(ordersADaily['date'].min())\n",
    "print(ordersADaily['date'].max())\n",
    "print(ordersBDaily['date'].max()-ordersBDaily['date'].min())"
   ]
  },
  {
   "cell_type": "markdown",
   "id": "fb24fee1",
   "metadata": {},
   "source": [
    "**Промежуточный вывод:** Дата начала теста : 2019-08-01, дата окончания теста : 2019-08-31. Тест длился 30 дней."
   ]
  },
  {
   "cell_type": "markdown",
   "id": "bbe1dde5",
   "metadata": {},
   "source": [
    "### Количество пользователей в каждой группе - по таблице с заказами"
   ]
  },
  {
   "cell_type": "code",
   "execution_count": 53,
   "id": "7f078c8a",
   "metadata": {},
   "outputs": [
    {
     "data": {
      "text/plain": [
       "503"
      ]
     },
     "execution_count": 53,
     "metadata": {},
     "output_type": "execute_result"
    }
   ],
   "source": [
    "ordersByUsersA['userId'].nunique()"
   ]
  },
  {
   "cell_type": "code",
   "execution_count": 54,
   "id": "0d612074",
   "metadata": {},
   "outputs": [
    {
     "data": {
      "text/plain": [
       "586"
      ]
     },
     "execution_count": 54,
     "metadata": {},
     "output_type": "execute_result"
    }
   ],
   "source": [
    "ordersByUsersB['userId'].nunique()"
   ]
  },
  {
   "cell_type": "markdown",
   "id": "8496d05e",
   "metadata": {},
   "source": [
    "**Промежуточный вывод:** В группе A - 503 пользователя, в группе B - 586 пользователей "
   ]
  },
  {
   "cell_type": "markdown",
   "id": "19dde91f",
   "metadata": {},
   "source": [
    "### Вероятность попадания пользователей в обе группы - по таблице с заказами.\n"
   ]
  },
  {
   "cell_type": "code",
   "execution_count": 55,
   "id": "95cc589f",
   "metadata": {},
   "outputs": [
    {
     "name": "stdout",
     "output_type": "stream",
     "text": [
      "Количество уникальных пользователей в группе A: 503\n",
      "Количество уникальных пользователей в группе B: 586\n",
      "Общее количество уникальных пользователей: 1031\n",
      "Вероятность попадания пользователей в группу A: 48.79%\n",
      "Вероятность попадания пользователей в группу B: 56.84%\n"
     ]
    }
   ],
   "source": [
    "users_in_group_a = orders[orders['group'] == 'A']['visitorId'].nunique()\n",
    "users_in_group_b = orders[orders['group'] == 'B']['visitorId'].nunique()\n",
    "\n",
    "# Общее количество уникальных пользователей\n",
    "total_unique_users = orders['visitorId'].nunique()\n",
    "\n",
    "# Вероятность попадания пользователей в группу A\n",
    "probability_in_group_a = users_in_group_a / total_unique_users * 100\n",
    "\n",
    "# Вероятность попадания пользователей в группу B\n",
    "probability_in_group_b = users_in_group_b / total_unique_users * 100\n",
    "\n",
    "# Вывод результатов\n",
    "print(f\"Количество уникальных пользователей в группе A: {users_in_group_a}\")\n",
    "print(f\"Количество уникальных пользователей в группе B: {users_in_group_b}\")\n",
    "print(f\"Общее количество уникальных пользователей: {total_unique_users}\")\n",
    "print(f\"Вероятность попадания пользователей в группу A: {probability_in_group_a:.2f}%\")\n",
    "print(f\"Вероятность попадания пользователей в группу B: {probability_in_group_b:.2f}%\")"
   ]
  },
  {
   "cell_type": "markdown",
   "id": "4aab20a4",
   "metadata": {},
   "source": [
    "**Промежуточный вывод:**\n",
    "- Вероятность попадания пользователей в группу A: 48.79%\n",
    "- Вероятность попадания пользователей в группу B: 56.84%"
   ]
  },
  {
   "cell_type": "markdown",
   "id": "d2c271cb",
   "metadata": {},
   "source": [
    "## Общий вывод: "
   ]
  },
  {
   "cell_type": "markdown",
   "id": "8167e76d",
   "metadata": {},
   "source": [
    "## Выводы из приоритизации гипотез:\n",
    "\n",
    "В первых четырех лидирующих позициях гипотезы для ICE - 8, 0, 7, 6 и RICE - 7, 2, 0, 6 Они пересекаются между собой в гипотезах 0, 6, 7 Разница результатов зависит от дополнительного параметра reach в RICE, который показывает скольких пользователей затронет изменение, которое вы хотите внести, для гипотезы 7 параметр reach = 10, поэтому этот параметр входит в топ-4, а параметр 8 имеет reach = 1, поэтому он не вошел в топ - 4 RICE, в итоге самые подходящие гипотезы находятся на местах 0, 6, 7.\n",
    "\n",
    "## Выводы из A/B - теста:\n",
    "\n",
    "- Есть статистически значимое различие по конверсии между группами как по сырым данным, так и после фильтрации аномалий.\n",
    "\n",
    "- По сырым данным нет статистически значимого различия по среднему чеку между группами. Однако после удаления аномалий статистически значимое различие есть.\n",
    "\n",
    "- График различия конверсии между группами сообщает, что результаты группы B лучше группы A: имеют тенденцию к росту, либо зафиксировались около среднего значения.\n",
    "\n",
    "Поэтому можно принять решение остановить тест и признать его успешным."
   ]
  }
 ],
 "metadata": {
  "ExecuteTimeLog": [
   {
    "duration": 49,
    "start_time": "2024-09-10T11:27:28.957Z"
   },
   {
    "duration": 6,
    "start_time": "2024-09-10T11:27:46.936Z"
   },
   {
    "duration": 1465,
    "start_time": "2024-09-10T11:27:55.627Z"
   },
   {
    "duration": 240,
    "start_time": "2024-09-10T11:27:57.094Z"
   },
   {
    "duration": 3,
    "start_time": "2024-09-10T11:27:57.336Z"
   },
   {
    "duration": 38,
    "start_time": "2024-09-10T11:27:57.343Z"
   },
   {
    "duration": 10,
    "start_time": "2024-09-10T11:27:57.383Z"
   },
   {
    "duration": 35,
    "start_time": "2024-09-10T11:27:57.394Z"
   },
   {
    "duration": 6,
    "start_time": "2024-09-10T11:27:57.431Z"
   },
   {
    "duration": 7,
    "start_time": "2024-09-10T11:27:57.439Z"
   },
   {
    "duration": 16,
    "start_time": "2024-09-10T11:27:57.447Z"
   },
   {
    "duration": 30,
    "start_time": "2024-09-10T11:27:57.465Z"
   },
   {
    "duration": 3,
    "start_time": "2024-09-10T11:27:57.497Z"
   },
   {
    "duration": 26,
    "start_time": "2024-09-10T11:27:57.502Z"
   },
   {
    "duration": 14,
    "start_time": "2024-09-10T11:27:57.530Z"
   },
   {
    "duration": 15,
    "start_time": "2024-09-10T11:27:57.546Z"
   },
   {
    "duration": 24,
    "start_time": "2024-09-10T11:27:57.563Z"
   },
   {
    "duration": 21,
    "start_time": "2024-09-10T11:27:57.589Z"
   },
   {
    "duration": 190,
    "start_time": "2024-09-10T11:27:57.613Z"
   },
   {
    "duration": 131,
    "start_time": "2024-09-10T11:27:57.805Z"
   },
   {
    "duration": 7,
    "start_time": "2024-09-10T11:27:57.938Z"
   },
   {
    "duration": 3,
    "start_time": "2024-09-10T11:27:57.955Z"
   },
   {
    "duration": 26,
    "start_time": "2024-09-10T11:27:57.959Z"
   },
   {
    "duration": 26,
    "start_time": "2024-09-10T11:27:57.986Z"
   },
   {
    "duration": 272,
    "start_time": "2024-09-10T11:27:58.014Z"
   },
   {
    "duration": 190,
    "start_time": "2024-09-10T11:27:58.288Z"
   },
   {
    "duration": 6,
    "start_time": "2024-09-10T11:27:58.480Z"
   },
   {
    "duration": 308,
    "start_time": "2024-09-10T11:27:58.488Z"
   },
   {
    "duration": 4,
    "start_time": "2024-09-10T11:27:58.798Z"
   },
   {
    "duration": 13,
    "start_time": "2024-09-10T11:27:58.806Z"
   },
   {
    "duration": 184,
    "start_time": "2024-09-10T11:27:58.820Z"
   },
   {
    "duration": 7,
    "start_time": "2024-09-10T11:27:59.006Z"
   },
   {
    "duration": 291,
    "start_time": "2024-09-10T11:27:59.015Z"
   },
   {
    "duration": 7,
    "start_time": "2024-09-10T11:27:59.307Z"
   },
   {
    "duration": 5,
    "start_time": "2024-09-10T11:27:59.315Z"
   },
   {
    "duration": 17,
    "start_time": "2024-09-10T11:27:59.322Z"
   },
   {
    "duration": 125,
    "start_time": "2024-09-10T11:27:59.341Z"
   },
   {
    "duration": 127,
    "start_time": "2024-09-10T11:27:59.468Z"
   },
   {
    "duration": 5,
    "start_time": "2024-09-10T11:27:59.597Z"
   },
   {
    "duration": 144,
    "start_time": "2024-09-10T11:27:59.604Z"
   },
   {
    "duration": 9,
    "start_time": "2024-09-10T11:27:59.750Z"
   },
   {
    "duration": 344,
    "start_time": "2024-09-10T11:27:59.761Z"
   },
   {
    "duration": 169,
    "start_time": "2024-09-10T11:28:00.107Z"
   },
   {
    "duration": 6,
    "start_time": "2024-09-10T11:28:00.278Z"
   },
   {
    "duration": 65,
    "start_time": "2024-09-10T11:28:00.286Z"
   },
   {
    "duration": 18,
    "start_time": "2024-09-10T11:28:00.353Z"
   },
   {
    "duration": 17,
    "start_time": "2024-09-10T11:28:00.372Z"
   },
   {
    "duration": 24,
    "start_time": "2024-09-10T11:28:00.391Z"
   },
   {
    "duration": 33,
    "start_time": "2024-09-10T11:28:00.416Z"
   },
   {
    "duration": 8,
    "start_time": "2024-09-10T11:28:00.450Z"
   },
   {
    "duration": 9,
    "start_time": "2024-09-10T11:28:00.460Z"
   },
   {
    "duration": 30,
    "start_time": "2024-09-10T11:28:00.471Z"
   },
   {
    "duration": 12,
    "start_time": "2024-09-10T11:28:00.503Z"
   },
   {
    "duration": 3,
    "start_time": "2024-09-10T11:28:30.003Z"
   },
   {
    "duration": 11,
    "start_time": "2024-09-10T11:28:30.456Z"
   },
   {
    "duration": 1189,
    "start_time": "2024-09-10T11:28:35.568Z"
   },
   {
    "duration": 79,
    "start_time": "2024-09-10T11:28:36.760Z"
   },
   {
    "duration": 3,
    "start_time": "2024-09-10T11:28:36.841Z"
   },
   {
    "duration": 16,
    "start_time": "2024-09-10T11:28:36.846Z"
   },
   {
    "duration": 55,
    "start_time": "2024-09-10T11:28:36.864Z"
   },
   {
    "duration": 20,
    "start_time": "2024-09-10T11:28:36.921Z"
   },
   {
    "duration": 24,
    "start_time": "2024-09-10T11:28:36.943Z"
   },
   {
    "duration": 30,
    "start_time": "2024-09-10T11:28:36.968Z"
   },
   {
    "duration": 12,
    "start_time": "2024-09-10T11:28:37.000Z"
   },
   {
    "duration": 27,
    "start_time": "2024-09-10T11:28:37.014Z"
   },
   {
    "duration": 3,
    "start_time": "2024-09-10T11:28:37.042Z"
   },
   {
    "duration": 16,
    "start_time": "2024-09-10T11:28:37.047Z"
   },
   {
    "duration": 13,
    "start_time": "2024-09-10T11:28:37.065Z"
   },
   {
    "duration": 10,
    "start_time": "2024-09-10T11:28:37.080Z"
   },
   {
    "duration": 27,
    "start_time": "2024-09-10T11:28:37.091Z"
   },
   {
    "duration": 10,
    "start_time": "2024-09-10T11:28:37.120Z"
   },
   {
    "duration": 186,
    "start_time": "2024-09-10T11:28:37.131Z"
   },
   {
    "duration": 130,
    "start_time": "2024-09-10T11:28:37.319Z"
   },
   {
    "duration": 7,
    "start_time": "2024-09-10T11:28:37.451Z"
   },
   {
    "duration": 7,
    "start_time": "2024-09-10T11:28:37.460Z"
   },
   {
    "duration": 23,
    "start_time": "2024-09-10T11:28:37.468Z"
   },
   {
    "duration": 13,
    "start_time": "2024-09-10T11:28:37.492Z"
   },
   {
    "duration": 293,
    "start_time": "2024-09-10T11:28:37.507Z"
   },
   {
    "duration": 190,
    "start_time": "2024-09-10T11:28:37.803Z"
   },
   {
    "duration": 6,
    "start_time": "2024-09-10T11:28:37.995Z"
   },
   {
    "duration": 266,
    "start_time": "2024-09-10T11:28:38.003Z"
   },
   {
    "duration": 4,
    "start_time": "2024-09-10T11:28:38.271Z"
   },
   {
    "duration": 31,
    "start_time": "2024-09-10T11:28:38.279Z"
   },
   {
    "duration": 170,
    "start_time": "2024-09-10T11:28:38.312Z"
   },
   {
    "duration": 8,
    "start_time": "2024-09-10T11:28:38.483Z"
   },
   {
    "duration": 343,
    "start_time": "2024-09-10T11:28:38.493Z"
   },
   {
    "duration": 6,
    "start_time": "2024-09-10T11:28:38.838Z"
   },
   {
    "duration": 27,
    "start_time": "2024-09-10T11:28:38.846Z"
   },
   {
    "duration": 24,
    "start_time": "2024-09-10T11:28:38.875Z"
   },
   {
    "duration": 127,
    "start_time": "2024-09-10T11:28:38.901Z"
   },
   {
    "duration": 115,
    "start_time": "2024-09-10T11:28:39.029Z"
   },
   {
    "duration": 12,
    "start_time": "2024-09-10T11:28:39.146Z"
   },
   {
    "duration": 152,
    "start_time": "2024-09-10T11:28:39.160Z"
   },
   {
    "duration": 4,
    "start_time": "2024-09-10T11:28:39.313Z"
   },
   {
    "duration": 323,
    "start_time": "2024-09-10T11:28:39.319Z"
   },
   {
    "duration": 154,
    "start_time": "2024-09-10T11:28:39.643Z"
   },
   {
    "duration": 7,
    "start_time": "2024-09-10T11:28:39.798Z"
   },
   {
    "duration": 27,
    "start_time": "2024-09-10T11:28:39.806Z"
   },
   {
    "duration": 28,
    "start_time": "2024-09-10T11:28:39.834Z"
   },
   {
    "duration": 15,
    "start_time": "2024-09-10T11:28:39.863Z"
   },
   {
    "duration": 22,
    "start_time": "2024-09-10T11:28:39.880Z"
   },
   {
    "duration": 31,
    "start_time": "2024-09-10T11:28:39.904Z"
   },
   {
    "duration": 13,
    "start_time": "2024-09-10T11:28:39.937Z"
   },
   {
    "duration": 20,
    "start_time": "2024-09-10T11:28:39.951Z"
   },
   {
    "duration": 49,
    "start_time": "2024-09-10T11:28:39.973Z"
   },
   {
    "duration": 13,
    "start_time": "2024-09-10T11:28:40.023Z"
   },
   {
    "duration": 88,
    "start_time": "2024-09-10T11:29:44.544Z"
   },
   {
    "duration": 13,
    "start_time": "2024-09-10T11:30:35.786Z"
   },
   {
    "duration": 16,
    "start_time": "2024-09-10T11:31:25.488Z"
   },
   {
    "duration": 1251,
    "start_time": "2024-09-10T11:31:35.939Z"
   },
   {
    "duration": 82,
    "start_time": "2024-09-10T11:31:37.193Z"
   },
   {
    "duration": 3,
    "start_time": "2024-09-10T11:31:37.276Z"
   },
   {
    "duration": 14,
    "start_time": "2024-09-10T11:31:37.281Z"
   },
   {
    "duration": 8,
    "start_time": "2024-09-10T11:31:37.297Z"
   },
   {
    "duration": 8,
    "start_time": "2024-09-10T11:31:37.307Z"
   },
   {
    "duration": 17,
    "start_time": "2024-09-10T11:31:37.316Z"
   },
   {
    "duration": 27,
    "start_time": "2024-09-10T11:31:37.335Z"
   },
   {
    "duration": 16,
    "start_time": "2024-09-10T11:31:37.364Z"
   },
   {
    "duration": 28,
    "start_time": "2024-09-10T11:31:37.381Z"
   },
   {
    "duration": 3,
    "start_time": "2024-09-10T11:31:37.411Z"
   },
   {
    "duration": 15,
    "start_time": "2024-09-10T11:31:37.415Z"
   },
   {
    "duration": 13,
    "start_time": "2024-09-10T11:31:37.431Z"
   },
   {
    "duration": 8,
    "start_time": "2024-09-10T11:31:37.455Z"
   },
   {
    "duration": 18,
    "start_time": "2024-09-10T11:31:37.464Z"
   },
   {
    "duration": 15,
    "start_time": "2024-09-10T11:31:37.483Z"
   },
   {
    "duration": 210,
    "start_time": "2024-09-10T11:31:37.500Z"
   },
   {
    "duration": 146,
    "start_time": "2024-09-10T11:31:37.711Z"
   },
   {
    "duration": 8,
    "start_time": "2024-09-10T11:31:37.858Z"
   },
   {
    "duration": 24,
    "start_time": "2024-09-10T11:31:37.868Z"
   },
   {
    "duration": 15,
    "start_time": "2024-09-10T11:31:37.894Z"
   },
   {
    "duration": 12,
    "start_time": "2024-09-10T11:31:37.910Z"
   },
   {
    "duration": 287,
    "start_time": "2024-09-10T11:31:37.924Z"
   },
   {
    "duration": 199,
    "start_time": "2024-09-10T11:31:38.213Z"
   },
   {
    "duration": 6,
    "start_time": "2024-09-10T11:31:38.414Z"
   },
   {
    "duration": 327,
    "start_time": "2024-09-10T11:31:38.422Z"
   },
   {
    "duration": 4,
    "start_time": "2024-09-10T11:31:38.755Z"
   },
   {
    "duration": 11,
    "start_time": "2024-09-10T11:31:38.761Z"
   },
   {
    "duration": 201,
    "start_time": "2024-09-10T11:31:38.774Z"
   },
   {
    "duration": 8,
    "start_time": "2024-09-10T11:31:38.976Z"
   },
   {
    "duration": 292,
    "start_time": "2024-09-10T11:31:38.985Z"
   },
   {
    "duration": 6,
    "start_time": "2024-09-10T11:31:39.278Z"
   },
   {
    "duration": 4,
    "start_time": "2024-09-10T11:31:39.286Z"
   },
   {
    "duration": 16,
    "start_time": "2024-09-10T11:31:39.291Z"
   },
   {
    "duration": 128,
    "start_time": "2024-09-10T11:31:39.308Z"
   },
   {
    "duration": 120,
    "start_time": "2024-09-10T11:31:39.437Z"
   },
   {
    "duration": 4,
    "start_time": "2024-09-10T11:31:39.559Z"
   },
   {
    "duration": 140,
    "start_time": "2024-09-10T11:31:39.565Z"
   },
   {
    "duration": 5,
    "start_time": "2024-09-10T11:31:39.707Z"
   },
   {
    "duration": 349,
    "start_time": "2024-09-10T11:31:39.713Z"
   },
   {
    "duration": 166,
    "start_time": "2024-09-10T11:31:40.066Z"
   },
   {
    "duration": 6,
    "start_time": "2024-09-10T11:31:40.233Z"
   },
   {
    "duration": 45,
    "start_time": "2024-09-10T11:31:40.241Z"
   },
   {
    "duration": 21,
    "start_time": "2024-09-10T11:31:40.288Z"
   },
   {
    "duration": 27,
    "start_time": "2024-09-10T11:31:40.311Z"
   },
   {
    "duration": 16,
    "start_time": "2024-09-10T11:31:40.340Z"
   },
   {
    "duration": 22,
    "start_time": "2024-09-10T11:31:40.358Z"
   },
   {
    "duration": 15,
    "start_time": "2024-09-10T11:31:40.382Z"
   },
   {
    "duration": 14,
    "start_time": "2024-09-10T11:31:40.398Z"
   },
   {
    "duration": 44,
    "start_time": "2024-09-10T11:31:40.414Z"
   },
   {
    "duration": 11,
    "start_time": "2024-09-10T11:31:40.460Z"
   },
   {
    "duration": 249,
    "start_time": "2024-09-10T11:41:09.053Z"
   },
   {
    "duration": 226,
    "start_time": "2024-09-10T11:41:16.775Z"
   },
   {
    "duration": 222,
    "start_time": "2024-09-10T11:41:21.518Z"
   },
   {
    "duration": 239,
    "start_time": "2024-09-10T11:42:29.536Z"
   },
   {
    "duration": 224,
    "start_time": "2024-09-10T11:42:34.906Z"
   },
   {
    "duration": 270,
    "start_time": "2024-09-10T11:42:44.324Z"
   },
   {
    "duration": 220,
    "start_time": "2024-09-10T11:42:54.835Z"
   },
   {
    "duration": 244,
    "start_time": "2024-09-10T11:42:58.934Z"
   },
   {
    "duration": 234,
    "start_time": "2024-09-10T11:43:22.699Z"
   },
   {
    "duration": 231,
    "start_time": "2024-09-10T11:43:42.344Z"
   },
   {
    "duration": 232,
    "start_time": "2024-09-10T11:44:00.039Z"
   },
   {
    "duration": 354,
    "start_time": "2024-09-10T11:44:29.871Z"
   },
   {
    "duration": 221,
    "start_time": "2024-09-10T11:45:07.168Z"
   },
   {
    "duration": 231,
    "start_time": "2024-09-10T11:45:20.803Z"
   },
   {
    "duration": 243,
    "start_time": "2024-09-10T11:46:18.795Z"
   },
   {
    "duration": 237,
    "start_time": "2024-09-10T11:53:25.499Z"
   },
   {
    "duration": 157,
    "start_time": "2024-09-10T11:53:32.053Z"
   },
   {
    "duration": 84,
    "start_time": "2024-09-10T11:54:02.523Z"
   },
   {
    "duration": 324,
    "start_time": "2024-09-10T11:54:27.740Z"
   },
   {
    "duration": 343,
    "start_time": "2024-09-10T11:54:49.765Z"
   },
   {
    "duration": 335,
    "start_time": "2024-09-10T11:55:08.366Z"
   },
   {
    "duration": 299,
    "start_time": "2024-09-10T11:55:41.506Z"
   },
   {
    "duration": 60,
    "start_time": "2024-09-10T14:54:15.868Z"
   },
   {
    "duration": 1410,
    "start_time": "2024-09-10T14:54:20.254Z"
   },
   {
    "duration": 257,
    "start_time": "2024-09-10T14:54:21.673Z"
   },
   {
    "duration": 4,
    "start_time": "2024-09-10T14:54:21.931Z"
   },
   {
    "duration": 84,
    "start_time": "2024-09-10T14:54:21.936Z"
   },
   {
    "duration": 7,
    "start_time": "2024-09-10T14:54:22.022Z"
   },
   {
    "duration": 8,
    "start_time": "2024-09-10T14:54:22.030Z"
   },
   {
    "duration": 36,
    "start_time": "2024-09-10T14:54:22.040Z"
   },
   {
    "duration": 8,
    "start_time": "2024-09-10T14:54:22.079Z"
   },
   {
    "duration": 26,
    "start_time": "2024-09-10T14:54:22.089Z"
   },
   {
    "duration": 31,
    "start_time": "2024-09-10T14:54:22.116Z"
   },
   {
    "duration": 4,
    "start_time": "2024-09-10T14:54:22.148Z"
   },
   {
    "duration": 51,
    "start_time": "2024-09-10T14:54:22.153Z"
   },
   {
    "duration": 14,
    "start_time": "2024-09-10T14:54:22.205Z"
   },
   {
    "duration": 12,
    "start_time": "2024-09-10T14:54:22.221Z"
   },
   {
    "duration": 12,
    "start_time": "2024-09-10T14:54:22.235Z"
   },
   {
    "duration": 85,
    "start_time": "2024-09-10T14:54:22.248Z"
   },
   {
    "duration": 175,
    "start_time": "2024-09-10T14:54:22.335Z"
   },
   {
    "duration": 131,
    "start_time": "2024-09-10T14:54:22.511Z"
   },
   {
    "duration": 15,
    "start_time": "2024-09-10T14:54:22.657Z"
   },
   {
    "duration": 5,
    "start_time": "2024-09-10T14:54:22.677Z"
   },
   {
    "duration": 10,
    "start_time": "2024-09-10T14:54:22.683Z"
   },
   {
    "duration": 6,
    "start_time": "2024-09-10T14:54:22.695Z"
   },
   {
    "duration": 359,
    "start_time": "2024-09-10T14:54:22.702Z"
   },
   {
    "duration": 246,
    "start_time": "2024-09-10T14:54:23.062Z"
   },
   {
    "duration": 6,
    "start_time": "2024-09-10T14:54:23.309Z"
   },
   {
    "duration": 396,
    "start_time": "2024-09-10T14:54:23.317Z"
   },
   {
    "duration": 4,
    "start_time": "2024-09-10T14:54:23.715Z"
   },
   {
    "duration": 25,
    "start_time": "2024-09-10T14:54:23.720Z"
   },
   {
    "duration": 177,
    "start_time": "2024-09-10T14:54:23.746Z"
   },
   {
    "duration": 7,
    "start_time": "2024-09-10T14:54:23.925Z"
   },
   {
    "duration": 305,
    "start_time": "2024-09-10T14:54:23.934Z"
   },
   {
    "duration": 8,
    "start_time": "2024-09-10T14:54:24.254Z"
   },
   {
    "duration": 68,
    "start_time": "2024-09-10T14:54:24.263Z"
   },
   {
    "duration": 52,
    "start_time": "2024-09-10T14:54:24.333Z"
   },
   {
    "duration": 130,
    "start_time": "2024-09-10T14:54:24.387Z"
   },
   {
    "duration": 112,
    "start_time": "2024-09-10T14:54:24.519Z"
   },
   {
    "duration": 4,
    "start_time": "2024-09-10T14:54:24.633Z"
   },
   {
    "duration": 145,
    "start_time": "2024-09-10T14:54:24.653Z"
   },
   {
    "duration": 4,
    "start_time": "2024-09-10T14:54:24.799Z"
   },
   {
    "duration": 317,
    "start_time": "2024-09-10T14:54:24.805Z"
   },
   {
    "duration": 160,
    "start_time": "2024-09-10T14:54:25.127Z"
   },
   {
    "duration": 7,
    "start_time": "2024-09-10T14:54:25.289Z"
   },
   {
    "duration": 27,
    "start_time": "2024-09-10T14:54:25.298Z"
   },
   {
    "duration": 29,
    "start_time": "2024-09-10T14:54:25.327Z"
   },
   {
    "duration": 8,
    "start_time": "2024-09-10T14:54:25.364Z"
   },
   {
    "duration": 7,
    "start_time": "2024-09-10T14:54:25.378Z"
   },
   {
    "duration": 11,
    "start_time": "2024-09-10T14:54:25.387Z"
   },
   {
    "duration": 18,
    "start_time": "2024-09-10T14:54:25.399Z"
   },
   {
    "duration": 11,
    "start_time": "2024-09-10T14:54:25.419Z"
   },
   {
    "duration": 48,
    "start_time": "2024-09-10T14:54:25.431Z"
   },
   {
    "duration": 14,
    "start_time": "2024-09-10T14:54:25.481Z"
   },
   {
    "duration": 202,
    "start_time": "2024-09-10T15:16:16.769Z"
   },
   {
    "duration": 324,
    "start_time": "2024-09-10T15:16:27.543Z"
   },
   {
    "duration": 223,
    "start_time": "2024-09-10T15:18:16.251Z"
   },
   {
    "duration": 285,
    "start_time": "2024-09-10T15:19:13.115Z"
   },
   {
    "duration": 316,
    "start_time": "2024-09-10T15:19:34.755Z"
   },
   {
    "duration": 149,
    "start_time": "2024-09-10T15:19:53.417Z"
   },
   {
    "duration": 122,
    "start_time": "2024-09-10T15:19:57.444Z"
   },
   {
    "duration": 118,
    "start_time": "2024-09-10T15:20:01.418Z"
   },
   {
    "duration": 123,
    "start_time": "2024-09-10T15:20:06.989Z"
   },
   {
    "duration": 131,
    "start_time": "2024-09-10T15:20:12.076Z"
   },
   {
    "duration": 245,
    "start_time": "2024-09-10T15:21:18.900Z"
   },
   {
    "duration": 144,
    "start_time": "2024-09-10T15:22:00.051Z"
   },
   {
    "duration": 122,
    "start_time": "2024-09-10T16:09:45.744Z"
   },
   {
    "duration": 172,
    "start_time": "2024-09-10T16:10:07.151Z"
   },
   {
    "duration": 142,
    "start_time": "2024-09-10T16:10:25.420Z"
   },
   {
    "duration": 146,
    "start_time": "2024-09-10T16:14:10.581Z"
   },
   {
    "duration": 156,
    "start_time": "2024-09-10T16:14:32.231Z"
   },
   {
    "duration": 152,
    "start_time": "2024-09-10T16:15:05.226Z"
   },
   {
    "duration": 3,
    "start_time": "2024-09-10T16:21:06.975Z"
   },
   {
    "duration": 1156,
    "start_time": "2024-09-10T16:21:57.616Z"
   },
   {
    "duration": 78,
    "start_time": "2024-09-10T16:21:58.774Z"
   },
   {
    "duration": 4,
    "start_time": "2024-09-10T16:21:58.853Z"
   },
   {
    "duration": 27,
    "start_time": "2024-09-10T16:21:58.859Z"
   },
   {
    "duration": 8,
    "start_time": "2024-09-10T16:21:58.888Z"
   },
   {
    "duration": 16,
    "start_time": "2024-09-10T16:21:58.898Z"
   },
   {
    "duration": 25,
    "start_time": "2024-09-10T16:21:58.915Z"
   },
   {
    "duration": 5,
    "start_time": "2024-09-10T16:21:58.942Z"
   },
   {
    "duration": 5,
    "start_time": "2024-09-10T16:21:58.949Z"
   },
   {
    "duration": 24,
    "start_time": "2024-09-10T16:21:58.957Z"
   },
   {
    "duration": 3,
    "start_time": "2024-09-10T16:21:58.983Z"
   },
   {
    "duration": 19,
    "start_time": "2024-09-10T16:21:58.988Z"
   },
   {
    "duration": 13,
    "start_time": "2024-09-10T16:21:59.008Z"
   },
   {
    "duration": 121,
    "start_time": "2024-09-10T16:21:59.023Z"
   },
   {
    "duration": 0,
    "start_time": "2024-09-10T16:21:59.147Z"
   },
   {
    "duration": 0,
    "start_time": "2024-09-10T16:21:59.148Z"
   },
   {
    "duration": 0,
    "start_time": "2024-09-10T16:21:59.149Z"
   },
   {
    "duration": 0,
    "start_time": "2024-09-10T16:21:59.153Z"
   },
   {
    "duration": 0,
    "start_time": "2024-09-10T16:21:59.153Z"
   },
   {
    "duration": 0,
    "start_time": "2024-09-10T16:21:59.155Z"
   },
   {
    "duration": 0,
    "start_time": "2024-09-10T16:21:59.156Z"
   },
   {
    "duration": 0,
    "start_time": "2024-09-10T16:21:59.158Z"
   },
   {
    "duration": 0,
    "start_time": "2024-09-10T16:21:59.159Z"
   },
   {
    "duration": 0,
    "start_time": "2024-09-10T16:21:59.160Z"
   },
   {
    "duration": 0,
    "start_time": "2024-09-10T16:21:59.161Z"
   },
   {
    "duration": 0,
    "start_time": "2024-09-10T16:21:59.162Z"
   },
   {
    "duration": 0,
    "start_time": "2024-09-10T16:21:59.163Z"
   },
   {
    "duration": 0,
    "start_time": "2024-09-10T16:21:59.164Z"
   },
   {
    "duration": 0,
    "start_time": "2024-09-10T16:21:59.165Z"
   },
   {
    "duration": 0,
    "start_time": "2024-09-10T16:21:59.166Z"
   },
   {
    "duration": 0,
    "start_time": "2024-09-10T16:21:59.167Z"
   },
   {
    "duration": 0,
    "start_time": "2024-09-10T16:21:59.168Z"
   },
   {
    "duration": 0,
    "start_time": "2024-09-10T16:21:59.169Z"
   },
   {
    "duration": 0,
    "start_time": "2024-09-10T16:21:59.170Z"
   },
   {
    "duration": 0,
    "start_time": "2024-09-10T16:21:59.171Z"
   },
   {
    "duration": 0,
    "start_time": "2024-09-10T16:21:59.172Z"
   },
   {
    "duration": 0,
    "start_time": "2024-09-10T16:21:59.174Z"
   },
   {
    "duration": 0,
    "start_time": "2024-09-10T16:21:59.175Z"
   },
   {
    "duration": 0,
    "start_time": "2024-09-10T16:21:59.176Z"
   },
   {
    "duration": 0,
    "start_time": "2024-09-10T16:21:59.177Z"
   },
   {
    "duration": 0,
    "start_time": "2024-09-10T16:21:59.178Z"
   },
   {
    "duration": 0,
    "start_time": "2024-09-10T16:21:59.179Z"
   },
   {
    "duration": 0,
    "start_time": "2024-09-10T16:21:59.180Z"
   },
   {
    "duration": 0,
    "start_time": "2024-09-10T16:21:59.182Z"
   },
   {
    "duration": 0,
    "start_time": "2024-09-10T16:21:59.183Z"
   },
   {
    "duration": 0,
    "start_time": "2024-09-10T16:21:59.184Z"
   },
   {
    "duration": 0,
    "start_time": "2024-09-10T16:21:59.185Z"
   },
   {
    "duration": 0,
    "start_time": "2024-09-10T16:21:59.186Z"
   },
   {
    "duration": 0,
    "start_time": "2024-09-10T16:21:59.188Z"
   },
   {
    "duration": 0,
    "start_time": "2024-09-10T16:21:59.189Z"
   },
   {
    "duration": 0,
    "start_time": "2024-09-10T16:21:59.252Z"
   },
   {
    "duration": 0,
    "start_time": "2024-09-10T16:21:59.254Z"
   },
   {
    "duration": 8,
    "start_time": "2024-09-10T16:22:13.135Z"
   },
   {
    "duration": 2,
    "start_time": "2024-09-10T16:33:29.140Z"
   },
   {
    "duration": 1102,
    "start_time": "2024-09-10T16:33:47.100Z"
   },
   {
    "duration": 79,
    "start_time": "2024-09-10T16:33:48.203Z"
   },
   {
    "duration": 3,
    "start_time": "2024-09-10T16:33:48.284Z"
   },
   {
    "duration": 36,
    "start_time": "2024-09-10T16:33:48.289Z"
   },
   {
    "duration": 45,
    "start_time": "2024-09-10T16:33:48.327Z"
   },
   {
    "duration": 78,
    "start_time": "2024-09-10T16:33:48.374Z"
   },
   {
    "duration": 6,
    "start_time": "2024-09-10T16:33:48.453Z"
   },
   {
    "duration": 22,
    "start_time": "2024-09-10T16:33:48.461Z"
   },
   {
    "duration": 4,
    "start_time": "2024-09-10T16:33:48.485Z"
   },
   {
    "duration": 25,
    "start_time": "2024-09-10T16:33:48.492Z"
   },
   {
    "duration": 2,
    "start_time": "2024-09-10T16:33:48.519Z"
   },
   {
    "duration": 22,
    "start_time": "2024-09-10T16:33:48.523Z"
   },
   {
    "duration": 15,
    "start_time": "2024-09-10T16:33:48.547Z"
   },
   {
    "duration": 12,
    "start_time": "2024-09-10T16:33:48.564Z"
   },
   {
    "duration": 87,
    "start_time": "2024-09-10T16:33:48.577Z"
   },
   {
    "duration": 10,
    "start_time": "2024-09-10T16:33:48.666Z"
   },
   {
    "duration": 7,
    "start_time": "2024-09-10T16:33:48.678Z"
   },
   {
    "duration": 174,
    "start_time": "2024-09-10T16:33:48.687Z"
   },
   {
    "duration": 120,
    "start_time": "2024-09-10T16:33:48.863Z"
   },
   {
    "duration": 6,
    "start_time": "2024-09-10T16:33:48.985Z"
   },
   {
    "duration": 18,
    "start_time": "2024-09-10T16:33:48.993Z"
   },
   {
    "duration": 21,
    "start_time": "2024-09-10T16:33:49.013Z"
   },
   {
    "duration": 62,
    "start_time": "2024-09-10T16:33:49.036Z"
   },
   {
    "duration": 381,
    "start_time": "2024-09-10T16:33:49.100Z"
   },
   {
    "duration": 225,
    "start_time": "2024-09-10T16:33:49.483Z"
   },
   {
    "duration": 6,
    "start_time": "2024-09-10T16:33:49.709Z"
   },
   {
    "duration": 348,
    "start_time": "2024-09-10T16:33:49.716Z"
   },
   {
    "duration": 4,
    "start_time": "2024-09-10T16:33:50.067Z"
   },
   {
    "duration": 9,
    "start_time": "2024-09-10T16:33:50.072Z"
   },
   {
    "duration": 229,
    "start_time": "2024-09-10T16:33:50.082Z"
   },
   {
    "duration": 8,
    "start_time": "2024-09-10T16:33:50.313Z"
   },
   {
    "duration": 339,
    "start_time": "2024-09-10T16:33:50.322Z"
   },
   {
    "duration": 5,
    "start_time": "2024-09-10T16:33:50.663Z"
   },
   {
    "duration": 9,
    "start_time": "2024-09-10T16:33:50.670Z"
   },
   {
    "duration": 11,
    "start_time": "2024-09-10T16:33:50.680Z"
   },
   {
    "duration": 148,
    "start_time": "2024-09-10T16:33:50.692Z"
   },
   {
    "duration": 164,
    "start_time": "2024-09-10T16:33:50.842Z"
   },
   {
    "duration": 4,
    "start_time": "2024-09-10T16:33:51.008Z"
   },
   {
    "duration": 163,
    "start_time": "2024-09-10T16:33:51.013Z"
   },
   {
    "duration": 4,
    "start_time": "2024-09-10T16:33:51.178Z"
   },
   {
    "duration": 293,
    "start_time": "2024-09-10T16:33:51.183Z"
   },
   {
    "duration": 165,
    "start_time": "2024-09-10T16:33:51.477Z"
   },
   {
    "duration": 6,
    "start_time": "2024-09-10T16:33:51.652Z"
   },
   {
    "duration": 29,
    "start_time": "2024-09-10T16:33:51.660Z"
   },
   {
    "duration": 10,
    "start_time": "2024-09-10T16:33:51.690Z"
   },
   {
    "duration": 12,
    "start_time": "2024-09-10T16:33:51.701Z"
   },
   {
    "duration": 16,
    "start_time": "2024-09-10T16:33:51.715Z"
   },
   {
    "duration": 5,
    "start_time": "2024-09-10T16:33:51.732Z"
   },
   {
    "duration": 17,
    "start_time": "2024-09-10T16:33:51.739Z"
   },
   {
    "duration": 9,
    "start_time": "2024-09-10T16:33:51.757Z"
   },
   {
    "duration": 34,
    "start_time": "2024-09-10T16:33:51.767Z"
   },
   {
    "duration": 10,
    "start_time": "2024-09-10T16:33:51.803Z"
   },
   {
    "duration": 11,
    "start_time": "2024-09-10T16:37:21.276Z"
   },
   {
    "duration": 8,
    "start_time": "2024-09-10T16:37:48.213Z"
   },
   {
    "duration": 5,
    "start_time": "2024-09-10T16:37:59.998Z"
   },
   {
    "duration": 4,
    "start_time": "2024-09-10T16:38:16.340Z"
   },
   {
    "duration": 4,
    "start_time": "2024-09-10T16:38:19.976Z"
   },
   {
    "duration": 4,
    "start_time": "2024-09-10T16:38:29.429Z"
   },
   {
    "duration": 4,
    "start_time": "2024-09-10T16:40:15.505Z"
   },
   {
    "duration": 5,
    "start_time": "2024-09-10T16:41:02.944Z"
   },
   {
    "duration": 86,
    "start_time": "2024-09-10T16:41:14.799Z"
   },
   {
    "duration": 85,
    "start_time": "2024-09-10T16:41:18.240Z"
   },
   {
    "duration": 5,
    "start_time": "2024-09-10T16:41:26.422Z"
   },
   {
    "duration": 9,
    "start_time": "2024-09-10T16:41:44.521Z"
   },
   {
    "duration": 8,
    "start_time": "2024-09-10T16:42:24.862Z"
   },
   {
    "duration": 93,
    "start_time": "2024-09-10T16:42:35.298Z"
   },
   {
    "duration": 14,
    "start_time": "2024-09-10T16:42:37.989Z"
   },
   {
    "duration": 8,
    "start_time": "2024-09-10T16:42:44.400Z"
   },
   {
    "duration": 5,
    "start_time": "2024-09-10T16:43:04.231Z"
   },
   {
    "duration": 5,
    "start_time": "2024-09-10T16:43:08.263Z"
   },
   {
    "duration": 9,
    "start_time": "2024-09-10T16:43:12.355Z"
   },
   {
    "duration": 4,
    "start_time": "2024-09-10T16:43:16.412Z"
   },
   {
    "duration": 4,
    "start_time": "2024-09-10T16:44:11.204Z"
   },
   {
    "duration": 3,
    "start_time": "2024-09-10T16:44:14.073Z"
   },
   {
    "duration": 4,
    "start_time": "2024-09-10T16:44:21.856Z"
   },
   {
    "duration": 9,
    "start_time": "2024-09-10T16:55:15.703Z"
   },
   {
    "duration": 15,
    "start_time": "2024-09-10T16:55:27.828Z"
   },
   {
    "duration": 12,
    "start_time": "2024-09-10T16:55:32.285Z"
   },
   {
    "duration": 8,
    "start_time": "2024-09-10T16:56:12.330Z"
   },
   {
    "duration": 9,
    "start_time": "2024-09-10T16:56:16.399Z"
   },
   {
    "duration": 14,
    "start_time": "2024-09-10T16:56:27.215Z"
   },
   {
    "duration": 8,
    "start_time": "2024-09-10T16:56:29.937Z"
   },
   {
    "duration": 9,
    "start_time": "2024-09-10T16:56:38.514Z"
   },
   {
    "duration": 9,
    "start_time": "2024-09-10T16:56:43.780Z"
   },
   {
    "duration": 138,
    "start_time": "2024-09-10T16:58:11.517Z"
   },
   {
    "duration": 1108,
    "start_time": "2024-09-10T16:59:31.394Z"
   },
   {
    "duration": 80,
    "start_time": "2024-09-10T16:59:32.503Z"
   },
   {
    "duration": 3,
    "start_time": "2024-09-10T16:59:32.584Z"
   },
   {
    "duration": 34,
    "start_time": "2024-09-10T16:59:32.589Z"
   },
   {
    "duration": 7,
    "start_time": "2024-09-10T16:59:32.625Z"
   },
   {
    "duration": 11,
    "start_time": "2024-09-10T16:59:32.633Z"
   },
   {
    "duration": 19,
    "start_time": "2024-09-10T16:59:32.645Z"
   },
   {
    "duration": 104,
    "start_time": "2024-09-10T16:59:32.665Z"
   },
   {
    "duration": 20,
    "start_time": "2024-09-10T16:59:32.770Z"
   },
   {
    "duration": 40,
    "start_time": "2024-09-10T16:59:32.792Z"
   },
   {
    "duration": 2,
    "start_time": "2024-09-10T16:59:32.834Z"
   },
   {
    "duration": 16,
    "start_time": "2024-09-10T16:59:32.838Z"
   },
   {
    "duration": 13,
    "start_time": "2024-09-10T16:59:32.855Z"
   },
   {
    "duration": 7,
    "start_time": "2024-09-10T16:59:32.870Z"
   },
   {
    "duration": 17,
    "start_time": "2024-09-10T16:59:32.879Z"
   },
   {
    "duration": 23,
    "start_time": "2024-09-10T16:59:32.897Z"
   },
   {
    "duration": 187,
    "start_time": "2024-09-10T16:59:32.922Z"
   },
   {
    "duration": 118,
    "start_time": "2024-09-10T16:59:33.111Z"
   },
   {
    "duration": 6,
    "start_time": "2024-09-10T16:59:33.231Z"
   },
   {
    "duration": 29,
    "start_time": "2024-09-10T16:59:33.238Z"
   },
   {
    "duration": 20,
    "start_time": "2024-09-10T16:59:33.268Z"
   },
   {
    "duration": 6,
    "start_time": "2024-09-10T16:59:33.290Z"
   },
   {
    "duration": 296,
    "start_time": "2024-09-10T16:59:33.298Z"
   },
   {
    "duration": 211,
    "start_time": "2024-09-10T16:59:33.596Z"
   },
   {
    "duration": 5,
    "start_time": "2024-09-10T16:59:33.809Z"
   },
   {
    "duration": 332,
    "start_time": "2024-09-10T16:59:33.815Z"
   },
   {
    "duration": 4,
    "start_time": "2024-09-10T16:59:34.152Z"
   },
   {
    "duration": 12,
    "start_time": "2024-09-10T16:59:34.159Z"
   },
   {
    "duration": 234,
    "start_time": "2024-09-10T16:59:34.173Z"
   },
   {
    "duration": 7,
    "start_time": "2024-09-10T16:59:34.409Z"
   },
   {
    "duration": 328,
    "start_time": "2024-09-10T16:59:34.418Z"
   },
   {
    "duration": 9,
    "start_time": "2024-09-10T16:59:34.747Z"
   },
   {
    "duration": 43,
    "start_time": "2024-09-10T16:59:34.757Z"
   },
   {
    "duration": 23,
    "start_time": "2024-09-10T16:59:34.802Z"
   },
   {
    "duration": 143,
    "start_time": "2024-09-10T16:59:34.826Z"
   },
   {
    "duration": 155,
    "start_time": "2024-09-10T16:59:34.971Z"
   },
   {
    "duration": 4,
    "start_time": "2024-09-10T16:59:35.127Z"
   },
   {
    "duration": 173,
    "start_time": "2024-09-10T16:59:35.133Z"
   },
   {
    "duration": 4,
    "start_time": "2024-09-10T16:59:35.308Z"
   },
   {
    "duration": 309,
    "start_time": "2024-09-10T16:59:35.313Z"
   },
   {
    "duration": 129,
    "start_time": "2024-09-10T16:59:35.624Z"
   },
   {
    "duration": 6,
    "start_time": "2024-09-10T16:59:35.754Z"
   },
   {
    "duration": 38,
    "start_time": "2024-09-10T16:59:35.762Z"
   },
   {
    "duration": 12,
    "start_time": "2024-09-10T16:59:35.801Z"
   },
   {
    "duration": 5,
    "start_time": "2024-09-10T16:59:35.814Z"
   },
   {
    "duration": 20,
    "start_time": "2024-09-10T16:59:35.821Z"
   },
   {
    "duration": 10,
    "start_time": "2024-09-10T16:59:35.843Z"
   },
   {
    "duration": 38,
    "start_time": "2024-09-10T16:59:35.855Z"
   },
   {
    "duration": 12,
    "start_time": "2024-09-10T16:59:35.895Z"
   },
   {
    "duration": 32,
    "start_time": "2024-09-10T16:59:35.908Z"
   },
   {
    "duration": 10,
    "start_time": "2024-09-10T16:59:35.942Z"
   },
   {
    "duration": 16,
    "start_time": "2024-09-10T16:59:35.954Z"
   },
   {
    "duration": 7,
    "start_time": "2024-09-10T16:59:35.972Z"
   },
   {
    "duration": 17,
    "start_time": "2024-09-10T16:59:35.981Z"
   },
   {
    "duration": 10,
    "start_time": "2024-09-10T16:59:36.000Z"
   }
  ],
  "kernelspec": {
   "display_name": "Python 3 (ipykernel)",
   "language": "python",
   "name": "python3"
  },
  "language_info": {
   "codemirror_mode": {
    "name": "ipython",
    "version": 3
   },
   "file_extension": ".py",
   "mimetype": "text/x-python",
   "name": "python",
   "nbconvert_exporter": "python",
   "pygments_lexer": "ipython3",
   "version": "3.11.5"
  },
  "toc": {
   "base_numbering": 1,
   "nav_menu": {},
   "number_sections": true,
   "sideBar": false,
   "skip_h1_title": true,
   "title_cell": "Table of Contents",
   "title_sidebar": "Contents",
   "toc_cell": false,
   "toc_position": {
    "height": "519px",
    "left": "27px",
    "top": "111.141px",
    "width": "165px"
   },
   "toc_section_display": true,
   "toc_window_display": false
  }
 },
 "nbformat": 4,
 "nbformat_minor": 5
}
