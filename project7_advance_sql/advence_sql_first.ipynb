{
 "cells": [
  {
   "cell_type": "markdown",
   "id": "c2050516",
   "metadata": {},
   "source": [
    "Найдите количество вопросов, которые набрали больше 300 очков или как минимум 100 раз были добавлены в «Закладки»."
   ]
  },
  {
   "cell_type": "code",
   "execution_count": 1,
   "id": "761bb66d",
   "metadata": {},
   "outputs": [],
   "source": [
    "query = '''\n",
    "SELECT COUNT(*)\n",
    "FROM stackoverflow.posts p\n",
    "\n",
    "JOIN stackoverflow.post_types pt ON p.post_type_id=pt.id\n",
    "\n",
    "WHERE (score > 300 OR favorites_count >= 100) AND (pt.type = 'Question')\n",
    "\n",
    "'''"
   ]
  },
  {
   "cell_type": "markdown",
   "id": "4135fc00",
   "metadata": {},
   "source": [
    "\n",
    "Сколько в среднем в день задавали вопросов с 1 по 18 ноября 2008 включительно? Результат округлите до целого числа."
   ]
  },
  {
   "cell_type": "code",
   "execution_count": 2,
   "id": "e549e8f3",
   "metadata": {},
   "outputs": [],
   "source": [
    "query = '''\n",
    "WITH func AS (\n",
    "\n",
    "SELECT EXTRACT(DAY FROM creation_date) AS day , COUNT(*)\n",
    "FROM stackoverflow.post_types pt\n",
    "\n",
    "JOIN stackoverflow.posts p ON pt.id=p.post_type_id\n",
    "\n",
    "WHERE (EXTRACT(DAY FROM creation_date) BETWEEN 1 AND 18 AND EXTRACT(YEAR FROM creation_date) = 2008) AND type = 'Question' AND EXTRACT(MONTH FROM creation_date) = 11\n",
    "\n",
    "GROUP BY day\n",
    ")\n",
    "SELECT ROUND(AVG(count),0)\n",
    "FROM func\n",
    "'''"
   ]
  },
  {
   "cell_type": "markdown",
   "id": "4bb445de",
   "metadata": {},
   "source": [
    "Сколько пользователей получили значки сразу в день регистрации? Выведите количество уникальных пользователей."
   ]
  },
  {
   "cell_type": "code",
   "execution_count": 3,
   "id": "2a17c5dc",
   "metadata": {},
   "outputs": [],
   "source": [
    "query = '''\n",
    "SELECT COUNT(DISTINCT u.id)\n",
    "FROM stackoverflow.users u \n",
    "\n",
    "JOIN stackoverflow.badges b ON u.id = b.user_id\n",
    "\n",
    "WHERE u.creation_date::date = b.creation_date::date\n",
    "'''"
   ]
  },
  {
   "cell_type": "markdown",
   "id": "f4dd146e",
   "metadata": {},
   "source": [
    "Сколько уникальных постов пользователя с именем Joel Coehoorn получили хотя бы один голос?"
   ]
  },
  {
   "cell_type": "code",
   "execution_count": 4,
   "id": "e84ec102",
   "metadata": {},
   "outputs": [],
   "source": [
    "query = '''\n",
    "SELECT COUNT(DISTINCT p.id) AS unique_posts\n",
    "FROM stackoverflow.users u\n",
    "JOIN stackoverflow.posts p ON u.id = p.user_id\n",
    "JOIN stackoverflow.votes v ON p.id = v.post_id\n",
    "WHERE u.display_name = 'Joel Coehoorn';\n",
    "'''"
   ]
  },
  {
   "cell_type": "markdown",
   "id": "e2e909a8",
   "metadata": {},
   "source": [
    "Выгрузите все поля таблицы vote_types. Добавьте к таблице поле rank, в которое войдут номера записей в обратном порядке. Таблица должна быть отсортирована по полю id."
   ]
  },
  {
   "cell_type": "code",
   "execution_count": 5,
   "id": "a3321f46",
   "metadata": {},
   "outputs": [],
   "source": [
    "query = '''\n",
    "SELECT *, ROW_NUMBER() OVER (ORDER BY id DESC) \n",
    "FROM stackoverflow.vote_types\n",
    "ORDER BY id\n",
    "'''"
   ]
  },
  {
   "cell_type": "markdown",
   "id": "03335256",
   "metadata": {},
   "source": [
    "Отберите 10 пользователей, которые поставили больше всего голосов типа Close. Отобразите таблицу из двух полей: идентификатором пользователя и количеством голосов. Отсортируйте данные сначала по убыванию количества голосов, потом по убыванию значения идентификатора пользователя."
   ]
  },
  {
   "cell_type": "code",
   "execution_count": 6,
   "id": "b194d5e8",
   "metadata": {},
   "outputs": [],
   "source": [
    "query = '''\n",
    "SELECT DISTINCT u.id AS unique_persons, COUNT(v.vote_type_id) AS count_golos\n",
    "\n",
    "FROM stackoverflow.users u\n",
    "JOIN stackoverflow.votes v ON u.id = v.user_id \n",
    "JOIN stackoverflow.vote_types vt ON v.vote_type_id = vt.id\n",
    "\n",
    "WHERE name = 'Close'\n",
    "\n",
    "GROUP BY unique_persons\n",
    "\n",
    "ORDER BY count_golos DESC, unique_persons DESC \n",
    "LIMIT 10\n",
    "'''"
   ]
  },
  {
   "cell_type": "markdown",
   "id": "68379609",
   "metadata": {},
   "source": [
    "Отберите 10 пользователей по количеству значков, полученных в период с 15 ноября по 15 декабря 2008 года включительно.\n",
    "Отобразите несколько полей:\n",
    "идентификатор пользователя;\n",
    "число значков;\n",
    "место в рейтинге — чем больше значков, тем выше рейтинг.\n",
    "Пользователям, которые набрали одинаковое количество значков, присвойте одно и то же место в рейтинге.\n",
    "Отсортируйте записи по количеству значков по убыванию, а затем по возрастанию значения идентификатора пользователя."
   ]
  },
  {
   "cell_type": "code",
   "execution_count": 7,
   "id": "b976fbfa",
   "metadata": {},
   "outputs": [],
   "source": [
    "query = '''\n",
    "SELECT DISTINCT u.id AS unique_user, COUNT(b.id) AS count_badges, \n",
    "DENSE_RANK() OVER (ORDER BY COUNT(b.id) DESC) AS rank\n",
    "\n",
    "FROM stackoverflow.users u\n",
    "JOIN stackoverflow.badges b ON u.id = b.user_id\n",
    "WHERE b.creation_date::date BETWEEN '2008-11-15' AND '2008-12-15'\n",
    "\n",
    "GROUP BY unique_user\n",
    "ORDER BY count_badges DESC, unique_user ASC\n",
    "LIMIT 10\n",
    "'''"
   ]
  },
  {
   "cell_type": "markdown",
   "id": "866e5f92",
   "metadata": {},
   "source": [
    "Сколько в среднем очков получает пост каждого пользователя?\n",
    "Сформируйте таблицу из следующих полей:\n",
    "заголовок поста;\n",
    "идентификатор пользователя;\n",
    "число очков поста;\n",
    "среднее число очков пользователя за пост, округлённое до целого числа.\n",
    "Не учитывайте посты без заголовка, а также те, что набрали ноль очков."
   ]
  },
  {
   "cell_type": "code",
   "execution_count": 8,
   "id": "83e1c5a9",
   "metadata": {},
   "outputs": [],
   "source": [
    "query = '''\n",
    "SELECT p.title AS title_posts, \n",
    "       u.id AS user_ind,  \n",
    "       p.score AS score_posts,\n",
    "       ROUND(AVG(p.score) OVER (PARTITION BY u.id)) AS avg_score_per_user\n",
    "\n",
    "FROM stackoverflow.users u\n",
    "JOIN stackoverflow.posts p ON u.id = p.user_id\n",
    "\n",
    "WHERE p.score != 0 AND p.title  IS NOT NULL\n",
    "\n",
    "'''"
   ]
  },
  {
   "cell_type": "markdown",
   "id": "96008ff3",
   "metadata": {},
   "source": [
    "Отобразите заголовки постов, которые были написаны пользователями, получившими более 1000 значков. Посты без заголовков не должны попасть в список."
   ]
  },
  {
   "cell_type": "code",
   "execution_count": 9,
   "id": "f707c6ff",
   "metadata": {},
   "outputs": [],
   "source": [
    "query = '''\n",
    "WITH func AS (\n",
    "    SELECT u.id AS user_unique\n",
    "    FROM stackoverflow.users u \n",
    "    JOIN stackoverflow.badges b ON u.id = b.user_id\n",
    "    GROUP BY u.id\n",
    "    HAVING COUNT(b.id) > 1000\n",
    ")\n",
    "\n",
    "SELECT p.title\n",
    "FROM stackoverflow.posts p\n",
    "JOIN func f ON p.user_id = f.user_unique\n",
    "WHERE p.title IS NOT NULL;\n",
    "\n",
    "'''"
   ]
  },
  {
   "cell_type": "markdown",
   "id": "157715e8",
   "metadata": {},
   "source": [
    "Напишите запрос, который выгрузит данные о пользователях из Канады (англ. Canada). Разделите пользователей на три группы в зависимости от количества просмотров их профилей:\n",
    "пользователям с числом просмотров больше либо равным 350 присвойте группу 1;\n",
    "пользователям с числом просмотров меньше 350, но больше либо равно 100 — группу 2;\n",
    "пользователям с числом просмотров меньше 100 — группу 3.\n",
    "Отобразите в итоговой таблице идентификатор пользователя, количество просмотров профиля и группу. Пользователи с количеством просмотров меньше либо равным нулю не должны войти в итоговую таблицу."
   ]
  },
  {
   "cell_type": "code",
   "execution_count": 10,
   "id": "ce398f2c",
   "metadata": {},
   "outputs": [],
   "source": [
    "query = '''\n",
    "SELECT          u.id AS unique_user, \n",
    "                u.views AS views_users,\n",
    "                (CASE \n",
    "                    WHEN u.views >= 350 THEN 1\n",
    "                    WHEN u.views < 350 AND u.views >= 100 THEN 2\n",
    "                    WHEN u.views < 100 THEN 3\n",
    "                END) AS groupp_name\n",
    "\n",
    "FROM stackoverflow.users u \n",
    "WHERE (u.location LIKE '%Canada%') AND (u.views >= 1)\n",
    "\n",
    "'''"
   ]
  },
  {
   "cell_type": "markdown",
   "id": "cc30d583",
   "metadata": {},
   "source": [
    "\n",
    "Дополните предыдущий запрос. Отобразите лидеров каждой группы — пользователей, которые набрали максимальное число просмотров в своей группе. Выведите поля с идентификатором пользователя, группой и количеством просмотров. Отсортируйте таблицу по убыванию просмотров, а затем по возрастанию значения идентификатора."
   ]
  },
  {
   "cell_type": "code",
   "execution_count": 11,
   "id": "baf14221",
   "metadata": {},
   "outputs": [],
   "source": [
    "query = '''\n",
    "WITH grp AS (SELECT g.id,\n",
    "                    g.views,\n",
    "                    g.group,\n",
    "                    MAX(g.views) OVER (PARTITION BY g.group) AS max     \n",
    "             FROM (SELECT id,\n",
    "                          views,\n",
    "                          CASE\n",
    "                             WHEN views >= 350 THEN 1\n",
    "                             WHEN views < 100 THEN 3\n",
    "                             ELSE 2\n",
    "                          END AS group\n",
    "                   FROM stackoverflow.users\n",
    "                   WHERE location LIKE '%Canada%' AND views > 0) as g\n",
    "              )\n",
    "  \n",
    "SELECT grp.id, \n",
    "       grp.views,  \n",
    "       grp.group\n",
    "FROM grp\n",
    "WHERE grp.views = grp.max\n",
    "ORDER BY grp.views DESC, grp.id;\n",
    "'''"
   ]
  },
  {
   "cell_type": "markdown",
   "id": "33c796c6",
   "metadata": {},
   "source": [
    "Посчитайте ежедневный прирост новых пользователей в ноябре 2008 года. Сформируйте таблицу с полями:\n",
    "номер дня;\n",
    "число пользователей, зарегистрированных в этот день;\n",
    "сумму пользователей с накоплением."
   ]
  },
  {
   "cell_type": "code",
   "execution_count": 12,
   "id": "9b760d67",
   "metadata": {},
   "outputs": [],
   "source": [
    "query = '''\n",
    "WITH func AS (\n",
    "SELECT EXTRACT(DAY FROM creation_date) AS numder_of_day, \n",
    "       COUNT(id) AS count_reg\n",
    "\n",
    "FROM stackoverflow.users\n",
    "\n",
    "WHERE creation_date::date BETWEEN '2008-11-01' AND '2008-11-30'\n",
    "\n",
    "GROUP BY numder_of_day)\n",
    "\n",
    "SELECT numder_of_day,count_reg,\n",
    "       SUM(count_reg) OVER (ORDER BY numder_of_day)\n",
    "FROM func\n",
    "'''"
   ]
  },
  {
   "cell_type": "markdown",
   "id": "107e2f6c",
   "metadata": {},
   "source": [
    "Для каждого пользователя, который написал хотя бы один пост, найдите интервал между регистрацией и временем создания первого поста. Отобразите:\n",
    "идентификатор пользователя;\n",
    "разницу во времени между регистрацией и первым постом."
   ]
  },
  {
   "cell_type": "code",
   "execution_count": 13,
   "id": "5c4796ee",
   "metadata": {},
   "outputs": [],
   "source": [
    "query = '''\n",
    "WITH ranked_posts AS (\n",
    "    SELECT u.id AS user_id, \n",
    "           u.creation_date AS registration_date,\n",
    "           p.creation_date AS post_creation_date,\n",
    "           ROW_NUMBER() OVER (PARTITION BY u.id ORDER BY p.creation_date) AS post_rank\n",
    "    FROM stackoverflow.users u\n",
    "    JOIN stackoverflow.posts p ON u.id = p.user_id\n",
    ")\n",
    "SELECT user_id,\n",
    "       (post_creation_date - registration_date) AS time_difference\n",
    "FROM ranked_posts\n",
    "WHERE post_rank = 1\n",
    "ORDER BY user_id;\n",
    "\n",
    "'''"
   ]
  },
  {
   "cell_type": "markdown",
   "id": "862d26cf",
   "metadata": {},
   "source": [
    "Выведите общую сумму просмотров у постов, опубликованных в каждый месяц 2008 года. Если данных за какой-либо месяц в базе нет, такой месяц можно пропустить. Результат отсортируйте по убыванию общего количества просмотров."
   ]
  },
  {
   "cell_type": "code",
   "execution_count": 14,
   "id": "5bd9111f",
   "metadata": {},
   "outputs": [],
   "source": [
    "query = '''\n",
    "SELECT DATE_TRUNC('month', creation_date)::date AS data_month, SUM(views_count) AS count_views\n",
    "       \n",
    "FROM stackoverflow.posts\n",
    "WHERE EXTRACT(YEAR FROM creation_date) = 2008\n",
    "GROUP BY data_month\n",
    "ORDER BY count_views DESC\n",
    "'''"
   ]
  },
  {
   "cell_type": "markdown",
   "id": "ce494191",
   "metadata": {},
   "source": [
    "Выведите имена самых активных пользователей, которые в первый месяц после регистрации (включая день регистрации) дали больше 100 ответов. Вопросы, которые задавали пользователи, не учитывайте. Для каждого имени пользователя выведите количество уникальных значений user_id. Отсортируйте результат по полю с именами в лексикографическом порядке."
   ]
  },
  {
   "cell_type": "code",
   "execution_count": 15,
   "id": "937bcb89",
   "metadata": {},
   "outputs": [],
   "source": [
    "query = '''\n",
    "select u.display_name,\n",
    "count(distinct p.user_id) \n",
    "from stackoverflow.posts p \n",
    "join stackoverflow.users u\n",
    "on p.user_id=u.id\n",
    "where p.post_type_id = 2 \n",
    "and DATE_TRUNC('day', p.creation_date) >= DATE_TRUNC('day', u.creation_date) AND DATE_TRUNC('day', p.creation_date) <= DATE_TRUNC('day', u.creation_date) + INTERVAL '1 month'\n",
    "group by u.display_name\n",
    "having count(p.id)> 100\n",
    "order by u.display_name\n",
    "\n",
    "\n",
    "'''"
   ]
  },
  {
   "cell_type": "markdown",
   "id": "c0f2f8dd",
   "metadata": {},
   "source": [
    "Выведите количество постов за 2008 год по месяцам. Отберите посты от пользователей, которые зарегистрировались в сентябре 2008 года и сделали хотя бы один пост в декабре того же года. Отсортируйте таблицу по значению месяца по убыванию."
   ]
  },
  {
   "cell_type": "code",
   "execution_count": 16,
   "id": "37b36d26",
   "metadata": {},
   "outputs": [],
   "source": [
    "query = '''\n",
    "SELECT DATE_TRUNC('month', p.creation_date)::date,\n",
    "       COUNT(p.id)\n",
    "FROM stackoverflow.posts p\n",
    "WHERE p.user_id IN\n",
    "(SELECT  DISTINCT u.id\n",
    "FROM stackoverflow.users u\n",
    "JOIN stackoverflow.posts p ON p.user_id=u.id\n",
    "WHERE DATE_TRUNC('month', u.creation_date)::date = '2008-09-01'\n",
    "AND DATE_TRUNC('month', p.creation_date)::date = '2008-12-01')\n",
    "GROUP BY DATE_TRUNC('month', p.creation_date)::date\n",
    "ORDER BY 1 DESC\n",
    "'''"
   ]
  },
  {
   "cell_type": "markdown",
   "id": "65f2f250",
   "metadata": {},
   "source": [
    "Используя данные о постах, выведите несколько полей:\n",
    "идентификатор пользователя, который написал пост;\n",
    "дата создания поста;\n",
    "количество просмотров у текущего поста;\n",
    "сумма просмотров постов автора с накоплением.\n",
    "Данные в таблице должны быть отсортированы по возрастанию идентификаторов пользователей, а данные об одном и том же пользователе — по возрастанию даты создания поста."
   ]
  },
  {
   "cell_type": "code",
   "execution_count": 17,
   "id": "05722b0f",
   "metadata": {},
   "outputs": [],
   "source": [
    "query = '''\n",
    "SELECT p.user_id,\n",
    "       p.creation_date,\n",
    "       p.views_count,\n",
    "       SUM(views_count) OVER(PARTITION BY p.user_id ORDER BY creation_date) AS cumulative_count\n",
    "FROM stackoverflow.posts p\n",
    "ORDER BY p.user_id, p.creation_date\n",
    "'''"
   ]
  },
  {
   "cell_type": "markdown",
   "id": "129c107d",
   "metadata": {},
   "source": [
    "Сколько в среднем дней в период с 1 по 7 декабря 2008 года включительно пользователи взаимодействовали с платформой? Для каждого пользователя отберите дни, в которые он или она опубликовали хотя бы один пост. Нужно получить одно целое число — не забудьте округлить результат."
   ]
  },
  {
   "cell_type": "code",
   "execution_count": 18,
   "id": "8bb1402a",
   "metadata": {},
   "outputs": [],
   "source": [
    "query = '''\n",
    "WITH func AS (\n",
    "SELECT p.user_id,\n",
    "       COUNT(DISTINCT DATE_TRUNC('day', p.creation_date)::date)\n",
    "\n",
    "FROM stackoverflow.posts AS p\n",
    "WHERE DATE_TRUNC('day', p.creation_date)::date BETWEEN '2008-12-01' AND '2008-12-07'\n",
    "GROUP BY p.user_id)\n",
    "\n",
    "SELECT CEILING(AVG(count))::int\n",
    "FROM func\n",
    "'''"
   ]
  },
  {
   "cell_type": "markdown",
   "id": "a380ff0d",
   "metadata": {},
   "source": [
    "На сколько процентов менялось количество постов ежемесячно с 1 сентября по 31 декабря 2008 года? Отобразите таблицу со следующими полями:\n",
    "Номер месяца.\n",
    "Количество постов за месяц.\n",
    "Процент, который показывает, насколько изменилось количество постов в текущем месяце по сравнению с предыдущим.\n",
    "Если постов стало меньше, значение процента должно быть отрицательным, если больше — положительным. Округлите значение процента до двух знаков после запятой.\n",
    "Напомним, что при делении одного целого числа на другое в PostgreSQL в результате получится целое число, округлённое до ближайшего целого вниз. Чтобы этого избежать, переведите делимое в тип numeric."
   ]
  },
  {
   "cell_type": "code",
   "execution_count": 19,
   "id": "5e993c18",
   "metadata": {},
   "outputs": [],
   "source": [
    "query = '''\n",
    "WITH func AS (\n",
    "SELECT EXTRACT(MONTH FROM creation_date) AS month_post,\n",
    "       COUNT(p.id) AS post_count\n",
    "     \n",
    "FROM stackoverflow.posts p\n",
    "WHERE EXTRACT(MONTH FROM creation_date) BETWEEN 9 AND 12\n",
    "GROUP BY month_post\n",
    ")\n",
    "\n",
    "SELECT *, ROUND((post_count::numeric/LAG(post_count) OVER()-1)*100,2)\n",
    "FROM func\n",
    "'''"
   ]
  },
  {
   "cell_type": "markdown",
   "id": "9180edfb",
   "metadata": {},
   "source": [
    "Найдите пользователя, который опубликовал больше всего постов за всё время с момента регистрации. Выведите данные его активности за октябрь 2008 года в таком виде:\n",
    "номер недели;\n",
    "дата и время последнего поста, опубликованного на этой неделе."
   ]
  },
  {
   "cell_type": "code",
   "execution_count": 20,
   "id": "3ce2158a",
   "metadata": {},
   "outputs": [],
   "source": [
    "query = '''\n",
    "WITH us AS\n",
    "(SELECT user_id,\n",
    "       COUNT(id)\n",
    "FROM stackoverflow.posts\n",
    "GROUP BY 1\n",
    "ORDER BY 2 DESC\n",
    "LIMIT 1)\n",
    "SELECT EXTRACT(WEEK FROM p.creation_date)::int week_creation,\n",
    "       MAX(p.creation_date) creation_date\n",
    "FROM us u \n",
    "JOIN stackoverflow.posts p ON u.user_id=p.user_id\n",
    "WHERE DATE_TRUNC('month', p.creation_date)::date = '2008-10-01'\n",
    "GROUP BY 1\n",
    "'''"
   ]
  },
  {
   "cell_type": "code",
   "execution_count": null,
   "id": "1d7274e9",
   "metadata": {},
   "outputs": [],
   "source": []
  }
 ],
 "metadata": {
  "kernelspec": {
   "display_name": "Python 3 (ipykernel)",
   "language": "python",
   "name": "python3"
  },
  "language_info": {
   "codemirror_mode": {
    "name": "ipython",
    "version": 3
   },
   "file_extension": ".py",
   "mimetype": "text/x-python",
   "name": "python",
   "nbconvert_exporter": "python",
   "pygments_lexer": "ipython3",
   "version": "3.11.5"
  }
 },
 "nbformat": 4,
 "nbformat_minor": 5
}
