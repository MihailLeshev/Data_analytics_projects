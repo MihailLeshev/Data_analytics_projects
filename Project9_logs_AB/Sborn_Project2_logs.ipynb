{
 "cells": [
  {
   "cell_type": "markdown",
   "id": "86721b15",
   "metadata": {},
   "source": [
    "## Исследование мобильного приложения\n",
    "\n",
    "У нас есть стартап, который продаёт продукты питания. Нужно разобраться, как ведут себя пользователи нашего мобильного приложения. Так же у нас есть данные A/A/B-эксперимента, в котором дизайнеры захотели поменять шрифты во всём приложении, а менеджеры испугались, что пользователям будет непривычно. Договорились принять решение по результатам A/A/B-теста. Пользователей разбили на 3 группы: 2 контрольные со старыми шрифтами и одну экспериментальную — с новыми. Выясним, какой шрифт лучше. Создание двух групп A вместо одной имеет определённые преимущества. Если две контрольные группы окажутся равны, вы можете быть уверены в точности проведенного тестирования. Если же между значениями A и A будут существенные различия, это поможет обнаружить факторы, которые привели к искажению результатов. Сравнение контрольных групп также помогает понять, сколько времени и данных потребуется для дальнейших тестов.|\n",
    "\n",
    "Мы имеем следующие данные о пользователях:\n",
    "- название события \n",
    "- уникальный идентификатор пользователя\n",
    "- время события\n",
    "- номер эксперимента: 246 и 247 — контрольные группы, а 248 — экспериментальная\n",
    "\n",
    "**Цель исследования:** \n",
    "- Изучить воронку продаж. Узнать, как пользователи доходят до покупки. Сколько пользователей доходит до покупки, а сколько — «застревает» на предыдущих шагах? На каких именно?\n",
    "- Исследовать результаты A/A/B-эксперимента и выяснить, какой шрифт лучше.\n",
    "\n",
    "**Ход исследования:** \n",
    "- Подготовить данные\n",
    "- Изучить и проверить данные\n",
    "- Изучить воронку событий\n",
    "- Изучить результаты эксперимента"
   ]
  },
  {
   "cell_type": "markdown",
   "id": "ce052776",
   "metadata": {},
   "source": [
    "### Добавим необходимые библиотеки для работы с данными"
   ]
  },
  {
   "cell_type": "code",
   "execution_count": 1,
   "id": "f9ce9dda",
   "metadata": {},
   "outputs": [],
   "source": [
    "import pandas as pd\n",
    "import datetime as dt\n",
    "import scipy.stats as stats\n",
    "import seaborn as sns\n",
    "import matplotlib.pyplot as plt\n",
    "import numpy as np\n",
    "import scipy.stats as stats\n",
    "import statsmodels.stats.proportion as smp"
   ]
  },
  {
   "cell_type": "markdown",
   "id": "6cb329b3",
   "metadata": {},
   "source": [
    "### Считаем CSV-файл с данными с помощью библиотеки pandas и сохраним его в датафрейм."
   ]
  },
  {
   "cell_type": "code",
   "execution_count": 2,
   "id": "7660c34c",
   "metadata": {},
   "outputs": [],
   "source": [
    "try:\n",
    "    data = pd.read_csv('/datasets/logs_exp.csv',sep='\\t')\n",
    "except:\n",
    "    data = pd.read_csv('/Users/a0000/Documents/Analitic/All_projects/Project9_logs_AB/datasets/logs_exp.csv', sep='\\t')"
   ]
  },
  {
   "cell_type": "code",
   "execution_count": 3,
   "id": "884d06cd",
   "metadata": {},
   "outputs": [
    {
     "data": {
      "text/html": [
       "<div>\n",
       "<style scoped>\n",
       "    .dataframe tbody tr th:only-of-type {\n",
       "        vertical-align: middle;\n",
       "    }\n",
       "\n",
       "    .dataframe tbody tr th {\n",
       "        vertical-align: top;\n",
       "    }\n",
       "\n",
       "    .dataframe thead th {\n",
       "        text-align: right;\n",
       "    }\n",
       "</style>\n",
       "<table border=\"1\" class=\"dataframe\">\n",
       "  <thead>\n",
       "    <tr style=\"text-align: right;\">\n",
       "      <th></th>\n",
       "      <th>EventName</th>\n",
       "      <th>DeviceIDHash</th>\n",
       "      <th>EventTimestamp</th>\n",
       "      <th>ExpId</th>\n",
       "    </tr>\n",
       "  </thead>\n",
       "  <tbody>\n",
       "    <tr>\n",
       "      <th>0</th>\n",
       "      <td>MainScreenAppear</td>\n",
       "      <td>4575588528974610257</td>\n",
       "      <td>1564029816</td>\n",
       "      <td>246</td>\n",
       "    </tr>\n",
       "    <tr>\n",
       "      <th>1</th>\n",
       "      <td>MainScreenAppear</td>\n",
       "      <td>7416695313311560658</td>\n",
       "      <td>1564053102</td>\n",
       "      <td>246</td>\n",
       "    </tr>\n",
       "    <tr>\n",
       "      <th>2</th>\n",
       "      <td>PaymentScreenSuccessful</td>\n",
       "      <td>3518123091307005509</td>\n",
       "      <td>1564054127</td>\n",
       "      <td>248</td>\n",
       "    </tr>\n",
       "    <tr>\n",
       "      <th>3</th>\n",
       "      <td>CartScreenAppear</td>\n",
       "      <td>3518123091307005509</td>\n",
       "      <td>1564054127</td>\n",
       "      <td>248</td>\n",
       "    </tr>\n",
       "    <tr>\n",
       "      <th>4</th>\n",
       "      <td>PaymentScreenSuccessful</td>\n",
       "      <td>6217807653094995999</td>\n",
       "      <td>1564055322</td>\n",
       "      <td>248</td>\n",
       "    </tr>\n",
       "  </tbody>\n",
       "</table>\n",
       "</div>"
      ],
      "text/plain": [
       "                 EventName         DeviceIDHash  EventTimestamp  ExpId\n",
       "0         MainScreenAppear  4575588528974610257      1564029816    246\n",
       "1         MainScreenAppear  7416695313311560658      1564053102    246\n",
       "2  PaymentScreenSuccessful  3518123091307005509      1564054127    248\n",
       "3         CartScreenAppear  3518123091307005509      1564054127    248\n",
       "4  PaymentScreenSuccessful  6217807653094995999      1564055322    248"
      ]
     },
     "execution_count": 3,
     "metadata": {},
     "output_type": "execute_result"
    }
   ],
   "source": [
    "data.head(5)"
   ]
  },
  {
   "cell_type": "markdown",
   "id": "f1e9c247",
   "metadata": {},
   "source": [
    "## Подготовим данные"
   ]
  },
  {
   "cell_type": "code",
   "execution_count": 4,
   "id": "0dee8b4c",
   "metadata": {},
   "outputs": [
    {
     "name": "stdout",
     "output_type": "stream",
     "text": [
      "<class 'pandas.core.frame.DataFrame'>\n",
      "RangeIndex: 244126 entries, 0 to 244125\n",
      "Data columns (total 4 columns):\n",
      " #   Column          Non-Null Count   Dtype \n",
      "---  ------          --------------   ----- \n",
      " 0   EventName       244126 non-null  object\n",
      " 1   DeviceIDHash    244126 non-null  int64 \n",
      " 2   EventTimestamp  244126 non-null  int64 \n",
      " 3   ExpId           244126 non-null  int64 \n",
      "dtypes: int64(3), object(1)\n",
      "memory usage: 7.5+ MB\n"
     ]
    }
   ],
   "source": [
    "data.info()"
   ]
  },
  {
   "cell_type": "markdown",
   "id": "eb283613",
   "metadata": {},
   "source": [
    "### Заменим названия столбцов на удобные для нас"
   ]
  },
  {
   "cell_type": "code",
   "execution_count": 5,
   "id": "6fe5eb68",
   "metadata": {},
   "outputs": [],
   "source": [
    "data = data.rename(columns = {\n",
    "    'EventName':'event_name',\n",
    "    'DeviceIDHash':'user_id',\n",
    "    'EventTimestamp':'datetime',\n",
    "    'ExpId':'group'\n",
    "})"
   ]
  },
  {
   "cell_type": "markdown",
   "id": "d0d50652",
   "metadata": {},
   "source": [
    "### Проверим пропуски и типы данных."
   ]
  },
  {
   "cell_type": "code",
   "execution_count": 6,
   "id": "864cc3ef",
   "metadata": {},
   "outputs": [
    {
     "name": "stdout",
     "output_type": "stream",
     "text": [
      "<class 'pandas.core.frame.DataFrame'>\n",
      "RangeIndex: 244126 entries, 0 to 244125\n",
      "Data columns (total 4 columns):\n",
      " #   Column      Non-Null Count   Dtype \n",
      "---  ------      --------------   ----- \n",
      " 0   event_name  244126 non-null  object\n",
      " 1   user_id     244126 non-null  int64 \n",
      " 2   datetime    244126 non-null  int64 \n",
      " 3   group       244126 non-null  int64 \n",
      "dtypes: int64(3), object(1)\n",
      "memory usage: 7.5+ MB\n"
     ]
    }
   ],
   "source": [
    "data.info()"
   ]
  },
  {
   "cell_type": "code",
   "execution_count": 7,
   "id": "264d5360",
   "metadata": {},
   "outputs": [
    {
     "data": {
      "text/plain": [
       "event_name    0\n",
       "user_id       0\n",
       "datetime      0\n",
       "group         0\n",
       "dtype: int64"
      ]
     },
     "execution_count": 7,
     "metadata": {},
     "output_type": "execute_result"
    }
   ],
   "source": [
    "data.isna().sum()"
   ]
  },
  {
   "cell_type": "code",
   "execution_count": 8,
   "id": "e6192ea3",
   "metadata": {},
   "outputs": [
    {
     "data": {
      "text/plain": [
       "413"
      ]
     },
     "execution_count": 8,
     "metadata": {},
     "output_type": "execute_result"
    }
   ],
   "source": [
    "data.duplicated().sum()"
   ]
  },
  {
   "cell_type": "code",
   "execution_count": 9,
   "id": "940f6322",
   "metadata": {},
   "outputs": [],
   "source": [
    "data = data.drop_duplicates()"
   ]
  },
  {
   "cell_type": "code",
   "execution_count": 10,
   "id": "e5810c98",
   "metadata": {},
   "outputs": [
    {
     "data": {
      "text/plain": [
       "0"
      ]
     },
     "execution_count": 10,
     "metadata": {},
     "output_type": "execute_result"
    }
   ],
   "source": [
    "data.duplicated().sum()"
   ]
  },
  {
   "cell_type": "markdown",
   "id": "84c9cd35",
   "metadata": {},
   "source": [
    "**Промежуточный вывод:** Пропусков в данных не обнаружено, дупликаты удалены."
   ]
  },
  {
   "cell_type": "code",
   "execution_count": 11,
   "id": "6f0aa803",
   "metadata": {},
   "outputs": [
    {
     "data": {
      "text/html": [
       "<div>\n",
       "<style scoped>\n",
       "    .dataframe tbody tr th:only-of-type {\n",
       "        vertical-align: middle;\n",
       "    }\n",
       "\n",
       "    .dataframe tbody tr th {\n",
       "        vertical-align: top;\n",
       "    }\n",
       "\n",
       "    .dataframe thead th {\n",
       "        text-align: right;\n",
       "    }\n",
       "</style>\n",
       "<table border=\"1\" class=\"dataframe\">\n",
       "  <thead>\n",
       "    <tr style=\"text-align: right;\">\n",
       "      <th></th>\n",
       "      <th>event_name</th>\n",
       "      <th>user_id</th>\n",
       "      <th>datetime</th>\n",
       "      <th>group</th>\n",
       "    </tr>\n",
       "  </thead>\n",
       "  <tbody>\n",
       "    <tr>\n",
       "      <th>0</th>\n",
       "      <td>MainScreenAppear</td>\n",
       "      <td>4575588528974610257</td>\n",
       "      <td>1564029816</td>\n",
       "      <td>246</td>\n",
       "    </tr>\n",
       "    <tr>\n",
       "      <th>1</th>\n",
       "      <td>MainScreenAppear</td>\n",
       "      <td>7416695313311560658</td>\n",
       "      <td>1564053102</td>\n",
       "      <td>246</td>\n",
       "    </tr>\n",
       "    <tr>\n",
       "      <th>2</th>\n",
       "      <td>PaymentScreenSuccessful</td>\n",
       "      <td>3518123091307005509</td>\n",
       "      <td>1564054127</td>\n",
       "      <td>248</td>\n",
       "    </tr>\n",
       "    <tr>\n",
       "      <th>3</th>\n",
       "      <td>CartScreenAppear</td>\n",
       "      <td>3518123091307005509</td>\n",
       "      <td>1564054127</td>\n",
       "      <td>248</td>\n",
       "    </tr>\n",
       "    <tr>\n",
       "      <th>4</th>\n",
       "      <td>PaymentScreenSuccessful</td>\n",
       "      <td>6217807653094995999</td>\n",
       "      <td>1564055322</td>\n",
       "      <td>248</td>\n",
       "    </tr>\n",
       "  </tbody>\n",
       "</table>\n",
       "</div>"
      ],
      "text/plain": [
       "                event_name              user_id    datetime  group\n",
       "0         MainScreenAppear  4575588528974610257  1564029816    246\n",
       "1         MainScreenAppear  7416695313311560658  1564053102    246\n",
       "2  PaymentScreenSuccessful  3518123091307005509  1564054127    248\n",
       "3         CartScreenAppear  3518123091307005509  1564054127    248\n",
       "4  PaymentScreenSuccessful  6217807653094995999  1564055322    248"
      ]
     },
     "execution_count": 11,
     "metadata": {},
     "output_type": "execute_result"
    }
   ],
   "source": [
    "data.head()"
   ]
  },
  {
   "cell_type": "markdown",
   "id": "404afa6f",
   "metadata": {},
   "source": [
    "### Добавим столбец даты и времени, а также отдельный столбец дат;"
   ]
  },
  {
   "cell_type": "code",
   "execution_count": 12,
   "id": "9d0d63b6",
   "metadata": {},
   "outputs": [],
   "source": [
    "data['datetime'] = pd.to_datetime(data['datetime'], unit='s')"
   ]
  },
  {
   "cell_type": "code",
   "execution_count": 13,
   "id": "824f5d49",
   "metadata": {},
   "outputs": [],
   "source": [
    "data['date'] = data['datetime'].dt.floor('D')"
   ]
  },
  {
   "cell_type": "code",
   "execution_count": 14,
   "id": "1d6e318b",
   "metadata": {},
   "outputs": [
    {
     "name": "stdout",
     "output_type": "stream",
     "text": [
      "<class 'pandas.core.frame.DataFrame'>\n",
      "Index: 243713 entries, 0 to 244125\n",
      "Data columns (total 5 columns):\n",
      " #   Column      Non-Null Count   Dtype         \n",
      "---  ------      --------------   -----         \n",
      " 0   event_name  243713 non-null  object        \n",
      " 1   user_id     243713 non-null  int64         \n",
      " 2   datetime    243713 non-null  datetime64[ns]\n",
      " 3   group       243713 non-null  int64         \n",
      " 4   date        243713 non-null  datetime64[ns]\n",
      "dtypes: datetime64[ns](2), int64(2), object(1)\n",
      "memory usage: 11.2+ MB\n"
     ]
    }
   ],
   "source": [
    "data.info()"
   ]
  },
  {
   "cell_type": "markdown",
   "id": "1fb3a3b2",
   "metadata": {},
   "source": [
    "## Изучим и проверим данные"
   ]
  },
  {
   "cell_type": "markdown",
   "id": "9631b68b",
   "metadata": {},
   "source": [
    "## Сколько всего событий в логе?"
   ]
  },
  {
   "cell_type": "code",
   "execution_count": 15,
   "id": "78c1dec4",
   "metadata": {},
   "outputs": [
    {
     "data": {
      "text/plain": [
       "array(['MainScreenAppear', 'PaymentScreenSuccessful', 'CartScreenAppear',\n",
       "       'OffersScreenAppear', 'Tutorial'], dtype=object)"
      ]
     },
     "execution_count": 15,
     "metadata": {},
     "output_type": "execute_result"
    }
   ],
   "source": [
    "data['event_name'].unique()"
   ]
  },
  {
   "cell_type": "markdown",
   "id": "b0d2f391",
   "metadata": {},
   "source": [
    "**Промежуточный вывод:** Мы имеем 5 событий:\n",
    "- MainScreenAppear - Появится главный экран\n",
    "- PaymentScreenSuccessful - Платежный экран успешно выполнен\n",
    "- CartScreenAppear - Появится экран корзины\n",
    "- OffersScreenAppear - Появится экран предложений\n",
    "- Tutorial - Руководство"
   ]
  },
  {
   "cell_type": "markdown",
   "id": "d3b6912b",
   "metadata": {},
   "source": [
    "### Сколько всего пользователей в логе?"
   ]
  },
  {
   "cell_type": "code",
   "execution_count": 16,
   "id": "82057d81",
   "metadata": {},
   "outputs": [
    {
     "data": {
      "text/plain": [
       "7551"
      ]
     },
     "execution_count": 16,
     "metadata": {},
     "output_type": "execute_result"
    }
   ],
   "source": [
    "data['user_id'].nunique()"
   ]
  },
  {
   "cell_type": "markdown",
   "id": "e1d2ea13",
   "metadata": {},
   "source": [
    "**Промежуточный вывод:** В логе 7551 пользователей"
   ]
  },
  {
   "cell_type": "markdown",
   "id": "07220390",
   "metadata": {},
   "source": [
    "### Сколько в среднем событий приходится на пользователя?"
   ]
  },
  {
   "cell_type": "code",
   "execution_count": 17,
   "id": "fd20b56e",
   "metadata": {},
   "outputs": [
    {
     "data": {
      "text/plain": [
       "32.27559263673685"
      ]
     },
     "execution_count": 17,
     "metadata": {},
     "output_type": "execute_result"
    }
   ],
   "source": [
    "ds = data.groupby('user_id').agg({'event_name':'count'})\n",
    "ds['event_name'].mean()"
   ]
  },
  {
   "cell_type": "markdown",
   "id": "43a15871",
   "metadata": {},
   "source": [
    "**Промежуточный вывод:** В среднем на пользователя приходится 32 события."
   ]
  },
  {
   "cell_type": "markdown",
   "id": "6042ccc5",
   "metadata": {},
   "source": [
    "### Найдем максимальную и минимальную дату."
   ]
  },
  {
   "cell_type": "code",
   "execution_count": 18,
   "id": "da7b1550",
   "metadata": {},
   "outputs": [
    {
     "name": "stdout",
     "output_type": "stream",
     "text": [
      "Минимальная дата: 2019-07-25 00:00:00\n",
      "Максимальная дата: 2019-08-07 00:00:00\n"
     ]
    }
   ],
   "source": [
    "print(f\"Минимальная дата: {data['date'].min()}\")\n",
    "print(f\"Максимальная дата: {data['date'].max()}\")"
   ]
  },
  {
   "cell_type": "markdown",
   "id": "faaf0f02",
   "metadata": {},
   "source": [
    "### Изучим, как меняется количество данных: построим столбчатую диаграмму, которая отобразит количество событий в зависимости от времени в разрезе групп. Определим, с какого момента данные полные и отбросьте более старые. Данными за какой период времени мы  располагаем на самом деле?"
   ]
  },
  {
   "cell_type": "code",
   "execution_count": 19,
   "id": "4211e166",
   "metadata": {},
   "outputs": [
    {
     "data": {
      "image/png": "[encoded data removed]",
      "text/plain": [
       "<Figure size 1200x600 with 1 Axes>"
      ]
     },
     "metadata": {},
     "output_type": "display_data"
    }
   ],
   "source": [
    "grouped_data = data.groupby(['date', 'group']).size().reset_index(name='count')\n",
    "\n",
    "# Построение столбчатой диаграммы\n",
    "plt.figure(figsize=(12, 6))\n",
    "sns.barplot(data=grouped_data, x='date', y='count', hue='group')\n",
    "\n",
    "plt.title('Количество событий в зависимости от времени в разрезе групп')\n",
    "plt.xlabel('Дата')\n",
    "plt.ylabel('Количество событий')\n",
    "plt.legend(title='Группа')\n",
    "plt.xticks(rotation=45)\n",
    "plt.show()"
   ]
  },
  {
   "cell_type": "markdown",
   "id": "959dee35",
   "metadata": {},
   "source": [
    "**Промежуточный вывод:** Мы распологаем данными с 2019-07-25 по 2019-08-07, но полные данные мы получаем с 2019-08-01 по 2019-08-07."
   ]
  },
  {
   "cell_type": "markdown",
   "id": "4d2d66e8",
   "metadata": {},
   "source": [
    "Отбросим более старые данные"
   ]
  },
  {
   "cell_type": "markdown",
   "id": "2386df85",
   "metadata": {},
   "source": [
    "### Много ли событий и пользователей вы потеряли, отбросив старые данные?"
   ]
  },
  {
   "cell_type": "code",
   "execution_count": 20,
   "id": "8f4d4ab6",
   "metadata": {},
   "outputs": [
    {
     "name": "stdout",
     "output_type": "stream",
     "text": [
      "Потери по событиям:\n",
      "Абсолютные потери:\n",
      "event_name\n",
      "MainScreenAppear           1773\n",
      "OffersScreenAppear          475\n",
      "CartScreenAppear            365\n",
      "PaymentScreenSuccessful     200\n",
      "Tutorial                     13\n",
      "Name: count, dtype: int64\n",
      "Относительные потери:\n",
      "event_name\n",
      "MainScreenAppear           0.015\n",
      "OffersScreenAppear         0.010\n",
      "CartScreenAppear           0.009\n",
      "PaymentScreenSuccessful    0.006\n",
      "Tutorial                   0.013\n",
      "Name: count, dtype: float64\n",
      "\n",
      "Потери по пользователям:\n",
      "Абсолютные потери:\n",
      "17\n",
      "Относительные потери:\n",
      "0.0023\n"
     ]
    }
   ],
   "source": [
    "filtered_data = data[data['date'] >= pd.Timestamp('2019-08-01')]\n",
    "\n",
    "# Подсчет количества событий до и после фильтрации\n",
    "events_before = data['event_name'].value_counts()\n",
    "events_after = filtered_data['event_name'].value_counts()\n",
    "\n",
    "# Подсчет количества уникальных пользователей до и после фильтрации\n",
    "users_before = data['user_id'].nunique()\n",
    "users_after = filtered_data['user_id'].nunique()\n",
    "\n",
    "# Расчет абсолютных и относительных потерь по событиям\n",
    "events_loss_absolute = events_before - events_after\n",
    "events_loss_relative = events_loss_absolute / events_before\n",
    "\n",
    "# Расчет абсолютных и относительных потерь по пользователям\n",
    "users_loss_absolute = users_before - users_after\n",
    "users_loss_relative = users_loss_absolute / users_before\n",
    "\n",
    "# Вывод результатов\n",
    "print(\"Потери по событиям:\")\n",
    "print(\"Абсолютные потери:\")\n",
    "print(events_loss_absolute)\n",
    "print(\"Относительные потери:\")\n",
    "print(round(events_loss_relative,3))\n",
    "\n",
    "print(\"\\nПотери по пользователям:\")\n",
    "print(\"Абсолютные потери:\")\n",
    "print(users_loss_absolute)\n",
    "print(\"Относительные потери:\")\n",
    "print(round(users_loss_relative,4))\n",
    "data = data[data['date'] >= pd.Timestamp('2019-08-01')]"
   ]
  },
  {
   "cell_type": "markdown",
   "id": "5bd859f7",
   "metadata": {},
   "source": [
    "**Промежуточный вывод:** Отбросив старые данные мы потеряли 2826 строк, Потери по пользователям:\n",
    "Абсолютные потери: 17. Относительные потери: 0.0023"
   ]
  },
  {
   "cell_type": "markdown",
   "id": "a8dfa01d",
   "metadata": {},
   "source": [
    "### Проверьте, что у вас есть пользователи из всех трёх экспериментальных групп."
   ]
  },
  {
   "cell_type": "code",
   "execution_count": 21,
   "id": "5b8062b8",
   "metadata": {},
   "outputs": [
    {
     "data": {
      "text/plain": [
       "group\n",
       "246    2484\n",
       "247    2513\n",
       "248    2537\n",
       "Name: user_id, dtype: int64"
      ]
     },
     "execution_count": 21,
     "metadata": {},
     "output_type": "execute_result"
    }
   ],
   "source": [
    "data.groupby('group')['user_id'].nunique()"
   ]
  },
  {
   "cell_type": "markdown",
   "id": "d6e43021",
   "metadata": {},
   "source": [
    "**Промежуточный вывод:** Пользователи из всех трех экспериментальных групп есть."
   ]
  },
  {
   "cell_type": "markdown",
   "id": "bd9ae7e5",
   "metadata": {},
   "source": [
    "## Изучим воронку событий"
   ]
  },
  {
   "cell_type": "markdown",
   "id": "9e82a7b5",
   "metadata": {},
   "source": [
    "### Посмотрим, какие события есть в логах, как часто они встречаются. Отсортируем события по частоте."
   ]
  },
  {
   "cell_type": "code",
   "execution_count": 22,
   "id": "a68b74d6",
   "metadata": {},
   "outputs": [
    {
     "data": {
      "image/png": "[encoded data removed]",
      "text/plain": [
       "<Figure size 1000x600 with 1 Axes>"
      ]
     },
     "metadata": {},
     "output_type": "display_data"
    }
   ],
   "source": [
    "events_group = data.groupby('event_name')['user_id'].count().sort_values(ascending=False)\n",
    "plt.figure(figsize=(10, 6))\n",
    "plt.bar(events_group.index, events_group.values, color='skyblue')\n",
    "plt.xlabel('Event Name')\n",
    "plt.ylabel('Number of Unique Users')\n",
    "plt.title('Количество уникальных пользователей по названию события')\n",
    "plt.xticks(rotation=45)\n",
    "plt.show()"
   ]
  },
  {
   "cell_type": "markdown",
   "id": "8db61dce",
   "metadata": {},
   "source": [
    "**Промежуточный вывод:** Чаще всего встречается событие MainScreenAppear, после него появляется OffersScreenAppear -> CartScreenAppear - > PaymentScreenSuccessful\n",
    "\n",
    "Меньше всего пользуются событием Tutorial"
   ]
  },
  {
   "cell_type": "markdown",
   "id": "d0f10f33",
   "metadata": {},
   "source": [
    "### Посчитаем, сколько пользователей совершали каждое из этих событий. Отсортируем события по числу пользователей. Посчитайте долю пользователей, которые хоть раз совершали событие."
   ]
  },
  {
   "cell_type": "code",
   "execution_count": 23,
   "id": "cf68c825",
   "metadata": {},
   "outputs": [
    {
     "data": {
      "text/plain": [
       "event_name\n",
       "MainScreenAppear           7419\n",
       "OffersScreenAppear         4593\n",
       "CartScreenAppear           3734\n",
       "PaymentScreenSuccessful    3539\n",
       "Tutorial                    840\n",
       "Name: user_id, dtype: int64"
      ]
     },
     "execution_count": 23,
     "metadata": {},
     "output_type": "execute_result"
    }
   ],
   "source": [
    "events_users = data.groupby('event_name')['user_id'].nunique().sort_values(ascending=False)\n",
    "events_users"
   ]
  },
  {
   "cell_type": "code",
   "execution_count": 24,
   "id": "16a91f76",
   "metadata": {},
   "outputs": [
    {
     "data": {
      "text/plain": [
       "event_name\n",
       "MainScreenAppear           98.47\n",
       "OffersScreenAppear         60.96\n",
       "CartScreenAppear           49.56\n",
       "PaymentScreenSuccessful    46.97\n",
       "Tutorial                   11.15\n",
       "Name: user_id, dtype: float64"
      ]
     },
     "execution_count": 24,
     "metadata": {},
     "output_type": "execute_result"
    }
   ],
   "source": [
    "total_users = data['user_id'].nunique()\n",
    "events_users_share = round(events_users / total_users * 100,2)\n",
    "events_users_share"
   ]
  },
  {
   "cell_type": "markdown",
   "id": "9ab657af",
   "metadata": {},
   "source": [
    "**Промежуточный вывод:** Доли пользователей, которые хоть раз совершали события:\n",
    "- MainScreenAppear - 98.47%\n",
    "- OffersScreenAppear - 60.96%\n",
    "- CartScreenAppear - 49.56%\n",
    "- PaymentScreenSuccessful - 46.97%\n",
    "- Tutorial - 11.15%"
   ]
  },
  {
   "cell_type": "markdown",
   "id": "6e391757",
   "metadata": {},
   "source": [
    "### Предположите, в каком порядке происходят события. Все ли они выстраиваются в последовательную цепочку? Их не нужно учитывать при расчёте воронки."
   ]
  },
  {
   "cell_type": "markdown",
   "id": "8886688d",
   "metadata": {},
   "source": [
    "**Промежуточный вывод:** Tutorial -> MainScreenAppear -> OffersScreenAppear -> CartScreenAppear -> PaymentScreenSuccessful\n",
    "\n",
    "Tutorial: Пользователь просматривает обучающий материал (это событие может происходить в любой момент, но чаще всего в начале использования приложения).\n",
    "\n",
    "Так как мы рассчитываем воронку продаж, то событие Tutorial можно не учитывать, так как оно не является частью основного пути пользователя к покупке.\n",
    "\n",
    "Основная цепочка событий для воронки продаж будет выглядеть так: MainScreenAppear -> OffersScreenAppear -> CartScreenAppear -> PaymentScreenSuccessful"
   ]
  },
  {
   "cell_type": "markdown",
   "id": "203ed27a",
   "metadata": {},
   "source": [
    "### По воронке событий посчитайте, какая доля пользователей проходит на следующий шаг воронки (от числа пользователей на предыдущем). То есть для последовательности событий A → B → C посчитайте отношение числа пользователей с событием B к количеству пользователей с событием A, а также отношение числа пользователей с событием C к количеству пользователей с событием B."
   ]
  },
  {
   "cell_type": "code",
   "execution_count": 25,
   "id": "97d17f55",
   "metadata": {},
   "outputs": [
    {
     "name": "stdout",
     "output_type": "stream",
     "text": [
      "Доля пользователей, проходящих на следующий шаг воронки:\n",
      "MainScreenAppear -> OffersScreenAppear: 61.91%\n",
      "OffersScreenAppear -> CartScreenAppear: 81.30%\n",
      "CartScreenAppear -> PaymentScreenSuccessful: 94.78%\n"
     ]
    }
   ],
   "source": [
    "events_users = data.groupby('event_name')['user_id'].nunique().sort_values(ascending=False)\n",
    "\n",
    "# Определение последовательности событий для воронки\n",
    "funnel_events = ['MainScreenAppear', 'OffersScreenAppear', 'CartScreenAppear', 'PaymentScreenSuccessful']\n",
    "\n",
    "# Фильтрация данных для событий воронки\n",
    "funnel_data = events_users[events_users.index.isin(funnel_events)]\n",
    "\n",
    "# Расчет доли пользователей, проходящих на следующий шаг воронки\n",
    "funnel_conversion = {}\n",
    "for i in range(len(funnel_events) - 1):\n",
    "    current_event = funnel_events[i]\n",
    "    next_event = funnel_events[i + 1]\n",
    "    conversion_rate = funnel_data[next_event] / funnel_data[current_event]\n",
    "    funnel_conversion[f'{current_event} -> {next_event}'] = conversion_rate\n",
    "\n",
    "# Вывод результатов\n",
    "print(\"Доля пользователей, проходящих на следующий шаг воронки:\")\n",
    "for step, rate in funnel_conversion.items():\n",
    "    print(f\"{step}: {rate:.2%}\")"
   ]
  },
  {
   "cell_type": "markdown",
   "id": "8476e582",
   "metadata": {},
   "source": [
    "### На каком шаге теряете больше всего пользователей?"
   ]
  },
  {
   "cell_type": "markdown",
   "id": "30229654",
   "metadata": {},
   "source": [
    "**Промежуточный вывод:** Больше всего пользователей теряется при шаге MainScreenAppear -> OffersScreenAppear, почти 39% пользователей."
   ]
  },
  {
   "cell_type": "markdown",
   "id": "226fec9e",
   "metadata": {},
   "source": [
    "Какая доля пользователей доходит от первого события до оплаты?"
   ]
  },
  {
   "cell_type": "code",
   "execution_count": 26,
   "id": "fe6ca785",
   "metadata": {},
   "outputs": [
    {
     "data": {
      "text/plain": [
       "47.70184661005526"
      ]
     },
     "execution_count": 26,
     "metadata": {},
     "output_type": "execute_result"
    }
   ],
   "source": [
    "first_event = 'MainScreenAppear'\n",
    "payment_event = 'PaymentScreenSuccessful'\n",
    "\n",
    "first_event_users = events_users[first_event]\n",
    "\n",
    "payment_event_users = events_users[payment_event]\n",
    "\n",
    "conversion_rate = payment_event_users / first_event_users * 100\n",
    "conversion_rate"
   ]
  },
  {
   "cell_type": "markdown",
   "id": "0c30df12",
   "metadata": {},
   "source": [
    "**Промежуточный вывод:** 47% пользователей доходит от первого события до оплаты."
   ]
  },
  {
   "cell_type": "code",
   "execution_count": 27,
   "id": "e86ce738",
   "metadata": {},
   "outputs": [
    {
     "data": {
      "image/png": "[encoded data removed]",
      "text/plain": [
       "<Figure size 1000x600 with 1 Axes>"
      ]
     },
     "metadata": {},
     "output_type": "display_data"
    }
   ],
   "source": [
    "events_users = data.groupby('event_name')['user_id'].nunique().sort_values(ascending=False)\n",
    "del events_users['Tutorial']\n",
    "plt.figure(figsize=(10, 6))\n",
    "plt.bar(events_users.index, events_users.values, color='skyblue')\n",
    "plt.xlabel('Event Name')\n",
    "plt.ylabel('Number of Unique Users')\n",
    "plt.title('Воронка по пользователям')\n",
    "plt.xticks(rotation=45)\n",
    "plt.show()"
   ]
  },
  {
   "cell_type": "markdown",
   "id": "6f114e2d",
   "metadata": {},
   "source": [
    "## Изучим результаты эксперимента"
   ]
  },
  {
   "cell_type": "markdown",
   "id": "55b614da",
   "metadata": {},
   "source": [
    "### Сколько пользователей в каждой экспериментальной группе?"
   ]
  },
  {
   "cell_type": "code",
   "execution_count": 28,
   "id": "c145f6aa",
   "metadata": {},
   "outputs": [
    {
     "data": {
      "text/plain": [
       "group\n",
       "246    2484\n",
       "247    2513\n",
       "248    2537\n",
       "Name: user_id, dtype: int64"
      ]
     },
     "execution_count": 28,
     "metadata": {},
     "output_type": "execute_result"
    }
   ],
   "source": [
    "group_users = data.groupby('group')['user_id'].nunique().sort_values(ascending=True)\n",
    "group_users"
   ]
  },
  {
   "cell_type": "markdown",
   "id": "02ce74b6",
   "metadata": {},
   "source": [
    "**Промежуточный вывод:** \n",
    "- Группа 246 - 2484 пользователя\n",
    "- Группа 247 - 2513 пользователя\n",
    "- Группа 248 - 2537 пользователя"
   ]
  },
  {
   "cell_type": "code",
   "execution_count": 29,
   "id": "2f0b0974",
   "metadata": {},
   "outputs": [
    {
     "name": "stdout",
     "output_type": "stream",
     "text": [
      "Все пользователи принадлежат только одной группе.\n"
     ]
    }
   ],
   "source": [
    "user_group_counts = data.groupby('user_id')['group'].nunique()\n",
    "\n",
    "# Вывод результатов\n",
    "if (user_group_counts > 1).any():\n",
    "    print(\"Ошибка: Некоторые пользователи принадлежат нескольким группам.\")\n",
    "    print(\"Пользователи, принадлежащие нескольким группам:\")\n",
    "    print(user_group_counts[user_group_counts > 1])\n",
    "else:\n",
    "    print(\"Все пользователи принадлежат только одной группе.\")"
   ]
  },
  {
   "cell_type": "markdown",
   "id": "a047c5e9",
   "metadata": {},
   "source": [
    "### Есть 2 контрольные группы для А/А-эксперимента, чтобы проверить корректность всех механизмов и расчётов. Проверьте, находят ли статистические критерии разницу между выборками 246 и 247."
   ]
  },
  {
   "cell_type": "markdown",
   "id": "4606635e",
   "metadata": {},
   "source": [
    "Создадим таблицу с числом ползователей по группам и событиям "
   ]
  },
  {
   "cell_type": "code",
   "execution_count": 30,
   "id": "a5d1b79f",
   "metadata": {},
   "outputs": [
    {
     "data": {
      "text/html": [
       "<div>\n",
       "<style scoped>\n",
       "    .dataframe tbody tr th:only-of-type {\n",
       "        vertical-align: middle;\n",
       "    }\n",
       "\n",
       "    .dataframe tbody tr th {\n",
       "        vertical-align: top;\n",
       "    }\n",
       "\n",
       "    .dataframe thead th {\n",
       "        text-align: right;\n",
       "    }\n",
       "</style>\n",
       "<table border=\"1\" class=\"dataframe\">\n",
       "  <thead>\n",
       "    <tr style=\"text-align: right;\">\n",
       "      <th>event_name</th>\n",
       "      <th>CartScreenAppear</th>\n",
       "      <th>MainScreenAppear</th>\n",
       "      <th>OffersScreenAppear</th>\n",
       "      <th>PaymentScreenSuccessful</th>\n",
       "      <th>total_users</th>\n",
       "    </tr>\n",
       "    <tr>\n",
       "      <th>group</th>\n",
       "      <th></th>\n",
       "      <th></th>\n",
       "      <th></th>\n",
       "      <th></th>\n",
       "      <th></th>\n",
       "    </tr>\n",
       "  </thead>\n",
       "  <tbody>\n",
       "    <tr>\n",
       "      <th>246</th>\n",
       "      <td>1266</td>\n",
       "      <td>2450</td>\n",
       "      <td>1542</td>\n",
       "      <td>1200</td>\n",
       "      <td>2484</td>\n",
       "    </tr>\n",
       "    <tr>\n",
       "      <th>247</th>\n",
       "      <td>1238</td>\n",
       "      <td>2476</td>\n",
       "      <td>1520</td>\n",
       "      <td>1158</td>\n",
       "      <td>2513</td>\n",
       "    </tr>\n",
       "    <tr>\n",
       "      <th>248</th>\n",
       "      <td>1230</td>\n",
       "      <td>2493</td>\n",
       "      <td>1531</td>\n",
       "      <td>1181</td>\n",
       "      <td>2537</td>\n",
       "    </tr>\n",
       "  </tbody>\n",
       "</table>\n",
       "</div>"
      ],
      "text/plain": [
       "event_name  CartScreenAppear  MainScreenAppear  OffersScreenAppear  \\\n",
       "group                                                                \n",
       "246                     1266              2450                1542   \n",
       "247                     1238              2476                1520   \n",
       "248                     1230              2493                1531   \n",
       "\n",
       "event_name  PaymentScreenSuccessful  total_users  \n",
       "group                                             \n",
       "246                            1200         2484  \n",
       "247                            1158         2513  \n",
       "248                            1181         2537  "
      ]
     },
     "execution_count": 30,
     "metadata": {},
     "output_type": "execute_result"
    }
   ],
   "source": [
    "kontrol_group = data.pivot_table(index = 'group', columns = 'event_name', values = 'user_id', aggfunc = 'nunique')\n",
    "del kontrol_group['Tutorial']\n",
    "kontrol_group['total_users'] = data.groupby('group')['user_id'].nunique().sort_values(ascending=True)\n",
    "kontrol_group"
   ]
  },
  {
   "cell_type": "markdown",
   "id": "5944f1c1",
   "metadata": {},
   "source": [
    "Создадим функцию для проверки гипотез\n",
    "- Нулева гипотеза: нет оснований считать доли разными\n",
    "- Альтернативная гипотеза: между долями есть значимая разница"
   ]
  },
  {
   "cell_type": "code",
   "execution_count": 31,
   "id": "7425cd80",
   "metadata": {},
   "outputs": [
    {
     "data": {
      "text/html": [
       "<div>\n",
       "<style scoped>\n",
       "    .dataframe tbody tr th:only-of-type {\n",
       "        vertical-align: middle;\n",
       "    }\n",
       "\n",
       "    .dataframe tbody tr th {\n",
       "        vertical-align: top;\n",
       "    }\n",
       "\n",
       "    .dataframe thead th {\n",
       "        text-align: right;\n",
       "    }\n",
       "</style>\n",
       "<table border=\"1\" class=\"dataframe\">\n",
       "  <thead>\n",
       "    <tr style=\"text-align: right;\">\n",
       "      <th>event_name</th>\n",
       "      <th>CartScreenAppear</th>\n",
       "      <th>MainScreenAppear</th>\n",
       "      <th>OffersScreenAppear</th>\n",
       "      <th>PaymentScreenSuccessful</th>\n",
       "    </tr>\n",
       "    <tr>\n",
       "      <th>group</th>\n",
       "      <th></th>\n",
       "      <th></th>\n",
       "      <th></th>\n",
       "      <th></th>\n",
       "    </tr>\n",
       "  </thead>\n",
       "  <tbody>\n",
       "    <tr>\n",
       "      <th>246</th>\n",
       "      <td>1266</td>\n",
       "      <td>2450</td>\n",
       "      <td>1542</td>\n",
       "      <td>1200</td>\n",
       "    </tr>\n",
       "    <tr>\n",
       "      <th>247</th>\n",
       "      <td>1238</td>\n",
       "      <td>2476</td>\n",
       "      <td>1520</td>\n",
       "      <td>1158</td>\n",
       "    </tr>\n",
       "  </tbody>\n",
       "</table>\n",
       "</div>"
      ],
      "text/plain": [
       "event_name  CartScreenAppear  MainScreenAppear  OffersScreenAppear  \\\n",
       "group                                                                \n",
       "246                     1266              2450                1542   \n",
       "247                     1238              2476                1520   \n",
       "\n",
       "event_name  PaymentScreenSuccessful  \n",
       "group                                \n",
       "246                            1200  \n",
       "247                            1158  "
      ]
     },
     "execution_count": 31,
     "metadata": {},
     "output_type": "execute_result"
    }
   ],
   "source": [
    "group_246_247 = kontrol_group.loc[[246,247]]\n",
    "del group_246_247['total_users']\n",
    "group_246_247"
   ]
  },
  {
   "cell_type": "code",
   "execution_count": 32,
   "id": "239b1252",
   "metadata": {},
   "outputs": [
    {
     "data": {
      "text/plain": [
       "event_name\n",
       "CartScreenAppear           1266\n",
       "MainScreenAppear           2450\n",
       "OffersScreenAppear         1542\n",
       "PaymentScreenSuccessful    1200\n",
       "total_users                2484\n",
       "Name: 246, dtype: int64"
      ]
     },
     "execution_count": 32,
     "metadata": {},
     "output_type": "execute_result"
    }
   ],
   "source": [
    "group_246 = kontrol_group.loc[246]\n",
    "group_246"
   ]
  },
  {
   "cell_type": "code",
   "execution_count": 33,
   "id": "8276516c",
   "metadata": {},
   "outputs": [
    {
     "name": "stdout",
     "output_type": "stream",
     "text": [
      "Результаты z-теста для пропорций для каждого события:\n",
      "Событие: CartScreenAppear\n",
      "z-статистика: 1.2034\n",
      "p-значение: 0.2288\n",
      "Не получилось отвергнуть нулевую гипотезу, нет оснований считать доли разными\n",
      "\n",
      "Событие: MainScreenAppear\n",
      "z-статистика: 0.3093\n",
      "p-значение: 0.7571\n",
      "Не получилось отвергнуть нулевую гипотезу, нет оснований считать доли разными\n",
      "\n",
      "Событие: OffersScreenAppear\n",
      "z-статистика: 1.1550\n",
      "p-значение: 0.2481\n",
      "Не получилось отвергнуть нулевую гипотезу, нет оснований считать доли разными\n",
      "\n",
      "Событие: PaymentScreenSuccessful\n",
      "z-статистика: 1.5780\n",
      "p-значение: 0.1146\n",
      "Не получилось отвергнуть нулевую гипотезу, нет оснований считать доли разными\n",
      "\n"
     ]
    }
   ],
   "source": [
    "group_246 = kontrol_group.loc[246].drop('total_users')\n",
    "group_247 = kontrol_group.loc[247].drop('total_users')\n",
    "# Проведение z-теста для пропорций для каждого события\n",
    "results = {}\n",
    "for event in group_246.index:\n",
    "    count_246 = group_246[event]\n",
    "    count_247 = group_247[event]\n",
    "    total_246 = kontrol_group.loc[246, 'total_users']\n",
    "    total_247 = kontrol_group.loc[247, 'total_users']\n",
    "\n",
    "    z_stat, p_value = smp.proportions_ztest([count_246, count_247], [total_246, total_247])\n",
    "    results[event] = {'z_stat': z_stat, 'p_value': p_value}\n",
    "    \n",
    "\n",
    "# Вывод результатов\n",
    "print(\"Результаты z-теста для пропорций для каждого события:\")\n",
    "for event, result in results.items():\n",
    "    print(f\"Событие: {event}\")\n",
    "    print(f\"z-статистика: {result['z_stat']:.4f}\")\n",
    "    print(f\"p-значение: {result['p_value']:.4f}\")\n",
    "    if result['p_value'] < 0.05:\n",
    "        print(\"Отвергаем нулевую гипотезу: между долями есть значимая разница\")\n",
    "    else:\n",
    "        print(\"Не получилось отвергнуть нулевую гипотезу, нет оснований считать доли разными\")\n",
    "    print()"
   ]
  },
  {
   "cell_type": "markdown",
   "id": "999961da",
   "metadata": {},
   "source": [
    "**Промежуточный вывод:** Для 2 контрольных групп  А/А-эксперимента, нет оснований считать доли разными"
   ]
  },
  {
   "cell_type": "markdown",
   "id": "627c2a79",
   "metadata": {},
   "source": [
    "### Выберите самое популярное событие. Посчитайте число пользователей, совершивших это событие в каждой из контрольных групп. Посчитайте долю пользователей, совершивших это событие. Проверьте, будет ли отличие между группами статистически достоверным. Проделайте то же самое для всех других событий (удобно обернуть проверку в отдельную функцию). Можно ли сказать, что разбиение на группы работает корректно?"
   ]
  },
  {
   "cell_type": "code",
   "execution_count": 34,
   "id": "b01af27d",
   "metadata": {},
   "outputs": [
    {
     "name": "stdout",
     "output_type": "stream",
     "text": [
      "Результаты z-теста для пропорций для каждого события:\n",
      "Событие: CartScreenAppear\n",
      "z-статистика: 1.2034\n",
      "p-значение: 0.2288\n",
      "Число пользователей в группе 246: 1266\n",
      "Число пользователей в группе 247: 1238\n",
      "Общее число пользователей в группе 246: 2484\n",
      "Общее число пользователей в группе 247: 2513\n",
      "Не получилось отвергнуть нулевую гипотезу, нет оснований считать доли разными\n",
      "\n",
      "Событие: MainScreenAppear\n",
      "z-статистика: 0.3093\n",
      "p-значение: 0.7571\n",
      "Число пользователей в группе 246: 2450\n",
      "Число пользователей в группе 247: 2476\n",
      "Общее число пользователей в группе 246: 2484\n",
      "Общее число пользователей в группе 247: 2513\n",
      "Не получилось отвергнуть нулевую гипотезу, нет оснований считать доли разными\n",
      "\n",
      "Событие: OffersScreenAppear\n",
      "z-статистика: 1.1550\n",
      "p-значение: 0.2481\n",
      "Число пользователей в группе 246: 1542\n",
      "Число пользователей в группе 247: 1520\n",
      "Общее число пользователей в группе 246: 2484\n",
      "Общее число пользователей в группе 247: 2513\n",
      "Не получилось отвергнуть нулевую гипотезу, нет оснований считать доли разными\n",
      "\n",
      "Событие: PaymentScreenSuccessful\n",
      "z-статистика: 1.5780\n",
      "p-значение: 0.1146\n",
      "Число пользователей в группе 246: 1200\n",
      "Число пользователей в группе 247: 1158\n",
      "Общее число пользователей в группе 246: 2484\n",
      "Общее число пользователей в группе 247: 2513\n",
      "Не получилось отвергнуть нулевую гипотезу, нет оснований считать доли разными\n",
      "\n"
     ]
    }
   ],
   "source": [
    "# Функция для проверки статистической значимости различий между группами\n",
    "def check_event_significance(event, kontrol_group, group1, group2):\n",
    "    count_group1 = kontrol_group.loc[group1, event]\n",
    "    count_group2 = kontrol_group.loc[group2, event]\n",
    "    total_group1 = kontrol_group.loc[group1, 'total_users']\n",
    "    total_group2 = kontrol_group.loc[group2, 'total_users']\n",
    "\n",
    "    z_stat, p_value = smp.proportions_ztest([count_group1, count_group2], [total_group1, total_group2])\n",
    "\n",
    "    return {\n",
    "        'event': event,\n",
    "        'z_stat': z_stat,\n",
    "        'p_value': p_value,\n",
    "        'count_group1': count_group1,\n",
    "        'count_group2': count_group2,\n",
    "        'total_group1': total_group1,\n",
    "        'total_group2': total_group2\n",
    "    }\n",
    "\n",
    "# Проверка статистической значимости для всех событий\n",
    "results = {}\n",
    "for event in kontrol_group.columns:\n",
    "    if event != 'total_users':\n",
    "        results[event] = check_event_significance(event, kontrol_group, 246, 247)\n",
    "\n",
    "# Вывод результатов\n",
    "print(\"Результаты z-теста для пропорций для каждого события:\")\n",
    "for event, result in results.items():\n",
    "    print(f\"Событие: {event}\")\n",
    "    print(f\"z-статистика: {result['z_stat']:.4f}\")\n",
    "    print(f\"p-значение: {result['p_value']:.4f}\")\n",
    "    print(f\"Число пользователей в группе 246: {result['count_group1']}\")\n",
    "    print(f\"Число пользователей в группе 247: {result['count_group2']}\")\n",
    "    print(f\"Общее число пользователей в группе 246: {result['total_group1']}\")\n",
    "    print(f\"Общее число пользователей в группе 247: {result['total_group2']}\")\n",
    "    if result['p_value'] < 0.05:\n",
    "        print(\"Отвергаем нулевую гипотезу: между долями есть значимая разница\")\n",
    "    else:\n",
    "        print(\"Не получилось отвергнуть нулевую гипотезу, нет оснований считать доли разными\")\n",
    "    print()"
   ]
  },
  {
   "cell_type": "markdown",
   "id": "7aedb72a",
   "metadata": {},
   "source": [
    "**Промежуточный вывод:** Самое популярное событие MainScreenAppear, для групп 246 и 247 мы выяснили, что нет оснований считать доли разными"
   ]
  },
  {
   "cell_type": "markdown",
   "id": "21f810a0",
   "metadata": {},
   "source": [
    "### Аналогично поступите с группой с изменённым шрифтом. Сравните результаты с каждой из контрольных групп в отдельности по каждому событию. Сравните результаты с объединённой контрольной группой. Какие выводы из эксперимента можно сделать?"
   ]
  },
  {
   "cell_type": "code",
   "execution_count": 35,
   "id": "d2e48988",
   "metadata": {},
   "outputs": [
    {
     "name": "stdout",
     "output_type": "stream",
     "text": [
      "Результаты z-теста для пропорций для каждого события:\n",
      "Событие: CartScreenAppear\n",
      "z-статистика: 1.7599\n",
      "p-значение: 0.0784\n",
      "Число пользователей в группе 246: 1266\n",
      "Число пользователей в группе 248: 1230\n",
      "Общее число пользователей в группе 246: 2484\n",
      "Общее число пользователей в группе 248: 2537\n",
      "Не получилось отвергнуть нулевую гипотезу, нет оснований считать доли разными\n",
      "\n",
      "Событие: MainScreenAppear\n",
      "z-статистика: 1.0473\n",
      "p-значение: 0.2950\n",
      "Число пользователей в группе 246: 2450\n",
      "Число пользователей в группе 248: 2493\n",
      "Общее число пользователей в группе 246: 2484\n",
      "Общее число пользователей в группе 248: 2537\n",
      "Не получилось отвергнуть нулевую гипотезу, нет оснований считать доли разными\n",
      "\n",
      "Событие: OffersScreenAppear\n",
      "z-статистика: 1.2581\n",
      "p-значение: 0.2084\n",
      "Число пользователей в группе 246: 1542\n",
      "Число пользователей в группе 248: 1531\n",
      "Общее число пользователей в группе 246: 2484\n",
      "Общее число пользователей в группе 248: 2537\n",
      "Не получилось отвергнуть нулевую гипотезу, нет оснований считать доли разными\n",
      "\n",
      "Событие: PaymentScreenSuccessful\n",
      "z-статистика: 1.2474\n",
      "p-значение: 0.2123\n",
      "Число пользователей в группе 246: 1200\n",
      "Число пользователей в группе 248: 1181\n",
      "Общее число пользователей в группе 246: 2484\n",
      "Общее число пользователей в группе 248: 2537\n",
      "Не получилось отвергнуть нулевую гипотезу, нет оснований считать доли разными\n",
      "\n"
     ]
    }
   ],
   "source": [
    "# Проверка статистической значимости для всех событий\n",
    "results = {}\n",
    "for event in kontrol_group.columns:\n",
    "    if event != 'total_users':\n",
    "        results[event] = check_event_significance(event, kontrol_group, 246, 248)\n",
    "\n",
    "# Вывод результатов\n",
    "print(\"Результаты z-теста для пропорций для каждого события:\")\n",
    "for event, result in results.items():\n",
    "    print(f\"Событие: {event}\")\n",
    "    print(f\"z-статистика: {result['z_stat']:.4f}\")\n",
    "    print(f\"p-значение: {result['p_value']:.4f}\")\n",
    "    print(f\"Число пользователей в группе 246: {result['count_group1']}\")\n",
    "    print(f\"Число пользователей в группе 248: {result['count_group2']}\")\n",
    "    print(f\"Общее число пользователей в группе 246: {result['total_group1']}\")\n",
    "    print(f\"Общее число пользователей в группе 248: {result['total_group2']}\")\n",
    "    if result['p_value'] < 0.05:\n",
    "        print(\"Отвергаем нулевую гипотезу: между долями есть значимая разница\")\n",
    "    else:\n",
    "        print(\"Не получилось отвергнуть нулевую гипотезу, нет оснований считать доли разными\")\n",
    "    print()"
   ]
  },
  {
   "cell_type": "markdown",
   "id": "0bb63e69",
   "metadata": {},
   "source": [
    "**Промежуточный вывод:** Для групп 246 и 248 мы выяснили, что нет оснований считать доли разными"
   ]
  },
  {
   "cell_type": "code",
   "execution_count": 36,
   "id": "c077cc93",
   "metadata": {},
   "outputs": [
    {
     "name": "stdout",
     "output_type": "stream",
     "text": [
      "Результаты z-теста для пропорций для каждого события:\n",
      "Событие: CartScreenAppear\n",
      "z-статистика: 0.5554\n",
      "p-значение: 0.5786\n",
      "Число пользователей в группе 247: 1238\n",
      "Число пользователей в группе 248: 1230\n",
      "Общее число пользователей в группе 247: 2513\n",
      "Общее число пользователей в группе 248: 2537\n",
      "Не получилось отвергнуть нулевую гипотезу, нет оснований считать доли разными\n",
      "\n",
      "Событие: MainScreenAppear\n",
      "z-статистика: 0.7410\n",
      "p-значение: 0.4587\n",
      "Число пользователей в группе 247: 2476\n",
      "Число пользователей в группе 248: 2493\n",
      "Общее число пользователей в группе 247: 2513\n",
      "Общее число пользователей в группе 248: 2537\n",
      "Не получилось отвергнуть нулевую гипотезу, нет оснований считать доли разными\n",
      "\n",
      "Событие: OffersScreenAppear\n",
      "z-статистика: 0.1007\n",
      "p-значение: 0.9198\n",
      "Число пользователей в группе 247: 1520\n",
      "Число пользователей в группе 248: 1531\n",
      "Общее число пользователей в группе 247: 2513\n",
      "Общее число пользователей в группе 248: 2537\n",
      "Не получилось отвергнуть нулевую гипотезу, нет оснований считать доли разными\n",
      "\n",
      "Событие: PaymentScreenSuccessful\n",
      "z-статистика: -0.3354\n",
      "p-значение: 0.7373\n",
      "Число пользователей в группе 247: 1158\n",
      "Число пользователей в группе 248: 1181\n",
      "Общее число пользователей в группе 247: 2513\n",
      "Общее число пользователей в группе 248: 2537\n",
      "Не получилось отвергнуть нулевую гипотезу, нет оснований считать доли разными\n",
      "\n"
     ]
    }
   ],
   "source": [
    "results = {}\n",
    "for event in kontrol_group.columns:\n",
    "    if event != 'total_users':\n",
    "        results[event] = check_event_significance(event, kontrol_group, 247, 248)\n",
    "\n",
    "# Вывод результатов\n",
    "print(\"Результаты z-теста для пропорций для каждого события:\")\n",
    "for event, result in results.items():\n",
    "    print(f\"Событие: {event}\")\n",
    "    print(f\"z-статистика: {result['z_stat']:.4f}\")\n",
    "    print(f\"p-значение: {result['p_value']:.4f}\")\n",
    "    print(f\"Число пользователей в группе 247: {result['count_group1']}\")\n",
    "    print(f\"Число пользователей в группе 248: {result['count_group2']}\")\n",
    "    print(f\"Общее число пользователей в группе 247: {result['total_group1']}\")\n",
    "    print(f\"Общее число пользователей в группе 248: {result['total_group2']}\")\n",
    "    if result['p_value'] < 0.05:\n",
    "        print(\"Отвергаем нулевую гипотезу: между долями есть значимая разница\")\n",
    "    else:\n",
    "        print(\"Не получилось отвергнуть нулевую гипотезу, нет оснований считать доли разными\")\n",
    "    print()"
   ]
  },
  {
   "cell_type": "markdown",
   "id": "700850ec",
   "metadata": {},
   "source": [
    "**Промежуточный вывод:** Для групп 247 и 248 мы выяснили, что нет оснований считать доли разными"
   ]
  },
  {
   "cell_type": "markdown",
   "id": "6df6df4d",
   "metadata": {},
   "source": [
    "### Проверим объединенную 246+247 и 248 группу"
   ]
  },
  {
   "cell_type": "code",
   "execution_count": 37,
   "id": "46ee904b",
   "metadata": {},
   "outputs": [
    {
     "name": "stdout",
     "output_type": "stream",
     "text": [
      "Результаты z-теста для пропорций для каждого события:\n",
      "Событие: CartScreenAppear\n",
      "z-статистика: 1.3354\n",
      "p-значение: 0.1818\n",
      "Число пользователей в объединенной группе 246+247: 2504\n",
      "Число пользователей в группе 248: 1230\n",
      "Общее число пользователей в объединенной группе 246+247: 4997\n",
      "Общее число пользователей в группе 248: 2537\n",
      "Не получилось отвергнуть нулевую гипотезу, нет оснований считать доли разными\n",
      "\n",
      "Событие: MainScreenAppear\n",
      "z-статистика: 1.0489\n",
      "p-значение: 0.2942\n",
      "Число пользователей в объединенной группе 246+247: 4926\n",
      "Число пользователей в группе 248: 2493\n",
      "Общее число пользователей в объединенной группе 246+247: 4997\n",
      "Общее число пользователей в группе 248: 2537\n",
      "Не получилось отвергнуть нулевую гипотезу, нет оснований считать доли разными\n",
      "\n",
      "Событие: OffersScreenAppear\n",
      "z-статистика: 0.7819\n",
      "p-значение: 0.4343\n",
      "Число пользователей в объединенной группе 246+247: 3062\n",
      "Число пользователей в группе 248: 1531\n",
      "Общее число пользователей в объединенной группе 246+247: 4997\n",
      "Общее число пользователей в группе 248: 2537\n",
      "Не получилось отвергнуть нулевую гипотезу, нет оснований считать доли разными\n",
      "\n",
      "Событие: PaymentScreenSuccessful\n",
      "z-статистика: 0.5238\n",
      "p-значение: 0.6004\n",
      "Число пользователей в объединенной группе 246+247: 2358\n",
      "Число пользователей в группе 248: 1181\n",
      "Общее число пользователей в объединенной группе 246+247: 4997\n",
      "Общее число пользователей в группе 248: 2537\n",
      "Не получилось отвергнуть нулевую гипотезу, нет оснований считать доли разными\n",
      "\n"
     ]
    }
   ],
   "source": [
    "group_246 = kontrol_group.loc[246].drop('total_users')\n",
    "group_247 = kontrol_group.loc[247].drop('total_users')\n",
    "\n",
    "# Создание общей группы 246 и 247\n",
    "group_combined = group_246.add(group_247, fill_value=0)\n",
    "group_combined['total_users'] = kontrol_group.loc[246, 'total_users'] + kontrol_group.loc[247, 'total_users']\n",
    "\n",
    "# Фильтрация данных для группы 248\n",
    "group_248 = kontrol_group.loc[248].drop('total_users')\n",
    "\n",
    "# Функция для проверки статистической значимости различий между группами\n",
    "def check_event_significance(event, group1, group2, total_group1, total_group2):\n",
    "    count_group1 = group1[event]\n",
    "    count_group2 = group2[event]\n",
    "\n",
    "    z_stat, p_value = smp.proportions_ztest([count_group1, count_group2], [total_group1, total_group2])\n",
    "\n",
    "    return {\n",
    "        'event': event,\n",
    "        'z_stat': z_stat,\n",
    "        'p_value': p_value,\n",
    "        'count_group1': count_group1,\n",
    "        'count_group2': count_group2,\n",
    "        'total_group1': total_group1,\n",
    "        'total_group2': total_group2\n",
    "    }\n",
    "\n",
    "# Проверка статистической значимости для всех событий\n",
    "results = {}\n",
    "for event in group_combined.index:\n",
    "    if event != 'total_users':\n",
    "        results[event] = check_event_significance(event, group_combined, group_248, group_combined['total_users'], kontrol_group.loc[248, 'total_users'])\n",
    "\n",
    "# Вывод результатов\n",
    "print(\"Результаты z-теста для пропорций для каждого события:\")\n",
    "for event, result in results.items():\n",
    "    print(f\"Событие: {event}\")\n",
    "    print(f\"z-статистика: {result['z_stat']:.4f}\")\n",
    "    print(f\"p-значение: {result['p_value']:.4f}\")\n",
    "    print(f\"Число пользователей в объединенной группе 246+247: {result['count_group1']}\")\n",
    "    print(f\"Число пользователей в группе 248: {result['count_group2']}\")\n",
    "    print(f\"Общее число пользователей в объединенной группе 246+247: {result['total_group1']}\")\n",
    "    print(f\"Общее число пользователей в группе 248: {result['total_group2']}\")\n",
    "    if result['p_value'] < 0.05:\n",
    "        print(\"Отвергаем нулевую гипотезу: между долями есть значимая разница\")\n",
    "    else:\n",
    "        print(\"Не получилось отвергнуть нулевую гипотезу, нет оснований считать доли разными\")\n",
    "    print()"
   ]
  },
  {
   "cell_type": "markdown",
   "id": "691e957e",
   "metadata": {},
   "source": [
    "**Промежуточный вывод:** Для групп 246+247 и 248 мы выяснили, что нет оснований считать доли разными"
   ]
  },
  {
   "cell_type": "markdown",
   "id": "57b05e03",
   "metadata": {},
   "source": [
    "### Какой уровень значимости вы выбрали при проверке статистических гипотез выше? Посчитайте, сколько проверок статистических гипотез вы сделали. При уровне значимости 0.1 в 10% случаев можно ошибочно отклонить нулевую гипотезу при условии, что она верна. Какой уровень значимости стоит применить? Если вы хотите изменить его, проделайте предыдущие пункты и проверьте свои выводы."
   ]
  },
  {
   "cell_type": "markdown",
   "id": "9b85bcc6",
   "metadata": {},
   "source": [
    "Мы выбрали уровень статистической значимости в 0.05 или 5% случае в которых можно ошибочно отклонить нулевую гипотезу при условии, что она верна и везде получили вывод, что нет оснований считать доли разными\n",
    "\n",
    "Между группами 246 и 248 при уровне значимости в 0.1 или 10% случаев когда можно ошибочно\n",
    "Появляется значимая разница между долями при проведение теста для CartScreenAppear\n",
    "- z-статистика: 1.7599\n",
    "- p-значение: 0.0784\n",
    "- Число пользователей в группе 246: 1266\n",
    "- Число пользователей в группе 248: 1230\n",
    "- Общее число пользователей в группе 246: 2484\n",
    "- Общее число пользователей в группе 248: 2537\n",
    "\n",
    "В остальных случаях при при уровне значимости в 0.1 или 10% случаев когда можно ошибочно нет отличий по сравнению с тестом для 0.05 или 5% случаев когда можно ошибочно\n",
    "\n",
    "Лучше применить уровень значимости 0.05, чтобы получить более точные результаты"
   ]
  },
  {
   "cell_type": "markdown",
   "id": "e62ada71",
   "metadata": {},
   "source": [
    "## Общий вывод:\n",
    "\n",
    "Мы имеем 5 событий:\n",
    "- MainScreenAppear - Появится главный экран\n",
    "- PaymentScreenSuccessful - Платежный экран успешно выполнен\n",
    "- CartScreenAppear - Появится экран корзины\n",
    "- OffersScreenAppear - Появится экран предложений\n",
    "- Tutorial - Руководство\n",
    "\n",
    "Всего пользователей в логе 7551, в среднем на пользователя приходится 32 события. Нам были даны данные с  2019-07-25 по 2019-08-07,  но полные данные мы получаем с 2019-08-01 по 2019-08-07, поэтому мы отбросили более старые данные. Отбросив старые данные мы потеряли 2826 строк. \n",
    "\n",
    "Чаще всего встречается событие MainScreenAppear, после него появляется OffersScreenAppear -> CartScreenAppear - > PaymentScreenSuccessful. Меньше всего пользуются событием Tutorial\n",
    "\n",
    "Доли пользователей, которые хоть раз совершали события:\n",
    "- MainScreenAppear - 98.47%\n",
    "- OffersScreenAppear - 60.96%\n",
    "- CartScreenAppear - 49.56%\n",
    "- PaymentScreenSuccessful - 46.97%\n",
    "- Tutorial - 11.15%\n",
    "\n",
    "Tutorial: Пользователь просматривает обучающий материал (это событие может происходить в любой момент, но чаще всего в начале использования приложения).\n",
    "\n",
    "Так как мы рассчитываем воронку продаж, то событие Tutorial можно не учитывать, так как оно не является частью основного пути пользователя к покупке.\n",
    "\n",
    "Основная цепочка событий для воронки продаж будет выглядеть так: MainScreenAppear -> OffersScreenAppear -> CartScreenAppear -> PaymentScreenSuccessful\n",
    "\n",
    "Доля пользователей, проходящих на следующий шаг воронки:\n",
    "- MainScreenAppear -> OffersScreenAppear: 61.91%\n",
    "- OffersScreenAppear -> CartScreenAppear: 81.30%\n",
    "- CartScreenAppear -> PaymentScreenSuccessful: 94.78%\n",
    "\n",
    "Больше всего пользователей теряется при шаге MainScreenAppear -> OffersScreenAppear, почти 39% пользователей и  47% пользователей доходит от первого события до оплаты.\n",
    "\n",
    "- Группа 246 содержит - 2484 пользователя\n",
    "- Группа 247 содержит - 2513 пользователя\n",
    "- Группа 248 содержит - 2537 пользователя\n",
    "\n",
    "\n",
    "Для 2 контрольных групп А/А-эксперимента, нет оснований считать доли разными. Самое популярное событие MainScreenAppear, для групп 246 и 247 мы выяснили, что нет оснований считать доли разными. Для групп 246 и 248 мы выяснили, что нет оснований считать доли разными. Для групп 247 и 248 мы выяснили, что нет оснований считать доли разными ",
    " ",
    " Для групп 246+247 и 248 мы выяснили, что нет оснований считать доли разными. Мы выбрали уровень статистической значимости в 0.05 или 5% случае в которых можно ошибочно отклонить нулевую гипотезу при условии, что она верна и везде получили вывод, что нет оснований считать доли разными\n",
    "Между группами 246 и 248 при уровне значимости в 0.1 или 10% случаев когда можно ошибочно Появляется значимая разница между долями при проведение теста для CartScreenAppear\n",
    "* z-статистика: 1.7599\n",
    "* p-значение: 0.0784\n",
    "* Число пользователей в группе 246: 1266\n",
    "* Число пользователей в группе 248: 1230\n",
    "* Общее число пользователей в группе 246: 2484\n",
    "* Общее число пользователей в группе 248: 2537\n",
    "В остальных случаях при при уровне значимости в 0.1 или 10% случаев когда можно ошибочно нет отличий по сравнению с тестом для 0.05 или 5% случаев когда можно ошибочно\n",
    "Лучше применить уровень значимости 0.05, чтобы получить более точные результаты"
   ]
  }
 ],
 "metadata": {
  "ExecuteTimeLog": [
   {
    "duration": 1546,
    "start_time": "2024-09-17T12:06:22.790Z"
   },
   {
    "duration": 926,
    "start_time": "2024-09-17T12:06:24.339Z"
   },
   {
    "duration": 11,
    "start_time": "2024-09-17T12:06:25.267Z"
   },
   {
    "duration": 24,
    "start_time": "2024-09-17T12:06:25.280Z"
   },
   {
    "duration": 6,
    "start_time": "2024-09-17T12:06:25.306Z"
   },
   {
    "duration": 24,
    "start_time": "2024-09-17T12:06:25.314Z"
   },
   {
    "duration": 16,
    "start_time": "2024-09-17T12:06:25.340Z"
   },
   {
    "duration": 92,
    "start_time": "2024-09-17T12:06:25.357Z"
   },
   {
    "duration": 83,
    "start_time": "2024-09-17T12:06:25.451Z"
   },
   {
    "duration": 69,
    "start_time": "2024-09-17T12:06:25.537Z"
   },
   {
    "duration": 8,
    "start_time": "2024-09-17T12:06:25.608Z"
   },
   {
    "duration": 47,
    "start_time": "2024-09-17T12:06:25.618Z"
   },
   {
    "duration": 8,
    "start_time": "2024-09-17T12:06:25.667Z"
   },
   {
    "duration": 22,
    "start_time": "2024-09-17T12:06:25.677Z"
   },
   {
    "duration": 20,
    "start_time": "2024-09-17T12:06:25.701Z"
   },
   {
    "duration": 55,
    "start_time": "2024-09-17T12:06:25.722Z"
   },
   {
    "duration": 25,
    "start_time": "2024-09-17T12:06:25.778Z"
   },
   {
    "duration": 5,
    "start_time": "2024-09-17T12:06:25.805Z"
   },
   {
    "duration": 452,
    "start_time": "2024-09-17T12:06:25.812Z"
   },
   {
    "duration": 32,
    "start_time": "2024-09-17T12:06:26.266Z"
   },
   {
    "duration": 33,
    "start_time": "2024-09-17T12:06:26.299Z"
   },
   {
    "duration": 182,
    "start_time": "2024-09-17T12:06:26.334Z"
   },
   {
    "duration": 53,
    "start_time": "2024-09-17T12:06:26.518Z"
   },
   {
    "duration": 27,
    "start_time": "2024-09-17T12:06:26.572Z"
   },
   {
    "duration": 82,
    "start_time": "2024-09-17T12:06:26.600Z"
   },
   {
    "duration": 13,
    "start_time": "2024-09-17T12:06:26.683Z"
   },
   {
    "duration": 38,
    "start_time": "2024-09-17T12:06:26.698Z"
   },
   {
    "duration": 110,
    "start_time": "2024-09-17T12:06:26.739Z"
   },
   {
    "duration": 12,
    "start_time": "2024-09-17T12:06:26.850Z"
   },
   {
    "duration": 26,
    "start_time": "2024-09-17T12:06:26.863Z"
   },
   {
    "duration": 13,
    "start_time": "2024-09-17T12:06:26.898Z"
   },
   {
    "duration": 28,
    "start_time": "2024-09-17T12:06:26.913Z"
   }
  ],
  "kernelspec": {
   "display_name": "Python 3 (ipykernel)",
   "language": "python",
   "name": "python3"
  },
  "language_info": {
   "codemirror_mode": {
    "name": "ipython",
    "version": 3
   },
   "file_extension": ".py",
   "mimetype": "text/x-python",
   "name": "python",
   "nbconvert_exporter": "python",
   "pygments_lexer": "ipython3",
   "version": "3.11.5"
  },
  "toc": {
   "base_numbering": 1,
   "nav_menu": {},
   "number_sections": true,
   "sideBar": true,
   "skip_h1_title": true,
   "title_cell": "Table of Contents",
   "title_sidebar": "Contents",
   "toc_cell": false,
   "toc_position": {},
   "toc_section_display": true,
   "toc_window_display": false
  }
 },
 "nbformat": 4,
 "nbformat_minor": 5
}
